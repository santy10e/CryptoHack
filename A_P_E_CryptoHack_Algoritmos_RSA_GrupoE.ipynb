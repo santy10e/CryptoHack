{
  "cells": [
    {
      "cell_type": "markdown",
      "id": "szrJ_JCfBMVn",
      "metadata": {
        "id": "szrJ_JCfBMVn"
      },
      "source": [
        "# **INICIO**"
      ]
    },
    {
      "cell_type": "markdown",
      "id": "XRGK1mSGAEdQ",
      "metadata": {
        "id": "XRGK1mSGAEdQ"
      },
      "source": [
        "**RSA STARTER-1**\n",
        "\n",
        "Todas las operaciones en RSA implican exponenciación modular .\n",
        "\n",
        "La exponenciación modular es una operación que se usa ampliamente en criptografía y normalmente se escribe así: Puedes pensar en esto como elevar un número a una determinada potencia ( ) y luego tomar el resto de la división entre algún otro número ( ). En Python hay un operador incorporado para realizar esta operación: en RSA, la exponenciación modular, junto con el problema de la factorización prima, nos ayuda a construir una \" función trampilla \". Esta es una función que es fácil de calcular en una dirección, pero difícil de hacer en sentido inverso a menos que tenga la información correcta. Nos permite cifrar un mensaje, y sólo la persona que tiene la clave puede realizar la operación inversa para descifrarlo. Encuentra la solución a 210 mod 17\n",
        "\n",
        "210 = 10241024 mod 17 = 4pow(base, exponent, modulus)\n",
        "\n",
        "\n",
        "\n",
        "10117 mod 22663"
      ]
    },
    {
      "cell_type": "code",
      "execution_count": null,
      "id": "5411d913",
      "metadata": {
        "colab": {
          "base_uri": "https://localhost:8080/"
        },
        "id": "5411d913",
        "outputId": "01d2cb0b-24dc-4204-92e0-aac73ca92100"
      },
      "outputs": [
        {
          "name": "stdout",
          "output_type": "stream",
          "text": [
            "19906\n"
          ]
        }
      ],
      "source": [
        "result = pow(101, 17, 22663)\n",
        "print(result)"
      ]
    },
    {
      "cell_type": "markdown",
      "id": "_MUhYqmKAIqH",
      "metadata": {
        "id": "_MUhYqmKAIqH"
      },
      "source": [
        "**RSA STARTER-2**\n",
        "\n",
        "El cifrado RSA es una exponenciación modular de un mensaje con un exponente e y un módulo N que normalmente es producto de dos números primos: N = p * q.\n",
        "\n",
        "Juntos, el exponente y el módulo forman una \"clave pública\" RSA (N, e). El valor más común para ees 0x10001o 65537.\n",
        "\n",
        "\"Cifre\" el número 12 usando el exponente e = 65537 y los números primos p = 17 y q = 23. ¿Qué número obtienes como texto cifrado?"
      ]
    },
    {
      "cell_type": "code",
      "execution_count": null,
      "id": "d20628f9",
      "metadata": {
        "id": "d20628f9",
        "outputId": "ba8ffaa4-747c-4e34-99df-ccf6c987683a"
      },
      "outputs": [
        {
          "name": "stdout",
          "output_type": "stream",
          "text": [
            "301\n"
          ]
        }
      ],
      "source": [
        "message = 12\n",
        "exponent = 65537\n",
        "p = 17\n",
        "q = 23\n",
        "\n",
        "modulus = p * q\n",
        "ciphertext = pow(message, exponent, modulus)\n",
        "\n",
        "print(ciphertext)"
      ]
    },
    {
      "cell_type": "markdown",
      "id": "9ZkfFR_FATfJ",
      "metadata": {
        "id": "9ZkfFR_FATfJ"
      },
      "source": [
        "**RSA STARTER-3**\n",
        "\n",
        "RSA se basa en la dificultad de la factorización del módulo N. Si se pueden encontrar los números primos, entonces podemos calcular el cociente de Euler N y así descifrar el texto cifrado.\n",
        "\n",
        "Dado N = p*q y dos primos: ¿\n",
        "\n",
        "p = 857504083339712752489993810777\n",
        "\n",
        "q = 1029224947942998075080348647219\n",
        "\n",
        "Cuál es el totiente de N?"
      ]
    },
    {
      "cell_type": "code",
      "execution_count": null,
      "id": "7baf9ace",
      "metadata": {
        "id": "7baf9ace",
        "outputId": "12fe5666-ef6a-470d-d6ba-aae54e8d39b4"
      },
      "outputs": [
        {
          "name": "stdout",
          "output_type": "stream",
          "text": [
            "882564595536224140639625987657529300394956519977044270821168\n"
          ]
        }
      ],
      "source": [
        "p = 857504083339712752489993810777\n",
        "q = 1029224947942998075080348647219\n",
        "\n",
        "totient_N = (p - 1) * (q - 1)\n",
        "\n",
        "print(totient_N)"
      ]
    },
    {
      "cell_type": "markdown",
      "id": "PBXp8WphAZLR",
      "metadata": {
        "id": "PBXp8WphAZLR"
      },
      "source": [
        "**RSA STARTER-4**\n",
        "\n",
        "La clave privada d se utiliza para descifrar textos cifrados creados con la clave pública correspondiente (también se utiliza para \"firmar\" un mensaje, pero llegaremos a eso más adelante).\n",
        "\n",
        "La clave privada es la información secreta o \"trampilla\" que nos permite invertir rápidamente la función de cifrado. Si RSA se implementa bien, si no tiene la clave privada, la forma más rápida de descifrar el texto cifrado es factorizar primero el módulo.\n",
        "\n",
        "En RSA, la clave privada es el inverso multiplicativo modular del exponente e módulo el totiente de N.\n",
        "\n",
        "Dados los dos primos:\n",
        "\n",
        "p = 857504083339712752489993810777\n",
        "\n",
        "q = 1029224947942998075080348647219\n",
        "\n",
        "y el exponente:  e = 65537 ¿Cuál es la clave privada d?"
      ]
    },
    {
      "cell_type": "code",
      "execution_count": null,
      "id": "47e9e286",
      "metadata": {
        "id": "47e9e286",
        "outputId": "4a6c8e45-31a0-44e4-bddf-cf9c24fa9006"
      },
      "outputs": [
        {
          "name": "stdout",
          "output_type": "stream",
          "text": [
            "121832886702415731577073962957377780195510499965398469843281\n"
          ]
        }
      ],
      "source": [
        "p = 857504083339712752489993810777\n",
        "q = 1029224947942998075080348647219\n",
        "e = 65537\n",
        "\n",
        "totient_N = (p - 1) * (q - 1)\n",
        "\n",
        "d = pow(e, -1, totient_N)\n",
        "\n",
        "print(d)"
      ]
    },
    {
      "cell_type": "markdown",
      "id": "JrT7aVzMAeL5",
      "metadata": {
        "id": "JrT7aVzMAeL5"
      },
      "source": [
        "**RSA STARTER-5**\n",
        "\n",
        "He cifrado un número secreto para tus ojos solo usando tus parámetros de clave pública:\n",
        "\n",
        "N = 882564595536224140639625987659416029426239230804614613279163\n",
        "\n",
        "e = 65537\n",
        "\n",
        "usa la clave privada que encontraste para estos parámetros en el desafío anterior para descifrar este texto cifrado:\n",
        "\n",
        "c = 77578995801157823671636298847186723593814843845525223303932"
      ]
    },
    {
      "cell_type": "code",
      "execution_count": null,
      "id": "ee46c7e4",
      "metadata": {
        "id": "ee46c7e4",
        "outputId": "fe6d8ad2-94e0-4105-dfc4-e73ac3fa218a"
      },
      "outputs": [
        {
          "name": "stdout",
          "output_type": "stream",
          "text": [
            "13371337\n"
          ]
        }
      ],
      "source": [
        "N = 882564595536224140639625987659416029426239230804614613279163\n",
        "d = 121832886702415731577073962957377780195510499965398469843281\n",
        "c = 77578995801157823671636298847186723593814843845525223303932\n",
        "\n",
        "decrypted = pow(c, d, N)\n",
        "\n",
        "print(decrypted)"
      ]
    },
    {
      "cell_type": "markdown",
      "id": "8yJsrarOAjRK",
      "metadata": {
        "id": "8yJsrarOAjRK"
      },
      "source": [
        "**RSA STARTER-6**\n",
        "\n",
        "¿Cómo puedes asegurarte de que la persona que recibe tu mensaje sepa que tú lo escribiste?\n",
        "\n",
        "Te han invitado a salir y quieres enviarles un mensaje diciéndoles que te encantaría ir, sin embargo, un amante celoso no está tan contento con esto.\n",
        "\n",
        "Cuando envías tu mensaje diciendo que sí, tu amante celoso intercepta el mensaje y lo corrompe para que ahora diga ¡no!\n",
        "\n",
        "Podemos protegernos contra estos ataques firmando el mensaje.\n",
        "\n",
        "Imagina que escribes un mensaje M. Cifras este mensaje con la clave pública de tu amigo : C = Me0 mod N0. Para firmar este mensaje, calcula el hash del mensaje: H(M) y \"cifra\" con su clave privada : S = H(M)d1 mod N1\n",
        "\n",
        "Tu amigo puede descifrar el mensaje usando su clave privada : m = Cd0 mod N0. Usando su clave pública, calcula s = Se1 mod N1. Ahora, al calcularlo H(m) y compararlo con s: assert H(m) == s, pueden asegurarse de que el mensaje que usted les envió es el mensaje que recibieron. Firme la bandera crypto{Immut4ble_m3ssag1ng} usando su clave privada y la función hash SHA256."
      ]
    },
    {
      "cell_type": "code",
      "execution_count": null,
      "id": "QG4j-RKXlxtE",
      "metadata": {
        "colab": {
          "base_uri": "https://localhost:8080/"
        },
        "id": "QG4j-RKXlxtE",
        "outputId": "1ebd3ba5-58a2-4dc5-8792-42b832c1461c"
      },
      "outputs": [
        {
          "name": "stdout",
          "output_type": "stream",
          "text": [
            "13480738404590090803339831649238454376183189744970683129909766078877706583282422686710545217275797376709672358894231550335007974983458408620258478729775647818876610072903021235573923300070103666940534047644900475773318682585772698155617451477448441198150710420818995347235921111812068656782998168064960965451719491072569057636701190429760047193261886092862024118487826452766513533860734724124228305158914225250488399673645732882077575252662461860972889771112594906884441454355959482925283992539925713424132009768721389828848907099772040836383856524605008942907083490383109757406940540866978237471686296661685839083475\n"
          ]
        }
      ],
      "source": [
        "import hashlib\n",
        "\n",
        "# Flag to sign\n",
        "flag = \"crypto{Immut4ble_m3ssag1ng}\"\n",
        "\n",
        "# Convert the flag to bytes\n",
        "flag_bytes = flag.encode()\n",
        "\n",
        "# Calculate the SHA256 hash of the flag\n",
        "hash_value = hashlib.sha256(flag_bytes).digest()\n",
        "\n",
        "# Convert the hash value to an integer\n",
        "hash_int = int.from_bytes(hash_value, 'big')\n",
        "\n",
        "# RSA parameters\n",
        "N = 15216583654836731327639981224133918855895948374072384050848479908982286890731769486609085918857664046075375253168955058743185664390273058074450390236774324903305663479046566232967297765731625328029814055635316002591227570271271445226094919864475407884459980489638001092788574811554149774028950310695112688723853763743238753349782508121985338746755237819373178699343135091783992299561827389745132880022259873387524273298850340648779897909381979714026837172003953221052431217940632552930880000919436507245150726543040714721553361063311954285289857582079880295199632757829525723874753306371990452491305564061051059885803\n",
        "d = 11175901210643014262548222473449533091378848269490518850474399681690547281665059317155831692300453197335735728459259392366823302405685389586883670043744683993709123180805154631088513521456979317628012721881537154107239389466063136007337120599915456659758559300673444689263854921332185562706707573660658164991098457874495054854491474065039621922972671588299315846306069845169959451250821044417886630346229021305410340100401530146135418806544340908355106582089082980533651095594192031411679866134256418292249592135441145384466261279428795408721990564658703903787956958168449841491667690491585550160457893350536334242689\n",
        "\n",
        "# Encrypt the hash value with the private key\n",
        "signature = pow(hash_int, d, N)\n",
        "\n",
        "print(signature)"
      ]
    },
    {
      "cell_type": "markdown",
      "id": "1TF4HUuiBWAf",
      "metadata": {
        "id": "1TF4HUuiBWAf"
      },
      "source": [
        "# **PRIMOS PARTE 1**"
      ]
    },
    {
      "cell_type": "markdown",
      "id": "27fbd87f",
      "metadata": {
        "id": "27fbd87f"
      },
      "source": [
        "**Factoring**\n",
        "\n",
        "Hasta ahora hemos estado usando el producto de números primos pequeños para el módulo, pero los números primos pequeños no son muy buenos para RSA ya que se pueden factorizar usando métodos modernos . ¿Qué es un \"primo pequeño\"? Hubo un RSA Factoring Challenge con premios en efectivo otorgados a los equipos que pudieran factorizar módulos RSA. Esto le dio al público una idea de cuánto tiempo permanecerían seguros los distintos tamaños de clave. Las computadoras se vuelven más rápidas, los algoritmos mejoran, por lo que en criptografía siempre es prudente pecar de cauteloso. Hoy en día, se recomienda utilizar números primos que tengan al menos 1024 bits de largo; al multiplicar dos de esos 1024 primos se obtiene un módulo de 2048 bits de largo. RSA con un módulo de 2048 bits se llama RSA-2048. Algunos dicen que para estar realmente preparado para el futuro se debe utilizar RSA-4096 o incluso RSA-8192. Sin embargo, aquí hay una compensación; se necesita más tiempo para generar números primos grandes, además las exponenciaciones modulares son predeciblemente más lentas con un módulo grande. Factoriza el número de 150 bits en sus dos primos constituyentes. Da el más pequeño como respuesta.\n",
        "\n",
        "510143758735509025530880200653196460532653147"
      ]
    },
    {
      "cell_type": "code",
      "execution_count": null,
      "id": "76354b67",
      "metadata": {
        "colab": {
          "base_uri": "https://localhost:8080/"
        },
        "id": "76354b67",
        "outputId": "161dce94-1ab4-4d5c-a4cf-255285d1844d"
      },
      "outputs": [
        {
          "name": "stdout",
          "output_type": "stream",
          "text": [
            "{25889363174021185185929: 1, 19704762736204164635843: 1}\n"
          ]
        }
      ],
      "source": [
        "from sympy.ntheory import factorint\n",
        "\n",
        "print(factorint(510143758735509025530880200653196460532653147))\n",
        "#Rta: 19704762736204164635843\n"
      ]
    },
    {
      "cell_type": "markdown",
      "id": "5e1c3264",
      "metadata": {
        "id": "5e1c3264"
      },
      "source": [
        "**Inferius Prime**\n",
        "\n",
        "Aquí está mi implementación RSA súper fuerte, debido a que tiene 1600 bits, debería ser irrompible... ¡al menos eso creo!"
      ]
    },
    {
      "cell_type": "code",
      "execution_count": null,
      "id": "Lmh8bSpYn8GY",
      "metadata": {
        "colab": {
          "base_uri": "https://localhost:8080/"
        },
        "id": "Lmh8bSpYn8GY",
        "outputId": "af8e565e-6ae1-4656-cbd2-ccdaeb3395f6"
      },
      "outputs": [
        {
          "name": "stdout",
          "output_type": "stream",
          "text": [
            "b'crypto{N33d_b1g_pR1m35}'\n"
          ]
        }
      ],
      "source": [
        "from Crypto.Util.number import *\n",
        "\n",
        "n=742449129124467073921545687640895127535705902454369756401331\n",
        "e=3\n",
        "ct=39207274348578481322317340648475596807303160111338236677373\n",
        "\n",
        "p=752708788837165590355094155871\n",
        "q=986369682585281993933185289261\n",
        "\n",
        "tot=(p-1)*(q-1)\n",
        "d=pow(e,-1,tot)\n",
        "m=pow(ct,d,n)\n",
        "\n",
        "flag=long_to_bytes(m)\n",
        "print(flag)"
      ]
    },
    {
      "cell_type": "markdown",
      "id": "5945b186",
      "metadata": {
        "id": "5945b186"
      },
      "source": [
        "**MonoPrime**\n",
        "\n",
        "¿Por qué todo el mundo está tan obsesionado con multiplicar dos números primos para obtener RSA? ¿Por qué no usar solo uno?"
      ]
    },
    {
      "cell_type": "code",
      "execution_count": null,
      "id": "1089ee22",
      "metadata": {
        "colab": {
          "base_uri": "https://localhost:8080/"
        },
        "id": "1089ee22",
        "outputId": "f53da3b7-b8ac-4a29-bffd-cfcce73be813"
      },
      "outputs": [
        {
          "name": "stdout",
          "output_type": "stream",
          "text": [
            "b'crypto{0n3_pr1m3_41n7_pr1m3_l0l}'\n"
          ]
        }
      ],
      "source": [
        "from Crypto.Util.number import long_to_bytes, inverse\n",
        "\n",
        "n = 171731371218065444125482536302245915415603318380280392385291836472299752747934607246477508507827284075763910264995326010251268493630501989810855418416643352631102434317900028697993224868629935657273062472544675693365930943308086634291936846505861203914449338007760990051788980485462592823446469606824421932591\n",
        "e = 65537\n",
        "ct = 161367550346730604451454756189028938964941280347662098798775466019463375610700074840105776873791605070092554650190486030367121011578171525759600774739890458414593857709994072516290998135846956596662071379067305011746842247628316996977338024343628757374524136260758515864509435302781735938531030576289086798942\n",
        "\n",
        "d = inverse(e, n-1)\n",
        "m = pow(ct, d, n)\n",
        "print(long_to_bytes(m))"
      ]
    },
    {
      "cell_type": "markdown",
      "id": "xCKN4Z7Do71Y",
      "metadata": {
        "id": "xCKN4Z7Do71Y"
      },
      "source": [
        "**Square Eyes**\n",
        "\n",
        "Me tomó una eternidad obtener un número primo de 2048 bits, así que generé uno y lo usé dos veces.\n"
      ]
    },
    {
      "cell_type": "code",
      "execution_count": null,
      "id": "WynxNTTBo9hG",
      "metadata": {
        "colab": {
          "base_uri": "https://localhost:8080/"
        },
        "id": "WynxNTTBo9hG",
        "outputId": "05551ddc-b0e7-44f9-b9e5-157fdf95d045"
      },
      "outputs": [
        {
          "name": "stdout",
          "output_type": "stream",
          "text": [
            "crypto{squar3_r00t_i5_f4st3r_th4n_f4ct0r1ng!}\n"
          ]
        }
      ],
      "source": [
        "from Crypto.Util.number import inverse,long_to_bytes\n",
        "\n",
        "N = 535860808044009550029177135708168016201451343147313565371014459027743491739422885443084705720731409713775527993719682583669164873806842043288439828071789970694759080842162253955259590552283047728782812946845160334801782088068154453021936721710269050985805054692096738777321796153384024897615594493453068138341203673749514094546000253631902991617197847584519694152122765406982133526594928685232381934742152195861380221224370858128736975959176861651044370378539093990198336298572944512738570839396588590096813217791191895941380464803377602779240663133834952329316862399581950590588006371221334128215409197603236942597674756728212232134056562716399155080108881105952768189193728827484667349378091100068224404684701674782399200373192433062767622841264055426035349769018117299620554803902490432339600566432246795818167460916180647394169157647245603555692735630862148715428791242764799469896924753470539857080767170052783918273180304835318388177089674231640910337743789750979216202573226794240332797892868276309400253925932223895530714169648116569013581643192341931800785254715083294526325980247219218364118877864892068185905587410977152737936310734712276956663192182487672474651103240004173381041237906849437490609652395748868434296753449\n",
        "e = 65537\n",
        "c = 222502885974182429500948389840563415291534726891354573907329512556439632810921927905220486727807436668035929302442754225952786602492250448020341217733646472982286222338860566076161977786095675944552232391481278782019346283900959677167026636830252067048759720251671811058647569724495547940966885025629807079171218371644528053562232396674283745310132242492367274184667845174514466834132589971388067076980563188513333661165819462428837210575342101036356974189393390097403614434491507672459254969638032776897417674577487775755539964915035731988499983726435005007850876000232292458554577437739427313453671492956668188219600633325930981748162455965093222648173134777571527681591366164711307355510889316052064146089646772869610726671696699221157985834325663661400034831442431209123478778078255846830522226390964119818784903330200488705212765569163495571851459355520398928214206285080883954881888668509262455490889283862560453598662919522224935145694435885396500780651530829377030371611921181207362217397805303962112100190783763061909945889717878397740711340114311597934724670601992737526668932871436226135393872881664511222789565256059138002651403875484920711316522536260604255269532161594824301047729082877262812899724246757871448545439896\n",
        "\n",
        "'''\n",
        "N = pow(p,2)\n",
        "phi = p x (p-1)\n",
        "'''\n",
        "p  =23148667521998097720857168827790771337662483716348435477360567409355026169165934446949809664595523770853897203103759106983985113264049057416908191166720008503275951625738975666019029172377653170602440373579593292576530667773951407647222757756437867216095193174201323278896027294517792607881861855264600525772460745259440301156930943255240915685718552334192230264780355799179037816026330705422484000086542362084006958158550346395941862383925942033730030004606360308379776255436206440529441711859246811586652746028418496020145441513037535475380962562108920699929022900677901988508936509354385660735694568216631382653107\n",
        "phi =  p * (p-1)\n",
        "d =inverse(e,phi)\n",
        "flag =  pow(c,d,N)\n",
        "print(long_to_bytes(flag).decode())"
      ]
    },
    {
      "cell_type": "markdown",
      "id": "VRF_hwM2pJq5",
      "metadata": {
        "id": "VRF_hwM2pJq5"
      },
      "source": [
        "**Manyprime**\n",
        "\n",
        "Usar un factor primo fue definitivamente una mala idea, así que intentaré usar más de 30 en su lugar.\n"
      ]
    },
    {
      "cell_type": "code",
      "execution_count": null,
      "id": "lV-C0C8XpPuv",
      "metadata": {
        "colab": {
          "base_uri": "https://localhost:8080/"
        },
        "id": "lV-C0C8XpPuv",
        "outputId": "c684026d-1fb4-4347-c326-9e1a4c32cf57"
      },
      "outputs": [
        {
          "name": "stdout",
          "output_type": "stream",
          "text": [
            "crypto{700_m4ny_5m4ll_f4c70r5}\n"
          ]
        }
      ],
      "source": [
        "from Crypto.Util.number import *\n",
        "\n",
        "n=580642391898843192929563856870897799650883152718761762932292482252152591279871421569162037190419036435041797739880389529593674485555792234900969402019055601781662044515999210032698275981631376651117318677368742867687180140048715627160641771118040372573575479330830092989800730105573700557717146251860588802509310534792310748898504394966263819959963273509119791037525504422606634640173277598774814099540555569257179715908642917355365791447508751401889724095964924513196281345665480688029639999472649549163147599540142367575413885729653166517595719991872223011969856259344396899748662101941230745601719730556631637\n",
        "e=65537\n",
        "ct=320721490534624434149993723527322977960556510750628354856260732098109692581338409999983376131354918370047625150454728718467998870322344980985635149656977787964380651868131740312053755501594999166365821315043312308622388016666802478485476059625888033017198083472976011719998333985531756978678758897472845358167730221506573817798467100023754709109274265835201757369829744113233607359526441007577850111228850004361838028842815813724076511058179239339760639518034583306154826603816927757236549096339501503316601078891287408682099750164720032975016814187899399273719181407940397071512493967454225665490162619270814464\n",
        "\n",
        "factors=[9282105380008121879, 9303850685953812323, 9389357739583927789, 10336650220878499841, 10638241655447339831, 11282698189561966721, 11328768673634243077, 11403460639036243901, 11473665579512371723, 11492065299277279799, 11530534813954192171, 11665347949879312361, 12132158321859677597, 12834461276877415051, 12955403765595949597, 12973972336777979701, 13099895578757581201, 13572286589428162097, 14100640260554622013, 14178869592193599187, 14278240802299816541, 14523070016044624039, 14963354250199553339, 15364597561881860737, 15669758663523555763, 15824122791679574573, 15998365463074268941, 16656402470578844539, 16898740504023346457, 17138336856793050757, 17174065872156629921, 17281246625998849649]\n",
        "\n",
        "#phi(abc..n)=(a-1)*(b-1)*(c-1)*...*(n-1), if a,b,c,...,n all are prime\n",
        "tot=1\n",
        "for i in factors:\n",
        "    tot*=(i-1)\n",
        "\n",
        "d=pow(e,-1,tot)\n",
        "m=pow(ct,d,n)\n",
        "flag=long_to_bytes(m)\n",
        "\n",
        "print(flag.decode())"
      ]
    },
    {
      "cell_type": "markdown",
      "id": "yDZLsk_gpdUy",
      "metadata": {
        "id": "yDZLsk_gpdUy"
      },
      "source": [
        "# **EXPONENTE PÚBLICO**"
      ]
    },
    {
      "cell_type": "markdown",
      "id": "heKEhIPCpd8u",
      "metadata": {
        "id": "heKEhIPCpd8u"
      },
      "source": [
        "**Salty**\n",
        "\n",
        "El exponente más pequeño debería ser el más rápido, ¿verdad?"
      ]
    },
    {
      "cell_type": "code",
      "execution_count": null,
      "id": "si_qZ8Z2pfuR",
      "metadata": {
        "colab": {
          "base_uri": "https://localhost:8080/"
        },
        "id": "si_qZ8Z2pfuR",
        "outputId": "ee1d912e-b9ff-4a98-bb45-0c32fdf19f0f"
      },
      "outputs": [
        {
          "name": "stdout",
          "output_type": "stream",
          "text": [
            "b'crypto{saltstack_fell_for_this!}'\n"
          ]
        }
      ],
      "source": [
        "from Crypto.Util.number import long_to_bytes\n",
        "\n",
        "ct = 44981230718212183604274785925793145442655465025264554046028251311164494127485\n",
        "print(long_to_bytes(ct))"
      ]
    },
    {
      "cell_type": "markdown",
      "id": "8bOB8PP4psma",
      "metadata": {
        "id": "8bOB8PP4psma"
      },
      "source": [
        "**Modulus Inutilis**\n",
        "\n",
        "¡Mis números primos deberían ser más que suficientemente grandes ahora!"
      ]
    },
    {
      "cell_type": "code",
      "execution_count": null,
      "id": "AkZb7VkCptFN",
      "metadata": {
        "colab": {
          "base_uri": "https://localhost:8080/"
        },
        "id": "AkZb7VkCptFN",
        "outputId": "9f4040db-0232-4a01-8274-85eace21d822"
      },
      "outputs": [
        {
          "name": "stdout",
          "output_type": "stream",
          "text": [
            "b'crypto{N33d_m04R_p4dd1ng}'\n"
          ]
        }
      ],
      "source": [
        "\n",
        "from Crypto.Util.number import long_to_bytes\n",
        "\n",
        "n = 17258212916191948536348548470938004244269544560039009244721959293554822498047075403658429865201816363311805874117705688359853941515579440852166618074161313773416434156467811969628473425365608002907061241714688204565170146117869742910273064909154666642642308154422770994836108669814632309362483307560217924183202838588431342622551598499747369771295105890359290073146330677383341121242366368309126850094371525078749496850520075015636716490087482193603562501577348571256210991732071282478547626856068209192987351212490642903450263288650415552403935705444809043563866466823492258216747445926536608548665086042098252335883\n",
        "e = 3\n",
        "ct = 243251053617903760309941844835411292373350655973075480264001352919865180151222189820473358411037759381328642957324889519192337152355302808400638052620580409813222660643570085177957\n",
        "\n",
        "\n",
        "# simple binary search\n",
        "min = 1000\n",
        "max = 10**1000\n",
        "\n",
        "while max-min > 1:\n",
        "    mid = (max+min)//2\n",
        "    if(mid**3 <= ct):\n",
        "        min = mid\n",
        "    else:\n",
        "        max = mid\n",
        "\n",
        "\n",
        "assert(min**3 == ct)\n",
        "print(long_to_bytes(min))"
      ]
    },
    {
      "cell_type": "markdown",
      "id": "-wWAKEw8p_Pe",
      "metadata": {
        "id": "-wWAKEw8p_Pe"
      },
      "source": [
        "**Everything is Big**\n",
        "\n",
        "Tenemos una supercomputadora en el trabajo, así que me aseguré de que mi cifrado sea seguro seleccionando números masivos."
      ]
    },
    {
      "cell_type": "code",
      "execution_count": null,
      "id": "s2cmdYR3s9eg",
      "metadata": {
        "colab": {
          "base_uri": "https://localhost:8080/"
        },
        "id": "s2cmdYR3s9eg",
        "outputId": "477bb4d6-344a-4a02-cf3a-7cb14789207a"
      },
      "outputs": [
        {
          "name": "stdout",
          "output_type": "stream",
          "text": [
            "b'\\x00\\x00\\x00\\x00\\x00\\x00\\x00\\x00\\x00\\x00\\x00\\x00\\x00\\x00\\x00\\x00\\x00crypto{s0m3th1ng5_c4n_b3_t00_b1g}'\n"
          ]
        }
      ],
      "source": [
        "from factordb.factordb import FactorDB as fdb\n",
        "from math import prod\n",
        "\n",
        "N = 0x8da7d2ec7bf9b322a539afb9962d4d2ebeb3e3d449d709b80a51dc680a14c87ffa863edfc7b5a2a542a0fa610febe2d967b58ae714c46a6eccb44cd5c90d1cf5e271224aa3367e5a13305f2744e2e56059b17bf520c95d521d34fdad3b0c12e7821a3169aa900c711e6923ca1a26c71fc5ac8a9ff8c878164e2434c724b68b508a030f86211c1307b6f90c0cd489a27fdc5e6190f6193447e0441a49edde165cf6074994ea260a21ea1fc7e2dfb038df437f02b9ddb7b5244a9620c8eca858865e83bab3413135e76a54ee718f4e431c29d3cb6e353a75d74f831bed2cc7bdce553f25b617b3bdd9ef901e249e43545c91b0cd8798b27804d61926e317a2b745\n",
        "e = 0x86d357db4e1b60a2e9f9f25e2db15204c820b6e8d8d04d29db168c890bc8a6c1e31b9316c9680174e128515a00256b775a1a8ccca9c6936f1b4c2298c03032cda4dd8eca1145828d31466bf56bfcf0c6a8b4a1b2fb27de7a57fae7430048d7590734b2f05b6443ad60d89606802409d2fa4c6767ad42bffae01a8ef1364418362e133fa7b2770af64a68ad50ad8d2bd5cebb99ceb13368fb31a6e7503e753f8638e21a96af1b6498c18578ba89b98d70fa482ad137d28fe701b4b77baa25d5e84c81b26ee9bddf8cbb51a071c60dd57714de379cd4bc14932809ba18524a0a18e4133665cfc46e2c4fcfbc28e0a0957e5513a7307c422b87a6182d0b6a074b4d\n",
        "c = 0x6a2f2e401a54eeb5dab1e6d5d80e92a6ca189049e22844c825012b8f0578f95b269b19644c7c8af3d544840d380ed75fdf86844aa8976622fa0501eaec0e5a1a5ab09d3d1037e55501c4e270060470c9f4019ced6c4e67673843daf2fd71c64f3dd8939ae322f2b79d283b3382052d076ebe9bb50b0042f1f7dd7beadf0f5686926ade9fc8370283ead781a21896e7a878d99e77c3bb1f470401062c0e0327fd85da1cf12901635f1df310e8f8c7d87aff5a01dbbecd739cd8f36462060d0eb237af8d613e2d9cebb67d612bcfc353ef2cd44b7ac85e471287eb04ae9b388b66ea8eb32429ae96dba5da8206894fa8c58a7440a127fceb5717a2eaa3c29f25f7\n",
        "\n",
        "f=fdb(N)\n",
        "f.connect()\n",
        "t=prod(p-1 for p in f.get_factor_list())\n",
        "d=pow(e,-1,t)\n",
        "print(pow(c,d,N).to_bytes(50,\"big\"))\n",
        "\n",
        "#rta: crypto{s0m3th1ng5_c4n_b3_t00_b1g}"
      ]
    },
    {
      "cell_type": "markdown",
      "id": "C0JkDWZmuHrX",
      "metadata": {
        "id": "C0JkDWZmuHrX"
      },
      "source": [
        "**Crossed Wires**\n",
        "\n",
        "Les pedí a mis amigos que cifraran nuestra bandera secreta antes de enviármela, pero en lugar de usar mi clave, ¡todos usaron la suya propia! ¿Puede usted ayudar?"
      ]
    },
    {
      "cell_type": "code",
      "execution_count": null,
      "id": "gsCVIoJ_t_ZY",
      "metadata": {
        "colab": {
          "base_uri": "https://localhost:8080/"
        },
        "id": "gsCVIoJ_t_ZY",
        "outputId": "2c7f97d0-5c65-4968-8a67-732894317e30"
      },
      "outputs": [
        {
          "name": "stdout",
          "output_type": "stream",
          "text": [
            "crypto{3ncrypt_y0ur_s3cr3t_w1th_y0ur_fr1end5_publ1c_k3y}\n"
          ]
        }
      ],
      "source": [
        "from Crypto.Util.number import long_to_bytes\n",
        "\n",
        "mykey = (21711308225346315542706844618441565741046498277716979943478360598053144971379956916575370343448988601905854572029635846626259487297950305231661109855854947494209135205589258643517961521594924368498672064293208230802441077390193682958095111922082677813175804775628884377724377647428385841831277059274172982280545237765559969228707506857561215268491024097063920337721783673060530181637161577401589126558556182546896783307370517275046522704047385786111489447064794210010802761708615907245523492585896286374996088089317826162798278528296206977900274431829829206103227171839270887476436899494428371323874689055690729986771, 2734411677251148030723138005716109733838866545375527602018255159319631026653190783670493107936401603981429171880504360560494771017246468702902647370954220312452541342858747590576273775107870450853533717116684326976263006435733382045807971890762018747729574021057430331778033982359184838159747331236538501849965329264774927607570410347019418407451937875684373454982306923178403161216817237890962651214718831954215200637651103907209347900857824722653217179548148145687181377220544864521808230122730967452981435355334932104265488075777638608041325256776275200067541533022527964743478554948792578057708522350812154888097)\n",
        "friendkey = [(21711308225346315542706844618441565741046498277716979943478360598053144971379956916575370343448988601905854572029635846626259487297950305231661109855854947494209135205589258643517961521594924368498672064293208230802441077390193682958095111922082677813175804775628884377724377647428385841831277059274172982280545237765559969228707506857561215268491024097063920337721783673060530181637161577401589126558556182546896783307370517275046522704047385786111489447064794210010802761708615907245523492585896286374996088089317826162798278528296206977900274431829829206103227171839270887476436899494428371323874689055690729986771, 106979), (21711308225346315542706844618441565741046498277716979943478360598053144971379956916575370343448988601905854572029635846626259487297950305231661109855854947494209135205589258643517961521594924368498672064293208230802441077390193682958095111922082677813175804775628884377724377647428385841831277059274172982280545237765559969228707506857561215268491024097063920337721783673060530181637161577401589126558556182546896783307370517275046522704047385786111489447064794210010802761708615907245523492585896286374996088089317826162798278528296206977900274431829829206103227171839270887476436899494428371323874689055690729986771, 108533), (21711308225346315542706844618441565741046498277716979943478360598053144971379956916575370343448988601905854572029635846626259487297950305231661109855854947494209135205589258643517961521594924368498672064293208230802441077390193682958095111922082677813175804775628884377724377647428385841831277059274172982280545237765559969228707506857561215268491024097063920337721783673060530181637161577401589126558556182546896783307370517275046522704047385786111489447064794210010802761708615907245523492585896286374996088089317826162798278528296206977900274431829829206103227171839270887476436899494428371323874689055690729986771, 69557), (21711308225346315542706844618441565741046498277716979943478360598053144971379956916575370343448988601905854572029635846626259487297950305231661109855854947494209135205589258643517961521594924368498672064293208230802441077390193682958095111922082677813175804775628884377724377647428385841831277059274172982280545237765559969228707506857561215268491024097063920337721783673060530181637161577401589126558556182546896783307370517275046522704047385786111489447064794210010802761708615907245523492585896286374996088089317826162798278528296206977900274431829829206103227171839270887476436899494428371323874689055690729986771, 97117), (21711308225346315542706844618441565741046498277716979943478360598053144971379956916575370343448988601905854572029635846626259487297950305231661109855854947494209135205589258643517961521594924368498672064293208230802441077390193682958095111922082677813175804775628884377724377647428385841831277059274172982280545237765559969228707506857561215268491024097063920337721783673060530181637161577401589126558556182546896783307370517275046522704047385786111489447064794210010802761708615907245523492585896286374996088089317826162798278528296206977900274431829829206103227171839270887476436899494428371323874689055690729986771, 103231)]\n",
        "flag = 20304610279578186738172766224224793119885071262464464448863461184092225736054747976985179673905441502689126216282897704508745403799054734121583968853999791604281615154100736259131453424385364324630229671185343778172807262640709301838274824603101692485662726226902121105591137437331463201881264245562214012160875177167442010952439360623396658974413900469093836794752270399520074596329058725874834082188697377597949405779039139194196065364426213208345461407030771089787529200057105746584493554722790592530472869581310117300343461207750821737840042745530876391793484035024644475535353227851321505537398888106855012746117\n",
        "\n",
        "n=mykey[0]\n",
        "d=mykey[1]\n",
        "e=65537\n",
        "tot=e*d-1\n",
        "\n",
        "e1=1\n",
        "for key in friendkey:\n",
        "    e1*=key[1]\n",
        "\n",
        "d1=pow(e1,-1,tot)\n",
        "flag=pow(flag,d1,n)\n",
        "flag=long_to_bytes(flag).decode()\n",
        "print(flag)"
      ]
    },
    {
      "cell_type": "markdown",
      "id": "lMAyDg25uV16",
      "metadata": {
        "id": "lMAyDg25uV16"
      },
      "source": [
        "**Everything is Still Big**\n",
        "\n",
        "Bien, me despreocuparé un poco con mi último guión, pero esta vez me he protegido manteniendo todo realmente grande. ¡Nada nos detendrá a mí y a mi supercomputadora ahora!"
      ]
    },
    {
      "cell_type": "code",
      "execution_count": null,
      "id": "H12rKf0RuWUf",
      "metadata": {
        "colab": {
          "base_uri": "https://localhost:8080/"
        },
        "id": "H12rKf0RuWUf",
        "outputId": "e80ecbbe-3a5d-4b18-c751-04643cb92e45"
      },
      "outputs": [
        {
          "name": "stdout",
          "output_type": "stream",
          "text": [
            "b'crypto{bon3h5_4tt4ck_i5_sr0ng3r_th4n_w13n3r5}'\n"
          ]
        }
      ],
      "source": [
        "from Crypto.Util.number import inverse,long_to_bytes\n",
        "\n",
        "N = 0x665166804cd78e8197073f65f58bca14e019982245fcc7cad74535e948a4e0258b2e919bf3720968a00e5240c5e1d6b8831d8fec300d969fccec6cce11dde826d3fbe0837194f2dc64194c78379440671563c6c75267f0286d779e6d91d3e9037c642a860a894d8c45b7ed564d341501cedf260d3019234f2964ccc6c56b6de8a4f66667e9672a03f6c29d95100cdf5cb363d66f2131823a953621680300ab3a2eb51c12999b6d4249dde499055584925399f3a8c7a4a5a21f095878e80bbc772f785d2cbf70a87c6b854eb566e1e1beb7d4ac6eb46023b3dc7fdf34529a40f5fc5797f9c15c54ed4cb018c072168e9c30ca3602e00ea4047d2e5686c6eb37b9\n",
        "e = 0x2c998e57bc651fe4807443dbb3e794711ca22b473d7792a64b7a326538dc528a17c79c72e425bf29937e47b2d6f6330ee5c13bfd8564b50e49132d47befd0ee2e85f4bfe2c9452d62ef838d487c099b3d7c80f14e362b3d97ca4774f1e4e851d38a4a834b077ded3d40cd20ddc45d57581beaa7b4d299da9dec8a1f361c808637238fa368e07c7d08f5654c7b2f8a90d47857e9b9c0a81a46769f6307d5a4442707afb017959d9a681fa1dc8d97565e55f02df34b04a3d0a0bf98b7798d7084db4b3f6696fa139f83ada3dc70d0b4c57bf49f530dec938096071f9c4498fdef9641dfbfe516c985b27d1748cc6ce1a4beb1381fb165a3d14f61032e0f76f095d\n",
        "c = 0x503d5dd3bf3d76918b868c0789c81b4a384184ddadef81142eabdcb78656632e54c9cb22ac2c41178607aa41adebdf89cd24ec1876365994f54f2b8fc492636b59382eb5094c46b5818cf8d9b42aed7e8051d7ca1537202d20ef945876e94f502e048ad71c7ad89200341f8071dc73c2cc1c7688494cad0110fca4854ee6a1ba999005a650062a5d55063693e8b018b08c4591946a3fc961dae2ba0c046f0848fbe5206d56767aae8812d55ee9decc1587cf5905887846cd3ecc6fc069e40d36b29ee48229c0c79eceab9a95b11d15421b8585a2576a63b9f09c56a4ca1729680410da237ac5b05850604e2af1f4ede9cf3928cbb3193a159e64482928b585ac\n",
        "\n",
        "p = 98444549679044409506244239144443867459824227934526036052949278261505813439015297459200379108752444235232667213138464076415095486907288282630595622287237215801470940146886371515679909322090871473412384894540642399950010296214525469622505798526072170187467562765920044646574445427364231529083610955760228212701\n",
        "q = 131205304707717699800023219057082007986286045823683571663112014612188606710079038751853416273709729039622908861933527111469616900188875912430487264576215232569029320804579614330240773622645122871884209068761138439268551367198798009790636662892148063583135747945604771740458352899202428704645256790931460695949\n",
        "\n",
        "\n",
        "phi = (p-1)*(q-1)\n",
        "\n",
        "d = inverse(e,phi)\n",
        "\n",
        "cipher = pow(c, d, N)\n",
        "\n",
        "decrypted = long_to_bytes(cipher)\n",
        "\n",
        "print(decrypted)"
      ]
    },
    {
      "cell_type": "markdown",
      "id": "A6mUwkwWuj8l",
      "metadata": {
        "id": "A6mUwkwWuj8l"
      },
      "source": [
        "**Endless Emails**\n",
        "\n",
        "El pobre Johan ha estado respondiendo correos electrónicos todo el día y todos los estudiantes hacen las mismas preguntas. ¿Puedes leer sus mensajes?"
      ]
    },
    {
      "cell_type": "code",
      "execution_count": null,
      "id": "E9TSJcuKuiZl",
      "metadata": {
        "colab": {
          "base_uri": "https://localhost:8080/"
        },
        "id": "E9TSJcuKuiZl",
        "outputId": "6eb3db44-d3cf-4300-a14c-5d4220c5e89d"
      },
      "outputs": [
        {
          "name": "stdout",
          "output_type": "stream",
          "text": [
            "b'yes\\n\\n---\\n\\nJohan Hastad\\nProfessor in Computer Science in the Theoretical Computer Science\\nGroup at the School of Computer Science and Communication at KTH Royal Institute of Technology in Stockholm, Sweden.\\n\\ncrypto{1f_y0u_d0nt_p4d_y0u_4r3_Vuln3rabl3}'\n"
          ]
        }
      ],
      "source": [
        "from Crypto.Util.number import long_to_bytes\n",
        "import gmpy\n",
        "import itertools\n",
        "\n",
        "def iroot(k, n):\n",
        "    u, s = n, n+1\n",
        "    while u < s:\n",
        "        s = u\n",
        "        t = (k-1) * s + n // pow(s, k-1)\n",
        "        u = t // k\n",
        "    return s\n",
        "\n",
        "e = 3\n",
        "\n",
        "\n",
        "list_num = [0,1,2,3,4,5,6]\n",
        "\n",
        "combinations_list = list(itertools.combinations(list_num,3))\n",
        "\n",
        "\n",
        "\n",
        "n1 = 14528915758150659907677315938876872514853653132820394367681510019000469589767908107293777996420037715293478868775354645306536953789897501630398061779084810058931494642860729799059325051840331449914529594113593835549493208246333437945551639983056810855435396444978249093419290651847764073607607794045076386643023306458718171574989185213684263628336385268818202054811378810216623440644076846464902798568705083282619513191855087399010760232112434412274701034094429954231366422968991322244343038458681255035356984900384509158858007713047428143658924970374944616430311056440919114824023838380098825914755712289724493770021\n",
        "c1 = 6965891612987861726975066977377253961837139691220763821370036576350605576485706330714192837336331493653283305241193883593410988132245791554283874785871849223291134571366093850082919285063130119121338290718389659761443563666214229749009468327825320914097376664888912663806925746474243439550004354390822079954583102082178617110721589392875875474288168921403550415531707419931040583019529612270482482718035497554779733578411057633524971870399893851589345476307695799567919550426417015815455141863703835142223300228230547255523815097431420381177861163863791690147876158039619438793849367921927840731088518955045807722225\n",
        "\n",
        "\n",
        "n2 = 20463913454649855046677206889944639231694511458416906994298079596685813354570085475890888433776403011296145408951323816323011550738170573801417972453504044678801608709931200059967157605416809387753258251914788761202456830940944486915292626560515250805017229876565916349963923702612584484875113691057716315466239062005206014542088484387389725058070917118549621598629964819596412564094627030747720659155558690124005400257685883230881015636066183743516494701900125788836869358634031031172536767950943858472257519195392986989232477630794600444813136409000056443035171453870906346401936687214432176829528484662373633624123\n",
        "c2 = 5109363605089618816120178319361171115590171352048506021650539639521356666986308721062843132905170261025772850941702085683855336653472949146012700116070022531926476625467538166881085235022484711752960666438445574269179358850309578627747024264968893862296953506803423930414569834210215223172069261612934281834174103316403670168299182121939323001232617718327977313659290755318972603958579000300780685344728301503641583806648227416781898538367971983562236770576174308965929275267929379934367736694110684569576575266348020800723535121638175505282145714117112442582416208209171027273743686645470434557028336357172288865172\n",
        "\n",
        "\n",
        "n3 = 19402640770593345339726386104915705450969517850985511418263141255686982818547710008822417349818201858549321868878490314025136645036980129976820137486252202687238348587398336652955435182090722844668488842986318211649569593089444781595159045372322540131250208258093613844753021272389255069398553523848975530563989367082896404719544411946864594527708058887475595056033713361893808330341623804367785721774271084389159493974946320359512776328984487126583015777989991635428744050868653379191842998345721260216953918203248167079072442948732000084754225272238189439501737066178901505257566388862947536332343196537495085729147\n",
        "c3 = 5603386396458228314230975500760833991383866638504216400766044200173576179323437058101562931430558738148852367292802918725271632845889728711316688681080762762324367273332764959495900563756768440309595248691744845766607436966468714038018108912467618638117493367675937079141350328486149333053000366933205635396038539236203203489974033629281145427277222568989469994178084357460160310598260365030056631222346691527861696116334946201074529417984624304973747653407317290664224507485684421999527164122395674469650155851869651072847303136621932989550786722041915603539800197077294166881952724017065404825258494318993054344153\n",
        "\n",
        "\n",
        "n4 = 12005639978012754274325188681720834222130605634919280945697102906256738419912110187245315232437501890545637047506165123606573171374281507075652554737014979927883759915891863646221205835211640845714836927373844277878562666545230876640830141637371729405545509920889968046268135809999117856968692236742804637929866632908329522087977077849045608566911654234541526643235586433065170392920102840518192803854740398478305598092197183671292154743153130012885747243219372709669879863098708318993844005566984491622761795349455404952285937152423145150066181043576492305166964448141091092142224906843816547235826717179687198833961\n",
        "c4 = 1522280741383024774933280198410525846833410931417064479278161088248621390305797210285777845359812715909342595804742710152832168365433905718629465545306028275498667935929180318276445229415104842407145880223983428713335709038026249381363564625791656631137936935477777236936508600353416079028339774876425198789629900265348122040413865209592074731028757972968635601695468594123523892918747882221891834598896483393711851510479989203644477972694520237262271530260496342247355761992646827057846109181410462131875377404309983072358313960427035348425800940661373272947647516867525052504539561289941374722179778872627956360577\n",
        "\n",
        "\n",
        "n5 = 17795451956221451086587651307408104001363221003775928432650752466563818944480119932209305765249625841644339021308118433529490162294175590972336954199870002456682453215153111182451526643055812311071588382409549045943806869173323058059908678022558101041630272658592291327387549001621625757585079662873501990182250368909302040015518454068699267914137675644695523752851229148887052774845777699287718342916530122031495267122700912518207571821367123013164125109174399486158717604851125244356586369921144640969262427220828940652994276084225196272504355264547588369516271460361233556643313911651916709471353368924621122725823\n",
        "c5 = 8752507806125480063647081749506966428026005464325535765874589376572431101816084498482064083887400646438977437273700004934257274516197148448425455243811009944321764771392044345410680448204581679548854193081394891841223548418812679441816502910830861271884276608891963388657558218620911858230760629700918375750796354647493524576614017731938584618983084762612414591830024113057983483156974095503392359946722756364412399187910604029583464521617256125933111786441852765229820406911991809039519015434793656710199153380699319611499255869045311421603167606551250174746275803467549814529124250122560661739949229005127507540805\n",
        "\n",
        "\n",
        "n6 = 25252721057733555082592677470459355315816761410478159901637469821096129654501579313856822193168570733800370301193041607236223065376987811309968760580864569059669890823406084313841678888031103461972888346942160731039637326224716901940943571445217827960353637825523862324133203094843228068077462983941899571736153227764822122334838436875488289162659100652956252427378476004164698656662333892963348126931771536472674447932268282205545229907715893139346941832367885319597198474180888087658441880346681594927881517150425610145518942545293750127300041942766820911120196262215703079164895767115681864075574707999253396530263\n",
        "c6 = 23399624135645767243362438536844425089018405258626828336566973656156553220156563508607371562416462491581383453279478716239823054532476006642583363934314982675152824147243749715830794488268846671670287617324522740126594148159945137948643597981681529145611463534109482209520448640622103718682323158039797577387254265854218727476928164074249568031493984825273382959147078839665114417896463735635546290504843957780546550577300001452747760982468547756427137284830133305010038339400230477403836856663883956463830571934657200851598986174177386323915542033293658596818231793744261192870485152396793393026198817787033127061749\n",
        "\n",
        "\n",
        "n7 = 19833203629283018227011925157509157967003736370320129764863076831617271290326613531892600790037451229326924414757856123643351635022817441101879725227161178559229328259469472961665857650693413215087493448372860837806619850188734619829580286541292997729705909899738951228555834773273676515143550091710004139734080727392121405772911510746025807070635102249154615454505080376920778703360178295901552323611120184737429513669167641846902598281621408629883487079110172218735807477275590367110861255756289520114719860000347219161944020067099398239199863252349401303744451903546571864062825485984573414652422054433066179558897\n",
        "c7 = 15239683995712538665992887055453717247160229941400011601942125542239446512492703769284448009141905335544729440961349343533346436084176947090230267995060908954209742736573986319254695570265339469489948102562072983996668361864286444602534666284339466797477805372109723178841788198177337648499899079471221924276590042183382182326518312979109378616306364363630519677884849945606288881683625944365927809405420540525867173639222696027472336981838588256771671910217553150588878434061862840893045763456457939944572192848992333115479951110622066173007227047527992906364658618631373790704267650950755276227747600169403361509144\n",
        "\n",
        "\n",
        "\n",
        "\n",
        "\n",
        "n_list = [n1,n2,n3,n4,n5,n6,n7]\n",
        "c_list = [c1,c2,c3,c4,c5,c6,c7]\n",
        "\n",
        "\n",
        "\n",
        "for i in combinations_list:\n",
        "\n",
        "\tn1 = n_list[i[0]]\n",
        "\tn2 = n_list[i[1]]\n",
        "\tn3 = n_list[i[2]]\n",
        "\n",
        "\tc1 = c_list[i[0]]\n",
        "\tc2 = c_list[i[1]]\n",
        "\tc3 = c_list[i[2]]\n",
        "\n",
        "\tN = n1*n2*n3\n",
        "\tN1 = N//n1\n",
        "\tN2 = N//n2\n",
        "\tN3 = N//n3\n",
        "\n",
        "\n",
        "\tu1 = gmpy.invert(N1, n1)\n",
        "\tu2 = gmpy.invert(N2, n2)\n",
        "\tu3 = gmpy.invert(N3, n3)\n",
        "\n",
        "\n",
        "\tM = (c1*u1*N1 + c2*u2*N2 + c3*u3*N3) % N\n",
        "\n",
        "\tM = iroot(e,M)\n",
        "\n",
        "\tm = long_to_bytes(M)\n",
        "\tif b'crypto' in m:\n",
        "\t\tprint(m)"
      ]
    },
    {
      "cell_type": "markdown",
      "id": "b0-8NjX8wVLB",
      "metadata": {
        "id": "b0-8NjX8wVLB"
      },
      "source": [
        "# **PRIMOS PARTE 2**"
      ]
    },
    {
      "cell_type": "markdown",
      "id": "IM_Te9bnwWVy",
      "metadata": {
        "id": "IM_Te9bnwWVy"
      },
      "source": [
        "**Infinite Descent**\n",
        "\n",
        "Encontrar números primos grandes es lento, así que ideé una optimización."
      ]
    },
    {
      "cell_type": "code",
      "execution_count": null,
      "id": "VbABWSTWwZhc",
      "metadata": {
        "colab": {
          "base_uri": "https://localhost:8080/"
        },
        "id": "VbABWSTWwZhc",
        "outputId": "6b5ac55e-eeb9-4c62-e5e9-5989acb2390c"
      },
      "outputs": [
        {
          "name": "stdout",
          "output_type": "stream",
          "text": [
            "b'crypto{f3rm47_w45_4_g3n1u5}'\n"
          ]
        }
      ],
      "source": [
        "\n",
        "from Crypto.Util.number import inverse, long_to_bytes\n",
        "\n",
        "n = 383347712330877040452238619329524841763392526146840572232926924642094891453979246383798913394114305368360426867021623649667024217266529000859703542590316063318592391925062014229671423777796679798747131250552455356061834719512365575593221216339005132464338847195248627639623487124025890693416305788160905762011825079336880567461033322240015771102929696350161937950387427696385850443727777996483584464610046380722736790790188061964311222153985614287276995741553706506834906746892708903948496564047090014307484054609862129530262108669567834726352078060081889712109412073731026030466300060341737504223822014714056413752165841749368159510588178604096191956750941078391415634472219765129561622344109769892244712668402761549412177892054051266761597330660545704317210567759828757156904778495608968785747998059857467440128156068391746919684258227682866083662345263659558066864109212457286114506228470930775092735385388316268663664139056183180238043386636254075940621543717531670995823417070666005930452836389812129462051771646048498397195157405386923446893886593048680984896989809135802276892911038588008701926729269812453226891776546037663583893625479252643042517196958990266376741676514631089466493864064316127648074609662749196545969926051\n",
        "e = 65537\n",
        "c = 98280456757136766244944891987028935843441533415613592591358482906016439563076150526116369842213103333480506705993633901994107281890187248495507270868621384652207697607019899166492132408348789252555196428608661320671877412710489782358282011364127799563335562917707783563681920786994453004763755404510541574502176243896756839917991848428091594919111448023948527766368304503100650379914153058191140072528095898576018893829830104362124927140555107994114143042266758709328068902664037870075742542194318059191313468675939426810988239079424823495317464035252325521917592045198152643533223015952702649249494753395100973534541766285551891859649320371178562200252228779395393974169736998523394598517174182142007480526603025578004665936854657294541338697513521007818552254811797566860763442604365744596444735991732790926343720102293453429936734206246109968817158815749927063561835274636195149702317415680401987150336994583752062565237605953153790371155918439941193401473271753038180560129784192800351649724465553733201451581525173536731674524145027931923204961274369826379325051601238308635192540223484055096203293400419816024111797903442864181965959247745006822690967920957905188441550106930799896292835287867403979631824085790047851383294389\n",
        "p = 19579267410474709598749314750954211170621862561006233612440352022286786882372619130071639824109783540564512429081674132336811972404563957025465034025781206466631730784516337210291334356396471732168742739790464109881039219452504456611589154349427303832789968502204300316585544080003423669120186095188478480761108168299370326928127888786819392372477069515318179751702985809024210164243409544692708684215042226932081052831028570060308963093217622183111643335692361019897449265402290540025790581589980867847884281862216603571536255382298035337865885153328169634178323279004749915197270120323340416965014136429743252761521\n",
        "q = n//p\n",
        "\n",
        "d = inverse(e, (p-1)*(q-1))\n",
        "print(long_to_bytes(pow(c, d, n)))"
      ]
    },
    {
      "cell_type": "markdown",
      "id": "FY56OAhwwiPJ",
      "metadata": {
        "id": "FY56OAhwwiPJ"
      },
      "source": [
        "**Marin's Secrets**\n",
        "\n",
        "Encontré una manera súper rápida de generar números primos a partir de mi lista secreta."
      ]
    },
    {
      "cell_type": "code",
      "execution_count": null,
      "id": "C5NM7o1switG",
      "metadata": {
        "colab": {
          "base_uri": "https://localhost:8080/"
        },
        "id": "C5NM7o1switG",
        "outputId": "11e475b0-4fb9-4e84-898d-4237880a0101"
      },
      "outputs": [
        {
          "name": "stdout",
          "output_type": "stream",
          "text": [
            "crypto{Th3se_Pr1m3s_4r3_t00_r4r3}\n"
          ]
        }
      ],
      "source": [
        "from Crypto.Util.number import *\n",
        "\n",
        "n= 658416274830184544125027519921443515789888264156074733099244040126213682497714032798116399288176502462829255784525977722903018714434309698108208388664768262754316426220651576623731617882923164117579624827261244506084274371250277849351631679441171018418018498039996472549893150577189302871520311715179730714312181456245097848491669795997289830612988058523968384808822828370900198489249243399165125219244753790779764466236965135793576516193213175061401667388622228362042717054014679032953441034021506856017081062617572351195418505899388715709795992029559042119783423597324707100694064675909238717573058764118893225111602703838080618565401139902143069901117174204252871948846864436771808616432457102844534843857198735242005309073939051433790946726672234643259349535186268571629077937597838801337973092285608744209951533199868228040004432132597073390363357892379997655878857696334892216345070227646749851381208554044940444182864026513709449823489593439017366358869648168238735087593808344484365136284219725233811605331815007424582890821887260682886632543613109252862114326372077785369292570900594814481097443781269562647303671428895764224084402259605109600363098950091998891375812839523613295667253813978434879172781217285652895469194181218343078754501694746598738215243769747956572555989594598180639098344891175879455994652382137038240166358066403475457\n",
        "e= 65537\n",
        "c= 400280463088930432319280359115194977582517363610532464295210669530407870753439127455401384569705425621445943992963380983084917385428631223046908837804126399345875252917090184158440305503817193246288672986488987883177380307377025079266030262650932575205141853413302558460364242355531272967481409414783634558791175827816540767545944534238189079030192843288596934979693517964655661507346729751987928147021620165009965051933278913952899114253301044747587310830419190623282578931589587504555005361571572561916866063458812965314474160499067525067495140150092119620928363007467390920130717521169105167963364154636472055084012592138570354390246779276003156184676298710746583104700516466091034510765027167956117869051938116457370384737440965109619578227422049806566060571831017610877072484262724789571076529586427405780121096546942812322324807145137017942266863534989082115189065560011841150908380937354301243153206428896320576609904361937035263985348984794208198892615898907005955403529470847124269512316191753950203794578656029324506688293446571598506042198219080325747328636232040936761788558421528960279832802127562115852304946867628316502959562274485483867481731149338209009753229463924855930103271197831370982488703456463385914801246828662212622006947380115549529820197355738525329885232170215757585685484402344437894981555179129287164971002033759724456\n",
        "\n",
        "#n = (2^x-1)*(2^y-1) = 2^(x+y) - (2^x + 2^y) + 1\n",
        "#So, n-1 = 2^(x+y) - (2^x + 2^y)\n",
        "#The number of trailing zeroes in n-1 will be equal to either x or y\n",
        "#Counting the number of trailing zeros in 'n-1'\n",
        "x=len(bin(n-1).split('1')[-1])\n",
        "p=pow(2,x) - 1\n",
        "q=n//p\n",
        "\n",
        "tot=(p-1)*(q-1)\n",
        "d=pow(e,-1,tot)\n",
        "m=pow(c,d,n)\n",
        "flag=long_to_bytes(m).decode()\n",
        "print(flag)"
      ]
    },
    {
      "cell_type": "markdown",
      "id": "YAEYoXrUwnU4",
      "metadata": {
        "id": "YAEYoXrUwnU4"
      },
      "source": [
        "**Fast Primes**\n",
        "\n",
        "Necesito producir millones de claves RSA rápidamente y la forma estándar simplemente no es suficiente. Aquí hay otra forma rápida de generar números primos que en realidad ha resistido años de revisión."
      ]
    },
    {
      "cell_type": "code",
      "execution_count": null,
      "id": "f7f2MK4swpYd",
      "metadata": {
        "colab": {
          "base_uri": "https://localhost:8080/"
        },
        "id": "f7f2MK4swpYd",
        "outputId": "d3af93a1-521d-4133-ca65-d780952a6593"
      },
      "outputs": [
        {
          "name": "stdout",
          "output_type": "stream",
          "text": [
            "b'crypto{p00R_3570n14}'\n"
          ]
        }
      ],
      "source": [
        "from Crypto.Cipher import PKCS1_OAEP\n",
        "from Crypto.PublicKey import RSA\n",
        "from Crypto.Util.number import bytes_to_long, inverse\n",
        "from Crypto.Util import number\n",
        "\n",
        "e = 0x10001\n",
        "p = 51894141255108267693828471848483688186015845988173648228318286999011443419469\n",
        "q = 77342270837753916396402614215980760127245056504361515489809293852222206596161\n",
        "n = p*q\n",
        "phi = (p - 1) * (q - 1)\n",
        "d = inverse(e, phi)\n",
        "\n",
        "key = RSA.construct((n, e, d))\n",
        "cipher = PKCS1_OAEP.new(key)\n",
        "r = 0x249d72cd1d287b1a15a3881f2bff5788bc4bf62c789f2df44d88aae805b54c9a94b8944c0ba798f70062b66160fee312b98879f1dd5d17b33095feb3c5830d28\n",
        "c = number.long_to_bytes(r)\n",
        "m = cipher.decrypt(c)\n",
        "print(m)"
      ]
    },
    {
      "cell_type": "markdown",
      "id": "vQ0fGJg0xUXe",
      "metadata": {
        "id": "vQ0fGJg0xUXe"
      },
      "source": [
        "**Ron was Wrong, Whit is Right**\n",
        "\n",
        "Aquí hay un montón de claves públicas RSA que recopilé de personas en la red junto con los mensajes que enviaron.\n",
        "\n",
        "Como muestra excerpt.py, todos usaban PKCS#1 OAEP para cifrar sus propios mensajes. No debería ser posible descifrarlos, pero ¿quizás haya problemas con algunas de las claves?"
      ]
    },
    {
      "cell_type": "code",
      "execution_count": null,
      "id": "6gfymIpS-IWg",
      "metadata": {
        "colab": {
          "base_uri": "https://localhost:8080/",
          "height": 1000
        },
        "id": "6gfymIpS-IWg",
        "outputId": "174509d4-8885-4b26-a542-1fe13cd3b905"
      },
      "outputs": [
        {
          "data": {
            "text/html": [
              "\n",
              "     <input type=\"file\" id=\"files-825164ae-d10d-4c7a-894b-0b202f25705f\" name=\"files[]\" multiple disabled\n",
              "        style=\"border:none\" />\n",
              "     <output id=\"result-825164ae-d10d-4c7a-894b-0b202f25705f\">\n",
              "      Upload widget is only available when the cell has been executed in the\n",
              "      current browser session. Please rerun this cell to enable.\n",
              "      </output>\n",
              "      <script>// Copyright 2017 Google LLC\n",
              "//\n",
              "// Licensed under the Apache License, Version 2.0 (the \"License\");\n",
              "// you may not use this file except in compliance with the License.\n",
              "// You may obtain a copy of the License at\n",
              "//\n",
              "//      http://www.apache.org/licenses/LICENSE-2.0\n",
              "//\n",
              "// Unless required by applicable law or agreed to in writing, software\n",
              "// distributed under the License is distributed on an \"AS IS\" BASIS,\n",
              "// WITHOUT WARRANTIES OR CONDITIONS OF ANY KIND, either express or implied.\n",
              "// See the License for the specific language governing permissions and\n",
              "// limitations under the License.\n",
              "\n",
              "/**\n",
              " * @fileoverview Helpers for google.colab Python module.\n",
              " */\n",
              "(function(scope) {\n",
              "function span(text, styleAttributes = {}) {\n",
              "  const element = document.createElement('span');\n",
              "  element.textContent = text;\n",
              "  for (const key of Object.keys(styleAttributes)) {\n",
              "    element.style[key] = styleAttributes[key];\n",
              "  }\n",
              "  return element;\n",
              "}\n",
              "\n",
              "// Max number of bytes which will be uploaded at a time.\n",
              "const MAX_PAYLOAD_SIZE = 100 * 1024;\n",
              "\n",
              "function _uploadFiles(inputId, outputId) {\n",
              "  const steps = uploadFilesStep(inputId, outputId);\n",
              "  const outputElement = document.getElementById(outputId);\n",
              "  // Cache steps on the outputElement to make it available for the next call\n",
              "  // to uploadFilesContinue from Python.\n",
              "  outputElement.steps = steps;\n",
              "\n",
              "  return _uploadFilesContinue(outputId);\n",
              "}\n",
              "\n",
              "// This is roughly an async generator (not supported in the browser yet),\n",
              "// where there are multiple asynchronous steps and the Python side is going\n",
              "// to poll for completion of each step.\n",
              "// This uses a Promise to block the python side on completion of each step,\n",
              "// then passes the result of the previous step as the input to the next step.\n",
              "function _uploadFilesContinue(outputId) {\n",
              "  const outputElement = document.getElementById(outputId);\n",
              "  const steps = outputElement.steps;\n",
              "\n",
              "  const next = steps.next(outputElement.lastPromiseValue);\n",
              "  return Promise.resolve(next.value.promise).then((value) => {\n",
              "    // Cache the last promise value to make it available to the next\n",
              "    // step of the generator.\n",
              "    outputElement.lastPromiseValue = value;\n",
              "    return next.value.response;\n",
              "  });\n",
              "}\n",
              "\n",
              "/**\n",
              " * Generator function which is called between each async step of the upload\n",
              " * process.\n",
              " * @param {string} inputId Element ID of the input file picker element.\n",
              " * @param {string} outputId Element ID of the output display.\n",
              " * @return {!Iterable<!Object>} Iterable of next steps.\n",
              " */\n",
              "function* uploadFilesStep(inputId, outputId) {\n",
              "  const inputElement = document.getElementById(inputId);\n",
              "  inputElement.disabled = false;\n",
              "\n",
              "  const outputElement = document.getElementById(outputId);\n",
              "  outputElement.innerHTML = '';\n",
              "\n",
              "  const pickedPromise = new Promise((resolve) => {\n",
              "    inputElement.addEventListener('change', (e) => {\n",
              "      resolve(e.target.files);\n",
              "    });\n",
              "  });\n",
              "\n",
              "  const cancel = document.createElement('button');\n",
              "  inputElement.parentElement.appendChild(cancel);\n",
              "  cancel.textContent = 'Cancel upload';\n",
              "  const cancelPromise = new Promise((resolve) => {\n",
              "    cancel.onclick = () => {\n",
              "      resolve(null);\n",
              "    };\n",
              "  });\n",
              "\n",
              "  // Wait for the user to pick the files.\n",
              "  const files = yield {\n",
              "    promise: Promise.race([pickedPromise, cancelPromise]),\n",
              "    response: {\n",
              "      action: 'starting',\n",
              "    }\n",
              "  };\n",
              "\n",
              "  cancel.remove();\n",
              "\n",
              "  // Disable the input element since further picks are not allowed.\n",
              "  inputElement.disabled = true;\n",
              "\n",
              "  if (!files) {\n",
              "    return {\n",
              "      response: {\n",
              "        action: 'complete',\n",
              "      }\n",
              "    };\n",
              "  }\n",
              "\n",
              "  for (const file of files) {\n",
              "    const li = document.createElement('li');\n",
              "    li.append(span(file.name, {fontWeight: 'bold'}));\n",
              "    li.append(span(\n",
              "        `(${file.type || 'n/a'}) - ${file.size} bytes, ` +\n",
              "        `last modified: ${\n",
              "            file.lastModifiedDate ? file.lastModifiedDate.toLocaleDateString() :\n",
              "                                    'n/a'} - `));\n",
              "    const percent = span('0% done');\n",
              "    li.appendChild(percent);\n",
              "\n",
              "    outputElement.appendChild(li);\n",
              "\n",
              "    const fileDataPromise = new Promise((resolve) => {\n",
              "      const reader = new FileReader();\n",
              "      reader.onload = (e) => {\n",
              "        resolve(e.target.result);\n",
              "      };\n",
              "      reader.readAsArrayBuffer(file);\n",
              "    });\n",
              "    // Wait for the data to be ready.\n",
              "    let fileData = yield {\n",
              "      promise: fileDataPromise,\n",
              "      response: {\n",
              "        action: 'continue',\n",
              "      }\n",
              "    };\n",
              "\n",
              "    // Use a chunked sending to avoid message size limits. See b/62115660.\n",
              "    let position = 0;\n",
              "    do {\n",
              "      const length = Math.min(fileData.byteLength - position, MAX_PAYLOAD_SIZE);\n",
              "      const chunk = new Uint8Array(fileData, position, length);\n",
              "      position += length;\n",
              "\n",
              "      const base64 = btoa(String.fromCharCode.apply(null, chunk));\n",
              "      yield {\n",
              "        response: {\n",
              "          action: 'append',\n",
              "          file: file.name,\n",
              "          data: base64,\n",
              "        },\n",
              "      };\n",
              "\n",
              "      let percentDone = fileData.byteLength === 0 ?\n",
              "          100 :\n",
              "          Math.round((position / fileData.byteLength) * 100);\n",
              "      percent.textContent = `${percentDone}% done`;\n",
              "\n",
              "    } while (position < fileData.byteLength);\n",
              "  }\n",
              "\n",
              "  // All done.\n",
              "  yield {\n",
              "    response: {\n",
              "      action: 'complete',\n",
              "    }\n",
              "  };\n",
              "}\n",
              "\n",
              "scope.google = scope.google || {};\n",
              "scope.google.colab = scope.google.colab || {};\n",
              "scope.google.colab._files = {\n",
              "  _uploadFiles,\n",
              "  _uploadFilesContinue,\n",
              "};\n",
              "})(self);\n",
              "</script> "
            ],
            "text/plain": [
              "<IPython.core.display.HTML object>"
            ]
          },
          "metadata": {},
          "output_type": "display_data"
        },
        {
          "name": "stdout",
          "output_type": "stream",
          "text": [
            "Saving 1.ciphertext to 1.ciphertext\n",
            "Saving 1.pem to 1.pem\n",
            "Saving 2.ciphertext to 2.ciphertext\n",
            "Saving 2.pem to 2.pem\n",
            "Saving 3.ciphertext to 3.ciphertext\n",
            "Saving 3.pem to 3.pem\n",
            "Saving 4.ciphertext to 4.ciphertext\n",
            "Saving 4.pem to 4.pem\n",
            "Saving 5.ciphertext to 5.ciphertext\n",
            "Saving 5.pem to 5.pem\n",
            "Saving 6.ciphertext to 6.ciphertext\n",
            "Saving 6.pem to 6.pem\n",
            "Saving 7.ciphertext to 7.ciphertext\n",
            "Saving 7.pem to 7.pem\n",
            "Saving 8.ciphertext to 8.ciphertext\n",
            "Saving 8.pem to 8.pem\n",
            "Saving 9.ciphertext to 9.ciphertext\n",
            "Saving 9.pem to 9.pem\n",
            "Saving 10.ciphertext to 10.ciphertext\n",
            "Saving 10.pem to 10.pem\n",
            "Saving 11.ciphertext to 11.ciphertext\n",
            "Saving 11.pem to 11.pem\n",
            "Saving 12.ciphertext to 12.ciphertext\n",
            "Saving 12.pem to 12.pem\n",
            "Saving 13.ciphertext to 13.ciphertext\n",
            "Saving 13.pem to 13.pem\n",
            "Saving 14.ciphertext to 14.ciphertext\n",
            "Saving 14.pem to 14.pem\n",
            "Saving 15.ciphertext to 15.ciphertext\n",
            "Saving 15.pem to 15.pem\n",
            "Saving 16.ciphertext to 16.ciphertext\n",
            "Saving 16.pem to 16.pem\n",
            "Saving 17.ciphertext to 17.ciphertext\n",
            "Saving 17.pem to 17.pem\n",
            "Saving 18.ciphertext to 18.ciphertext\n",
            "Saving 18.pem to 18.pem\n",
            "Saving 19.ciphertext to 19.ciphertext\n",
            "Saving 19.pem to 19.pem\n",
            "Saving 20.ciphertext to 20.ciphertext\n",
            "Saving 20.pem to 20.pem\n",
            "Saving 21.ciphertext to 21.ciphertext\n",
            "Saving 21.pem to 21.pem\n",
            "Saving 22.ciphertext to 22.ciphertext\n",
            "Saving 22.pem to 22.pem\n",
            "Saving 23.ciphertext to 23.ciphertext\n",
            "Saving 23.pem to 23.pem\n",
            "Saving 24.ciphertext to 24.ciphertext\n",
            "Saving 24.pem to 24.pem\n",
            "Saving 25.ciphertext to 25.ciphertext\n",
            "Saving 25.pem to 25.pem\n",
            "Saving 26.ciphertext to 26.ciphertext\n",
            "Saving 26.pem to 26.pem\n",
            "Saving 27.ciphertext to 27.ciphertext\n",
            "Saving 27.pem to 27.pem\n",
            "Saving 28.ciphertext to 28.ciphertext\n",
            "Saving 28.pem to 28.pem\n",
            "Saving 29.ciphertext to 29.ciphertext\n",
            "Saving 29.pem to 29.pem\n",
            "Saving 30.ciphertext to 30.ciphertext\n",
            "Saving 30.pem to 30.pem\n",
            "Saving 31.ciphertext to 31.ciphertext\n",
            "Saving 31.pem to 31.pem\n",
            "Saving 32.ciphertext to 32.ciphertext\n",
            "Saving 32.pem to 32.pem\n",
            "Saving 33.ciphertext to 33.ciphertext\n",
            "Saving 33.pem to 33.pem\n",
            "Saving 34.ciphertext to 34.ciphertext\n",
            "Saving 34.pem to 34.pem\n",
            "Saving 35.ciphertext to 35.ciphertext\n",
            "Saving 35.pem to 35.pem\n",
            "Saving 36.ciphertext to 36.ciphertext\n",
            "Saving 36.pem to 36.pem\n",
            "Saving 37.ciphertext to 37.ciphertext\n",
            "Saving 37.pem to 37.pem\n",
            "Saving 38.ciphertext to 38.ciphertext\n",
            "Saving 38.pem to 38.pem\n",
            "Saving 39.ciphertext to 39.ciphertext\n",
            "Saving 39.pem to 39.pem\n",
            "Saving 40.ciphertext to 40.ciphertext\n",
            "Saving 40.pem to 40.pem\n",
            "Saving 41.ciphertext to 41.ciphertext\n",
            "Saving 41.pem to 41.pem\n",
            "Saving 42.ciphertext to 42.ciphertext\n",
            "Saving 42.pem to 42.pem\n",
            "Saving 43.ciphertext to 43.ciphertext\n",
            "Saving 43.pem to 43.pem\n",
            "Saving 44.ciphertext to 44.ciphertext\n",
            "Saving 44.pem to 44.pem\n",
            "Saving 45.ciphertext to 45.ciphertext\n",
            "Saving 45.pem to 45.pem\n",
            "Saving 46.ciphertext to 46.ciphertext\n",
            "Saving 46.pem to 46.pem\n",
            "Saving 47.ciphertext to 47.ciphertext\n",
            "Saving 47.pem to 47.pem\n",
            "Saving 48.ciphertext to 48.ciphertext\n",
            "Saving 48.pem to 48.pem\n",
            "Saving 49.ciphertext to 49.ciphertext\n",
            "Saving 49.pem to 49.pem\n",
            "Saving 50.ciphertext to 50.ciphertext\n",
            "Saving 50.pem to 50.pem\n",
            "User uploaded file \"1.ciphertext\" with length 512 bytes\n",
            "User uploaded file \"1.pem\" with length 451 bytes\n",
            "User uploaded file \"2.ciphertext\" with length 2048 bytes\n",
            "User uploaded file \"2.pem\" with length 1491 bytes\n",
            "User uploaded file \"3.ciphertext\" with length 512 bytes\n",
            "User uploaded file \"3.pem\" with length 451 bytes\n",
            "User uploaded file \"4.ciphertext\" with length 512 bytes\n",
            "User uploaded file \"4.pem\" with length 451 bytes\n",
            "User uploaded file \"5.ciphertext\" with length 384 bytes\n",
            "User uploaded file \"5.pem\" with length 361 bytes\n",
            "User uploaded file \"6.ciphertext\" with length 512 bytes\n",
            "User uploaded file \"6.pem\" with length 451 bytes\n",
            "User uploaded file \"7.ciphertext\" with length 2048 bytes\n",
            "User uploaded file \"7.pem\" with length 1491 bytes\n",
            "User uploaded file \"8.ciphertext\" with length 1024 bytes\n",
            "User uploaded file \"8.pem\" with length 800 bytes\n",
            "User uploaded file \"9.ciphertext\" with length 1024 bytes\n",
            "User uploaded file \"9.pem\" with length 800 bytes\n",
            "User uploaded file \"10.ciphertext\" with length 512 bytes\n",
            "User uploaded file \"10.pem\" with length 451 bytes\n",
            "User uploaded file \"11.ciphertext\" with length 512 bytes\n",
            "User uploaded file \"11.pem\" with length 451 bytes\n",
            "User uploaded file \"12.ciphertext\" with length 512 bytes\n",
            "User uploaded file \"12.pem\" with length 451 bytes\n",
            "User uploaded file \"13.ciphertext\" with length 2048 bytes\n",
            "User uploaded file \"13.pem\" with length 1491 bytes\n",
            "User uploaded file \"14.ciphertext\" with length 512 bytes\n",
            "User uploaded file \"14.pem\" with length 451 bytes\n",
            "User uploaded file \"15.ciphertext\" with length 1024 bytes\n",
            "User uploaded file \"15.pem\" with length 800 bytes\n",
            "User uploaded file \"16.ciphertext\" with length 512 bytes\n",
            "User uploaded file \"16.pem\" with length 451 bytes\n",
            "User uploaded file \"17.ciphertext\" with length 512 bytes\n",
            "User uploaded file \"17.pem\" with length 451 bytes\n",
            "User uploaded file \"18.ciphertext\" with length 512 bytes\n",
            "User uploaded file \"18.pem\" with length 451 bytes\n",
            "User uploaded file \"19.ciphertext\" with length 512 bytes\n",
            "User uploaded file \"19.pem\" with length 451 bytes\n",
            "User uploaded file \"20.ciphertext\" with length 1024 bytes\n",
            "User uploaded file \"20.pem\" with length 800 bytes\n",
            "User uploaded file \"21.ciphertext\" with length 2048 bytes\n",
            "User uploaded file \"21.pem\" with length 1491 bytes\n",
            "User uploaded file \"22.ciphertext\" with length 512 bytes\n",
            "User uploaded file \"22.pem\" with length 451 bytes\n",
            "User uploaded file \"23.ciphertext\" with length 384 bytes\n",
            "User uploaded file \"23.pem\" with length 361 bytes\n",
            "User uploaded file \"24.ciphertext\" with length 512 bytes\n",
            "User uploaded file \"24.pem\" with length 451 bytes\n",
            "User uploaded file \"25.ciphertext\" with length 512 bytes\n",
            "User uploaded file \"25.pem\" with length 451 bytes\n",
            "User uploaded file \"26.ciphertext\" with length 384 bytes\n",
            "User uploaded file \"26.pem\" with length 361 bytes\n",
            "User uploaded file \"27.ciphertext\" with length 512 bytes\n",
            "User uploaded file \"27.pem\" with length 451 bytes\n",
            "User uploaded file \"28.ciphertext\" with length 512 bytes\n",
            "User uploaded file \"28.pem\" with length 451 bytes\n",
            "User uploaded file \"29.ciphertext\" with length 512 bytes\n",
            "User uploaded file \"29.pem\" with length 451 bytes\n",
            "User uploaded file \"30.ciphertext\" with length 512 bytes\n",
            "User uploaded file \"30.pem\" with length 451 bytes\n",
            "User uploaded file \"31.ciphertext\" with length 512 bytes\n",
            "User uploaded file \"31.pem\" with length 451 bytes\n",
            "User uploaded file \"32.ciphertext\" with length 512 bytes\n",
            "User uploaded file \"32.pem\" with length 451 bytes\n",
            "User uploaded file \"33.ciphertext\" with length 384 bytes\n",
            "User uploaded file \"33.pem\" with length 361 bytes\n",
            "User uploaded file \"34.ciphertext\" with length 2048 bytes\n",
            "User uploaded file \"34.pem\" with length 1491 bytes\n",
            "User uploaded file \"35.ciphertext\" with length 512 bytes\n",
            "User uploaded file \"35.pem\" with length 451 bytes\n",
            "User uploaded file \"36.ciphertext\" with length 2048 bytes\n",
            "User uploaded file \"36.pem\" with length 1491 bytes\n",
            "User uploaded file \"37.ciphertext\" with length 2048 bytes\n",
            "User uploaded file \"37.pem\" with length 1491 bytes\n",
            "User uploaded file \"38.ciphertext\" with length 512 bytes\n",
            "User uploaded file \"38.pem\" with length 451 bytes\n",
            "User uploaded file \"39.ciphertext\" with length 512 bytes\n",
            "User uploaded file \"39.pem\" with length 451 bytes\n",
            "User uploaded file \"40.ciphertext\" with length 512 bytes\n",
            "User uploaded file \"40.pem\" with length 451 bytes\n",
            "User uploaded file \"41.ciphertext\" with length 384 bytes\n",
            "User uploaded file \"41.pem\" with length 357 bytes\n",
            "User uploaded file \"42.ciphertext\" with length 512 bytes\n",
            "User uploaded file \"42.pem\" with length 451 bytes\n",
            "User uploaded file \"43.ciphertext\" with length 512 bytes\n",
            "User uploaded file \"43.pem\" with length 451 bytes\n",
            "User uploaded file \"44.ciphertext\" with length 512 bytes\n",
            "User uploaded file \"44.pem\" with length 451 bytes\n",
            "User uploaded file \"45.ciphertext\" with length 512 bytes\n",
            "User uploaded file \"45.pem\" with length 451 bytes\n",
            "User uploaded file \"46.ciphertext\" with length 512 bytes\n",
            "User uploaded file \"46.pem\" with length 451 bytes\n",
            "User uploaded file \"47.ciphertext\" with length 512 bytes\n",
            "User uploaded file \"47.pem\" with length 451 bytes\n",
            "User uploaded file \"48.ciphertext\" with length 512 bytes\n",
            "User uploaded file \"48.pem\" with length 451 bytes\n",
            "User uploaded file \"49.ciphertext\" with length 512 bytes\n",
            "User uploaded file \"49.pem\" with length 451 bytes\n",
            "User uploaded file \"50.ciphertext\" with length 512 bytes\n",
            "User uploaded file \"50.pem\" with length 451 bytes\n"
          ]
        }
      ],
      "source": [
        "from google.colab import files\n",
        "\n",
        "uploaded = files.upload()\n",
        "\n",
        "for fn in uploaded.keys():\n",
        "  print('User uploaded file \"{name}\" with length {length} bytes'.format(\n",
        "      name=fn, length=len(uploaded[fn])))"
      ]
    },
    {
      "cell_type": "code",
      "execution_count": null,
      "id": "J1X4n68__uW9",
      "metadata": {
        "colab": {
          "base_uri": "https://localhost:8080/"
        },
        "id": "J1X4n68__uW9",
        "outputId": "ba7063e5-9f7b-40da-c411-0edd97489a54"
      },
      "outputs": [
        {
          "name": "stdout",
          "output_type": "stream",
          "text": [
            "20 33 919031168254299342928662994540730760042229248845820491699169870943314884504551963184014786520812939038906152950817942941469675496074887272906954399256046690838233813273902630076899906873722574023918253104149453601408405078374008695616160025877687382663027910687942091698042309812910101246025081363544171351624307177908410700904833438480012985928358897861427063761678614898919524867442676631453135379994570031284289815099294504127712924001149921480778993635917803466637717023744788311275545126346774536416864472035644211758788016642401235014385037912224180351022196262011724157012443048941426178651665266181311662824205620324073087330858064769424755443807165558567191049013947419763315902476674266627953223373671797370373786249718677582213173537848582863398367624397247597103174897140005790273296171101569756006898658668311846034013183862374297777882433967015111727139360441681664840944403450472574336901043555319067050153928231938431298082827397506406624964952344826628463723499263165279281720105570577138817805451223334196017505528543229067732013216932022575286870744622250293712218581458417969597311485156075637589299870500738770767213366940656708757081771498126771190548298648709527029056697749965377697006723247968508680596118923\n",
            "b\"crypto{3ucl1d_w0uld_b3_pr0ud} If you haven't already, check out https://eprint.iacr.org/2012/064.pdf\"\n"
          ]
        }
      ],
      "source": [
        "from Crypto.PublicKey import RSA\n",
        "from Crypto.Cipher import PKCS1_OAEP\n",
        "from Crypto.Util import number\n",
        "import gmpy2\n",
        "from itertools import combinations\n",
        "\n",
        "data = {'n': [], 'c': [], 'e': []}\n",
        "for i in range(1, 51):\n",
        "    key = RSA.importKey(open(f\"{i}.pem\", 'r').read())\n",
        "    cipher = open(f\"{i}.ciphertext\", 'r').read()\n",
        "    cipher = number.bytes_to_long(bytes.fromhex(cipher))\n",
        "    data['n'].append(key.n)\n",
        "    data['c'].append(cipher)\n",
        "    data['e'].append(key.e)\n",
        "\n",
        "common_factor = 0\n",
        "for i in range(len(data['n'])):\n",
        "    for j in range(i+1, len(data['n'])):\n",
        "        if i == j: continue\n",
        "        gcd = gmpy2.gcd(data['n'][i], data['n'][j])\n",
        "        if gcd != 1:\n",
        "            print(i, j, gcd)\n",
        "            common_factor = int(gcd)\n",
        "            index = i\n",
        "\n",
        "public_exponent = data['e'][index]\n",
        "prime_p = common_factor\n",
        "prime_q = data['n'][index] // common_factor\n",
        "phi = (prime_p - 1) * (prime_q - 1)\n",
        "private_exponent = number.inverse(public_exponent, phi)\n",
        "\n",
        "key = RSA.construct((data['n'][index], public_exponent, private_exponent))\n",
        "cipher_rsa = PKCS1_OAEP.new(key)\n",
        "encrypted_message = number.long_to_bytes(data['c'][index])\n",
        "decrypted_message = cipher_rsa.decrypt(encrypted_message)\n",
        "print(decrypted_message)\n",
        "\n"
      ]
    },
    {
      "cell_type": "markdown",
      "id": "yYU0x4Kb3PvZ",
      "metadata": {
        "id": "yYU0x4Kb3PvZ"
      },
      "source": [
        "**RSA Backdoor Viability**\n",
        "\n",
        "Parece que mi método para generar números primos rápidos no era completamente seguro. Se me ocurrió un nuevo enfoque para mejorar la seguridad, incluida una puerta trasera de factorización en caso de que alguna vez pierda mi clave privada. ¡Definitivamente necesitarás algunas técnicas complejas para solucionar esto!"
      ]
    },
    {
      "cell_type": "code",
      "execution_count": null,
      "id": "WFHeBPT39OqB",
      "metadata": {
        "colab": {
          "base_uri": "https://localhost:8080/"
        },
        "id": "WFHeBPT39OqB",
        "outputId": "ee37937f-c086-4c8e-a99c-fab086eafbb9"
      },
      "outputs": [
        {
          "name": "stdout",
          "output_type": "stream",
          "text": [
            "b'crypto{I_want_to_Break_Square-free_4p-1}'\n"
          ]
        }
      ],
      "source": [
        "\n",
        "from Crypto.Util.number import *\n",
        "\n",
        "n = 709872443186761582125747585668724501268558458558798673014673483766300964836479167241315660053878650421761726639872089885502004902487471946410918420927682586362111137364814638033425428214041019139158018673749256694555341525164012369589067354955298579131735466795918522816127398340465761406719060284098094643289390016311668316687808837563589124091867773655044913003668590954899705366787080923717270827184222673706856184434629431186284270269532605221507485774898673802583974291853116198037970076073697225047098901414637433392658500670740996008799860530032515716031449787089371403485205810795880416920642186451022374989891611943906891139047764042051071647203057520104267427832746020858026150611650447823314079076243582616371718150121483335889885277291312834083234087660399534665835291621232056473843224515909023120834377664505788329527517932160909013410933312572810208043849529655209420055180680775718614088521014772491776654380478948591063486615023605584483338460667397264724871221133652955371027085804223956104532604113969119716485142424996255737376464834315527822566017923598626634438066724763559943441023574575168924010274261376863202598353430010875182947485101076308406061724505065886990350185188453776162319552566614214624361251463\n",
        "e = 65537\n",
        "c = 608484617316138126443275660524263025508135383745665175433229598517433030003704261658172582370543758277685547533834085899541036156595489206369279739210904154716464595657421948607569920498815631503197235702333017824993576326860166652845334617579798536442066184953550975487031721085105757667800838172225947001224495126390587950346822978519677673568121595427827980195332464747031577431925937314209391433407684845797171187006586455012364702160988147108989822392986966689057906884691499234298351003666019957528738094330389775054485731448274595330322976886875528525229337512909952391041280006426003300720547721072725168500104651961970292771382390647751450445892361311332074663895375544959193148114635476827855327421812307562742481487812965210406231507524830889375419045542057858679609265389869332331811218601440373121797461318931976890674336807528107115423915152709265237590358348348716543683900084640921475797266390455366908727400038393697480363793285799860812451995497444221674390372255599514578194487523882038234487872223540513004734039135243849551315065297737535112525440094171393039622992561519170849962891645196111307537341194621689797282496281302297026025131743423205544193536699103338587843100187637572006174858230467771942700918388\n",
        "\n",
        "p = 34857423162121791604235470898471761566115159084585269586007822559458774716277164882510358869476293939176287610274899509786736824461740603618598549945273029479825290459062370424657446151623905653632181678065975472968242822859926902463043730644958467921837687772906975274812905594211460094944271575698004920372905721798856429806040099698831471709774099003441111568843449452407542799327467944685630258748028875103444760152587493543799185646692684032460858150960790495575921455423185709811342689185127936111993248778962219413451258545863084403721135633428491046474540472029592613134125767864006495572504245538373207974181\n",
        "q = n // p\n",
        "assert(n == p*q)\n",
        "\n",
        "d=inverse(e, (p-1)*(q-1))\n",
        "m=pow(c,d,n)\n",
        "print(long_to_bytes(m))"
      ]
    },
    {
      "cell_type": "code",
      "execution_count": null,
      "id": "vj5CcZwd-5jq",
      "metadata": {
        "colab": {
          "base_uri": "https://localhost:8080/"
        },
        "id": "vj5CcZwd-5jq",
        "outputId": "772b8e9d-bad2-48c1-c08d-31f6cce515bf"
      },
      "outputs": [
        {
          "name": "stdout",
          "output_type": "stream",
          "text": [
            "Collecting PyCryptodome\n",
            "  Downloading pycryptodome-3.19.1-cp35-abi3-manylinux_2_17_x86_64.manylinux2014_x86_64.whl (2.1 MB)\n",
            "\u001b[2K     \u001b[90m━━━━━━━━━━━━━━━━━━━━━━━━━━━━━━━━━━━━━━━━\u001b[0m \u001b[32m2.1/2.1 MB\u001b[0m \u001b[31m11.6 MB/s\u001b[0m eta \u001b[36m0:00:00\u001b[0m\n",
            "\u001b[?25hInstalling collected packages: PyCryptodome\n",
            "Successfully installed PyCryptodome-3.19.1\n",
            "Collecting crypto\n",
            "  Downloading crypto-1.4.1-py2.py3-none-any.whl (18 kB)\n",
            "Collecting Naked (from crypto)\n",
            "  Downloading Naked-0.1.32-py2.py3-none-any.whl (587 kB)\n",
            "\u001b[2K     \u001b[90m━━━━━━━━━━━━━━━━━━━━━━━━━━━━━━━━━━━━━━━━\u001b[0m \u001b[32m587.7/587.7 kB\u001b[0m \u001b[31m7.1 MB/s\u001b[0m eta \u001b[36m0:00:00\u001b[0m\n",
            "\u001b[?25hCollecting shellescape (from crypto)\n",
            "  Downloading shellescape-3.8.1-py2.py3-none-any.whl (3.1 kB)\n",
            "Requirement already satisfied: requests in /usr/local/lib/python3.10/dist-packages (from Naked->crypto) (2.31.0)\n",
            "Requirement already satisfied: pyyaml in /usr/local/lib/python3.10/dist-packages (from Naked->crypto) (6.0.1)\n",
            "Requirement already satisfied: charset-normalizer<4,>=2 in /usr/local/lib/python3.10/dist-packages (from requests->Naked->crypto) (3.3.2)\n",
            "Requirement already satisfied: idna<4,>=2.5 in /usr/local/lib/python3.10/dist-packages (from requests->Naked->crypto) (3.6)\n",
            "Requirement already satisfied: urllib3<3,>=1.21.1 in /usr/local/lib/python3.10/dist-packages (from requests->Naked->crypto) (2.0.7)\n",
            "Requirement already satisfied: certifi>=2017.4.17 in /usr/local/lib/python3.10/dist-packages (from requests->Naked->crypto) (2023.11.17)\n",
            "Installing collected packages: shellescape, Naked, crypto\n",
            "Successfully installed Naked-0.1.32 crypto-1.4.1 shellescape-3.8.1\n"
          ]
        }
      ],
      "source": [
        "!pip install PyCryptodome\n",
        "!pip install crypto"
      ]
    },
    {
      "cell_type": "markdown",
      "id": "8zoam5tEB0tM",
      "metadata": {
        "id": "8zoam5tEB0tM"
      },
      "source": [
        "# **PADDING**"
      ]
    },
    {
      "cell_type": "markdown",
      "id": "2BLe9yKEB_GN",
      "metadata": {
        "id": "2BLe9yKEB_GN"
      },
      "source": [
        "**Bespoke Padding**\n",
        "\n",
        "He estado preparando mi propio esquema de relleno, ¡ahora mi bandera cifrada es diferente cada vez!\n",
        "\n",
        "Conéctese en socket.cryptohack.org 13386"
      ]
    },
    {
      "cell_type": "code",
      "execution_count": null,
      "id": "o5LfqOJ75xSH",
      "metadata": {
        "colab": {
          "base_uri": "https://localhost:8080/"
        },
        "id": "o5LfqOJ75xSH",
        "outputId": "fcbd05ee-025f-4182-b578-d152255b38c3"
      },
      "outputs": [
        {
          "name": "stdout",
          "output_type": "stream",
          "text": [
            "Requirement already satisfied: sage in /usr/local/lib/python3.10/dist-packages (0.0.0)\n",
            "Collecting sagemath\n",
            "  Downloading sagemath-1.3.0.tar.gz (9.4 kB)\n",
            "  Preparing metadata (setup.py) ... \u001b[?25l\u001b[?25hdone\n",
            "Requirement already satisfied: cython>=0.26 in /usr/local/lib/python3.10/dist-packages (from sagemath) (3.0.7)\n",
            "Building wheels for collected packages: sagemath\n",
            "  Building wheel for sagemath (setup.py) ... \u001b[?25l\u001b[?25hdone\n",
            "  Created wheel for sagemath: filename=sagemath-1.3.0-py3-none-any.whl size=9325 sha256=5c1fcf8f2459513f14256047fd6c5eaa4ea46f98d9c0ff988bdb34c41f98db77\n",
            "  Stored in directory: /root/.cache/pip/wheels/39/e7/e8/d4c9978e654fcf6ca7832850c3a56118691c86f96c134c7421\n",
            "Successfully built sagemath\n",
            "Installing collected packages: sagemath\n",
            "Successfully installed sagemath-1.3.0\n"
          ]
        }
      ],
      "source": [
        "!pip install sage\n",
        "!pip install sagemath"
      ]
    },
    {
      "cell_type": "code",
      "execution_count": null,
      "id": "QpbgN5ayq88m",
      "metadata": {
        "id": "QpbgN5ayq88m"
      },
      "outputs": [],
      "source": [
        "from Crypto.Util.number import long_to_bytes\n",
        "from sympy import symbols, gcd, mod_inverse, Eq, solve\n",
        "\n",
        "def FranklinReiter(c1, c2, e, n, a1, b1, a2, b2):\n",
        "    x = symbols('x')\n",
        "    g1 = (a1*x + b1)**e - c1\n",
        "    g2 = (a2*x + b2)**e - c2\n",
        "    gcd_result = gcd(g1, g2)\n",
        "    m = -gcd_result.coeff(x, 0)\n",
        "    return m\n",
        "\n",
        "n = 16513150273488745819758318945465445929427923282220617948474026697826072849884410433840317590291164590606301920878166306100629001336979045875926362238578877426428184209782068217841561698268893281207281022882628671580544409079132228424570385789433865951296976542047938069538555185200454754405301473879058577591483273300132065945439952689462632448969760015421522358978863572507758617514279307992113676688788987384767873531588463072087737583220686506915075364580958023186096333340049114487946232564769897595127600679061991858554499358945100335619986316126901367151757694773827038242005563689706140134277497279550923802163\n",
        "a1 = 12971547059542234095294614655038910108921383446804620937171913894104315123703020491747060634311615668108873604447661547527993522223132139978046365817767051166630231776636365059125563542171499632449531108005444897410900841477831293648565180438324816667994353072194547726135161768865833107935141472738129346943372760468854044004065874712379448469666278516423795881542818175602189759347359757114386437400569740686015395353195882174948910859334443292433002434909568745424239403127792523066229466813140793214725997586482270739634637321902855765823212470124155976347852151938219301641131781157846722399123723376114259029831\n",
        "a2 = 114094571402424668191634278174790723851390333652300837187200472644344368982143843356362430550214601\n",
        "b1 = 613773303374507022635125910125983319338750375401989130365990413259288154566000703324060713319607895380155378987796575897467664632420947636683945281102489734850754988807647012567280983450240026466967889841627553095079976456551370938474121254303474971902286679389596876001000910960884922282188621864881761290594293008441025880989824356804970700431082846079890191931506602887887043528887971319087988804158703119751734009927979973925960770863614397143971164317388792822866081412005500649012213609335946463233073780263602030911938670236561006470408586945289329597277998553381709448864453473541694078648267392748834582252\n",
        "b2 = 7245336764065642365831393452728740971259540086539413152250152735097680656770883053121301756868403120057747916744486252696211015549651622729853667084757925620818125696929068279230499982176189345006819380287349525312659226629850801073542291406883057493574547827172032691058542944679744377049745014959702974586433436512158229732186188003523586580642660072595199641524912132047912202451913864667343923032170547546966317318202888765453746148175214759547020579293565449701710859329968082044811127071473458891831112124821354298656439918625782443712556979595318257093732638944778996223990718369734263769019010362606613357004\n",
        "c1 = 2878541770875479700538980645022489052652779838963883862268026817166426417039919463236963390507307046326634703872280537467067742696639787192609769488919052545419119190066398990783581947278798037910506277397947588285998093950003094089963329770140593314668635940754481257775804384229002369671108815582459118647674550606119347487983453986281116009756152816183799880182210660978656475507140675089458058265971296259258268207468501053946378749643676641269894890364588680663491615255661967214865581346385880401292197870553292664912420303380215004099980768844056280656081194235775166437263428384802474463548807865519344521028\n",
        "c2 = 9358116384757608317220706970044933224234531757534430486726495081731537172532063758197094588560146034813412820720481673323181357275640282880376945873337874973608627166040471894089735428062869998336412925856834427099792181042190148866392208300871274345910645764652104826046243088695635872852698560499075328079478071928766314699067332677717903138094289636247404854454155325144516881573563576396070030232748258930392036341155059002641951617271533252090371171187191825436351873340387567232507741852632380312374845945384752378753935677949921080187872070947832676605655712908147214739222055430858304648290542768856843645161\n",
        "e = 11\n",
        "\n",
        "bandera = FranklinReiter(c1, c2, e, n, a1, b1, a2, b2)\n",
        "#print(long_to_bytes(flag[-1].decode('utf-8')))\n",
        "print(bytes.fromhex(hex(bandera)[2:]).decode())"
      ]
    },
    {
      "cell_type": "markdown",
      "id": "cSXpoDggLLYo",
      "metadata": {
        "id": "cSXpoDggLLYo"
      },
      "source": [
        "**RTA:** crypto{linear_padding_isnt_padding}\n",
        "\n"
      ]
    },
    {
      "cell_type": "markdown",
      "id": "cOI82hJXCDQH",
      "metadata": {
        "id": "cOI82hJXCDQH"
      },
      "source": [
        "**Null or Never**\n",
        "\n",
        "¿Puede el relleno personalizado salvarlo de algunos de los errores que ya cubrimos?"
      ]
    },
    {
      "cell_type": "code",
      "execution_count": null,
      "id": "INcCJ1XnNzDb",
      "metadata": {
        "colab": {
          "base_uri": "https://localhost:8080/"
        },
        "id": "INcCJ1XnNzDb",
        "outputId": "27690b97-d215-4bab-ecbc-63709c74ec44"
      },
      "outputs": [
        {
          "name": "stdout",
          "output_type": "stream",
          "text": [
            "Collecting gmpy2\n",
            "  Downloading gmpy2-2.1.5-cp310-cp310-manylinux_2_17_x86_64.manylinux2014_x86_64.whl (1.7 MB)\n",
            "\u001b[2K     \u001b[90m━━━━━━━━━━━━━━━━━━━━━━━━━━━━━━━━━━━━━━━━\u001b[0m \u001b[32m1.7/1.7 MB\u001b[0m \u001b[31m16.8 MB/s\u001b[0m eta \u001b[36m0:00:00\u001b[0m\n",
            "\u001b[?25hInstalling collected packages: gmpy2\n",
            "Successfully installed gmpy2-2.1.5\n"
          ]
        }
      ],
      "source": [
        "!pip install gmpy2"
      ]
    },
    {
      "cell_type": "code",
      "execution_count": null,
      "id": "kRbrEBSbNurI",
      "metadata": {
        "colab": {
          "base_uri": "https://localhost:8080/"
        },
        "id": "kRbrEBSbNurI",
        "outputId": "b448bc69-b5a8-4d4b-fc9e-f3e084c0fddc"
      },
      "outputs": [
        {
          "name": "stdout",
          "output_type": "stream",
          "text": [
            "crypto{n0n_574nd4rd_p4d_c0n51d3r3d_h4rmful}\n"
          ]
        }
      ],
      "source": [
        "from gmpy2 import iroot\n",
        "\n",
        "def encontrar_raiz_cubica(c, n):\n",
        "    x = (c * pow(2, -8 * 57 * 3, n)) % n\n",
        "    for k in range(100):\n",
        "        m, exacto = iroot(x + k * n, 3)\n",
        "        if exacto:\n",
        "            return m\n",
        "    return None\n",
        "\n",
        "def buscar_bandera(c, n):\n",
        "    m = encontrar_raiz_cubica(c, n)\n",
        "    if m is not None:\n",
        "        bandera = bytes.fromhex(hex(m)[2:])\n",
        "        if b\"crypto\" in bandera:\n",
        "            return bandera.decode()\n",
        "    return None\n",
        "\n",
        "n = 95341235345618011251857577682324351171197688101180707030749869409235726634345899397258784261937590128088284421816891826202978052640992678267974129629670862991769812330793126662251062120518795878693122854189330426777286315442926939843468730196970939951374889986320771714519309125434348512571864406646232154103\n",
        "c = 63476139027102349822147098087901756023488558030079225358836870725611623045683759473454129221778690683914555720975250395929721681009556415292257804239149809875424000027362678341633901036035522299395660255954384685936351041718040558055860508481512479599089561391846007771856837130233678763953257086620228436828\n",
        "\n",
        "resultado = buscar_bandera(c, n)\n",
        "if resultado is not None:\n",
        "    print(resultado)\n",
        "else:\n",
        "    print(\"Bandera no encontrada.\")"
      ]
    },
    {
      "cell_type": "markdown",
      "id": "o1X2EsrpBq9s",
      "metadata": {
        "id": "o1X2EsrpBq9s"
      },
      "source": [
        "# **FIRMAS PARTE 1**"
      ]
    },
    {
      "cell_type": "markdown",
      "id": "g2CJi0DcCUD_",
      "metadata": {
        "id": "g2CJi0DcCUD_"
      },
      "source": [
        "**Signing Server**\n",
        "\n",
        "Mi jefe tiene tantos correos electrónicos que configuró un servidor para firmar todo automáticamente. También almacena mensajes cifrados para sí mismo para facilitar el acceso. Me pregunto qué habrá estado diciendo.\n",
        "\n",
        "Conéctese en socket.cryptohack.org 13374"
      ]
    },
    {
      "cell_type": "code",
      "execution_count": null,
      "id": "vwY20PQFOrLu",
      "metadata": {
        "colab": {
          "base_uri": "https://localhost:8080/"
        },
        "id": "vwY20PQFOrLu",
        "outputId": "b3418941-4b6d-43d3-e79e-bb2841726b7c"
      },
      "outputs": [
        {
          "name": "stdout",
          "output_type": "stream",
          "text": [
            "TODO: audit signing server to make sure that meddling hacker doesn't get hold of my secret flag: crypto{d0n7_516n_ju57_4ny7h1n6}\n"
          ]
        }
      ],
      "source": [
        "import socket\n",
        "import json\n",
        "\n",
        "def obtener_firma():\n",
        "    HOST, PORT = 'socket.cryptohack.org', 13374\n",
        "\n",
        "    with socket.create_connection((HOST, PORT)) as s:\n",
        "        s.recv(1024)  # Recibir el mensaje inicial\n",
        "        s.sendall(json.dumps({\"option\": \"get_secret\"}).encode())\n",
        "        secreto = json.loads(s.recv(1024))[\"secret\"]\n",
        "        s.sendall(json.dumps({\"option\": \"sign\", \"msg\": secreto}).encode())\n",
        "        firma = json.loads(s.recv(1024))[\"signature\"]  # Recibir la firma\n",
        "\n",
        "    print(bytes.fromhex(firma[2:]).decode())\n",
        "\n",
        "if __name__ == \"__main__\":\n",
        "    obtener_firma()"
      ]
    },
    {
      "cell_type": "markdown",
      "id": "kJo6ZEYbCYkw",
      "metadata": {
        "id": "kJo6ZEYbCYkw"
      },
      "source": [
        "**Let's Decrypt**\n",
        "\n",
        "Si puede demostrar que es propietario de CryptoHack.org, tendrá acceso a uno de nuestros secretos.\n",
        "\n",
        "Conéctese en socket.cryptohack.org 13391"
      ]
    },
    {
      "cell_type": "code",
      "execution_count": null,
      "id": "Wn2Z8SS7ux9c",
      "metadata": {
        "id": "Wn2Z8SS7ux9c"
      },
      "outputs": [],
      "source": [
        "!pip install pkcs1"
      ]
    },
    {
      "cell_type": "code",
      "execution_count": null,
      "id": "L1kM4TJGC5x6",
      "metadata": {
        "colab": {
          "base_uri": "https://localhost:8080/"
        },
        "id": "L1kM4TJGC5x6",
        "outputId": "220605ab-7b19-4508-acba-2d0922d01d48"
      },
      "outputs": [
        {
          "name": "stdout",
          "output_type": "stream",
          "text": [
            "Error al decodificar JSON: Expecting value: line 1 column 1 (char 0)\n",
            "{'N': '0x80a5b8245992f64d2d11f1279a88d23dd76594fa0a37427e55482c819fe6eb727f7cde0a715c018f8e3c98cc721ff1f779e8c704f3ad2ce877eaecf680c7105685581ac1dc8d5040d602a47d8dba333e787599a7528154f8f72581f1119c1c1267078e8bfb4e2a67b00ad13827660381b8105590a72b7d1fa45bdd2c07cc12ab2d8f7c6578178e93aac1a29ccdd1ecbeeafa25fa425988376384f745a7613af437ad235826d7d1499a0b2e83401ce0781fb85aa801ae9c43a9f79b2bd4bc8817a2a0725272e847e3b397e1d27b86fa0ba038b2704534a98a12e5e133f2358521ee0ee59a892928543c4a71460cadc2c89e011b019c2094ca6d17a0c143dc9297', 'e': '0x10001', 'signature': '0x55c231eebc642cd1e44199e10937ee8b9e93c0c2d10a18b7b53a207fb1ddd4e6c2e08368a1943187bb1efe0378567340a0851710c426f609aa79d3b5bb3f8efe7f531cfdb54a9fba9e77e3ca2adcecdc299ebf601bd8926dd6ed4e7e71f96ef61cc041159eb0584ff4ce9f0d9e5cb49a91ba15226740f378340e40805aff2e20e275b783aa43a0ac670ec1af2d4e834acceda189add6ed7daf64ed8f9f9718f030c8a7d64afee7cf33beef5f790611eaef40e7c978e2355f3039a6df4f38113ce83ed669a733ce6a93e1fb04fdd6c28815beb6b62f886a47150fbdd34668aa7ff55787874a7b6787a5942da4d73b3197eb792b39d0e338f48fc5f4c01a16a178'}\n",
            "<re.Match object; span=(0, 31), match='I am Mallory own CryptoHack.org'>\n",
            "{'msg': \"Congratulations, here's a secret: crypto{dupl1c4t3_s1gn4tur3_k3y_s3l3ct10n}\"}\n"
          ]
        }
      ],
      "source": [
        "import json\n",
        "import re\n",
        "import socket\n",
        "from Crypto.Util.number import bytes_to_long, long_to_bytes\n",
        "from pkcs1 import emsa_pkcs1_v15\n",
        "\n",
        "# Configura la conexión al servidor\n",
        "HOST = \"socket.cryptohack.org\"\n",
        "PORT = 13391\n",
        "BUFFER_SIZE = 1024\n",
        "\n",
        "# Crea el socket\n",
        "sock = socket.socket(socket.AF_INET, socket.SOCK_STREAM)\n",
        "sock.connect((HOST, PORT))\n",
        "\n",
        "def enviar_json(data):\n",
        "    request = json.dumps(data).encode()\n",
        "    sock.sendall(request + b'\\n')\n",
        "\n",
        "def recibir_json():\n",
        "    buffer = b''\n",
        "    while True:\n",
        "        data = sock.recv(BUFFER_SIZE)\n",
        "        if not data:\n",
        "            break\n",
        "        buffer += data\n",
        "        if b'\\n' in buffer:\n",
        "            break\n",
        "    try:\n",
        "        return json.loads(buffer.decode())\n",
        "    except json.JSONDecodeError as e:\n",
        "        print(\"Error al decodificar JSON:\", e)\n",
        "        return None\n",
        "\n",
        "r_line = recibir_json()\n",
        "enviar_json({\"option\": \"get_signature\"})\n",
        "line = recibir_json()\n",
        "print(line)\n",
        "\n",
        "msg = \"I am Mallory own CryptoHack.org\"\n",
        "rr = re.match(r'^I am Mallory.*own CryptoHack.org$', msg)\n",
        "print(rr)\n",
        "\n",
        "digest = emsa_pkcs1_v15.encode(msg.encode(), 256)\n",
        "enviar_json({\n",
        "    \"option\": \"verify\",\n",
        "    \"msg\": msg,\n",
        "    \"N\": hex(int(line[\"signature\"], 16) - bytes_to_long(digest)),\n",
        "    \"e\": hex(1)\n",
        "})\n",
        "\n",
        "received = recibir_json()\n",
        "print(received)"
      ]
    },
    {
      "cell_type": "markdown",
      "id": "uZzD6RtsCYuB",
      "metadata": {
        "id": "uZzD6RtsCYuB"
      },
      "source": [
        "**Blinding Light**\n",
        "\n",
        "Aquí está mi servidor de verificación y firma de tokens. No estoy seguro de que esté firmando correctamente, pero he implementado algunas medidas de seguridad para garantizar que no entregue tokens de administrador a cualquiera.\n",
        "\n",
        "Conéctese en socket.cryptohack.org 13376"
      ]
    },
    {
      "cell_type": "code",
      "execution_count": null,
      "id": "NNHkxHPEQV7V",
      "metadata": {
        "colab": {
          "base_uri": "https://localhost:8080/"
        },
        "id": "NNHkxHPEQV7V",
        "outputId": "47afb860-3158-4f6c-f6bb-71377a078755"
      },
      "outputs": [
        {
          "name": "stdout",
          "output_type": "stream",
          "text": [
            "crypto{m4ll34b1l17y_c4n_b3_d4n63r0u5}\n"
          ]
        }
      ],
      "source": [
        "import json\n",
        "import socket\n",
        "from Crypto.Util.number import bytes_to_long, long_to_bytes\n",
        "\n",
        "a1 = 211578328037\n",
        "a2 = 2173767566209\n",
        "\n",
        "HOST = 'socket.cryptohack.org'\n",
        "PORT = 13376\n",
        "\n",
        "with socket.create_connection((HOST, PORT)) as conn:\n",
        "    data = conn.recv(1024).decode()\n",
        "\n",
        "    # Obtener clave pública\n",
        "    resp = {'option': 'get_pubkey'}\n",
        "    conn.sendall(json.dumps(resp).encode())\n",
        "    data = json.loads(conn.recv(1024).decode())\n",
        "    N = bytes_to_long(bytes.fromhex(data['N'][2:]))\n",
        "\n",
        "    # Firmar a1\n",
        "    resp = {'option': 'sign', 'msg': long_to_bytes(a1).hex()}\n",
        "    conn.sendall(json.dumps(resp).encode())\n",
        "    data = json.loads(conn.recv(1024).decode())\n",
        "    s1 = bytes_to_long(bytes.fromhex(data['signature'][2:]))\n",
        "\n",
        "    # Firmar a2\n",
        "    resp = {'option': 'sign', 'msg': long_to_bytes(a2).hex()}\n",
        "    conn.sendall(json.dumps(resp).encode())\n",
        "    data = json.loads(conn.recv(1024).decode())\n",
        "    s2 = bytes_to_long(bytes.fromhex(data['signature'][2:]))\n",
        "\n",
        "    # Calcular la firma combinada\n",
        "    signature = (s1 * s2) % N\n",
        "\n",
        "    # Verificar la firma\n",
        "    resp = {'option': 'verify', 'msg': b'admin=True'.hex(), 'signature': long_to_bytes(signature).hex()}\n",
        "    conn.sendall(json.dumps(resp).encode())\n",
        "    data = json.loads(conn.recv(1024).decode())\n",
        "\n",
        "    print(data['response'])"
      ]
    },
    {
      "cell_type": "markdown",
      "id": "9Ip5YfGHBxUz",
      "metadata": {
        "id": "9Ip5YfGHBxUz"
      },
      "source": [
        "# **FIRMAS PARTE 2**"
      ]
    },
    {
      "cell_type": "markdown",
      "id": "1D4yWbVeBz6U",
      "metadata": {
        "id": "1D4yWbVeBz6U"
      },
      "source": [
        "**Vote for Pedro**\n",
        "\n",
        "¡Si quieres mi bandera, será mejor que votes por Pedro! ¿Puedes firmar tu voto en el servidor como Alice?\n",
        "\n",
        "Conéctese en socket.cryptohack.org 13375"
      ]
    },
    {
      "cell_type": "code",
      "execution_count": null,
      "id": "WBtbZ_z0SmfB",
      "metadata": {
        "colab": {
          "base_uri": "https://localhost:8080/"
        },
        "id": "WBtbZ_z0SmfB",
        "outputId": "ff4c179a-065b-451d-a677-a86a27b3a4c2"
      },
      "outputs": [
        {
          "name": "stdout",
          "output_type": "stream",
          "text": [
            "crypto{y0ur_v0t3_i5_my_v0t3}\n"
          ]
        }
      ],
      "source": [
        "import socket\n",
        "import json\n",
        "\n",
        "HOST = 'socket.cryptohack.org'\n",
        "PORT = 13375\n",
        "\n",
        "with socket.create_connection((HOST, PORT)) as s:\n",
        "    s.recv(1024)\n",
        "    #Enviar datos al servidor\n",
        "    envi = {\"option\": \"vote\", \"vote\": \"a4c46bfb65e7eccc4e76a1ce2afc6f\"}\n",
        "    s.sendall(json.dumps(envi).encode())\n",
        "    flag = json.loads(s.recv(1024).decode())['flag']\n",
        "    print(flag)\n"
      ]
    },
    {
      "cell_type": "markdown",
      "id": "jyCjo1W8Cg_w",
      "metadata": {
        "id": "jyCjo1W8Cg_w"
      },
      "source": [
        "**Let's Decrypt Again**\n",
        "\n",
        "¡Let's Decrypt fue demasiado fácil, hagámoslo de nuevo!\n",
        "\n",
        "Conéctese en socket.cryptohack.org 13394"
      ]
    },
    {
      "cell_type": "code",
      "execution_count": null,
      "id": "TmEEBQ4pC7eD",
      "metadata": {
        "id": "TmEEBQ4pC7eD"
      },
      "outputs": [],
      "source": [
        "import hashlib\n",
        "import re\n",
        "import secrets\n",
        "from Crypto.Util.number import bytes_to_long, long_to_bytes, getPrime, inverse, isPrime\n",
        "from Crypto.PublicKey import RSA\n",
        "import json\n",
        "import socket\n",
        "#from params import N, E, D\n",
        "\n",
        "def emsa_pkcs1_v15_encode(message, length):\n",
        "    digest = hashlib.sha1(message).digest()\n",
        "    block_type = b'\\x01'\n",
        "    padding = b'\\xff' * (length - len(digest) - 3)\n",
        "    em = b'\\x00' + block_type + padding + b'\\x00' + digest\n",
        "    return em\n",
        "\n",
        "FLAG = b\"crypto{????????????????????????????????????}\"\n",
        "\n",
        "BIT_LENGTH = 768\n",
        "MSG = b'We are hyperreality and Jack and we own CryptoHack.org'\n",
        "DIGEST = emsa_pkcs1_v15_encode(MSG, BIT_LENGTH // 8)\n",
        "SIGNATURE = pow(bytes_to_long(DIGEST), D, N)\n",
        "BTC_PAT = re.compile(\"^Please send all my money to ([1-9A-HJ-NP-Za-km-z]+)$\")\n",
        "\n",
        "def xor(a, b):\n",
        "    assert len(a) == len(b)\n",
        "    return bytes(x ^ y for x, y in zip(a, b))\n",
        "\n",
        "def btc_check(msg):\n",
        "    alpha = \"123456789ABCDEFGHJKLMNPQRSTUVWXYZabcdefghijkmnopqrstuvwxyz\"\n",
        "    addr = BTC_PAT.match(msg)\n",
        "    if not addr:\n",
        "        return False\n",
        "    addr = addr.group(1)\n",
        "    raw = b\"\\0\" * (len(addr) - len(addr.lstrip(alpha[0])))\n",
        "    res = 0\n",
        "    for c in addr:\n",
        "        res *= 58\n",
        "        res += alpha.index(c)\n",
        "    raw += long_to_bytes(res)\n",
        "\n",
        "    if len(raw) != 25:\n",
        "        return False\n",
        "    if raw[0] not in [0, 5]:\n",
        "        return False\n",
        "    return raw[-4:] == hashlib.sha256(hashlib.sha256(raw[:-4]).digest()).digest()[:4]\n",
        "\n",
        "PATTERNS = [\n",
        "    re.compile(r\"^This is a test(.*)for a fake signature.$\").match,\n",
        "    re.compile(r\"^My name is ([a-zA-Z\\s]+) and I own CryptoHack.org$\").match,\n",
        "    btc_check\n",
        "]\n",
        "\n",
        "def main():\n",
        "    HOST = 'socket.cryptohack.org'\n",
        "    PORT = 13394\n",
        "    sock = socket.socket(socket.AF_INET, socket.SOCK_STREAM)\n",
        "    sock.connect((HOST, PORT))\n",
        "    pubkey = \"your_public_key_here\"\n",
        "    sock.sendall(f\"set_pubkey {pubkey}\\n\".encode())\n",
        "    response = sock.recv(1024)"
      ]
    },
    {
      "cell_type": "code",
      "execution_count": null,
      "id": "BNMOMftxTlWE",
      "metadata": {
        "id": "BNMOMftxTlWE"
      },
      "outputs": [],
      "source": [
        "import json\n",
        "import socket\n",
        "from Crypto.Util.number import inverse\n",
        "from Crypto.PublicKey import RSA\n",
        "from Crypto.Signature import pkcs1_15\n",
        "from Crypto.Hash import SHA256\n",
        "\n",
        "def xor_bytes(b1, b2):\n",
        "    return bytes(x ^ y for x, y in zip(b1, b2))\n",
        "\n",
        "def solve(msg, idx):\n",
        "    suffix_len = len(suffix)\n",
        "    for e in range(2**16):\n",
        "        forged_msg = (msg + suffix).encode()\n",
        "        forged_digest = pow(int.from_bytes(SHA256.new(forged_msg).digest(), byteorder='big'), e, n)\n",
        "        forged_signature = hex(forged_digest)[2:]\n",
        "        conn.sendall(json.dumps({'option': 'claim', 'msg': msg + suffix, 'e': hex(e), 'index': int(idx)}).encode())\n",
        "        response = json.loads(conn.recv(1024))\n",
        "        if 'flag' in response:\n",
        "            return int(bytes.fromhex(response['flag']))\n",
        "    return None\n",
        "\n",
        "# Public key parameters\n",
        "n = 1000120007020266767402749898742219793970297020432528956049530793865219680313442335799796740977248798869240976808292142421700982073722069461150446330334899583118911948842763629030864693933380584918689773987802449535745833592107844509736928801\n",
        "\n",
        "# Connect to the server\n",
        "conn = socket.create_connection(('socket.cryptohack.org', 13394))\n",
        "conn.recv(1024)\n",
        "\n",
        "conn.sendall(json.dumps({'option': 'set_pubkey', 'pubkey': hex(n)}).encode())\n",
        "suffix = json.loads(conn.recv(1024))['suffix']\n",
        "\n",
        "# Sign messages\n",
        "s1 = bytes.fromhex(solve('This is a test for a fake signature.', 0))\n",
        "s2 = bytes.fromhex(solve('My name is kenny and I own CryptoHack.org', 1))\n",
        "s3 = bytes.fromhex(solve('Please send all my money to 1BoatSLRHtKNngkdXEeobR76b53LETtpyT', 2))\n",
        "\n",
        "result = xor_bytes(xor_bytes(s1, s2), s3)\n",
        "print(result.decode())\n",
        "\n",
        "conn.close()"
      ]
    },
    {
      "cell_type": "markdown",
      "id": "ChhQzAK49lvH",
      "metadata": {
        "id": "ChhQzAK49lvH"
      },
      "source": [
        "**Enlace de Ejercicios en collab:**\n",
        "\n",
        "https://colab.research.google.com/drive/1sXqWl5i7bmyhCrmtpzyWdDKNPOGx37AN?usp=sharing"
      ]
    }
  ],
  "metadata": {
    "colab": {
      "provenance": []
    },
    "kernelspec": {
      "display_name": "Python 3 (ipykernel)",
      "language": "python",
      "name": "python3"
    },
    "language_info": {
      "codemirror_mode": {
        "name": "ipython",
        "version": 3
      },
      "file_extension": ".py",
      "mimetype": "text/x-python",
      "name": "python",
      "nbconvert_exporter": "python",
      "pygments_lexer": "ipython3",
      "version": "3.11.4"
    }
  },
  "nbformat": 4,
  "nbformat_minor": 5
}
