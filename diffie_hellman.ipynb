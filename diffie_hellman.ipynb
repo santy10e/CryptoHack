{
  "cells": [
    {
      "cell_type": "markdown",
      "id": "00ffcc07",
      "metadata": {
        "id": "00ffcc07"
      },
      "source": [
        "Diffie-Hellman Starter 1"
      ]
    },
    {
      "cell_type": "code",
      "execution_count": null,
      "id": "e5d0831d",
      "metadata": {
        "id": "e5d0831d",
        "outputId": "0e93e27b-4814-421d-8514-67452e838cea"
      },
      "outputs": [
        {
          "name": "stdout",
          "output_type": "stream",
          "text": [
            "El elemento inverso d tal que g * d mod 991 = 1 es: 569\n"
          ]
        }
      ],
      "source": [
        "def find_inverse_element(g, p):\n",
        "    for d in range(1, p):\n",
        "        if (g * d) % p == 1:\n",
        "            return d\n",
        "    return None\n",
        "\n",
        "# Dado el primo p y el elemento g\n",
        "p = 991\n",
        "g = 209\n",
        "\n",
        "# Encontrar el elemento inverso d\n",
        "elemento_inverso = find_inverse_element(g, p)\n",
        "print(\"El elemento inverso d tal que g * d mod 991 = 1 es:\", elemento_inverso)\n"
      ]
    },
    {
      "cell_type": "markdown",
      "id": "b43e33e7",
      "metadata": {
        "id": "b43e33e7"
      },
      "source": [
        "Diffie-Hellman Starter 2"
      ]
    },
    {
      "cell_type": "code",
      "execution_count": null,
      "id": "ead4ef43",
      "metadata": {
        "id": "ead4ef43",
        "outputId": "7720e4ee-f309-4714-a4f5-4af4b12ffa22"
      },
      "outputs": [
        {
          "name": "stdout",
          "output_type": "stream",
          "text": [
            "2 14075\n",
            "3 14075\n",
            "4 14075\n",
            "5 14075\n",
            "6 14075\n",
            "7 28150\n",
            "Result: 7\n"
          ]
        }
      ],
      "source": [
        "n = 28151\n",
        "for i in range(2,n):\n",
        "    x = i\n",
        "    cnt = 1\n",
        "    while True:\n",
        "        x = x * i % n\n",
        "        cnt += 1\n",
        "        if x == 1:\n",
        "            break\n",
        "    print(i, cnt)\n",
        "    if cnt == n-1:\n",
        "        print(\"Result:\", i)\n",
        "        break"
      ]
    },
    {
      "cell_type": "markdown",
      "id": "910f10fd",
      "metadata": {
        "id": "910f10fd"
      },
      "source": [
        "Diffie-Hellman Starter 3"
      ]
    },
    {
      "cell_type": "code",
      "execution_count": null,
      "id": "7187073d",
      "metadata": {
        "id": "7187073d",
        "outputId": "b86d3e81-ff83-4809-b7d2-37638028548f"
      },
      "outputs": [
        {
          "name": "stdout",
          "output_type": "stream",
          "text": [
            "1806857697840726523322586721820911358489420128129248078673933653533930681676181753849411715714173604352323556558783759252661061186320274214883104886050164368129191719707402291577330485499513522368289395359523901406138025022522412429238971591272160519144672389532393673832265070057319485399793101182682177465364396277424717543434017666343807276970864475830391776403957550678362368319776566025118492062196941451265638054400177248572271342548616103967411990437357924\n"
          ]
        }
      ],
      "source": [
        "g= 2\n",
        "p= 2410312426921032588552076022197566074856950548502459942654116941958108831682612228890093858261341614673227141477904012196503648957050582631942730706805009223062734745341073406696246014589361659774041027169249453200378729434170325843778659198143763193776859869524088940195577346119843545301547043747207749969763750084308926339295559968882457872412993810129130294592999947926365264059284647209730384947211681434464714438488520940127459844288859336526896320919633919\n",
        "a= 972107443837033796245864316200458246846904598488981605856765890478853088246897345487328491037710219222038930943365848626194109830309179393018216763327572120124760140018038673999837643377590434413866611132403979547150659053897355593394492586978400044375465657296027592948349589216415363722668361328689588996541370097559090335137676411595949335857341797148926151694299575970292809805314431447043469447485957669949989090202320234337890323293401862304986599884732815\n",
        "print(pow(g,a,p))"
      ]
    },
    {
      "cell_type": "markdown",
      "id": "d2ec51a0",
      "metadata": {
        "id": "d2ec51a0"
      },
      "source": [
        "Diffie-Hellman Starter 4"
      ]
    },
    {
      "cell_type": "code",
      "execution_count": null,
      "id": "056c56c3",
      "metadata": {
        "id": "056c56c3",
        "outputId": "30528157-0e9a-4603-c81f-798955109c74"
      },
      "outputs": [
        {
          "name": "stdout",
          "output_type": "stream",
          "text": [
            "1174130740413820656533832746034841985877302086316388380165984436672307692443711310285014138545204369495478725102882673427892104539120952393788961051992901649694063179853598311473820341215879965343136351436410522850717408445802043003164658348006577408558693502220285700893404674592567626297571222027902631157072143330043118418467094237965591198440803970726604537807146703763571606861448354607502654664700390453794493176794678917352634029713320615865940720837909466\n"
          ]
        }
      ],
      "source": [
        "A = 70249943217595468278554541264975482909289174351516133994495821400710625291840101960595720462672604202133493023241393916394629829526272643847352371534839862030410331485087487331809285533195024369287293217083414424096866925845838641840923193480821332056735592483730921055532222505605661664236182285229504265881752580410194731633895345823963910901731715743835775619780738974844840425579683385344491015955892106904647602049559477279345982530488299847663103078045601\n",
        "b = 12019233252903990344598522535774963020395770409445296724034378433497976840167805970589960962221948290951873387728102115996831454482299243226839490999713763440412177965861508773420532266484619126710566414914227560103715336696193210379850575047730388378348266180934946139100479831339835896583443691529372703954589071507717917136906770122077739814262298488662138085608736103418601750861698417340264213867753834679359191427098195887112064503104510489610448294420720\n",
        "p = 2410312426921032588552076022197566074856950548502459942654116941958108831682612228890093858261341614673227141477904012196503648957050582631942730706805009223062734745341073406696246014589361659774041027169249453200378729434170325843778659198143763193776859869524088940195577346119843545301547043747207749969763750084308926339295559968882457872412993810129130294592999947926365264059284647209730384947211681434464714438488520940127459844288859336526896320919633919\n",
        "print(pow(A,b,p))"
      ]
    },
    {
      "cell_type": "markdown",
      "id": "36a6c5c3",
      "metadata": {
        "id": "36a6c5c3"
      },
      "source": [
        "Diffie-Hellman Starter 5"
      ]
    },
    {
      "cell_type": "code",
      "execution_count": null,
      "id": "7c9be2d8",
      "metadata": {
        "id": "7c9be2d8",
        "outputId": "ca9c7dc3-77e9-4683-e3f4-3563f2a2d398"
      },
      "outputs": [
        {
          "name": "stdout",
          "output_type": "stream",
          "text": [
            "crypto{sh4r1ng_s3cret5_w1th_fr13nd5}\n"
          ]
        }
      ],
      "source": [
        "from Crypto.Cipher import AES\n",
        "from Crypto.Util.Padding import pad, unpad\n",
        "import hashlib\n",
        "from json import loads, dumps\n",
        "from pwn import remote\n",
        "\n",
        "\n",
        "def is_pkcs7_padded(message):\n",
        "    padding = message[-message[-1]:]\n",
        "    return all(padding[i] == len(padding) for i in range(0, len(padding)))\n",
        "\n",
        "\n",
        "def decrypt_flag(shared_secret: int, iv: str, ciphertext: str):\n",
        "    sha1 = hashlib.sha1()\n",
        "    sha1.update(str(shared_secret).encode('ascii'))\n",
        "    key = sha1.digest()[:16]\n",
        "    ciphertext = bytes.fromhex(ciphertext)\n",
        "    iv = bytes.fromhex(iv)\n",
        "    cipher = AES.new(key, AES.MODE_CBC, iv)\n",
        "    plaintext = cipher.decrypt(ciphertext)\n",
        "\n",
        "    if is_pkcs7_padded(plaintext):\n",
        "        return unpad(plaintext, 16).decode('ascii')\n",
        "    else:\n",
        "        return plaintext.decode('ascii')\n",
        "\n",
        "g = 2\n",
        "p = 2410312426921032588552076022197566074856950548502459942654116941958108831682612228890093858261341614673227141477904012196503648957050582631942730706805009223062734745341073406696246014589361659774041027169249453200378729434170325843778659198143763193776859869524088940195577346119843545301547043747207749969763750084308926339295559968882457872412993810129130294592999947926365264059284647209730384947211681434464714438488520940127459844288859336526896320919633919\n",
        "\n",
        "A = 112218739139542908880564359534373424013016249772931962692237907571990334483528877513809272625610512061159061737608547288558662879685086684299624481742865016924065000555267977830144740364467977206555914781236397216033805882207640219686011643468275165718132888489024688846101943642459655423609111976363316080620471928236879737944217503462265615774774318986375878440978819238346077908864116156831874695817477772477121232820827728424890845769152726027520772901423784\n",
        "\n",
        "b = 197395083814907028991785772714920885908249341925650951555219049411298436217190605190824934787336279228785809783531814507661385111220639329358048196339626065676869119737979175531770768861808581110311903548567424039264485661330995221907803300824165469977099494284722831845653985392791480264712091293580274947132480402319812110462641143884577706335859190668240694680261160210609506891842793868297672619625924001403035676872189455767944077542198064499486164431451944\n",
        "\n",
        "shared_secret = pow(A, b, p)\n",
        "\n",
        "iv = \"737561146ff8194f45290f5766ed6aba\"\n",
        "ciphertext = \"39c99bf2f0c14678d6a5416faef954b5893c316fc3c48622ba1fd6a9fe85f3dc72a29c394cf4bc8aff6a7b21cae8e12c\"\n",
        "\n",
        "print(decrypt_flag(shared_secret, iv, ciphertext))"
      ]
    },
    {
      "cell_type": "markdown",
      "id": "8afdb19a",
      "metadata": {
        "id": "8afdb19a"
      },
      "source": [
        "Parameter Injection"
      ]
    },
    {
      "cell_type": "code",
      "execution_count": null,
      "id": "693a83c6",
      "metadata": {
        "colab": {
          "base_uri": "https://localhost:8080/"
        },
        "id": "693a83c6",
        "outputId": "c6573a39-b90a-415e-92e6-8b9e9a93562a"
      },
      "outputs": [
        {
          "output_type": "stream",
          "name": "stdout",
          "text": [
            "Flag es : crypto{n1c3_0n3_m4ll0ry!!!!!!!!}\n"
          ]
        }
      ],
      "source": [
        "import socket\n",
        "import json\n",
        "import hashlib\n",
        "from Crypto.Cipher import AES\n",
        "\n",
        "def duh(s):\n",
        "    s.connect((HOST,PORT))\n",
        "    s.recv(1024)\n",
        "    data = s.recv(804)\n",
        "    data2 = json.loads(data)\n",
        "    p = int(data2['p'],16)\n",
        "    A = int(data2['A'],16)\n",
        "    # print(\"P is : \" , p ,\"\\ng is :\",g,\"\\nA is : \",A)\n",
        "    s.recv(100)\n",
        "\n",
        "\n",
        "    s.send(data)\n",
        "    s.recv(1024)\n",
        "    data3 = s.recv(404-9)\n",
        "    # print(data3)\n",
        "    data3 = b'{\"B\" : \"0x83e907190b6484aa982847f873111a28a3f1a0617a0973b24f8ed036d01d01009f050fa636cfe030cdd26f1309465cdea4ebc97d421fa5ebeedda63d948c8b00e81c8e8e63e720ad74bf867139ac2112883928d0441290f9f40e67a44e4447b7f8841f6f573b8b6a85d679bb611d7f026a4c2c904dd4a97a2d0048531f43b78e7c539d9e59149229ed32630506d11f13b42609bb4b8c4644e0f3ede537022ac7de96288c1794746f3f57b25a2668363a4314879c3834a9961ba3800f7de4798d\"}'\n",
        "\n",
        "    s.recv(100)\n",
        "    s.send(data3)\n",
        "    s.recv(20+4)\n",
        "    enc = s.recv(1000).strip().decode()\n",
        "    enc = json.loads(enc)\n",
        "    iv = enc['iv']\n",
        "    enc_flag = enc['encrypted_flag']\n",
        "    # print(\"iv is:\",iv,\"\\nEncrypted flag is :\",enc_flag)\n",
        "    return A,p,enc_flag,iv\n",
        "\n",
        "\n",
        "# print(shared_key)\n",
        "def dec(shared_key,enc_flag,iv):\n",
        "    sha1 = hashlib.sha1()\n",
        "    sha1.update(str(shared_key).encode('ascii'))\n",
        "    key = sha1.digest()[:16]\n",
        "    ciphertext = bytes.fromhex(enc_flag)\n",
        "    iv = bytes.fromhex(iv)\n",
        "    cipher = AES.new(key, AES.MODE_CBC, iv)\n",
        "    plaintext = cipher.decrypt(ciphertext)\n",
        "    return plaintext\n",
        "\n",
        "if __name__ == \"__main__\":\n",
        "    HOST = \"socket.cryptohack.org\"\n",
        "    PORT = 13371\n",
        "\n",
        "    sock = socket.socket(socket.AF_INET, socket.SOCK_STREAM)\n",
        "    Alice_pub,prime,enc_flag,iv = duh(sock)\n",
        "    private_key = 197395083814907028991785772714920885908249341925650951555219049411298436217190605190824934787336279228785809783531814507661385111220639329358048196339626065676869119737979175531770768861808581110311903548567424039264485661330995221907803300824165469977099494284722831845653985392791480264712091293580274947132480402319812110462641143884577706335859190668240694680261160210609506891842793868297672619625924001403035676872189455767944077542198064499486164431451944\n",
        "    shared_key = pow(Alice_pub,private_key,prime)\n",
        "    flag = dec(shared_key,enc_flag,iv).decode()\n",
        "    print(\"Flag es :\",flag)"
      ]
    },
    {
      "cell_type": "code",
      "source": [
        "pip install pycryptodome\n"
      ],
      "metadata": {
        "colab": {
          "base_uri": "https://localhost:8080/"
        },
        "id": "bP_2RDEr42xN",
        "outputId": "bd785329-9715-4e31-e73f-80f06137ca0e"
      },
      "id": "bP_2RDEr42xN",
      "execution_count": null,
      "outputs": [
        {
          "output_type": "stream",
          "name": "stdout",
          "text": [
            "Collecting pycryptodome\n",
            "  Downloading pycryptodome-3.20.0-cp35-abi3-manylinux_2_17_x86_64.manylinux2014_x86_64.whl (2.1 MB)\n",
            "\u001b[2K     \u001b[90m━━━━━━━━━━━━━━━━━━━━━━━━━━━━━━━━━━━━━━━━\u001b[0m \u001b[32m2.1/2.1 MB\u001b[0m \u001b[31m11.4 MB/s\u001b[0m eta \u001b[36m0:00:00\u001b[0m\n",
            "\u001b[?25hInstalling collected packages: pycryptodome\n",
            "Successfully installed pycryptodome-3.20.0\n"
          ]
        }
      ]
    },
    {
      "cell_type": "markdown",
      "id": "88a02c75",
      "metadata": {
        "id": "88a02c75"
      },
      "source": [
        "Export-grade"
      ]
    },
    {
      "cell_type": "code",
      "execution_count": null,
      "id": "e33b175b",
      "metadata": {
        "id": "e33b175b",
        "outputId": "1d9bd253-a57a-4774-d447-43caf91ab7e3"
      },
      "outputs": [
        {
          "name": "stdout",
          "output_type": "stream",
          "text": [
            "[x] Opening connection to socket.cryptohack.org on port 13379\n",
            "[x] Opening connection to socket.cryptohack.org on port 13379: Trying 134.122.111.232\n",
            "[+] Opening connection to socket.cryptohack.org on port 13379: Done\n",
            "[DEBUG] Received 0x18 bytes:\n",
            "    b'Intercepted from Alice: '\n",
            "[DEBUG] Received 0x54 bytes:\n",
            "    b'{\"supported\": [\"DH1536\", \"DH1024\", \"DH512\", \"DH256\", \"DH128\", \"DH64\"]}\\n'\n",
            "    b'Send to Bob: '\n",
            "b'Intercepted from Alice: {\"supported\": [\"DH1536\", \"DH1024\", \"DH512\", \"DH256\", \"DH128\", \"DH64\"]}\\nSend to Bob:'\n",
            "[DEBUG] Sent 0x18 bytes:\n",
            "    b'{\"supported\": [\"DH64\"]}\\n'\n",
            "[DEBUG] Received 0x16 bytes:\n",
            "    b'Intercepted from Bob: '\n",
            "[DEBUG] Received 0x22 bytes:\n",
            "    b'{\"chosen\": \"DH64\"}\\n'\n",
            "    b'Send to Alice: '\n",
            "[DEBUG] Sent 0x13 bytes:\n",
            "    b'{\"chosen\": \"DH64\"}\\n'\n",
            "[DEBUG] Received 0x18 bytes:\n",
            "    b'Intercepted from Alice: '\n",
            "[DEBUG] Received 0x10e bytes:\n",
            "    b'{\"p\": \"0xde26ab651b92a129\", \"g\": \"0x2\", \"A\": \"0xad4280a641cf2fba\"}\\n'\n",
            "    b'Intercepted from Bob: {\"B\": \"0x262aa62c7014bc08\"}\\n'\n",
            "    b'Intercepted from Alice: {\"iv\": \"c8d29887a30441b04b7c9b746635bd4a\", \"encrypted_flag\": \"a5ef22a3b329a7a169924aa25292085600335bac5c27647baf7c9f2c59b4707e\"}\\n'\n",
            "crypto{d0wn6r4d35_4r3_d4n63r0u5}\n"
          ]
        }
      ],
      "source": [
        "from Crypto.Util.Padding import unpad\n",
        "from sympy.ntheory import discrete_log\n",
        "from Crypto.Cipher import AES\n",
        "from pwn import remote\n",
        "import hashlib, json, re\n",
        "\n",
        "r = remote('socket.cryptohack.org', 13379, level='debug')\n",
        "\n",
        "def is_pkcs7_padded(message):\n",
        "    padding = message[-message[-1]:]\n",
        "    return all(padding[i] == len(padding) for i in range(0, len(padding)))\n",
        "\n",
        "def decrypt_flag(shared_secret: int, iv: str, ciphertext: str):\n",
        "    sha1 = hashlib.sha1()\n",
        "    sha1.update(str(shared_secret).encode('ascii'))\n",
        "    key = sha1.digest()[:16]\n",
        "\n",
        "    ciphertext = bytes.fromhex(ciphertext)\n",
        "    iv = bytes.fromhex(iv)\n",
        "    cipher = AES.new(key, AES.MODE_CBC, iv)\n",
        "    plaintext = cipher.decrypt(ciphertext)\n",
        "\n",
        "    if is_pkcs7_padded(plaintext):\n",
        "        return unpad(plaintext, 16).decode('ascii')\n",
        "    else:\n",
        "        return plaintext.decode('ascii')\n",
        "\n",
        "def json_extract():\n",
        "    received_string = r.recvline().decode()\n",
        "    pattern = r'({.*?})'\n",
        "    match = re.search(pattern, received_string)\n",
        "    json_string = match.group(1)\n",
        "    string = json.loads(json_string)\n",
        "    return string\n",
        "\n",
        "def json_send(hsh):\n",
        "\trequest = json.dumps(hsh).encode()\n",
        "\tr.sendline(request)\n",
        "\n",
        "def find_shared_secret(p, g, A, B):\n",
        "    a = discrete_log(p,A,g)\n",
        "    return pow(B, a, p)\n",
        "\n",
        "def main():\n",
        "    print(r.recvuntil('Bob:'.encode()))\n",
        "    json_send({'supported': ['DH64']})\n",
        "    r.recvuntil('Alice:'.encode())\n",
        "    json_send({'chosen': 'DH64'})\n",
        "\n",
        "    alice = json_extract()\n",
        "    p = int(alice['p'], 16)\n",
        "    g = int(alice['g'], 16)\n",
        "    A = int(alice['A'], 16)\n",
        "\n",
        "    bob = json_extract()\n",
        "    B = int(bob['B'], 16)\n",
        "\n",
        "    key = json_extract()\n",
        "    iv = key['iv']\n",
        "    ciphertext = key['encrypted_flag']\n",
        "    shared_secret = find_shared_secret(p, g, A, B)\n",
        "\n",
        "    print(decrypt_flag(shared_secret, iv, ciphertext))  # crypto{d0wn6r4d35_4r3_d4n63r0u5}\n",
        "\n",
        "if __name__ == '__main__':\n",
        "    main()"
      ]
    },
    {
      "cell_type": "code",
      "execution_count": null,
      "id": "02257d7c",
      "metadata": {
        "id": "02257d7c"
      },
      "outputs": [],
      "source": []
    }
  ],
  "metadata": {
    "kernelspec": {
      "display_name": "Python 3 (ipykernel)",
      "language": "python",
      "name": "python3"
    },
    "language_info": {
      "codemirror_mode": {
        "name": "ipython",
        "version": 3
      },
      "file_extension": ".py",
      "mimetype": "text/x-python",
      "name": "python",
      "nbconvert_exporter": "python",
      "pygments_lexer": "ipython3",
      "version": "3.11.4"
    },
    "colab": {
      "provenance": []
    }
  },
  "nbformat": 4,
  "nbformat_minor": 5
}