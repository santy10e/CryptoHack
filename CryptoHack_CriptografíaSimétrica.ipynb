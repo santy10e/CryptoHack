{
  "nbformat": 4,
  "nbformat_minor": 0,
  "metadata": {
    "colab": {
      "provenance": []
    },
    "kernelspec": {
      "name": "python3",
      "display_name": "Python 3"
    },
    "language_info": {
      "name": "python"
    }
  },
  "cells": [
    {
      "cell_type": "markdown",
      "source": [
        "# **Structure of AES**\n",
        "\n",
        "Para lograr una permutación con clave que no sea factible de invertir sin la clave, AES aplica una gran cantidad de operaciones de mezcla ad hoc en la entrada. Esto contrasta marcadamente con los criptosistemas de clave pública como RSA, que se basan en elegantes problemas matemáticos individuales. AES es mucho menos elegante, pero es muy rápido.\n",
        "\n",
        "En un nivel alto, AES-128 comienza con un \"programa clave\" y luego ejecuta 10 rondas sobre un estado. El estado inicial es simplemente el bloque de texto plano que queremos cifrar, representado como una matriz de bytes de 4x4. A lo largo de las 10 rondas, el estado se modifica repetidamente mediante una serie de transformaciones reversibles.\n",
        "\n",
        "Cada paso de transformación tiene un propósito definido basado en las propiedades teóricas de los cifrados seguros establecidos por Claude Shannon en la década de 1940. Examinaremos más de cerca cada uno de estos en los siguientes desafíos.\n",
        "\n",
        "\n",
        "A continuación se ofrece una descripción general de las fases del cifrado AES:\n",
        "\n",
        "diagrama que muestra rondas AES\n",
        "\n",
        "1. KeyExpansion o Key Schedule\n",
        "\n",
        " De la clave de 128 bits, se derivan 11 \"claves redondas\" separadas de 128 bits: una que se utilizará en cada paso AddRoundKey.\n",
        "\n",
        "2. Adición de clave inicial\n",
        "\n",
        " AddRoundKey : los bytes de la clave de primera ronda se XOR con los bytes del estado.\n",
        "\n",
        "3. Ronda : esta fase se repite 10 veces, durante 9 rondas principales más una \"ronda final\"\n",
        "\n",
        " a) SubBytes : cada byte del estado se sustituye por un byte diferente según una tabla de búsqueda (\"S-box\").\n",
        "\n",
        " b) ShiftRows : las últimas tres filas de la matriz de estado se transponen (se desplazan sobre una columna, dos o tres).\n",
        "\n",
        " c) MixColumns : la multiplicación de matrices se realiza en las columnas del estado, combinando los cuatro bytes en cada columna. Esto se omite en la ronda final.\n",
        "\n",
        " d) AddRoundKey : los bytes de la clave de ronda actual se XOR con los bytes del estado.\n",
        "\n",
        "Se incluye una bytes2matrixfunción para convertir nuestro bloque de texto plano inicial en una matriz de estado. Escriba una matrix2bytesfunción para convertir esa matriz nuevamente en bytes y envíe el texto sin formato resultante como bandera."
      ],
      "metadata": {
        "id": "fjPNelCglUkf"
      }
    },
    {
      "cell_type": "code",
      "source": [
        "def bytes2matrix(text):\n",
        "    return [list(text[i:i+4]) for i in range(0, len(text), 4)]\n",
        "\n",
        "def matrix2bytes(matrix):\n",
        "    text = ''\n",
        "    for i in range(len(matrix)):\n",
        "        for j in range(4):\n",
        "            text += chr(matrix[i][j])\n",
        "    return text\n",
        "\n",
        "matrix = [\n",
        "    [99, 114, 121, 112],\n",
        "    [116, 111, 123, 105],\n",
        "    [110, 109, 97, 116],\n",
        "    [114, 105, 120, 125],\n",
        "]\n",
        "\n",
        "print(matrix2bytes(matrix))"
      ],
      "metadata": {
        "colab": {
          "base_uri": "https://localhost:8080/"
        },
        "id": "dqW1B6hKlT79",
        "outputId": "a0ea96a7-3a11-479f-a679-44f9f8bb71b5"
      },
      "execution_count": null,
      "outputs": [
        {
          "output_type": "stream",
          "name": "stdout",
          "text": [
            "crypto{inmatrix}\n"
          ]
        }
      ]
    },
    {
      "cell_type": "markdown",
      "source": [
        "\n",
        "  # **Round Keys**\n",
        "\n",
        "Por ahora, nos saltaremos los detalles más finos de la fase KeyExpansion . El punto principal es que toma nuestra clave de 16 bytes y produce 11 matrices de 4x4 llamadas \"claves redondas\" derivadas de nuestra clave inicial. Estas claves redondas permiten a AES aprovechar más la clave única que proporcionamos.\n",
        "\n",
        "La fase inicial de adición de claves , que es la siguiente, tiene un único paso AddRoundKey . El paso AddRoundKey es sencillo: aplica XOR al estado actual con la clave de ronda actual.\n",
        "\n",
        "diagrama que muestra AddRoundKey\n",
        "\n",
        "AddRoundKey también ocurre como el paso final de cada ronda. AddRoundKey es lo que hace que AES sea una \"permutación con clave\" en lugar de simplemente una permutación. Es la única parte de AES donde la clave se mezcla con el estado, pero es crucial para determinar la permutación que ocurre.\n",
        "\n",
        "Como ha visto en desafíos anteriores, XOR es una operación fácilmente reversible si conoce la clave, pero difícil de deshacer si no la conoce. Ahora imagine intentar recuperar texto sin formato que ha sido sometido a XOR con 11 claves diferentes y muy mezclado entre cada operación XOR con una serie de cifrados de sustitución y transposición. ¡Eso es lo que hace AES! Y veremos cuán efectiva es la confusión en los próximos desafíos.\n",
        "\n",
        "Complete la add_round_keyfunción, luego use la matrix2bytesfunción para obtener su próxima bandera.\n"
      ],
      "metadata": {
        "id": "dbQbpcww0nBD"
      }
    },
    {
      "cell_type": "code",
      "source": [
        "import numpy\n",
        "\n",
        "state = [\n",
        "    [206, 243, 61, 34],\n",
        "    [171, 11, 93, 31],\n",
        "    [16, 200, 91, 108],\n",
        "    [150, 3, 194, 51],\n",
        "]\n",
        "\n",
        "round_key = [\n",
        "    [173, 129, 68, 82],\n",
        "    [223, 100, 38, 109],\n",
        "    [32, 189, 53, 8],\n",
        "    [253, 48, 187, 78],\n",
        "]\n",
        "\n",
        "def add_round_key(s, k):\n",
        "    return numpy.bitwise_xor(s, k).tolist()\n",
        "\n",
        "result = add_round_key(state, round_key)\n",
        "\n",
        "flat_result = [bytes([col]) for row in result for col in row]\n",
        "\n",
        "text_result = b''.join(flat_result).decode('utf-8')\n",
        "\n",
        "print(text_result)\n"
      ],
      "metadata": {
        "colab": {
          "base_uri": "https://localhost:8080/"
        },
        "id": "F5nOWw0c0vsP",
        "outputId": "475ccdd8-04d6-420a-949a-4019374a8c43"
      },
      "execution_count": null,
      "outputs": [
        {
          "output_type": "stream",
          "name": "stdout",
          "text": [
            "crypto{r0undk3y}\n"
          ]
        }
      ]
    },
    {
      "cell_type": "markdown",
      "source": [
        "# **Confusion through Substitution**\n",
        "\n",
        "SubBytes . Esto implica tomar cada byte de la matriz de estado y sustituirlo por un byte diferente en una tabla de búsqueda preestablecida de 16x16. La tabla de búsqueda se llama \"cuadro de sustitución\" o \"cuadro S\" para abreviar y puede resultar desconcertante a primera vista. Analicémoslo.\n",
        "\n",
        "diagrama que muestra la sustitución\n",
        "\n",
        "En 1945, el matemático estadounidense Claude Shannon publicó un artículo innovador sobre la teoría de la información. Identificó la \"confusión\" como una propiedad esencial de un cifrado seguro. \"Confusión\" significa que la relación entre el texto cifrado y la clave debe ser lo más compleja posible. Dado solo un texto cifrado, no debería haber forma de saber nada sobre la clave.\n",
        "\n",
        "Si un cifrado tiene poca confusión, es posible expresar una relación entre texto cifrado, clave y texto sin formato como una función lineal. Por ejemplo, en un cifrado César, ciphertext = plaintext + key. Ésta es una relación obvia, que es fácil de revertir. Se pueden resolver transformaciones lineales más complicadas utilizando técnicas como la eliminación gaussiana. Incluso los polinomios de bajo grado, por ejemplo una ecuación como x^4 + 51x^3 + x, se pueden resolver eficientemente utilizando métodos algebraicos . Sin embargo, cuanto mayor es el grado de un polinomio, generalmente más difícil resulta resolverlo: sólo puede aproximarse mediante una cantidad cada vez mayor de funciones lineales.\n",
        "\n",
        "El objetivo principal de la S-box es transformar la entrada de una manera que sea resistente a la aproximación mediante funciones lineales. Las S-box apuntan a una alta no linealidad , y aunque la de AES no es perfecta, está bastante cerca. La búsqueda rápida en una S-box es un atajo para realizar una función muy no lineal en los bytes de entrada. Esta función implica tomar el inverso modular en el campo de Galois 2**8 y luego aplicar una transformación afín que ha sido modificada para lograr la máxima confusión. La forma más sencilla de expresar la función es a través del siguiente polinomio de alto grado:\n",
        "\n",
        "diagrama que muestra la ecuación de S-Box\n",
        "\n",
        "Para crear el S-box, la función se calculó con todos los valores de entrada de 0x00 a 0xff y las salidas se colocaron en la tabla de búsqueda.\n",
        "\n",
        "Implemente sub_bytes, envíe la matriz de estado a través del S-box inverso y luego conviértala en bytes para obtener la bandera.\n",
        "\n",
        "Archivos de desafío:\n",
        "  - sbox.py"
      ],
      "metadata": {
        "id": "q_rshtEEBgph"
      }
    },
    {
      "cell_type": "code",
      "source": [
        "s_box = (\n",
        "    0x63, 0x7C, 0x77, 0x7B, 0xF2, 0x6B, 0x6F, 0xC5, 0x30, 0x01, 0x67, 0x2B, 0xFE, 0xD7, 0xAB, 0x76,\n",
        "    0xCA, 0x82, 0xC9, 0x7D, 0xFA, 0x59, 0x47, 0xF0, 0xAD, 0xD4, 0xA2, 0xAF, 0x9C, 0xA4, 0x72, 0xC0,\n",
        "    0xB7, 0xFD, 0x93, 0x26, 0x36, 0x3F, 0xF7, 0xCC, 0x34, 0xA5, 0xE5, 0xF1, 0x71, 0xD8, 0x31, 0x15,\n",
        "    0x04, 0xC7, 0x23, 0xC3, 0x18, 0x96, 0x05, 0x9A, 0x07, 0x12, 0x80, 0xE2, 0xEB, 0x27, 0xB2, 0x75,\n",
        "    0x09, 0x83, 0x2C, 0x1A, 0x1B, 0x6E, 0x5A, 0xA0, 0x52, 0x3B, 0xD6, 0xB3, 0x29, 0xE3, 0x2F, 0x84,\n",
        "    0x53, 0xD1, 0x00, 0xED, 0x20, 0xFC, 0xB1, 0x5B, 0x6A, 0xCB, 0xBE, 0x39, 0x4A, 0x4C, 0x58, 0xCF,\n",
        "    0xD0, 0xEF, 0xAA, 0xFB, 0x43, 0x4D, 0x33, 0x85, 0x45, 0xF9, 0x02, 0x7F, 0x50, 0x3C, 0x9F, 0xA8,\n",
        "    0x51, 0xA3, 0x40, 0x8F, 0x92, 0x9D, 0x38, 0xF5, 0xBC, 0xB6, 0xDA, 0x21, 0x10, 0xFF, 0xF3, 0xD2,\n",
        "    0xCD, 0x0C, 0x13, 0xEC, 0x5F, 0x97, 0x44, 0x17, 0xC4, 0xA7, 0x7E, 0x3D, 0x64, 0x5D, 0x19, 0x73,\n",
        "    0x60, 0x81, 0x4F, 0xDC, 0x22, 0x2A, 0x90, 0x88, 0x46, 0xEE, 0xB8, 0x14, 0xDE, 0x5E, 0x0B, 0xDB,\n",
        "    0xE0, 0x32, 0x3A, 0x0A, 0x49, 0x06, 0x24, 0x5C, 0xC2, 0xD3, 0xAC, 0x62, 0x91, 0x95, 0xE4, 0x79,\n",
        "    0xE7, 0xC8, 0x37, 0x6D, 0x8D, 0xD5, 0x4E, 0xA9, 0x6C, 0x56, 0xF4, 0xEA, 0x65, 0x7A, 0xAE, 0x08,\n",
        "    0xBA, 0x78, 0x25, 0x2E, 0x1C, 0xA6, 0xB4, 0xC6, 0xE8, 0xDD, 0x74, 0x1F, 0x4B, 0xBD, 0x8B, 0x8A,\n",
        "    0x70, 0x3E, 0xB5, 0x66, 0x48, 0x03, 0xF6, 0x0E, 0x61, 0x35, 0x57, 0xB9, 0x86, 0xC1, 0x1D, 0x9E,\n",
        "    0xE1, 0xF8, 0x98, 0x11, 0x69, 0xD9, 0x8E, 0x94, 0x9B, 0x1E, 0x87, 0xE9, 0xCE, 0x55, 0x28, 0xDF,\n",
        "    0x8C, 0xA1, 0x89, 0x0D, 0xBF, 0xE6, 0x42, 0x68, 0x41, 0x99, 0x2D, 0x0F, 0xB0, 0x54, 0xBB, 0x16,\n",
        ")\n",
        "\n",
        "inv_s_box = (\n",
        "    0x52, 0x09, 0x6A, 0xD5, 0x30, 0x36, 0xA5, 0x38, 0xBF, 0x40, 0xA3, 0x9E, 0x81, 0xF3, 0xD7, 0xFB,\n",
        "    0x7C, 0xE3, 0x39, 0x82, 0x9B, 0x2F, 0xFF, 0x87, 0x34, 0x8E, 0x43, 0x44, 0xC4, 0xDE, 0xE9, 0xCB,\n",
        "    0x54, 0x7B, 0x94, 0x32, 0xA6, 0xC2, 0x23, 0x3D, 0xEE, 0x4C, 0x95, 0x0B, 0x42, 0xFA, 0xC3, 0x4E,\n",
        "    0x08, 0x2E, 0xA1, 0x66, 0x28, 0xD9, 0x24, 0xB2, 0x76, 0x5B, 0xA2, 0x49, 0x6D, 0x8B, 0xD1, 0x25,\n",
        "    0x72, 0xF8, 0xF6, 0x64, 0x86, 0x68, 0x98, 0x16, 0xD4, 0xA4, 0x5C, 0xCC, 0x5D, 0x65, 0xB6, 0x92,\n",
        "    0x6C, 0x70, 0x48, 0x50, 0xFD, 0xED, 0xB9, 0xDA, 0x5E, 0x15, 0x46, 0x57, 0xA7, 0x8D, 0x9D, 0x84,\n",
        "    0x90, 0xD8, 0xAB, 0x00, 0x8C, 0xBC, 0xD3, 0x0A, 0xF7, 0xE4, 0x58, 0x05, 0xB8, 0xB3, 0x45, 0x06,\n",
        "    0xD0, 0x2C, 0x1E, 0x8F, 0xCA, 0x3F, 0x0F, 0x02, 0xC1, 0xAF, 0xBD, 0x03, 0x01, 0x13, 0x8A, 0x6B,\n",
        "    0x3A, 0x91, 0x11, 0x41, 0x4F, 0x67, 0xDC, 0xEA, 0x97, 0xF2, 0xCF, 0xCE, 0xF0, 0xB4, 0xE6, 0x73,\n",
        "    0x96, 0xAC, 0x74, 0x22, 0xE7, 0xAD, 0x35, 0x85, 0xE2, 0xF9, 0x37, 0xE8, 0x1C, 0x75, 0xDF, 0x6E,\n",
        "    0x47, 0xF1, 0x1A, 0x71, 0x1D, 0x29, 0xC5, 0x89, 0x6F, 0xB7, 0x62, 0x0E, 0xAA, 0x18, 0xBE, 0x1B,\n",
        "    0xFC, 0x56, 0x3E, 0x4B, 0xC6, 0xD2, 0x79, 0x20, 0x9A, 0xDB, 0xC0, 0xFE, 0x78, 0xCD, 0x5A, 0xF4,\n",
        "    0x1F, 0xDD, 0xA8, 0x33, 0x88, 0x07, 0xC7, 0x31, 0xB1, 0x12, 0x10, 0x59, 0x27, 0x80, 0xEC, 0x5F,\n",
        "    0x60, 0x51, 0x7F, 0xA9, 0x19, 0xB5, 0x4A, 0x0D, 0x2D, 0xE5, 0x7A, 0x9F, 0x93, 0xC9, 0x9C, 0xEF,\n",
        "    0xA0, 0xE0, 0x3B, 0x4D, 0xAE, 0x2A, 0xF5, 0xB0, 0xC8, 0xEB, 0xBB, 0x3C, 0x83, 0x53, 0x99, 0x61,\n",
        "    0x17, 0x2B, 0x04, 0x7E, 0xBA, 0x77, 0xD6, 0x26, 0xE1, 0x69, 0x14, 0x63, 0x55, 0x21, 0x0C, 0x7D,\n",
        ")\n",
        "\n",
        "state = [\n",
        "    [251, 64, 182, 81],\n",
        "    [146, 168, 33, 80],\n",
        "    [199, 159, 195, 24],\n",
        "    [64, 80, 182, 255],\n",
        "]\n",
        "\n",
        "\n",
        "def sub_bytes(s, sbox=s_box):\n",
        "    return list(map(lambda x: sbox[x], sum(s, [])))\n",
        "\n",
        "print(bytes(sub_bytes(state, sbox=inv_s_box)))"
      ],
      "metadata": {
        "colab": {
          "base_uri": "https://localhost:8080/"
        },
        "id": "gwT-ZURPBdtl",
        "outputId": "05e67d93-0162-41fe-f574-1f54b9522901"
      },
      "execution_count": null,
      "outputs": [
        {
          "output_type": "stream",
          "name": "stdout",
          "text": [
            "b'crypto{l1n34rly}'\n"
          ]
        }
      ]
    },
    {
      "cell_type": "markdown",
      "source": [
        "# **Diffusion through Permutation**\n",
        "\n",
        "Hemos visto cómo la sustitución de S-box genera confusión. La otra propiedad crucial descrita por Shannon es la \"difusión\". Esto se relaciona con cómo cada parte de la entrada de un cifrado debe extenderse a cada parte de la salida.\n",
        "\n",
        "La sustitución por sí sola crea no linealidad, pero no la distribuye en todo el estado. Sin difusión, al mismo byte en la misma posición se le aplicarían las mismas transformaciones en cada ronda. Esto permitiría a los criptoanalistas atacar cada posición de byte en la matriz de estado por separado. Necesitamos alternar sustituciones codificando el estado (de forma invertible) para que las sustituciones aplicadas en un byte influyan en todos los demás bytes del estado. Cada entrada en la siguiente S-box se convierte en una función de varios bytes, lo que significa que con cada ronda la complejidad algebraica del sistema aumenta enormemente.\n",
        "\n",
        "Una cantidad ideal de difusión provoca que un cambio de un bit en el texto sin formato conduzca a un cambio estadísticamente en la mitad de los bits del texto cifrado. Este resultado deseable se llama efecto Avalancha .\n",
        "\n",
        "\n",
        "Los pasos ShiftRows y MixColumns se combinan para lograr esto. Trabajan juntos para garantizar que cada byte afecte a todos los demás bytes del estado en solo dos rondas.\n",
        "\n",
        "ShiftRows es la transformación más simple en AES. Mantiene igual la primera fila de la matriz de estado. La segunda fila se desplaza una columna hacia la izquierda, dando vueltas. La tercera fila se desplaza dos columnas, la cuarta fila tres. Wikipedia lo expresa muy bien: \"la importancia de este paso es evitar que las columnas se cifren de forma independiente, en cuyo caso AES degenera en cuatro cifrados de bloque independientes\".\n",
        "\n",
        "diagrama que muestra ShiftRows\n",
        "\n",
        "El diagrama (y la especificación AES) muestran la ShiftRowsoperación que se produce en notación de columna principal. Sin embargo, el código de muestra siguiente utiliza notación de fila principal para la matriz de estado, ya que es más natural en Python. Siempre que se utilice la misma notación cada vez que se acceda a la matriz, el resultado final será idéntico. Debido a los patrones de acceso y al comportamiento de la caché, el uso de un tipo de notación puede generar un mejor rendimiento.\n",
        "\n",
        "\n",
        "MixColumns es más complejo. Realiza la multiplicación de matrices en el campo Galois de Rijndael entre las columnas de la matriz de estado y una matriz preestablecida. Por lo tanto, cada byte de cada columna afecta a todos los bytes de la columna resultante. Los detalles de implementación tienen matices; esta página y Wikipedia hacen un buen trabajo cubriéndolos.\n",
        "\n",
        "diagrama que muestra MixColumns\n",
        "\n",
        "Proporcionamos código para realizar MixColumns y la operación de avance ShiftRows. Después de implementar inv_shift_rows, tome el estado, ejecútelo inv_mix_columns, luego inv_shift_rowsconviértalo a bytes y tendrá su bandera."
      ],
      "metadata": {
        "id": "Guge2Nr5O0SL"
      }
    },
    {
      "cell_type": "code",
      "source": [
        "import numpy as np\n",
        "\n",
        "def shift_rows(s):\n",
        "    s[0][1], s[1][1], s[2][1], s[3][1] = s[1][1], s[2][1], s[3][1], s[0][1]\n",
        "    s[0][2], s[1][2], s[2][2], s[3][2] = s[2][2], s[3][2], s[0][2], s[1][2]\n",
        "    s[0][3], s[1][3], s[2][3], s[3][3] = s[3][3], s[0][3], s[1][3], s[2][3]\n",
        "\n",
        "\n",
        "def inv_shift_rows(s):\n",
        "    s = np.array(s)\n",
        "    for i in range(len(s)):\n",
        "        s[:, i] = np.roll(s[:, i], i)\n",
        "    return s\n",
        "\n",
        "\n",
        "xtime = lambda a: (((a << 1) ^ 0x1B) & 0xFF) if (a & 0x80) else (a << 1)\n",
        "\n",
        "\n",
        "def mix_single_column(a):\n",
        "    t = a[0] ^ a[1] ^ a[2] ^ a[3]\n",
        "    u = a[0]\n",
        "    a[0] ^= t ^ xtime(a[0] ^ a[1])\n",
        "    a[1] ^= t ^ xtime(a[1] ^ a[2])\n",
        "    a[2] ^= t ^ xtime(a[2] ^ a[3])\n",
        "    a[3] ^= t ^ xtime(a[3] ^ u)\n",
        "\n",
        "\n",
        "def mix_columns(s):\n",
        "    for i in range(4):\n",
        "        mix_single_column(s[i])\n",
        "\n",
        "\n",
        "def inv_mix_columns(s):\n",
        "    for i in range(4):\n",
        "        u = xtime(xtime(s[i][0] ^ s[i][2]))\n",
        "        v = xtime(xtime(s[i][1] ^ s[i][3]))\n",
        "        s[i][0] ^= u\n",
        "        s[i][1] ^= v\n",
        "        s[i][2] ^= u\n",
        "        s[i][3] ^= v\n",
        "\n",
        "    mix_columns(s)\n",
        "\n",
        "state = [\n",
        "    [108, 106, 71, 86],\n",
        "    [96, 62, 38, 72],\n",
        "    [42, 184, 92, 209],\n",
        "    [94, 79, 8, 54],\n",
        "]\n",
        "\n",
        "inv_mix_columns(state)\n",
        "state = inv_shift_rows(state)\n",
        "\n",
        "print(''.join([''.join([chr(c) for c in row]) for row in state]))"
      ],
      "metadata": {
        "colab": {
          "base_uri": "https://localhost:8080/"
        },
        "id": "mi5S0XF7O9Nr",
        "outputId": "d3161195-6a68-44f1-8321-cb8722cbb709"
      },
      "execution_count": null,
      "outputs": [
        {
          "output_type": "stream",
          "name": "stdout",
          "text": [
            "crypto{d1ffUs3R}\n"
          ]
        }
      ]
    },
    {
      "cell_type": "markdown",
      "source": [
        "# **Bringing It All Together**\n",
        "\n",
        "Aparte de la fase KeyExpansion , hemos esbozado todos los componentes de AES. Hemos mostrado cómo SubBytes proporciona confusión y ShiftRows y MixColumns proporcionan difusión, y cómo estas dos propiedades trabajan juntas para hacer circular repetidamente transformaciones no lineales sobre el estado. Finalmente, AddRoundKey introduce la clave en esta red de permutación-sustitución, convirtiendo el cifrado en una permutación con clave.\n",
        "\n",
        "El descifrado implica realizar los pasos descritos en el desafío \"Estructura de AES\" al revés, aplicando las operaciones inversas. Tenga en cuenta que KeyExpansion aún debe ejecutarse primero y las claves redondas se usarán en orden inverso. AddRoundKey y su inverso son idénticos ya que XOR tiene la propiedad autoinversa.\n",
        "\n",
        "Proporcionamos el código de expansión de la clave y el texto cifrado correctamente cifrado con AES-128. Copie todos los bloques de construcción que ha codificado hasta ahora y complete la decryptfunción que implementa los pasos que se muestran en el diagrama. El texto sin formato descifrado es la bandera.\n",
        "\n",
        "Sí, puedes hacer trampa en este desafío, pero ¿qué tiene eso de divertido?\n",
        "\n",
        "El código utilizado en estos ejercicios se tomó de la implementación súper simple de Python AES de Bo Zhu, por lo que reproducimos la licencia aquí."
      ],
      "metadata": {
        "id": "mL9mAqK4UC6O"
      }
    },
    {
      "cell_type": "code",
      "source": [
        "N_ROUNDS = 10\n",
        "\n",
        "key        = b'\\xc3,\\\\\\xa6\\xb5\\x80^\\x0c\\xdb\\x8d\\xa5z*\\xb6\\xfe\\\\'\n",
        "ciphertext = b'\\xd1O\\x14j\\xa4+O\\xb6\\xa1\\xc4\\x08B)\\x8f\\x12\\xdd'\n",
        "\n",
        "s_box = (\n",
        "    0x63, 0x7C, 0x77, 0x7B, 0xF2, 0x6B, 0x6F, 0xC5, 0x30, 0x01, 0x67, 0x2B, 0xFE, 0xD7, 0xAB, 0x76,\n",
        "    0xCA, 0x82, 0xC9, 0x7D, 0xFA, 0x59, 0x47, 0xF0, 0xAD, 0xD4, 0xA2, 0xAF, 0x9C, 0xA4, 0x72, 0xC0,\n",
        "    0xB7, 0xFD, 0x93, 0x26, 0x36, 0x3F, 0xF7, 0xCC, 0x34, 0xA5, 0xE5, 0xF1, 0x71, 0xD8, 0x31, 0x15,\n",
        "    0x04, 0xC7, 0x23, 0xC3, 0x18, 0x96, 0x05, 0x9A, 0x07, 0x12, 0x80, 0xE2, 0xEB, 0x27, 0xB2, 0x75,\n",
        "    0x09, 0x83, 0x2C, 0x1A, 0x1B, 0x6E, 0x5A, 0xA0, 0x52, 0x3B, 0xD6, 0xB3, 0x29, 0xE3, 0x2F, 0x84,\n",
        "    0x53, 0xD1, 0x00, 0xED, 0x20, 0xFC, 0xB1, 0x5B, 0x6A, 0xCB, 0xBE, 0x39, 0x4A, 0x4C, 0x58, 0xCF,\n",
        "    0xD0, 0xEF, 0xAA, 0xFB, 0x43, 0x4D, 0x33, 0x85, 0x45, 0xF9, 0x02, 0x7F, 0x50, 0x3C, 0x9F, 0xA8,\n",
        "    0x51, 0xA3, 0x40, 0x8F, 0x92, 0x9D, 0x38, 0xF5, 0xBC, 0xB6, 0xDA, 0x21, 0x10, 0xFF, 0xF3, 0xD2,\n",
        "    0xCD, 0x0C, 0x13, 0xEC, 0x5F, 0x97, 0x44, 0x17, 0xC4, 0xA7, 0x7E, 0x3D, 0x64, 0x5D, 0x19, 0x73,\n",
        "    0x60, 0x81, 0x4F, 0xDC, 0x22, 0x2A, 0x90, 0x88, 0x46, 0xEE, 0xB8, 0x14, 0xDE, 0x5E, 0x0B, 0xDB,\n",
        "    0xE0, 0x32, 0x3A, 0x0A, 0x49, 0x06, 0x24, 0x5C, 0xC2, 0xD3, 0xAC, 0x62, 0x91, 0x95, 0xE4, 0x79,\n",
        "    0xE7, 0xC8, 0x37, 0x6D, 0x8D, 0xD5, 0x4E, 0xA9, 0x6C, 0x56, 0xF4, 0xEA, 0x65, 0x7A, 0xAE, 0x08,\n",
        "    0xBA, 0x78, 0x25, 0x2E, 0x1C, 0xA6, 0xB4, 0xC6, 0xE8, 0xDD, 0x74, 0x1F, 0x4B, 0xBD, 0x8B, 0x8A,\n",
        "    0x70, 0x3E, 0xB5, 0x66, 0x48, 0x03, 0xF6, 0x0E, 0x61, 0x35, 0x57, 0xB9, 0x86, 0xC1, 0x1D, 0x9E,\n",
        "    0xE1, 0xF8, 0x98, 0x11, 0x69, 0xD9, 0x8E, 0x94, 0x9B, 0x1E, 0x87, 0xE9, 0xCE, 0x55, 0x28, 0xDF,\n",
        "    0x8C, 0xA1, 0x89, 0x0D, 0xBF, 0xE6, 0x42, 0x68, 0x41, 0x99, 0x2D, 0x0F, 0xB0, 0x54, 0xBB, 0x16,\n",
        ")\n",
        "\n",
        "inv_s_box = (\n",
        "    0x52, 0x09, 0x6A, 0xD5, 0x30, 0x36, 0xA5, 0x38, 0xBF, 0x40, 0xA3, 0x9E, 0x81, 0xF3, 0xD7, 0xFB,\n",
        "    0x7C, 0xE3, 0x39, 0x82, 0x9B, 0x2F, 0xFF, 0x87, 0x34, 0x8E, 0x43, 0x44, 0xC4, 0xDE, 0xE9, 0xCB,\n",
        "    0x54, 0x7B, 0x94, 0x32, 0xA6, 0xC2, 0x23, 0x3D, 0xEE, 0x4C, 0x95, 0x0B, 0x42, 0xFA, 0xC3, 0x4E,\n",
        "    0x08, 0x2E, 0xA1, 0x66, 0x28, 0xD9, 0x24, 0xB2, 0x76, 0x5B, 0xA2, 0x49, 0x6D, 0x8B, 0xD1, 0x25,\n",
        "    0x72, 0xF8, 0xF6, 0x64, 0x86, 0x68, 0x98, 0x16, 0xD4, 0xA4, 0x5C, 0xCC, 0x5D, 0x65, 0xB6, 0x92,\n",
        "    0x6C, 0x70, 0x48, 0x50, 0xFD, 0xED, 0xB9, 0xDA, 0x5E, 0x15, 0x46, 0x57, 0xA7, 0x8D, 0x9D, 0x84,\n",
        "    0x90, 0xD8, 0xAB, 0x00, 0x8C, 0xBC, 0xD3, 0x0A, 0xF7, 0xE4, 0x58, 0x05, 0xB8, 0xB3, 0x45, 0x06,\n",
        "    0xD0, 0x2C, 0x1E, 0x8F, 0xCA, 0x3F, 0x0F, 0x02, 0xC1, 0xAF, 0xBD, 0x03, 0x01, 0x13, 0x8A, 0x6B,\n",
        "    0x3A, 0x91, 0x11, 0x41, 0x4F, 0x67, 0xDC, 0xEA, 0x97, 0xF2, 0xCF, 0xCE, 0xF0, 0xB4, 0xE6, 0x73,\n",
        "    0x96, 0xAC, 0x74, 0x22, 0xE7, 0xAD, 0x35, 0x85, 0xE2, 0xF9, 0x37, 0xE8, 0x1C, 0x75, 0xDF, 0x6E,\n",
        "    0x47, 0xF1, 0x1A, 0x71, 0x1D, 0x29, 0xC5, 0x89, 0x6F, 0xB7, 0x62, 0x0E, 0xAA, 0x18, 0xBE, 0x1B,\n",
        "    0xFC, 0x56, 0x3E, 0x4B, 0xC6, 0xD2, 0x79, 0x20, 0x9A, 0xDB, 0xC0, 0xFE, 0x78, 0xCD, 0x5A, 0xF4,\n",
        "    0x1F, 0xDD, 0xA8, 0x33, 0x88, 0x07, 0xC7, 0x31, 0xB1, 0x12, 0x10, 0x59, 0x27, 0x80, 0xEC, 0x5F,\n",
        "    0x60, 0x51, 0x7F, 0xA9, 0x19, 0xB5, 0x4A, 0x0D, 0x2D, 0xE5, 0x7A, 0x9F, 0x93, 0xC9, 0x9C, 0xEF,\n",
        "    0xA0, 0xE0, 0x3B, 0x4D, 0xAE, 0x2A, 0xF5, 0xB0, 0xC8, 0xEB, 0xBB, 0x3C, 0x83, 0x53, 0x99, 0x61,\n",
        "    0x17, 0x2B, 0x04, 0x7E, 0xBA, 0x77, 0xD6, 0x26, 0xE1, 0x69, 0x14, 0x63, 0x55, 0x21, 0x0C, 0x7D,\n",
        ")\n",
        "\n",
        "def expand_key(master_key):\n",
        "    \"\"\"\n",
        "    Expands and returns a list of key matrices for the given master_key.\n",
        "    \"\"\"\n",
        "\n",
        "    # Round constants https://en.wikipedia.org/wiki/AES_key_schedule#Round_constants\n",
        "    r_con = (\n",
        "        0x00, 0x01, 0x02, 0x04, 0x08, 0x10, 0x20, 0x40,\n",
        "        0x80, 0x1B, 0x36, 0x6C, 0xD8, 0xAB, 0x4D, 0x9A,\n",
        "        0x2F, 0x5E, 0xBC, 0x63, 0xC6, 0x97, 0x35, 0x6A,\n",
        "        0xD4, 0xB3, 0x7D, 0xFA, 0xEF, 0xC5, 0x91, 0x39,\n",
        "    )\n",
        "\n",
        "    # Initialize round keys with raw key material.\n",
        "    key_columns = bytes2matrix(master_key)\n",
        "    iteration_size = len(master_key) // 4\n",
        "\n",
        "    # Each iteration has exactly as many columns as the key material.\n",
        "    i = 1\n",
        "    while len(key_columns) < (N_ROUNDS + 1) * 4:\n",
        "        # Copy previous word.\n",
        "        word = list(key_columns[-1])\n",
        "\n",
        "        # Perform schedule_core once every \"row\".\n",
        "        if len(key_columns) % iteration_size == 0:\n",
        "            # Circular shift.\n",
        "            word.append(word.pop(0))\n",
        "            # Map to S-BOX.\n",
        "            word = [s_box[b] for b in word]\n",
        "            # XOR with first byte of R-CON, since the others bytes of R-CON are 0.\n",
        "            word[0] ^= r_con[i]\n",
        "            i += 1\n",
        "        elif len(master_key) == 32 and len(key_columns) % iteration_size == 4:\n",
        "            # Run word through S-box in the fourth iteration when using a\n",
        "            # 256-bit key.\n",
        "            word = [s_box[b] for b in word]\n",
        "\n",
        "        # XOR with equivalent word from previous iteration.\n",
        "        word = bytes(i^j for i, j in zip(word, key_columns[-iteration_size]))\n",
        "        key_columns.append(word)\n",
        "\n",
        "    # Group key words in 4x4 byte matrices.\n",
        "    return [key_columns[4*i : 4*(i+1)] for i in range(len(key_columns) // 4)]\n",
        "\n",
        "def bytes2matrix(text):\n",
        "    \"\"\" Converts a 16-byte array into a 4x4 matrix.  \"\"\"\n",
        "    return [list(text[i:i+4]) for i in range(0, len(text), 4)]\n",
        "\n",
        "def matrix2bytes(matrix):\n",
        "    \"\"\" Converts a 4x4 matrix into a 16-byte array.  \"\"\"\n",
        "    return b''.join(bytes([a]) for row in matrix for a in row)\n",
        "\n",
        "def add_round_key(s, k):\n",
        "    return [[s[i][j]^k[i][j] for j in range(4)] for i in range(4)]\n",
        "\n",
        "def inv_shift_rows(s):\n",
        "    s[1][1], s[2][1], s[3][1], s[0][1] = s[0][1], s[1][1], s[2][1], s[3][1]\n",
        "    s[2][2], s[3][2], s[0][2], s[1][2] = s[0][2], s[1][2], s[2][2], s[3][2]\n",
        "    s[3][3], s[0][3], s[1][3], s[2][3] = s[0][3], s[1][3], s[2][3], s[3][3]\n",
        "\n",
        "# learned from http://cs.ucsb.edu/~koc/cs178/projects/JT/aes.c\n",
        "xtime = lambda a: (((a << 1) ^ 0x1B) & 0xFF) if (a & 0x80) else (a << 1)\n",
        "\n",
        "def mix_single_column(a):\n",
        "    # see Sec 4.1.2 in The Design of Rijndael\n",
        "    t = a[0] ^ a[1] ^ a[2] ^ a[3]\n",
        "    u = a[0]\n",
        "    a[0] ^= t ^ xtime(a[0] ^ a[1])\n",
        "    a[1] ^= t ^ xtime(a[1] ^ a[2])\n",
        "    a[2] ^= t ^ xtime(a[2] ^ a[3])\n",
        "    a[3] ^= t ^ xtime(a[3] ^ u)\n",
        "\n",
        "def mix_columns(s):\n",
        "    for i in range(4):\n",
        "        mix_single_column(s[i])\n",
        "\n",
        "def inv_mix_columns(s):\n",
        "    # see Sec 4.1.3 in The Design of Rijndael\n",
        "    for i in range(4):\n",
        "        u = xtime(xtime(s[i][0] ^ s[i][2]))\n",
        "        v = xtime(xtime(s[i][1] ^ s[i][3]))\n",
        "        s[i][0] ^= u\n",
        "        s[i][1] ^= v\n",
        "        s[i][2] ^= u\n",
        "        s[i][3] ^= v\n",
        "    mix_columns(s)\n",
        "\n",
        "def sub_bytes(s, sbox=s_box):\n",
        "    return [[int(sbox[a]) for a in row] for row in s]\n",
        "\n",
        "def decrypt(key, ciphertext):\n",
        "    round_keys = expand_key(key) # Remember to start from the last round key and work backwards through them when decrypting\n",
        "\n",
        "    # Convert ciphertext to state matrix\n",
        "    state = bytes2matrix(ciphertext)\n",
        "\n",
        "    # Initial add round key step\n",
        "    state = add_round_key(state, round_keys.pop())\n",
        "\n",
        "    for i in range(N_ROUNDS - 1, 0, -1):\n",
        "        # Do round\n",
        "        inv_shift_rows(state)\n",
        "        state = sub_bytes(state, sbox=inv_s_box)\n",
        "        state = add_round_key(state, round_keys.pop())\n",
        "        inv_mix_columns(state)\n",
        "\n",
        "    # Run final round (skips the InvMixColumns step)\n",
        "    inv_shift_rows(state)\n",
        "    state = sub_bytes(state, sbox=inv_s_box)\n",
        "    state = add_round_key(state, round_keys.pop())\n",
        "\n",
        "    plaintext = matrix2bytes(state) # Convert state matrix to plaintext\n",
        "\n",
        "    return plaintext\n",
        "\n",
        "print(decrypt(key, ciphertext))"
      ],
      "metadata": {
        "colab": {
          "base_uri": "https://localhost:8080/"
        },
        "id": "RE0VfquqS428",
        "outputId": "8774de40-51ce-48d2-c920-4b94992c0514"
      },
      "execution_count": null,
      "outputs": [
        {
          "output_type": "stream",
          "name": "stdout",
          "text": [
            "b'crypto{MYAES128}'\n"
          ]
        }
      ]
    },
    {
      "cell_type": "markdown",
      "source": [
        "# **Modes of Operation Starter**\n",
        "\n",
        "El conjunto de desafíos anterior mostró cómo AES realiza una permutación clave en un bloque de datos. En la práctica, necesitamos cifrar mensajes mucho más largos que un solo bloque. Un modo de operación describe cómo utilizar un cifrado como AES en mensajes más largos.\n",
        "\n",
        "Todos los modos tienen serias debilidades cuando se usan incorrectamente. Los desafíos de esta categoría lo llevan a una sección diferente del sitio web donde puede interactuar con las API y explotar esas debilidades. ¡Familiarízate con la interfaz y úsala para tomar tu próxima bandera!"
      ],
      "metadata": {
        "id": "lxjxIUgJULXK"
      }
    },
    {
      "cell_type": "code",
      "source": [
        "from Crypto.Cipher import AES\n",
        "\n",
        "KEY = ?\n",
        "FLAG = ?\n",
        "\n",
        "@chal.route('/block_cipher_starter/decrypt/<ciphertext>/')\n",
        "def decrypt(ciphertext):\n",
        "    ciphertext = bytes.fromhex(ciphertext)\n",
        "\n",
        "    cipher = AES.new(KEY, AES.MODE_ECB)\n",
        "    try:\n",
        "        decrypted = cipher.decrypt(ciphertext)\n",
        "    except ValueError as e:\n",
        "        return {\"error\": str(e)}\n",
        "\n",
        "    return {\"plaintext\": decrypted.hex()}\n",
        "\n",
        "@chal.route('/block_cipher_starter/encrypt_flag/')\n",
        "def encrypt_flag():\n",
        "    cipher = AES.new(KEY, AES.MODE_ECB)\n",
        "    encrypted = cipher.encrypt(FLAG.encode())\n",
        "\n",
        "    return {\"ciphertext\": encrypted.hex()}"
      ],
      "metadata": {
        "colab": {
          "base_uri": "https://localhost:8080/",
          "height": 141
        },
        "id": "88dKgqZhVh4J",
        "outputId": "87bd63fa-ef2c-41cb-806e-aa9f6599bc1e"
      },
      "execution_count": null,
      "outputs": [
        {
          "output_type": "error",
          "ename": "SyntaxError",
          "evalue": "invalid syntax (<ipython-input-15-825932cf82f1>, line 3)",
          "traceback": [
            "\u001b[0;36m  File \u001b[0;32m\"<ipython-input-15-825932cf82f1>\"\u001b[0;36m, line \u001b[0;32m3\u001b[0m\n\u001b[0;31m    KEY = ?\u001b[0m\n\u001b[0m          ^\u001b[0m\n\u001b[0;31mSyntaxError\u001b[0m\u001b[0;31m:\u001b[0m invalid syntax\n"
          ]
        }
      ]
    },
    {
      "cell_type": "markdown",
      "source": [
        "# **Passwords as Keys**\n",
        "\n",
        "Es esencial que las claves en los algoritmos de clave simétrica sean bytes aleatorios, en lugar de contraseñas u otros datos predecibles. Los bytes aleatorios deben generarse utilizando un generador de números pseudoaleatorios criptográficamente seguro (CSPRNG). Si las claves son predecibles de alguna manera, entonces el nivel de seguridad del cifrado se reduce y es posible que un atacante que obtenga acceso al texto cifrado lo descifre.\n",
        "\n",
        "El hecho de que una clave parezca estar formada por bytes aleatorios no significa que necesariamente lo esté. En este caso, la clave se deriva de una contraseña simple utilizando una función hash, que hace que el texto cifrado se pueda descifrar.\n",
        "\n",
        "Para este desafío, puede enviar sus solicitudes HTTP a los puntos finales o, alternativamente, atacar el texto cifrado sin conexión. ¡Buena suerte!"
      ],
      "metadata": {
        "id": "wXsYjztFZVUM"
      }
    },
    {
      "cell_type": "code",
      "source": [
        "\n",
        "pip uninstall pycrypto -y"
      ],
      "metadata": {
        "colab": {
          "base_uri": "https://localhost:8080/"
        },
        "id": "sZmJLOKMag7J",
        "outputId": "d8576191-9f8a-4b6f-bd6c-2a50f9ad87a4"
      },
      "execution_count": null,
      "outputs": [
        {
          "output_type": "stream",
          "name": "stdout",
          "text": [
            "Found existing installation: pycrypto 2.6.1\n",
            "Uninstalling pycrypto-2.6.1:\n",
            "  Successfully uninstalled pycrypto-2.6.1\n"
          ]
        }
      ]
    },
    {
      "cell_type": "code",
      "source": [
        "pip install pycryptodome"
      ],
      "metadata": {
        "colab": {
          "base_uri": "https://localhost:8080/",
          "height": 201
        },
        "id": "G_r6eEoDcfna",
        "outputId": "15bc2e40-205a-42fa-d1fc-ce30577bf62b"
      },
      "execution_count": null,
      "outputs": [
        {
          "output_type": "stream",
          "name": "stdout",
          "text": [
            "Collecting pycryptodome\n",
            "  Downloading pycryptodome-3.19.1-cp35-abi3-manylinux_2_17_x86_64.manylinux2014_x86_64.whl (2.1 MB)\n",
            "\u001b[?25l     \u001b[90m━━━━━━━━━━━━━━━━━━━━━━━━━━━━━━━━━━━━━━━━\u001b[0m \u001b[32m0.0/2.1 MB\u001b[0m \u001b[31m?\u001b[0m eta \u001b[36m-:--:--\u001b[0m\r\u001b[2K     \u001b[91m━\u001b[0m\u001b[90m╺\u001b[0m\u001b[90m━━━━━━━━━━━━━━━━━━━━━━━━━━━━━━━━━━━━━━\u001b[0m \u001b[32m0.1/2.1 MB\u001b[0m \u001b[31m1.7 MB/s\u001b[0m eta \u001b[36m0:00:02\u001b[0m\r\u001b[2K     \u001b[91m━━━━━━━━━━━━━━━━━━━━━━━━━━━━━━━\u001b[0m\u001b[91m╸\u001b[0m\u001b[90m━━━━━━━━\u001b[0m \u001b[32m1.7/2.1 MB\u001b[0m \u001b[31m24.4 MB/s\u001b[0m eta \u001b[36m0:00:01\u001b[0m\r\u001b[2K     \u001b[90m━━━━━━━━━━━━━━━━━━━━━━━━━━━━━━━━━━━━━━━━\u001b[0m \u001b[32m2.1/2.1 MB\u001b[0m \u001b[31m22.3 MB/s\u001b[0m eta \u001b[36m0:00:00\u001b[0m\n",
            "\u001b[?25hInstalling collected packages: pycryptodome\n",
            "Successfully installed pycryptodome-3.19.1\n"
          ]
        },
        {
          "output_type": "display_data",
          "data": {
            "application/vnd.colab-display-data+json": {
              "pip_warning": {
                "packages": [
                  "Crypto"
                ]
              }
            }
          },
          "metadata": {}
        }
      ]
    },
    {
      "cell_type": "code",
      "source": [
        "\n",
        "from Crypto.Cipher import AES\n",
        "import hashlib\n",
        "\n",
        "ciphertext = bytes.fromhex('c92b7734070205bdf6c0087a751466ec13ae15e6f1bcdd3f3a535ec0f4bbae66')\n",
        "\n",
        "with open(\"words.txt\") as f:\n",
        "    words = [w.strip() for w in f.readlines()]\n",
        "\n",
        "for w in words:\n",
        "    key = hashlib.md5(w.encode()).digest()\n",
        "\n",
        "    cipher = AES.new(key, AES.MODE_ECB)\n",
        "    decrypted = cipher.decrypt(ciphertext)\n",
        "\n",
        "    if b'crypto' in decrypted:\n",
        "      print(\"plaintext\", decrypted)\n",
        "      print(\"password_hash\", key.hex())\n",
        "      exit"
      ],
      "metadata": {
        "colab": {
          "base_uri": "https://localhost:8080/"
        },
        "id": "hdjho1VYZpKO",
        "outputId": "f88afe30-2620-49c2-e937-a6519b43705f"
      },
      "execution_count": null,
      "outputs": [
        {
          "output_type": "stream",
          "name": "stdout",
          "text": [
            "plaintext b'crypto{k3y5__r__n07__p455w0rdz?}'\n",
            "password_hash d3e23f1eb6e79ed51133e0da48e98d4a\n"
          ]
        }
      ]
    },
    {
      "cell_type": "markdown",
      "source": [
        "# **ECB Oracle**\n",
        "\n",
        "ECB is the most simple mode, with each plaintext block encrypted entirely independently. In this case, your input is prepended to the secret flag and encrypted and that's it. We don't even provide a decrypt function. Perhaps you don't need a padding oracle when you have an \"ECB oracle\"?\n",
        "\n",
        "Play at https://aes.cryptohack.org/ecb_oracle"
      ],
      "metadata": {
        "id": "m3I4bJe2iEum"
      }
    },
    {
      "cell_type": "code",
      "source": [
        "import requests\n",
        "from Crypto.Util.Padding import pad\n",
        "\n",
        "url = 'https://aes.cryptohack.org/ecb_oracle/encrypt/'\n",
        "\n",
        "def encrypt(cipher):\n",
        "    if isinstance(cipher, str):\n",
        "        cipher = cipher.encode()\n",
        "\n",
        "    return requests.get(url + cipher.hex() + '/').json()['ciphertext']\n",
        "\n",
        "cipher = '\\x00' * 16\n",
        "\n",
        "init_length = len(encrypt(cipher)) // 2\n",
        "\n",
        "while True:\n",
        "    cipher += '\\x00'\n",
        "    length = len(encrypt(cipher)) // 2\n",
        "\n",
        "    if length != init_length:\n",
        "        flag_len = length - 16 - len(cipher) # padding and prefix length\n",
        "        break\n",
        "\n",
        "print('Flag length is', flag_len)\n",
        "\n",
        "flag = bytes()\n",
        "\n",
        "for i in range(flag_len):\n",
        "    for char in range(32, 127):\n",
        "        plain = pad(bytes([char]) + flag, 16)\n",
        "        plain += b'A' * ((i + 1 - flag_len) % 16)\n",
        "\n",
        "        data = encrypt(plain)\n",
        "\n",
        "        tmp = -((i + 1) // 16 + 1)\n",
        "\n",
        "        if tmp == -1:\n",
        "            oracle = data[-32:]\n",
        "        else:\n",
        "            oracle = data[32*tmp:32*(tmp+1)]\n",
        "\n",
        "        if data[:32] == oracle:\n",
        "            flag = bytes([char]) + flag\n",
        "            print(flag.decode())\n",
        "            break"
      ],
      "metadata": {
        "colab": {
          "base_uri": "https://localhost:8080/"
        },
        "id": "dPhwDnGEiFBN",
        "outputId": "322d75a0-b7df-45a5-af3f-b129eca2eb20"
      },
      "execution_count": null,
      "outputs": [
        {
          "output_type": "stream",
          "name": "stdout",
          "text": [
            "Flag length is 25\n",
            "}\n",
            "b}\n",
            "cb}\n",
            "3cb}\n",
            "_3cb}\n",
            "3_3cb}\n",
            "73_3cb}\n",
            "473_3cb}\n",
            "h473_3cb}\n",
            "_h473_3cb}\n",
            "5_h473_3cb}\n",
            "n5_h473_3cb}\n",
            "1n5_h473_3cb}\n",
            "u1n5_h473_3cb}\n",
            "6u1n5_h473_3cb}\n",
            "n6u1n5_h473_3cb}\n",
            "3n6u1n5_h473_3cb}\n",
            "p3n6u1n5_h473_3cb}\n",
            "{p3n6u1n5_h473_3cb}\n",
            "o{p3n6u1n5_h473_3cb}\n",
            "to{p3n6u1n5_h473_3cb}\n",
            "pto{p3n6u1n5_h473_3cb}\n",
            "ypto{p3n6u1n5_h473_3cb}\n",
            "rypto{p3n6u1n5_h473_3cb}\n",
            "crypto{p3n6u1n5_h473_3cb}\n"
          ]
        }
      ]
    },
    {
      "cell_type": "markdown",
      "source": [
        "# **ECB CBC WTF**\n",
        "\n",
        "Here you can encrypt in CBC but only decrypt in ECB. That shouldn't be a weakness because they're different modes... right?\n",
        "\n",
        "Play at https://aes.cryptohack.org/ecbcbcwtf"
      ],
      "metadata": {
        "id": "twTKFHoGjAjX"
      }
    },
    {
      "cell_type": "code",
      "source": [
        "pip install pwn\n"
      ],
      "metadata": {
        "colab": {
          "base_uri": "https://localhost:8080/"
        },
        "id": "43VjJ0Rr72D0",
        "outputId": "6c138350-1cda-4f22-9748-563868589dfa"
      },
      "execution_count": null,
      "outputs": [
        {
          "output_type": "stream",
          "name": "stdout",
          "text": [
            "Collecting pwn\n",
            "  Downloading pwn-1.0.tar.gz (1.1 kB)\n",
            "  Preparing metadata (setup.py) ... \u001b[?25l\u001b[?25hdone\n",
            "Requirement already satisfied: pwntools in /usr/local/lib/python3.10/dist-packages (from pwn) (4.11.1)\n",
            "Requirement already satisfied: paramiko>=1.15.2 in /usr/local/lib/python3.10/dist-packages (from pwntools->pwn) (3.4.0)\n",
            "Requirement already satisfied: mako>=1.0.0 in /usr/local/lib/python3.10/dist-packages (from pwntools->pwn) (1.3.0)\n",
            "Requirement already satisfied: capstone>=3.0.5rc2 in /usr/local/lib/python3.10/dist-packages (from pwntools->pwn) (5.0.1)\n",
            "Requirement already satisfied: ropgadget>=5.3 in /usr/local/lib/python3.10/dist-packages (from pwntools->pwn) (7.4)\n",
            "Requirement already satisfied: pyserial>=2.7 in /usr/local/lib/python3.10/dist-packages (from pwntools->pwn) (3.5)\n",
            "Requirement already satisfied: requests>=2.0 in /usr/local/lib/python3.10/dist-packages (from pwntools->pwn) (2.31.0)\n",
            "Requirement already satisfied: pip>=6.0.8 in /usr/local/lib/python3.10/dist-packages (from pwntools->pwn) (23.1.2)\n",
            "Requirement already satisfied: pygments>=2.0 in /usr/local/lib/python3.10/dist-packages (from pwntools->pwn) (2.16.1)\n",
            "Requirement already satisfied: pysocks in /usr/local/lib/python3.10/dist-packages (from pwntools->pwn) (1.7.1)\n",
            "Requirement already satisfied: python-dateutil in /usr/local/lib/python3.10/dist-packages (from pwntools->pwn) (2.8.2)\n",
            "Requirement already satisfied: packaging in /usr/local/lib/python3.10/dist-packages (from pwntools->pwn) (23.2)\n",
            "Requirement already satisfied: psutil>=3.3.0 in /usr/local/lib/python3.10/dist-packages (from pwntools->pwn) (5.9.5)\n",
            "Requirement already satisfied: intervaltree>=3.0 in /usr/local/lib/python3.10/dist-packages (from pwntools->pwn) (3.1.0)\n",
            "Requirement already satisfied: sortedcontainers in /usr/local/lib/python3.10/dist-packages (from pwntools->pwn) (2.4.0)\n",
            "Requirement already satisfied: unicorn>=1.0.2rc1 in /usr/local/lib/python3.10/dist-packages (from pwntools->pwn) (2.0.1.post1)\n",
            "Requirement already satisfied: six>=1.12.0 in /usr/local/lib/python3.10/dist-packages (from pwntools->pwn) (1.16.0)\n",
            "Requirement already satisfied: rpyc in /usr/local/lib/python3.10/dist-packages (from pwntools->pwn) (5.3.1)\n",
            "Requirement already satisfied: colored-traceback in /usr/local/lib/python3.10/dist-packages (from pwntools->pwn) (0.3.0)\n",
            "Requirement already satisfied: pyelftools>=0.24 in /usr/local/lib/python3.10/dist-packages (from pwntools->pwn) (0.30)\n",
            "Requirement already satisfied: MarkupSafe>=0.9.2 in /usr/local/lib/python3.10/dist-packages (from mako>=1.0.0->pwntools->pwn) (2.1.3)\n",
            "Requirement already satisfied: bcrypt>=3.2 in /usr/local/lib/python3.10/dist-packages (from paramiko>=1.15.2->pwntools->pwn) (4.1.2)\n",
            "Requirement already satisfied: cryptography>=3.3 in /usr/local/lib/python3.10/dist-packages (from paramiko>=1.15.2->pwntools->pwn) (41.0.7)\n",
            "Requirement already satisfied: pynacl>=1.5 in /usr/local/lib/python3.10/dist-packages (from paramiko>=1.15.2->pwntools->pwn) (1.5.0)\n",
            "Requirement already satisfied: charset-normalizer<4,>=2 in /usr/local/lib/python3.10/dist-packages (from requests>=2.0->pwntools->pwn) (3.3.2)\n",
            "Requirement already satisfied: idna<4,>=2.5 in /usr/local/lib/python3.10/dist-packages (from requests>=2.0->pwntools->pwn) (3.6)\n",
            "Requirement already satisfied: urllib3<3,>=1.21.1 in /usr/local/lib/python3.10/dist-packages (from requests>=2.0->pwntools->pwn) (2.0.7)\n",
            "Requirement already satisfied: certifi>=2017.4.17 in /usr/local/lib/python3.10/dist-packages (from requests>=2.0->pwntools->pwn) (2023.11.17)\n",
            "Requirement already satisfied: plumbum in /usr/local/lib/python3.10/dist-packages (from rpyc->pwntools->pwn) (1.8.2)\n",
            "Requirement already satisfied: cffi>=1.12 in /usr/local/lib/python3.10/dist-packages (from cryptography>=3.3->paramiko>=1.15.2->pwntools->pwn) (1.16.0)\n",
            "Requirement already satisfied: pycparser in /usr/local/lib/python3.10/dist-packages (from cffi>=1.12->cryptography>=3.3->paramiko>=1.15.2->pwntools->pwn) (2.21)\n",
            "Building wheels for collected packages: pwn\n",
            "  Building wheel for pwn (setup.py) ... \u001b[?25l\u001b[?25hdone\n",
            "  Created wheel for pwn: filename=pwn-1.0-py3-none-any.whl size=1202 sha256=42334df29330d4b9ef5a4976221087543d98e3b9419aefef7c36cb4ef426b1c6\n",
            "  Stored in directory: /root/.cache/pip/wheels/ea/d3/e8/aa8a78548a4b1d4e12ffd980597120d76d6695e06526027e53\n",
            "Successfully built pwn\n",
            "Installing collected packages: pwn\n",
            "Successfully installed pwn-1.0\n"
          ]
        }
      ]
    },
    {
      "cell_type": "code",
      "source": [
        "import requests\n",
        "from urllib.parse import urljoin\n",
        "\n",
        "def strxor(a, b):\n",
        "    if len(a) > len(b):\n",
        "        return bytes([x ^ y for (x, y) in zip(a[:len(b)], b)])\n",
        "    else:\n",
        "        return bytes([x ^ y for (x, y) in zip(a, b[:len(a)])])\n",
        "\n",
        "def get_flag_enc():\n",
        "    r = requests.get(urljoin(url, 'ecbcbcwtf/encrypt_flag/'))\n",
        "    a = r.json()\n",
        "    iv = bytes.fromhex(a['ciphertext'])[:16]\n",
        "    ciphertext = bytes.fromhex(a['ciphertext'])[16:]\n",
        "    return iv, ciphertext\n",
        "\n",
        "def get_plaintext_ecb(ciphertext):\n",
        "    r = requests.get(urljoin(url, 'ecbcbcwtf/decrypt/') + ciphertext + '/')\n",
        "    a = r.json()\n",
        "    p_0 = bytes.fromhex(a['plaintext'])[:16]\n",
        "    p_1 = bytes.fromhex(a['plaintext'])[16:]\n",
        "    return p_0, p_1\n",
        "\n",
        "url = 'http://aes.cryptohack.org/'\n",
        "iv, cipher = get_flag_enc()\n",
        "c_hex = cipher.hex()\n",
        "p_0, p_1 = get_plaintext_ecb(c_hex)\n",
        "\n",
        "actual1 = strxor(iv, p_0)\n",
        "actual2 = strxor(cipher[:16], p_1)\n",
        "\n",
        "print(actual1 + actual2)\n",
        "print(p_1.hex())\n"
      ],
      "metadata": {
        "id": "fJEyYaQRjA8y",
        "colab": {
          "base_uri": "https://localhost:8080/"
        },
        "outputId": "7a396c5a-2bdf-4ec9-8db5-fc40787df278"
      },
      "execution_count": null,
      "outputs": [
        {
          "output_type": "stream",
          "name": "stdout",
          "text": [
            "b'crypto{3cb_5uck5_4v01d_17_!!!!!}'\n",
            "d33154140431720c7f83cbad94126f82\n"
          ]
        }
      ]
    },
    {
      "cell_type": "markdown",
      "source": [
        "# **Flipping Cookie**\n",
        "\n",
        "You can get a cookie for my website, but it won't help you read the flag... I think."
      ],
      "metadata": {
        "id": "PU7I7QZW-Oet"
      }
    },
    {
      "cell_type": "code",
      "source": [
        "pip install --upgrade pwntools\n"
      ],
      "metadata": {
        "colab": {
          "base_uri": "https://localhost:8080/"
        },
        "id": "esllmO9Z_r-R",
        "outputId": "dda36c3e-736d-40a4-90f8-bbb4f8a67be8"
      },
      "execution_count": null,
      "outputs": [
        {
          "output_type": "stream",
          "name": "stdout",
          "text": [
            "Requirement already satisfied: pwntools in /usr/local/lib/python3.10/dist-packages (4.11.1)\n",
            "Requirement already satisfied: paramiko>=1.15.2 in /usr/local/lib/python3.10/dist-packages (from pwntools) (3.4.0)\n",
            "Requirement already satisfied: mako>=1.0.0 in /usr/local/lib/python3.10/dist-packages (from pwntools) (1.3.0)\n",
            "Requirement already satisfied: capstone>=3.0.5rc2 in /usr/local/lib/python3.10/dist-packages (from pwntools) (5.0.1)\n",
            "Requirement already satisfied: ropgadget>=5.3 in /usr/local/lib/python3.10/dist-packages (from pwntools) (7.4)\n",
            "Requirement already satisfied: pyserial>=2.7 in /usr/local/lib/python3.10/dist-packages (from pwntools) (3.5)\n",
            "Requirement already satisfied: requests>=2.0 in /usr/local/lib/python3.10/dist-packages (from pwntools) (2.31.0)\n",
            "Requirement already satisfied: pip>=6.0.8 in /usr/local/lib/python3.10/dist-packages (from pwntools) (23.1.2)\n",
            "Requirement already satisfied: pygments>=2.0 in /usr/local/lib/python3.10/dist-packages (from pwntools) (2.16.1)\n",
            "Requirement already satisfied: pysocks in /usr/local/lib/python3.10/dist-packages (from pwntools) (1.7.1)\n",
            "Requirement already satisfied: python-dateutil in /usr/local/lib/python3.10/dist-packages (from pwntools) (2.8.2)\n",
            "Requirement already satisfied: packaging in /usr/local/lib/python3.10/dist-packages (from pwntools) (23.2)\n",
            "Requirement already satisfied: psutil>=3.3.0 in /usr/local/lib/python3.10/dist-packages (from pwntools) (5.9.5)\n",
            "Requirement already satisfied: intervaltree>=3.0 in /usr/local/lib/python3.10/dist-packages (from pwntools) (3.1.0)\n",
            "Requirement already satisfied: sortedcontainers in /usr/local/lib/python3.10/dist-packages (from pwntools) (2.4.0)\n",
            "Requirement already satisfied: unicorn>=1.0.2rc1 in /usr/local/lib/python3.10/dist-packages (from pwntools) (2.0.1.post1)\n",
            "Requirement already satisfied: six>=1.12.0 in /usr/local/lib/python3.10/dist-packages (from pwntools) (1.16.0)\n",
            "Requirement already satisfied: rpyc in /usr/local/lib/python3.10/dist-packages (from pwntools) (5.3.1)\n",
            "Requirement already satisfied: colored-traceback in /usr/local/lib/python3.10/dist-packages (from pwntools) (0.3.0)\n",
            "Requirement already satisfied: pyelftools>=0.24 in /usr/local/lib/python3.10/dist-packages (from pwntools) (0.30)\n",
            "Requirement already satisfied: MarkupSafe>=0.9.2 in /usr/local/lib/python3.10/dist-packages (from mako>=1.0.0->pwntools) (2.1.3)\n",
            "Requirement already satisfied: bcrypt>=3.2 in /usr/local/lib/python3.10/dist-packages (from paramiko>=1.15.2->pwntools) (4.1.2)\n",
            "Requirement already satisfied: cryptography>=3.3 in /usr/local/lib/python3.10/dist-packages (from paramiko>=1.15.2->pwntools) (41.0.7)\n",
            "Requirement already satisfied: pynacl>=1.5 in /usr/local/lib/python3.10/dist-packages (from paramiko>=1.15.2->pwntools) (1.5.0)\n",
            "Requirement already satisfied: charset-normalizer<4,>=2 in /usr/local/lib/python3.10/dist-packages (from requests>=2.0->pwntools) (3.3.2)\n",
            "Requirement already satisfied: idna<4,>=2.5 in /usr/local/lib/python3.10/dist-packages (from requests>=2.0->pwntools) (3.6)\n",
            "Requirement already satisfied: urllib3<3,>=1.21.1 in /usr/local/lib/python3.10/dist-packages (from requests>=2.0->pwntools) (2.0.7)\n",
            "Requirement already satisfied: certifi>=2017.4.17 in /usr/local/lib/python3.10/dist-packages (from requests>=2.0->pwntools) (2023.11.17)\n",
            "Requirement already satisfied: plumbum in /usr/local/lib/python3.10/dist-packages (from rpyc->pwntools) (1.8.2)\n",
            "Requirement already satisfied: cffi>=1.12 in /usr/local/lib/python3.10/dist-packages (from cryptography>=3.3->paramiko>=1.15.2->pwntools) (1.16.0)\n",
            "Requirement already satisfied: pycparser in /usr/local/lib/python3.10/dist-packages (from cffi>=1.12->cryptography>=3.3->paramiko>=1.15.2->pwntools) (2.21)\n"
          ]
        }
      ]
    },
    {
      "cell_type": "code",
      "source": [
        "import requests\n",
        "from Crypto.Util.number import bytes_to_long, long_to_bytes\n",
        "\n",
        "def get_cookie():\n",
        "    url = \"http://aes.cryptohack.org/flipping_cookie/get_cookie/\"\n",
        "    r = requests.get(url)\n",
        "    js = r.json()\n",
        "    return bytes.fromhex(js[\"cookie\"])\n",
        "\n",
        "def response(cookie, iv):\n",
        "    url = \"http://aes.cryptohack.org/flipping_cookie/check_admin/\"\n",
        "    url += cookie.hex() + \"/\"\n",
        "    url += iv.hex() + \"/\"\n",
        "\n",
        "    r = requests.get(url)\n",
        "\n",
        "    if r.status_code == 200:\n",
        "        js = r.json()\n",
        "        admin_flag = js.get(\"flag\", None)\n",
        "\n",
        "        if admin_flag is not None:\n",
        "            print(f\"Admin flag value: {admin_flag}\")\n",
        "        else:\n",
        "            print(\"Error: 'flag' key not found in the response.\")\n",
        "    else:\n",
        "        print(f\"Error: HTTP request failed with status code {r.status_code}\")\n",
        "\n",
        "def xor(a, b):\n",
        "    return long_to_bytes(bytes_to_long(a) ^ bytes_to_long(b))\n",
        "\n",
        "cookie = get_cookie()\n",
        "origin = b'admin=False;expi'\n",
        "goal = b'admin=True;\\x05\\x05\\x05\\x05\\x05'\n",
        "\n",
        "iv = cookie[:16]\n",
        "block1 = cookie[16:32]\n",
        "block2 = cookie[32:]\n",
        "\n",
        "send_iv = xor(xor(origin, goal), iv)\n",
        "\n",
        "response(block1, send_iv)\n"
      ],
      "metadata": {
        "colab": {
          "base_uri": "https://localhost:8080/"
        },
        "id": "thBScGFd-SYn",
        "outputId": "a3fb3030-6801-467c-b0ee-2884c472ace3"
      },
      "execution_count": null,
      "outputs": [
        {
          "output_type": "stream",
          "name": "stdout",
          "text": [
            "Admin flag value: crypto{4u7h3n71c4710n_15_3553n714l}\n"
          ]
        }
      ]
    },
    {
      "cell_type": "markdown",
      "source": [
        "Symmetry"
      ],
      "metadata": {
        "id": "_si12sqtCbP3"
      }
    },
    {
      "cell_type": "code",
      "source": [
        "import requests\n",
        "\n",
        "url_base = 'http://aes.cryptohack.org/symmetry'\n",
        "\n",
        "BLOCK_SIZE = 16\n",
        "\n",
        "def hack():\n",
        "  response = requests.get(url=\"%s/encrypt_flag/\" % url_base).json()\n",
        "  ciphertext = bytes.fromhex(response['ciphertext'])\n",
        "\n",
        "\n",
        "  iv, ciphertext = ciphertext[:BLOCK_SIZE], ciphertext[BLOCK_SIZE:]\n",
        "\n",
        "\n",
        "  response = requests.get(url=\"%s/encrypt/%s/%s\" % (url_base, ciphertext.hex(), iv.hex())).json()\n",
        "  plaintext = bytes.fromhex(response['ciphertext'])\n",
        "  return plaintext.decode()\n",
        "\n",
        "if __name__ == '__main__':\n",
        "  flag = hack()\n",
        "  print(flag)"
      ],
      "metadata": {
        "colab": {
          "base_uri": "https://localhost:8080/"
        },
        "id": "JTudEVJwCbs4",
        "outputId": "e46c8dad-bffa-43de-fc35-eab2cc09232a"
      },
      "execution_count": null,
      "outputs": [
        {
          "output_type": "stream",
          "name": "stdout",
          "text": [
            "crypto{0fb_15_5ymm37r1c4l_!!!11!}\n"
          ]
        }
      ]
    },
    {
      "cell_type": "markdown",
      "source": [
        "# **Bean Counter**\n",
        "\n",
        "I've struggled to get PyCrypto's counter mode doing what I want, so I've turned ECB mode into CTR myself. My counter can go both upwards and downwards to throw off cryptanalysts! There's no chance they'll be able to read my picture.\n",
        "\n",
        "Play at https://aes.cryptohack.org/bean_counter"
      ],
      "metadata": {
        "id": "5Z7c9OZvDqM8"
      }
    },
    {
      "cell_type": "code",
      "source": [
        "import requests\n",
        "from io import BytesIO\n",
        "from PIL import Image\n",
        "URL = \"http://aes.cryptohack.org/bean_counter/\"\n",
        "xor = lambda x,y: bytes([i^j for i,j in zip(x,y)])\n",
        "png_header = bytes.fromhex(\"89504e470d0a1a0a0000000d49484452\")\n",
        "enc_png = bytes.fromhex(requests.get(f\"{URL}/encrypt\").json()['encrypted'])\n",
        "key = xor(png_header, enc_png[:len(png_header)])\n",
        "flag_png = xor(enc_png, key * ( len(enc_png) // len(key) ))\n",
        "Image.open(BytesIO(flag_png))"
      ],
      "metadata": {
        "colab": {
          "base_uri": "https://localhost:8080/",
          "height": 136
        },
        "id": "tw4mGd-_Dpsl",
        "outputId": "403550a1-0e63-4c25-a48e-4e6a462ab824"
      },
      "execution_count": null,
      "outputs": [
        {
          "output_type": "execute_result",
          "data": {
            "text/plain": [
              "<PIL.PngImagePlugin.PngImageFile image mode=RGBA size=300x119>"
            ],
            "image/png": "[encoded data removed]"
          },
          "metadata": {},
          "execution_count": 42
        }
      ]
    },
    {
      "cell_type": "code",
      "source": [],
      "metadata": {
        "id": "gsFQoHFMDtNU"
      },
      "execution_count": null,
      "outputs": []
    }
  ]
}