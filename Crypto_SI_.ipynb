{
  "nbformat": 4,
  "nbformat_minor": 0,
  "metadata": {
    "colab": {
      "provenance": []
    },
    "kernelspec": {
      "name": "python3",
      "display_name": "Python 3"
    },
    "language_info": {
      "name": "python"
    }
  },
  "cells": [
    {
      "cell_type": "markdown",
      "source": [
        "***PRIMER CHALLENGER DE CRYPTOHACK***\n"
      ],
      "metadata": {
        "id": "chUcwvQRR1Vx"
      }
    },
    {
      "cell_type": "code",
      "execution_count": null,
      "metadata": {
        "id": "zMl2ZWjwjIEb",
        "colab": {
          "base_uri": "https://localhost:8080/"
        },
        "outputId": "4eeddf0f-ccf9-457f-ed1b-8f16ae63f6b7"
      },
      "outputs": [
        {
          "output_type": "stream",
          "name": "stdout",
          "text": [
            "Ingrese el texto cifrado: ESAF USKZ HWGHDW AFBMJQ\n",
            "Ingrese el número de espacios para descifrar: 18\n",
            "Texto descifrado: MAIN CASH PEOPLE INJURY\n"
          ]
        }
      ],
      "source": [
        "def decrypt_caesar_cipher(text, shift):\n",
        "    result = \"\"\n",
        "    for char in text:\n",
        "        if char.isalpha():\n",
        "            start = ord('A') if char.isupper() else ord('a')\n",
        "            result += chr((ord(char) - start - shift) % 26 + start)\n",
        "        else:\n",
        "            result += char\n",
        "    return result\n",
        "\n",
        "# Solicitar al usuario el texto cifrado y el salto utilizado para cifrar\n",
        "cipher_text = input(\"Ingrese el texto cifrado: \")\n",
        "shift_decrypt = int(input(\"Ingrese el número de espacios para descifrar: \"))\n",
        "\n",
        "# Aplicar el descifrado y mostrar el resultado\n",
        "decrypted_text = decrypt_caesar_cipher(cipher_text, shift_decrypt)\n",
        "print(\"Texto descifrado:\", decrypted_text)\n"
      ]
    },
    {
      "cell_type": "markdown",
      "source": [
        "Versión 2.0 Cifrado Cesar"
      ],
      "metadata": {
        "id": "IzwNS2cGRjRS"
      }
    },
    {
      "cell_type": "code",
      "source": [
        "def decrypt_caesar_cipher(text, shift):\n",
        "    result = \"\"\n",
        "    for char in text:\n",
        "        if char.isalpha():\n",
        "            start = ord('A') if char.isupper() else ord('a')\n",
        "            result += chr((ord(char) - start - shift) % 26 + start)\n",
        "        else:\n",
        "            result += char\n",
        "    return result\n",
        "\n",
        "# Solicitar al usuario el texto cifrado\n",
        "cipher_text = input(\"Ingrese el texto cifrado: \")\n",
        "\n",
        "# Definir la secuencia de números de espacios\n",
        "shift_values = range(1, 26)  # Ejemplo: del 1 al 10\n",
        "\n",
        "# Iterar sobre la secuencia y aplicar el descifrado para cada número de espacios\n",
        "for shift_decrypt in shift_values:\n",
        "    decrypted_text = decrypt_caesar_cipher(cipher_text, shift_decrypt)\n",
        "    print(f\"Texto descifrado con {shift_decrypt} espacios:\", decrypted_text)\n"
      ],
      "metadata": {
        "colab": {
          "base_uri": "https://localhost:8080/"
        },
        "id": "RqV4UT0HRlt6",
        "outputId": "1a6bd437-e4fb-424b-b909-cc46790b6d2f"
      },
      "execution_count": null,
      "outputs": [
        {
          "output_type": "stream",
          "name": "stdout",
          "text": [
            "Ingrese el texto cifrado: ESAF USKZ HWGHDW AFBMJQ\n",
            "Texto descifrado con 1 espacios: DRZE TRJY GVFGCV ZEALIP\n",
            "Texto descifrado con 2 espacios: CQYD SQIX FUEFBU YDZKHO\n",
            "Texto descifrado con 3 espacios: BPXC RPHW ETDEAT XCYJGN\n",
            "Texto descifrado con 4 espacios: AOWB QOGV DSCDZS WBXIFM\n",
            "Texto descifrado con 5 espacios: ZNVA PNFU CRBCYR VAWHEL\n",
            "Texto descifrado con 6 espacios: YMUZ OMET BQABXQ UZVGDK\n",
            "Texto descifrado con 7 espacios: XLTY NLDS APZAWP TYUFCJ\n",
            "Texto descifrado con 8 espacios: WKSX MKCR ZOYZVO SXTEBI\n",
            "Texto descifrado con 9 espacios: VJRW LJBQ YNXYUN RWSDAH\n",
            "Texto descifrado con 10 espacios: UIQV KIAP XMWXTM QVRCZG\n",
            "Texto descifrado con 11 espacios: THPU JHZO WLVWSL PUQBYF\n",
            "Texto descifrado con 12 espacios: SGOT IGYN VKUVRK OTPAXE\n",
            "Texto descifrado con 13 espacios: RFNS HFXM UJTUQJ NSOZWD\n",
            "Texto descifrado con 14 espacios: QEMR GEWL TISTPI MRNYVC\n",
            "Texto descifrado con 15 espacios: PDLQ FDVK SHRSOH LQMXUB\n",
            "Texto descifrado con 16 espacios: OCKP ECUJ RGQRNG KPLWTA\n",
            "Texto descifrado con 17 espacios: NBJO DBTI QFPQMF JOKVSZ\n",
            "Texto descifrado con 18 espacios: MAIN CASH PEOPLE INJURY\n",
            "Texto descifrado con 19 espacios: LZHM BZRG ODNOKD HMITQX\n",
            "Texto descifrado con 20 espacios: KYGL AYQF NCMNJC GLHSPW\n",
            "Texto descifrado con 21 espacios: JXFK ZXPE MBLMIB FKGROV\n",
            "Texto descifrado con 22 espacios: IWEJ YWOD LAKLHA EJFQNU\n",
            "Texto descifrado con 23 espacios: HVDI XVNC KZJKGZ DIEPMT\n",
            "Texto descifrado con 24 espacios: GUCH WUMB JYIJFY CHDOLS\n",
            "Texto descifrado con 25 espacios: FTBG VTLA IXHIEX BGCNKR\n"
          ]
        }
      ]
    },
    {
      "cell_type": "markdown",
      "source": [
        "***SEGUNDO CHALLENGER DE CRYPTOHACK. Great Snakes***\n",
        "\n",
        "\n",
        "\n",
        "\n"
      ],
      "metadata": {
        "id": "R_uaJbXASEF0"
      }
    },
    {
      "cell_type": "code",
      "source": [
        "#!/usr/bin/env python3\n",
        "\n",
        "import sys\n",
        "# import this\n",
        "\n",
        "if sys.version_info.major == 2:\n",
        "    print(\"You are running Python 2, which is no longer supported. Please update to Python 3.\")\n",
        "\n",
        "ords = [81, 64, 75, 66, 70, 93, 73, 72, 1, 92, 109, 2, 84, 109, 66, 75, 70, 90, 2, 92, 79]\n",
        "\n",
        "print(\"Here is your flag:\")\n",
        "print(\"\".join(chr(o ^ 0x32) for o in ords))\n"
      ],
      "metadata": {
        "colab": {
          "base_uri": "https://localhost:8080/"
        },
        "id": "wQ49-AeXjkcW",
        "outputId": "b7e08c75-dd55-447b-c63f-9bcf51667cab"
      },
      "execution_count": null,
      "outputs": [
        {
          "output_type": "stream",
          "name": "stdout",
          "text": [
            "Here is your flag:\n",
            "crypto{z3n_0f_pyth0n}\n"
          ]
        }
      ]
    },
    {
      "cell_type": "code",
      "source": [
        "pip install pwntools\n"
      ],
      "metadata": {
        "colab": {
          "base_uri": "https://localhost:8080/"
        },
        "id": "htyrysRbPnrm",
        "outputId": "f11d5649-1b78-408b-eaa9-ce316827df64"
      },
      "execution_count": null,
      "outputs": [
        {
          "output_type": "stream",
          "name": "stdout",
          "text": [
            "Requirement already satisfied: pwntools in /usr/local/lib/python3.10/dist-packages (4.11.1)\n",
            "Requirement already satisfied: paramiko>=1.15.2 in /usr/local/lib/python3.10/dist-packages (from pwntools) (3.3.1)\n",
            "Requirement already satisfied: mako>=1.0.0 in /usr/local/lib/python3.10/dist-packages (from pwntools) (1.3.0)\n",
            "Requirement already satisfied: capstone>=3.0.5rc2 in /usr/local/lib/python3.10/dist-packages (from pwntools) (5.0.1)\n",
            "Requirement already satisfied: ropgadget>=5.3 in /usr/local/lib/python3.10/dist-packages (from pwntools) (7.4)\n",
            "Requirement already satisfied: pyserial>=2.7 in /usr/local/lib/python3.10/dist-packages (from pwntools) (3.5)\n",
            "Requirement already satisfied: requests>=2.0 in /usr/local/lib/python3.10/dist-packages (from pwntools) (2.31.0)\n",
            "Requirement already satisfied: pip>=6.0.8 in /usr/local/lib/python3.10/dist-packages (from pwntools) (23.1.2)\n",
            "Requirement already satisfied: pygments>=2.0 in /usr/local/lib/python3.10/dist-packages (from pwntools) (2.16.1)\n",
            "Requirement already satisfied: pysocks in /usr/local/lib/python3.10/dist-packages (from pwntools) (1.7.1)\n",
            "Requirement already satisfied: python-dateutil in /usr/local/lib/python3.10/dist-packages (from pwntools) (2.8.2)\n",
            "Requirement already satisfied: packaging in /usr/local/lib/python3.10/dist-packages (from pwntools) (23.2)\n",
            "Requirement already satisfied: psutil>=3.3.0 in /usr/local/lib/python3.10/dist-packages (from pwntools) (5.9.5)\n",
            "Requirement already satisfied: intervaltree>=3.0 in /usr/local/lib/python3.10/dist-packages (from pwntools) (3.1.0)\n",
            "Requirement already satisfied: sortedcontainers in /usr/local/lib/python3.10/dist-packages (from pwntools) (2.4.0)\n",
            "Requirement already satisfied: unicorn>=1.0.2rc1 in /usr/local/lib/python3.10/dist-packages (from pwntools) (2.0.1.post1)\n",
            "Requirement already satisfied: six>=1.12.0 in /usr/local/lib/python3.10/dist-packages (from pwntools) (1.16.0)\n",
            "Requirement already satisfied: rpyc in /usr/local/lib/python3.10/dist-packages (from pwntools) (5.3.1)\n",
            "Requirement already satisfied: colored-traceback in /usr/local/lib/python3.10/dist-packages (from pwntools) (0.3.0)\n",
            "Requirement already satisfied: pyelftools>=0.24 in /usr/local/lib/python3.10/dist-packages (from pwntools) (0.30)\n",
            "Requirement already satisfied: MarkupSafe>=0.9.2 in /usr/local/lib/python3.10/dist-packages (from mako>=1.0.0->pwntools) (2.1.3)\n",
            "Requirement already satisfied: bcrypt>=3.2 in /usr/local/lib/python3.10/dist-packages (from paramiko>=1.15.2->pwntools) (4.1.1)\n",
            "Requirement already satisfied: cryptography>=3.3 in /usr/local/lib/python3.10/dist-packages (from paramiko>=1.15.2->pwntools) (41.0.5)\n",
            "Requirement already satisfied: pynacl>=1.5 in /usr/local/lib/python3.10/dist-packages (from paramiko>=1.15.2->pwntools) (1.5.0)\n",
            "Requirement already satisfied: charset-normalizer<4,>=2 in /usr/local/lib/python3.10/dist-packages (from requests>=2.0->pwntools) (3.3.2)\n",
            "Requirement already satisfied: idna<4,>=2.5 in /usr/local/lib/python3.10/dist-packages (from requests>=2.0->pwntools) (3.4)\n",
            "Requirement already satisfied: urllib3<3,>=1.21.1 in /usr/local/lib/python3.10/dist-packages (from requests>=2.0->pwntools) (2.0.7)\n",
            "Requirement already satisfied: certifi>=2017.4.17 in /usr/local/lib/python3.10/dist-packages (from requests>=2.0->pwntools) (2023.7.22)\n",
            "Requirement already satisfied: plumbum in /usr/local/lib/python3.10/dist-packages (from rpyc->pwntools) (1.8.2)\n",
            "Requirement already satisfied: cffi>=1.12 in /usr/local/lib/python3.10/dist-packages (from cryptography>=3.3->paramiko>=1.15.2->pwntools) (1.16.0)\n",
            "Requirement already satisfied: pycparser in /usr/local/lib/python3.10/dist-packages (from cffi>=1.12->cryptography>=3.3->paramiko>=1.15.2->pwntools) (2.21)\n"
          ]
        }
      ]
    },
    {
      "cell_type": "markdown",
      "source": [
        "***SEGUNDO CHALLENGER DE CRYPTOHACK. Network Attacks***"
      ],
      "metadata": {
        "id": "fis89xIKSL54"
      }
    },
    {
      "cell_type": "code",
      "source": [
        "#!/usr/bin/env python3\n",
        "\n",
        "import telnetlib\n",
        "import json\n",
        "\n",
        "HOST = \"socket.cryptohack.org\"\n",
        "PORT = 11112\n",
        "\n",
        "tn = telnetlib.Telnet(HOST, PORT)\n",
        "\n",
        "\n",
        "def readline():\n",
        "    return tn.read_until(b\"\\n\")\n",
        "\n",
        "def json_recv():\n",
        "    line = readline()\n",
        "    return json.loads(line.decode())\n",
        "\n",
        "def json_send(hsh):\n",
        "    request = json.dumps(hsh).encode()\n",
        "    tn.write(request)\n",
        "\n",
        "\n",
        "print(readline())\n",
        "print(readline())\n",
        "print(readline())\n",
        "print(readline())\n",
        "\n",
        "\n",
        "request = {\n",
        "    \"buy\": \"Flag\"\n",
        "}\n",
        "json_send(request)\n",
        "\n",
        "response = json_recv()\n",
        "\n",
        "print(response)"
      ],
      "metadata": {
        "colab": {
          "base_uri": "https://localhost:8080/"
        },
        "id": "nXGD0f1XPMD7",
        "outputId": "ff06230a-9ebe-43d7-ef0b-c6fd4a499aef"
      },
      "execution_count": null,
      "outputs": [
        {
          "output_type": "stream",
          "name": "stdout",
          "text": [
            "b\"Welcome to netcat's flag shop!\\n\"\n",
            "b'What would you like to buy?\\n'\n",
            "b\"I only speak JSON, I hope that's ok.\\n\"\n",
            "b'\\n'\n",
            "{'flag': 'crypto{sh0pp1ng_f0r_fl4g5}'}\n"
          ]
        }
      ]
    },
    {
      "cell_type": "code",
      "source": [],
      "metadata": {
        "id": "zen66Fh0kS0P"
      },
      "execution_count": null,
      "outputs": []
    }
  ]
}