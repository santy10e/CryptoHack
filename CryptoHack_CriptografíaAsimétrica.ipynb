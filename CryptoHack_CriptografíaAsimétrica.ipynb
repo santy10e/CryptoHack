{
  "nbformat": 4,
  "nbformat_minor": 0,
  "metadata": {
    "colab": {
      "provenance": []
    },
    "kernelspec": {
      "name": "python3",
      "display_name": "Python 3"
    },
    "language_info": {
      "name": "python"
    }
  },
  "cells": [
    {
      "cell_type": "markdown",
      "source": [
        "# **RSA Starter 1**\n",
        "\n",
        "All operations in RSA involve modular exponentiation.\n",
        "\n",
        "Modular exponentiation is an operation that is used extensively in cryptography and is normally written like: 210 mod 17\n",
        "\n",
        "You can think of this as raising some number to a certain power (210 = 1024), and then taking the remainder of the division by some other number (1024 mod 17 = 4). In Python there's a built-in operator for performing this operation: pow(base, exponent, modulus)\n",
        "\n",
        "In RSA, modular exponentiation, together with the problem of prime factorisation, helps us to build a \"trapdoor function\". This is a function that is easy to compute in one direction, but hard to do in reverse unless you have the right information. It allows us to encrypt a message, and only the person with the key can perform the inverse operation to decrypt it.\n",
        "\n",
        "Find the solution to 10117 mod 22663"
      ],
      "metadata": {
        "id": "9AJNLuiFvRa9"
      }
    },
    {
      "cell_type": "code",
      "execution_count": null,
      "metadata": {
        "colab": {
          "base_uri": "https://localhost:8080/"
        },
        "id": "jHyCi0ncu91q",
        "outputId": "aa4973b0-26f8-4ae5-a101-8ad42d21d231"
      },
      "outputs": [
        {
          "output_type": "stream",
          "name": "stdout",
          "text": [
            "19906\n"
          ]
        }
      ],
      "source": [
        "print((pow(101,17,22663)))"
      ]
    },
    {
      "cell_type": "markdown",
      "source": [
        "# **RSA Starter 2**\n",
        "\n",
        "RSA encryption is modular exponentiation of a message with an exponent e and a modulus N which is normally a product of two primes: N = p * q.\n",
        "\n",
        "Together the exponent and modulus form an RSA \"public key\" (N, e). The most common value for e is 0x10001 or 65537.\n",
        "\n",
        "\"Encrypt\" the number 12 using the exponent e = 65537 and the primes p = 17 and q = 23. What number do you get as the ciphertext?"
      ],
      "metadata": {
        "id": "vlEj_FeOzaWF"
      }
    },
    {
      "cell_type": "code",
      "source": [
        "m =12\n",
        "e = 65537\n",
        "p = 17\n",
        "q = 23\n",
        "n = p*q\n",
        "print(pow(m,e,n))"
      ],
      "metadata": {
        "colab": {
          "base_uri": "https://localhost:8080/"
        },
        "id": "QolWw2ROzdF0",
        "outputId": "5845bddf-73cd-4907-8ebe-cca0d0455305"
      },
      "execution_count": null,
      "outputs": [
        {
          "output_type": "stream",
          "name": "stdout",
          "text": [
            "301\n"
          ]
        }
      ]
    },
    {
      "cell_type": "markdown",
      "source": [
        "# **RSA Starter 3**\n",
        "\n",
        "RSA relies on the difficulty of the factorisation of the modulus N. If the primes can be found then we can calculate the Euler totient of N and thus decrypt the ciphertext.\n",
        "\n",
        "Given N = p*q and two primes:\n",
        "\n",
        "p = 857504083339712752489993810777\n",
        "\n",
        "q = 1029224947942998075080348647219\n",
        "\n",
        "What is the totient of N?"
      ],
      "metadata": {
        "id": "PX0ci8q20wQZ"
      }
    },
    {
      "cell_type": "code",
      "source": [
        "fn =(p-1)*(q-1)\n",
        "print(fn)"
      ],
      "metadata": {
        "colab": {
          "base_uri": "https://localhost:8080/"
        },
        "id": "Z_csxCso0zwu",
        "outputId": "2e0784ad-dd60-4513-9409-e6343b8fb6b5"
      },
      "execution_count": null,
      "outputs": [
        {
          "output_type": "stream",
          "name": "stdout",
          "text": [
            "352\n"
          ]
        }
      ]
    },
    {
      "cell_type": "code",
      "source": [
        "def euler_totient(p, q):\n",
        "    fn = (p - 1) * (q - 1)\n",
        "    return fn\n",
        "\n",
        "p = 857504083339712752489993810777\n",
        "q = 1029224947942998075080348647219\n",
        "resultado = euler_totient(p, q)\n",
        "\n",
        "print(f\"El resultado de la función totiente de Euler (φ(n)) para p={p} y q={q} es: {resultado}\")\n"
      ],
      "metadata": {
        "colab": {
          "base_uri": "https://localhost:8080/"
        },
        "id": "adBVRhIJ1o4t",
        "outputId": "67ab83c2-da6b-47a9-dd5e-3eb541d54d36"
      },
      "execution_count": null,
      "outputs": [
        {
          "output_type": "stream",
          "name": "stdout",
          "text": [
            "El resultado de la función totiente de Euler (φ(n)) para p=857504083339712752489993810777 y q=1029224947942998075080348647219 es: 882564595536224140639625987657529300394956519977044270821168\n"
          ]
        }
      ]
    },
    {
      "cell_type": "markdown",
      "source": [
        "# **RSA Starter 4**\n",
        "\n",
        "The private key d is used to decrypt ciphertexts created with the corresponding public key (it's also used to \"sign\" a message but we'll get to that later).\n",
        "\n",
        "The private key is the secret piece of information or \"trapdoor\" which allows us to quickly invert the encryption function. If RSA is implemented well, if you do not have the private key the fastest way to decrypt the ciphertext is to first factorise the modulus.\n",
        "\n",
        "In RSA the private key is the modular multiplicative inverse of the exponent e modulo the totient of N.\n",
        "\n",
        "Given the two primes:\n",
        "\n",
        "p = 857504083339712752489993810777\n",
        "\n",
        "q = 1029224947942998075080348647219\n",
        "\n",
        "and the exponent:\n",
        "\n",
        "e = 65537\n",
        "\n",
        "What is the private key d?"
      ],
      "metadata": {
        "id": "S2kB_C_h2HOo"
      }
    },
    {
      "cell_type": "code",
      "source": [
        "pip install gmpy2"
      ],
      "metadata": {
        "colab": {
          "base_uri": "https://localhost:8080/"
        },
        "id": "JGnaYYrL25SX",
        "outputId": "6ee7129a-b1dd-4a75-b1c0-1745fd6f3bfb"
      },
      "execution_count": null,
      "outputs": [
        {
          "output_type": "stream",
          "name": "stdout",
          "text": [
            "Collecting gmpy2\n",
            "  Downloading gmpy2-2.1.5-cp310-cp310-manylinux_2_17_x86_64.manylinux2014_x86_64.whl (1.7 MB)\n",
            "\u001b[2K     \u001b[90m━━━━━━━━━━━━━━━━━━━━━━━━━━━━━━━━━━━━━━━━\u001b[0m \u001b[32m1.7/1.7 MB\u001b[0m \u001b[31m16.1 MB/s\u001b[0m eta \u001b[36m0:00:00\u001b[0m\n",
            "\u001b[?25hInstalling collected packages: gmpy2\n",
            "Successfully installed gmpy2-2.1.5\n"
          ]
        }
      ]
    },
    {
      "cell_type": "code",
      "source": [
        "import gmpy2\n",
        "p = 857504083339712752489993810777\n",
        "q = 1029224947942998075080348647219\n",
        "e = 65537\n",
        "fn = (p-1)*(q-1)\n",
        "d = gmpy2.invert(e,fn)#求e的逆元d\n",
        "print(d)"
      ],
      "metadata": {
        "colab": {
          "base_uri": "https://localhost:8080/"
        },
        "id": "FVbQnTfv2LYg",
        "outputId": "d5612102-8d1b-437b-80d1-d3a4ca4db08f"
      },
      "execution_count": null,
      "outputs": [
        {
          "output_type": "stream",
          "name": "stdout",
          "text": [
            "121832886702415731577073962957377780195510499965398469843281\n"
          ]
        }
      ]
    },
    {
      "cell_type": "markdown",
      "source": [
        "# **RSA Starter 5**\n",
        "\n",
        "I've encrypted a secret number for your eyes only using your public key parameters:\n",
        "\n",
        "N = 882564595536224140639625987659416029426239230804614613279163\n",
        "\n",
        "e = 65537\n",
        "\n",
        "Use the private key that you found for these parameters in the previous challenge to decrypt this ciphertext:\n",
        "\n",
        "c = 77578995801157823671636298847186723593814843845525223303932"
      ],
      "metadata": {
        "id": "auWsM0zR4C29"
      }
    },
    {
      "cell_type": "code",
      "source": [
        "import gmpy2\n",
        "p = 857504083339712752489993810777\n",
        "q =  1029224947942998075080348647219\n",
        "e = 65537\n",
        "c = 77578995801157823671636298847186723593814843845525223303932\n",
        "fn = (p-1)*(q-1)\n",
        "n = p*q\n",
        "d = gmpy2.invert(e,fn)\n",
        "print(d)\n",
        "m =pow(c,d,n)\n",
        "print(m)"
      ],
      "metadata": {
        "colab": {
          "base_uri": "https://localhost:8080/"
        },
        "id": "b2XGNHzl4GMJ",
        "outputId": "aafbd73e-029d-4947-e069-5b62a211adad"
      },
      "execution_count": null,
      "outputs": [
        {
          "output_type": "stream",
          "name": "stdout",
          "text": [
            "121832886702415731577073962957377780195510499965398469843281\n",
            "13371337\n"
          ]
        }
      ]
    },
    {
      "cell_type": "markdown",
      "source": [
        "# **RSA Starter 6**\n",
        "\n",
        "How can you ensure that the person receiving your message knows that you wrote it?\n",
        "\n",
        "You've been asked out on a date, and you want to send a message telling them that you'd love to go, however a jealous lover isn't so happy about this.\n",
        "\n",
        "When you send your message saying yes, your jealous lover intercepts the message and corrupts it so it now says no!\n",
        "\n",
        "We can protect against these attacks by signing the message.\n",
        "\n",
        "Imagine you write a message M. You encrypt this message with your friend's public key: C = Me0 mod N0.\n",
        "\n",
        "To sign this message, you calculate the hash of the message: H(M) and \"encrypt\" this with your private key: S = H(M)d1 mod N1.\n",
        "\n",
        "In real cryptosystems, it's best practice to use separate keys for encrypting and signing messages.\n",
        "\n",
        "\n",
        "Your friend can decrypt the message using their private key: m = Cd0 mod N0. Using your public key they calculate s = Se1 mod N1.\n",
        "\n",
        "Now by computing H(m) and comparing it to s: assert H(m) == s, they can ensure that the message you sent them, is the message that they received!\n",
        "\n",
        "Sign the flag crypto{Immut4ble_m3ssag1ng} using your private key and the SHA256 hash function.\n",
        "\n",
        "The output of the hash function needs to be converted into a number that can be used with RSA math. Remember the helpful bytes_to_long() function that can be imported from Crypto.Util.number.\n",
        "\n",
        "\n",
        "Challenge files:\n",
        "  - private.key"
      ],
      "metadata": {
        "id": "oPAsPsjt4xiX"
      }
    },
    {
      "cell_type": "code",
      "source": [
        "pip install pycryptodome\n"
      ],
      "metadata": {
        "colab": {
          "base_uri": "https://localhost:8080/"
        },
        "id": "wMAmLBjb603W",
        "outputId": "efee6851-b6fd-4baf-dcee-5c9504d3242d"
      },
      "execution_count": null,
      "outputs": [
        {
          "output_type": "stream",
          "name": "stdout",
          "text": [
            "Collecting pycryptodome\n",
            "  Downloading pycryptodome-3.19.1-cp35-abi3-manylinux_2_17_x86_64.manylinux2014_x86_64.whl (2.1 MB)\n",
            "\u001b[2K     \u001b[90m━━━━━━━━━━━━━━━━━━━━━━━━━━━━━━━━━━━━━━━━\u001b[0m \u001b[32m2.1/2.1 MB\u001b[0m \u001b[31m8.3 MB/s\u001b[0m eta \u001b[36m0:00:00\u001b[0m\n",
            "\u001b[?25hInstalling collected packages: pycryptodome\n",
            "Successfully installed pycryptodome-3.19.1\n"
          ]
        }
      ]
    },
    {
      "cell_type": "code",
      "source": [
        "from hashlib import sha256\n",
        "from Crypto.Util.number import *\n",
        "N = 15216583654836731327639981224133918855895948374072384050848479908982286890731769486609085918857664046075375253168955058743185664390273058074450390236774324903305663479046566232967297765731625328029814055635316002591227570271271445226094919864475407884459980489638001092788574811554149774028950310695112688723853763743238753349782508121985338746755237819373178699343135091783992299561827389745132880022259873387524273298850340648779897909381979714026837172003953221052431217940632552930880000919436507245150726543040714721553361063311954285289857582079880295199632757829525723874753306371990452491305564061051059885803\n",
        "d = 11175901210643014262548222473449533091378848269490518850474399681690547281665059317155831692300453197335735728459259392366823302405685389586883670043744683993709123180805154631088513521456979317628012721881537154107239389466063136007337120599915456659758559300673444689263854921332185562706707573660658164991098457874495054854491474065039621922972671588299315846306069845169959451250821044417886630346229021305410340100401530146135418806544340908355106582089082980533651095594192031411679866134256418292249592135441145384466261279428795408721990564658703903787956958168449841491667690491585550160457893350536334242689\n",
        "m = b'crypto{Immut4ble_m3ssag1ng}'\n",
        "H = bytes_to_long(sha256(m).digest())\n",
        "s = pow(H,d,N)\n",
        "print((s))"
      ],
      "metadata": {
        "colab": {
          "base_uri": "https://localhost:8080/"
        },
        "id": "bGzOCRSP5Us0",
        "outputId": "e362c955-076c-4ff6-930f-e32cfd8af762"
      },
      "execution_count": null,
      "outputs": [
        {
          "output_type": "stream",
          "name": "stdout",
          "text": [
            "13480738404590090803339831649238454376183189744970683129909766078877706583282422686710545217275797376709672358894231550335007974983458408620258478729775647818876610072903021235573923300070103666940534047644900475773318682585772698155617451477448441198150710420818995347235921111812068656782998168064960965451719491072569057636701190429760047193261886092862024118487826452766513533860734724124228305158914225250488399673645732882077575252662461860972889771112594906884441454355959482925283992539925713424132009768721389828848907099772040836383856524605008942907083490383109757406940540866978237471686296661685839083475\n"
          ]
        }
      ]
    },
    {
      "cell_type": "markdown",
      "source": [
        "# ***Factoring***\n",
        "\n",
        "So far we've been using the product of small primes for the modulus, but small primes aren't much good for RSA as they can be factorised using modern methods.\n",
        "\n",
        "What is a \"small prime\"? There was an RSA Factoring Challenge with cash prizes given to teams who could factorise RSA moduli. This gave insight to the public into how long various key sizes would remain safe. Computers get faster, algorithms get better, so in cryptography it's always prudent to err on the side of caution.\n",
        "\n",
        "These days, using primes that are at least 1024 bits long is recommended—multiplying two such 1024 primes gives you a modulus that is 2048 bits large. RSA with a 2048-bit modulus is called RSA-2048.\n",
        "\n",
        "Some say that to really remain future-proof you should use RSA-4096 or even RSA-8192. However, there is a tradeoff here; it takes longer to generate large prime numbers, plus modular exponentiations are predictably slower with a large modulus.\n",
        "\n",
        "Factorise the 150-bit number 510143758735509025530880200653196460532653147 into its two constituent primes. Give the smaller one as your answer.\n",
        "\n",
        "Resources:\n",
        "  - How big an RSA key is considered secure today?\n",
        "  - primefac-fork"
      ],
      "metadata": {
        "id": "wuJ2ITC57zPh"
      }
    },
    {
      "cell_type": "code",
      "source": [
        "pip install factordb-python"
      ],
      "metadata": {
        "colab": {
          "base_uri": "https://localhost:8080/"
        },
        "id": "V46Bql_473GI",
        "outputId": "40cc5568-63f4-431c-8fef-68d13cf00389"
      },
      "execution_count": null,
      "outputs": [
        {
          "output_type": "stream",
          "name": "stdout",
          "text": [
            "Collecting factordb-python\n",
            "  Downloading factordb-python-1.3.0.tar.gz (4.0 kB)\n",
            "  Preparing metadata (setup.py) ... \u001b[?25l\u001b[?25hdone\n",
            "Requirement already satisfied: requests in /usr/local/lib/python3.10/dist-packages (from factordb-python) (2.31.0)\n",
            "Requirement already satisfied: charset-normalizer<4,>=2 in /usr/local/lib/python3.10/dist-packages (from requests->factordb-python) (3.3.2)\n",
            "Requirement already satisfied: idna<4,>=2.5 in /usr/local/lib/python3.10/dist-packages (from requests->factordb-python) (3.6)\n",
            "Requirement already satisfied: urllib3<3,>=1.21.1 in /usr/local/lib/python3.10/dist-packages (from requests->factordb-python) (2.0.7)\n",
            "Requirement already satisfied: certifi>=2017.4.17 in /usr/local/lib/python3.10/dist-packages (from requests->factordb-python) (2023.11.17)\n",
            "Building wheels for collected packages: factordb-python\n",
            "  Building wheel for factordb-python (setup.py) ... \u001b[?25l\u001b[?25hdone\n",
            "  Created wheel for factordb-python: filename=factordb_python-1.3.0-py3-none-any.whl size=4620 sha256=a8f570b30c5f2d567e84a5c62d088ae010f844cfc086bddfb7a10a0d480eb7ea\n",
            "  Stored in directory: /root/.cache/pip/wheels/81/a1/61/1197ad7f12fed75140ad16305ca67cba512ba7326f2f572fb4\n",
            "Successfully built factordb-python\n",
            "Installing collected packages: factordb-python\n",
            "Successfully installed factordb-python-1.3.0\n"
          ]
        }
      ]
    },
    {
      "cell_type": "code",
      "source": [
        "from factordb.factordb import FactorDB\n",
        "f = FactorDB(510143758735509025530880200653196460532653147)\n",
        "print(f.get_factor_list())\n",
        "print(f.connect())\n",
        "print(f.get_factor_list())"
      ],
      "metadata": {
        "colab": {
          "base_uri": "https://localhost:8080/"
        },
        "id": "dw00-SIc7_vb",
        "outputId": "9f496098-5057-4cab-eef9-92faceed03a6"
      },
      "execution_count": null,
      "outputs": [
        {
          "output_type": "stream",
          "name": "stdout",
          "text": [
            "[]\n",
            "<Response [200]>\n",
            "[19704762736204164635843, 25889363174021185185929]\n"
          ]
        }
      ]
    },
    {
      "cell_type": "markdown",
      "source": [
        "# ***Monoprime***\n",
        "\n",
        "Why is everyone so obsessed with multiplying two primes for RSA. Why not just use one?\n",
        "\n",
        "Challenge files:\n",
        "  - output.txt\n",
        "\n",
        "Resources:\n",
        "  - Why do we need in RSA the modulus to be product of 2 primes?"
      ],
      "metadata": {
        "id": "vat51e208wMC"
      }
    },
    {
      "cell_type": "code",
      "source": [
        "pip install libnum\n"
      ],
      "metadata": {
        "id": "VSLoEZAo9Yy-",
        "outputId": "6c82d78c-69c2-4e18-b4d0-7db1d41c2a91",
        "colab": {
          "base_uri": "https://localhost:8080/"
        }
      },
      "execution_count": null,
      "outputs": [
        {
          "output_type": "stream",
          "name": "stdout",
          "text": [
            "Collecting libnum\n",
            "  Downloading libnum-1.7.1-py3-none-any.whl (14 kB)\n",
            "Installing collected packages: libnum\n",
            "Successfully installed libnum-1.7.1\n"
          ]
        }
      ]
    },
    {
      "cell_type": "code",
      "source": [
        "import gmpy2\n",
        "import libnum\n",
        "import binascii\n",
        "from Crypto.Util.number import *\n",
        "n = 171731371218065444125482536302245915415603318380280392385291836472299752747934607246477508507827284075763910264995326010251268493630501989810855418416643352631102434317900028697993224868629935657273062472544675693365930943308086634291936846505861203914449338007760990051788980485462592823446469606824421932591\n",
        "e = 65537\n",
        "ct = 161367550346730604451454756189028938964941280347662098798775466019463375610700074840105776873791605070092554650190486030367121011578171525759600774739890458414593857709994072516290998135846956596662071379067305011746842247628316996977338024343628757374524136260758515864509435302781735938531030576289086798942\n",
        "\n",
        "d = gmpy2.invert(e,(n-1))\n",
        "flag = pow(ct,d,n)\n",
        "print(flag)\n",
        "print(libnum.n2s(int(flag)))\n",
        "print(bytes.fromhex(hex(flag)[2:]))\n",
        "print(binascii.unhexlify(hex(flag)[2:]))\n",
        "print(binascii.a2b_hex(hex(flag)[2:]))\n",
        "print(long_to_bytes(flag))"
      ],
      "metadata": {
        "colab": {
          "base_uri": "https://localhost:8080/"
        },
        "id": "0M3VPp978xDK",
        "outputId": "5690c0eb-f01b-4018-ff9d-92426870788a"
      },
      "execution_count": null,
      "outputs": [
        {
          "output_type": "stream",
          "name": "stdout",
          "text": [
            "44981230718212183184022261350591509650967020174777710365581497711727767219325\n",
            "b'crypto{0n3_pr1m3_41n7_pr1m3_l0l}'\n",
            "b'crypto{0n3_pr1m3_41n7_pr1m3_l0l}'\n",
            "b'crypto{0n3_pr1m3_41n7_pr1m3_l0l}'\n",
            "b'crypto{0n3_pr1m3_41n7_pr1m3_l0l}'\n",
            "b'crypto{0n3_pr1m3_41n7_pr1m3_l0l}'\n"
          ]
        }
      ]
    },
    {
      "cell_type": "markdown",
      "source": [
        "# **Manyprime**\n",
        "\n",
        "Using one prime factor was definitely a bad idea so I'll try using over 30 instead.\n",
        "\n",
        " If it's taking forever to factorise, read up on factorisation algorithms and make sure you're using one that's optimised for this scenario.\n",
        "\n",
        "\n",
        "Challenge files:\n",
        "  - output.txt\n",
        "\n",
        "Resources:\n",
        "  - The Elliptic Curve Factorization Method"
      ],
      "metadata": {
        "id": "-uyZIOiau2nM"
      }
    },
    {
      "cell_type": "code",
      "source": [
        "pip install factordb-pycli"
      ],
      "metadata": {
        "colab": {
          "base_uri": "https://localhost:8080/"
        },
        "id": "MzCZSD5EvtfV",
        "outputId": "329ed857-c4b3-46c3-8ee0-0553651aba09"
      },
      "execution_count": null,
      "outputs": [
        {
          "output_type": "stream",
          "name": "stdout",
          "text": [
            "Collecting factordb-pycli\n",
            "  Downloading factordb-pycli-1.3.0.tar.gz (4.0 kB)\n",
            "  Preparing metadata (setup.py) ... \u001b[?25l\u001b[?25hdone\n",
            "Requirement already satisfied: requests in /usr/local/lib/python3.10/dist-packages (from factordb-pycli) (2.31.0)\n",
            "Requirement already satisfied: charset-normalizer<4,>=2 in /usr/local/lib/python3.10/dist-packages (from requests->factordb-pycli) (3.3.2)\n",
            "Requirement already satisfied: idna<4,>=2.5 in /usr/local/lib/python3.10/dist-packages (from requests->factordb-pycli) (3.6)\n",
            "Requirement already satisfied: urllib3<3,>=1.21.1 in /usr/local/lib/python3.10/dist-packages (from requests->factordb-pycli) (2.0.7)\n",
            "Requirement already satisfied: certifi>=2017.4.17 in /usr/local/lib/python3.10/dist-packages (from requests->factordb-pycli) (2023.11.17)\n",
            "Building wheels for collected packages: factordb-pycli\n",
            "  Building wheel for factordb-pycli (setup.py) ... \u001b[?25l\u001b[?25hdone\n",
            "  Created wheel for factordb-pycli: filename=factordb_pycli-1.3.0-py3-none-any.whl size=4604 sha256=9ee024f5359e988d91ba1acc2132673d90edff9343ae3a7dd4f5e2a9fcdfdef5\n",
            "  Stored in directory: /root/.cache/pip/wheels/ea/66/3a/286d77c4fca22c613eca648f56ab7931c0174348527ec1a430\n",
            "Successfully built factordb-pycli\n",
            "Installing collected packages: factordb-pycli\n",
            "Successfully installed factordb-pycli-1.3.0\n"
          ]
        }
      ]
    },
    {
      "cell_type": "code",
      "source": [
        "n = 580642391898843192929563856870897799650883152718761762932292482252152591279871421569162037190419036435041797739880389529593674485555792234900969402019055601781662044515999210032698275981631376651117318677368742867687180140048715627160641771118040372573575479330830092989800730105573700557717146251860588802509310534792310748898504394966263819959963273509119791037525504422606634640173277598774814099540555569257179715908642917355365791447508751401889724095964924513196281345665480688029639999472649549163147599540142367575413885729653166517595719991872223011969856259344396899748662101941230745601719730556631637\n",
        "e = 65537\n",
        "ct = 320721490534624434149993723527322977960556510750628354856260732098109692581338409999983376131354918370047625150454728718467998870322344980985635149656977787964380651868131740312053755501594999166365821315043312308622388016666802478485476059625888033017198083472976011719998333985531756978678758897472845358167730221506573817798467100023754709109274265835201757369829744113233607359526441007577850111228850004361838028842815813724076511058179239339760639518034583306154826603816927757236549096339501503316601078891287408682099750164720032975016814187899399273719181407940397071512493967454225665490162619270814464\n",
        "\n",
        "from factordb.factordb import FactorDB\n",
        "from functools import reduce\n",
        "p_q=[9282105380008121879, 9303850685953812323, 9389357739583927789, 10336650220878499841, 10638241655447339831, 11282698189561966721, 11328768673634243077, 11403460639036243901, 11473665579512371723, 11492065299277279799, 11530534813954192171, 11665347949879312361, 12132158321859677597, 12834461276877415051, 12955403765595949597, 12973972336777979701, 13099895578757581201, 13572286589428162097, 14100640260554622013, 14178869592193599187, 14278240802299816541, 14523070016044624039, 14963354250199553339, 15364597561881860737, 15669758663523555763, 15824122791679574573, 15998365463074268941, 16656402470578844539, 16898740504023346457, 17138336856793050757, 17174065872156629921, 17281246625998849649]\n",
        "\n",
        "phi =reduce(lambda x,y:x*(y-1),[1]+p_q)\n",
        "print(phi)\n",
        "d = pow(e,-1,phi)\n",
        "flag = pow(ct,d,n)\n",
        "print(bytes.fromhex(hex(flag)[2:]))"
      ],
      "metadata": {
        "colab": {
          "base_uri": "https://localhost:8080/"
        },
        "id": "x_zpHz0pu8GN",
        "outputId": "a10dba82-c2cb-4d6c-bb38-1323b10e84f6"
      },
      "execution_count": null,
      "outputs": [
        {
          "output_type": "stream",
          "name": "stdout",
          "text": [
            "580642391898843191487404652150193463439642600155214610402815446275117822457602964108279991178253399797937961990567828910318944376020941874995912942457183778540787232677949141800666918857974957805860863128934894322453334083108951829885566055541321469492863749601696156719452204625091396670183612468234453545730714411260422415053794985900973204357184470104831581957188055965458235216412636167147716884241110058234315146752181551500634472836779298794303330378218517375396697137335380548442818167481491481087606998467945980408909917714107491743183639877866494931448463312524563384587536906823474872320000000000000000\n",
            "b'crypto{700_m4ny_5m4ll_f4c70r5}'\n"
          ]
        }
      ]
    },
    {
      "cell_type": "markdown",
      "source": [
        "# **Salty**\n",
        "Smallest exponent should be fastest, right?\n",
        "\n",
        "Challenge files:\n",
        "  - salty.py\n",
        "  - output.txt"
      ],
      "metadata": {
        "id": "K2Ab4QRexQT4"
      }
    },
    {
      "cell_type": "code",
      "source": [
        "pip install pycrypto"
      ],
      "metadata": {
        "colab": {
          "base_uri": "https://localhost:8080/"
        },
        "id": "Fm6oLpOsyH6b",
        "outputId": "587e7157-e45f-446c-a698-83a1d9162394"
      },
      "execution_count": null,
      "outputs": [
        {
          "output_type": "stream",
          "name": "stdout",
          "text": [
            "Collecting pycrypto\n",
            "  Downloading pycrypto-2.6.1.tar.gz (446 kB)\n",
            "\u001b[2K     \u001b[90m━━━━━━━━━━━━━━━━━━━━━━━━━━━━━━━━━━━━━━━━\u001b[0m \u001b[32m446.2/446.2 kB\u001b[0m \u001b[31m4.9 MB/s\u001b[0m eta \u001b[36m0:00:00\u001b[0m\n",
            "\u001b[?25h  Preparing metadata (setup.py) ... \u001b[?25l\u001b[?25hdone\n",
            "Building wheels for collected packages: pycrypto\n",
            "  Building wheel for pycrypto (setup.py) ... \u001b[?25l\u001b[?25hdone\n",
            "  Created wheel for pycrypto: filename=pycrypto-2.6.1-cp310-cp310-linux_x86_64.whl size=498545 sha256=0d165d4c54c32a767fc50f573b76b44867c3f4532ab3d7303af4b461f5e76352\n",
            "  Stored in directory: /root/.cache/pip/wheels/e8/4b/5b/b10a6fc885057b6ff9fbd5691d7e700d0a9408f80b7e6f12e0\n",
            "Successfully built pycrypto\n",
            "Installing collected packages: pycrypto\n",
            "Successfully installed pycrypto-2.6.1\n"
          ]
        }
      ]
    },
    {
      "cell_type": "code",
      "source": [
        "pip install pyrebase4\n"
      ],
      "metadata": {
        "colab": {
          "base_uri": "https://localhost:8080/",
          "height": 1000
        },
        "id": "BWNS-l_byaS6",
        "outputId": "4d5ff231-5a08-4bcf-ecd8-3a2e92d61c2d"
      },
      "execution_count": null,
      "outputs": [
        {
          "output_type": "stream",
          "name": "stdout",
          "text": [
            "Collecting pyrebase4\n",
            "  Downloading Pyrebase4-4.7.1-py3-none-any.whl (9.2 kB)\n",
            "Collecting requests-toolbelt<1.0,>=0.7.1 (from pyrebase4)\n",
            "  Downloading requests_toolbelt-0.10.1-py2.py3-none-any.whl (54 kB)\n",
            "\u001b[2K     \u001b[90m━━━━━━━━━━━━━━━━━━━━━━━━━━━━━━━━━━━━━━━━\u001b[0m \u001b[32m54.5/54.5 kB\u001b[0m \u001b[31m1.7 MB/s\u001b[0m eta \u001b[36m0:00:00\u001b[0m\n",
            "\u001b[?25hCollecting requests<2.30,>=2.19.1 (from pyrebase4)\n",
            "  Downloading requests-2.29.0-py3-none-any.whl (62 kB)\n",
            "\u001b[2K     \u001b[90m━━━━━━━━━━━━━━━━━━━━━━━━━━━━━━━━━━━━━━━━\u001b[0m \u001b[32m62.5/62.5 kB\u001b[0m \u001b[31m4.7 MB/s\u001b[0m eta \u001b[36m0:00:00\u001b[0m\n",
            "\u001b[?25hCollecting urllib3<2,>=1.21.1 (from pyrebase4)\n",
            "  Downloading urllib3-1.26.18-py2.py3-none-any.whl (143 kB)\n",
            "\u001b[2K     \u001b[90m━━━━━━━━━━━━━━━━━━━━━━━━━━━━━━━━━━━━━━━━\u001b[0m \u001b[32m143.8/143.8 kB\u001b[0m \u001b[31m11.2 MB/s\u001b[0m eta \u001b[36m0:00:00\u001b[0m\n",
            "\u001b[?25hCollecting gcloud>=0.18.3 (from pyrebase4)\n",
            "  Downloading gcloud-0.18.3.tar.gz (454 kB)\n",
            "\u001b[2K     \u001b[90m━━━━━━━━━━━━━━━━━━━━━━━━━━━━━━━━━━━━━━━━\u001b[0m \u001b[32m454.4/454.4 kB\u001b[0m \u001b[31m14.7 MB/s\u001b[0m eta \u001b[36m0:00:00\u001b[0m\n",
            "\u001b[?25h  Preparing metadata (setup.py) ... \u001b[?25l\u001b[?25hdone\n",
            "Requirement already satisfied: oauth2client>=4.1.2 in /usr/local/lib/python3.10/dist-packages (from pyrebase4) (4.1.3)\n",
            "Collecting python-jwt>=2.0.1 (from pyrebase4)\n",
            "  Downloading python_jwt-4.1.0-py2.py3-none-any.whl (7.1 kB)\n",
            "Collecting pycryptodome>=3.6.4 (from pyrebase4)\n",
            "  Downloading pycryptodome-3.19.1-cp35-abi3-manylinux_2_17_x86_64.manylinux2014_x86_64.whl (2.1 MB)\n",
            "\u001b[2K     \u001b[90m━━━━━━━━━━━━━━━━━━━━━━━━━━━━━━━━━━━━━━━━\u001b[0m \u001b[32m2.1/2.1 MB\u001b[0m \u001b[31m17.1 MB/s\u001b[0m eta \u001b[36m0:00:00\u001b[0m\n",
            "\u001b[?25hRequirement already satisfied: httplib2>=0.9.1 in /usr/local/lib/python3.10/dist-packages (from gcloud>=0.18.3->pyrebase4) (0.22.0)\n",
            "Requirement already satisfied: googleapis-common-protos in /usr/local/lib/python3.10/dist-packages (from gcloud>=0.18.3->pyrebase4) (1.62.0)\n",
            "Requirement already satisfied: protobuf!=3.0.0.b2.post1,>=3.0.0b2 in /usr/local/lib/python3.10/dist-packages (from gcloud>=0.18.3->pyrebase4) (3.20.3)\n",
            "Requirement already satisfied: six in /usr/local/lib/python3.10/dist-packages (from gcloud>=0.18.3->pyrebase4) (1.16.0)\n",
            "Requirement already satisfied: pyasn1>=0.1.7 in /usr/local/lib/python3.10/dist-packages (from oauth2client>=4.1.2->pyrebase4) (0.5.1)\n",
            "Requirement already satisfied: pyasn1-modules>=0.0.5 in /usr/local/lib/python3.10/dist-packages (from oauth2client>=4.1.2->pyrebase4) (0.3.0)\n",
            "Requirement already satisfied: rsa>=3.1.4 in /usr/local/lib/python3.10/dist-packages (from oauth2client>=4.1.2->pyrebase4) (4.9)\n",
            "Collecting jwcrypto>=1.4.2 (from python-jwt>=2.0.1->pyrebase4)\n",
            "  Downloading jwcrypto-1.5.1.tar.gz (86 kB)\n",
            "\u001b[2K     \u001b[90m━━━━━━━━━━━━━━━━━━━━━━━━━━━━━━━━━━━━━━━━\u001b[0m \u001b[32m86.8/86.8 kB\u001b[0m \u001b[31m11.3 MB/s\u001b[0m eta \u001b[36m0:00:00\u001b[0m\n",
            "\u001b[?25h  Preparing metadata (setup.py) ... \u001b[?25l\u001b[?25hdone\n",
            "Requirement already satisfied: charset-normalizer<4,>=2 in /usr/local/lib/python3.10/dist-packages (from requests<2.30,>=2.19.1->pyrebase4) (3.3.2)\n",
            "Requirement already satisfied: idna<4,>=2.5 in /usr/local/lib/python3.10/dist-packages (from requests<2.30,>=2.19.1->pyrebase4) (3.6)\n",
            "Requirement already satisfied: certifi>=2017.4.17 in /usr/local/lib/python3.10/dist-packages (from requests<2.30,>=2.19.1->pyrebase4) (2023.11.17)\n",
            "Requirement already satisfied: pyparsing!=3.0.0,!=3.0.1,!=3.0.2,!=3.0.3,<4,>=2.4.2 in /usr/local/lib/python3.10/dist-packages (from httplib2>=0.9.1->gcloud>=0.18.3->pyrebase4) (3.1.1)\n",
            "Requirement already satisfied: cryptography>=3.4 in /usr/local/lib/python3.10/dist-packages (from jwcrypto>=1.4.2->python-jwt>=2.0.1->pyrebase4) (41.0.7)\n",
            "Collecting deprecated (from jwcrypto>=1.4.2->python-jwt>=2.0.1->pyrebase4)\n",
            "  Downloading Deprecated-1.2.14-py2.py3-none-any.whl (9.6 kB)\n",
            "Requirement already satisfied: cffi>=1.12 in /usr/local/lib/python3.10/dist-packages (from cryptography>=3.4->jwcrypto>=1.4.2->python-jwt>=2.0.1->pyrebase4) (1.16.0)\n",
            "Requirement already satisfied: wrapt<2,>=1.10 in /usr/local/lib/python3.10/dist-packages (from deprecated->jwcrypto>=1.4.2->python-jwt>=2.0.1->pyrebase4) (1.14.1)\n",
            "Requirement already satisfied: pycparser in /usr/local/lib/python3.10/dist-packages (from cffi>=1.12->cryptography>=3.4->jwcrypto>=1.4.2->python-jwt>=2.0.1->pyrebase4) (2.21)\n",
            "Building wheels for collected packages: gcloud, jwcrypto\n",
            "  Building wheel for gcloud (setup.py) ... \u001b[?25l\u001b[?25hdone\n",
            "  Created wheel for gcloud: filename=gcloud-0.18.3-py3-none-any.whl size=602927 sha256=fa5162acc04effaad1d046c15a406db3bc94db17cd6144c7b66da2b3a3854723\n",
            "  Stored in directory: /root/.cache/pip/wheels/7c/30/88/5017af921da3a33af785f0d0fd3e944b845bc62a445a2c2f69\n",
            "  Building wheel for jwcrypto (setup.py) ... \u001b[?25l\u001b[?25hdone\n",
            "  Created wheel for jwcrypto: filename=jwcrypto-1.5.1-py3-none-any.whl size=92190 sha256=654b4713b8c3576029df7a6650c12ce3bf77527a365d00fc40bebe0bdf60f9fa\n",
            "  Stored in directory: /root/.cache/pip/wheels/d9/d6/4d/fc4fd13c4e55836fb59e28211466d57ea8820c2ed87380cc8a\n",
            "Successfully built gcloud jwcrypto\n",
            "Installing collected packages: urllib3, pycryptodome, deprecated, requests, requests-toolbelt, jwcrypto, gcloud, python-jwt, pyrebase4\n",
            "  Attempting uninstall: urllib3\n",
            "    Found existing installation: urllib3 2.0.7\n",
            "    Uninstalling urllib3-2.0.7:\n",
            "      Successfully uninstalled urllib3-2.0.7\n",
            "  Attempting uninstall: requests\n",
            "    Found existing installation: requests 2.31.0\n",
            "    Uninstalling requests-2.31.0:\n",
            "      Successfully uninstalled requests-2.31.0\n",
            "\u001b[31mERROR: pip's dependency resolver does not currently take into account all the packages that are installed. This behaviour is the source of the following dependency conflicts.\n",
            "google-colab 1.0.0 requires requests==2.31.0, but you have requests 2.29.0 which is incompatible.\n",
            "yfinance 0.2.33 requires requests>=2.31, but you have requests 2.29.0 which is incompatible.\u001b[0m\u001b[31m\n",
            "\u001b[0mSuccessfully installed deprecated-1.2.14 gcloud-0.18.3 jwcrypto-1.5.1 pycryptodome-3.19.1 pyrebase4-4.7.1 python-jwt-4.1.0 requests-2.29.0 requests-toolbelt-0.10.1 urllib3-1.26.18\n"
          ]
        },
        {
          "output_type": "display_data",
          "data": {
            "application/vnd.colab-display-data+json": {
              "pip_warning": {
                "packages": [
                  "Crypto",
                  "requests",
                  "urllib3"
                ]
              }
            }
          },
          "metadata": {}
        }
      ]
    },
    {
      "cell_type": "code",
      "source": [
        "#!/usr/bin/env python3\n",
        "\n",
        "from Crypto.Util.number import getPrime, inverse, bytes_to_long, long_to_bytes\n",
        "\n",
        "e = 1\n",
        "d = -1\n",
        "\n",
        "while d == -1:\n",
        "    p = getPrime(512)\n",
        "    q = getPrime(512)\n",
        "    phi = (p - 1) * (q - 1)\n",
        "    d = inverse(e, phi)\n",
        "\n",
        "n = p * q\n",
        "\n",
        "flag = b\"XXXXXXXXXXXXXXXXXXXXXXX\"\n",
        "pt = bytes_to_long(flag)\n",
        "ct = pow(pt, e, n)\n",
        "\n",
        "print(f\"n = {n}\")\n",
        "print(f\"e = {e}\")\n",
        "print(f\"ct = {ct}\")\n",
        "\n",
        "pt = pow(ct, d, n)\n",
        "decrypted = long_to_bytes(pt)\n",
        "assert decrypted == flag\n"
      ],
      "metadata": {
        "colab": {
          "base_uri": "https://localhost:8080/"
        },
        "id": "ZKSrT7VuyAoq",
        "outputId": "e4eb0294-ddc1-4c46-b7f0-216c8d270616"
      },
      "execution_count": null,
      "outputs": [
        {
          "output_type": "stream",
          "name": "stdout",
          "text": [
            "n = 48750203022719316640452982598948188514983773421375177364276837264773889719019069976231137461407710410297497354940396972266531168705121153917095531994346427960376896366232146776116742434159686460574225335425329778613822883950992364946666314647678298950101360912345323077466829355193237475800517372134423038927\n",
            "e = 1\n",
            "ct = 8461779300153613774778637702853471884451704643272595544\n"
          ]
        }
      ]
    },
    {
      "cell_type": "code",
      "source": [
        "c = 44981230718212183604274785925793145442655465025264554046028251311164494127485\n",
        "print(bytes.fromhex(hex(c)[2:]))"
      ],
      "metadata": {
        "colab": {
          "base_uri": "https://localhost:8080/"
        },
        "id": "ymNnYpc9ynQt",
        "outputId": "554eec51-e871-4a9d-dae8-2dc6dcbcc39e"
      },
      "execution_count": null,
      "outputs": [
        {
          "output_type": "stream",
          "name": "stdout",
          "text": [
            "b'crypto{saltstack_fell_for_this!}'\n"
          ]
        }
      ]
    },
    {
      "cell_type": "markdown",
      "source": [
        "# **Modulus Inutilis**\n",
        "\n",
        "My primes should be more than large enough now!\n",
        "\n",
        "Challenge files:\n",
        "  - modulus_inutilis.py\n",
        "  - output.txt"
      ],
      "metadata": {
        "id": "KTzb6Z7G2BJf"
      }
    },
    {
      "cell_type": "code",
      "source": [
        "#!/usr/bin/env python3\n",
        "\n",
        "from Crypto.Util.number import getPrime, inverse, bytes_to_long, long_to_bytes\n",
        "\n",
        "e = 3\n",
        "d = -1\n",
        "\n",
        "while d == -1:\n",
        "    p = getPrime(1024)\n",
        "    q = getPrime(1024)\n",
        "    phi = (p - 1) * (q - 1)\n",
        "    d = inverse(e, phi)\n",
        "\n",
        "n = p * q\n",
        "\n",
        "flag = b\"XXXXXXXXXXXXXXXXXXXXXXX\"\n",
        "pt = bytes_to_long(flag)\n",
        "ct = pow(pt, e, n)\n",
        "\n",
        "print(f\"n = {n}\")\n",
        "print(f\"e = {e}\")\n",
        "print(f\"ct = {ct}\")\n",
        "\n",
        "pt = pow(ct, d, n)\n",
        "decrypted = long_to_bytes(pt)\n",
        "assert decrypted == flag\n"
      ],
      "metadata": {
        "colab": {
          "base_uri": "https://localhost:8080/"
        },
        "id": "P_iJG_bN2ATw",
        "outputId": "0ae9a1bb-205a-466a-8953-efbc0e3a6594"
      },
      "execution_count": null,
      "outputs": [
        {
          "output_type": "stream",
          "name": "stdout",
          "text": [
            "n = 14820295716820595267336997022037271122750439705716969314812644218126236020021489568595822554355895680391546181511159785440597979487956851459915416225744219609963045458732649697399187728081610950537961195680091182336974868748060591829112879912319434490626350170763919762676562669368231358526211349744175453874606087561314192633387253050224823987296827018055187102444639522772857462846570941519530021922165359130933847119983499510121950024640909323743072017233604608935225393186974079136299034451697645873034601776735698775468134457198614372686117870984852095658247757654964400106275949857385662582881441814382099116709\n",
            "e = 3\n",
            "ct = 605877858433027603541142896448019044718598083014741806340445425957159123895702361904803311842000502686580406336826200661576812020411053632176514866648130959982749184\n"
          ]
        }
      ]
    },
    {
      "cell_type": "code",
      "source": [
        "pip install gmpy2==2.1.0rc1"
      ],
      "metadata": {
        "colab": {
          "base_uri": "https://localhost:8080/"
        },
        "id": "8bw5dq-K5K0R",
        "outputId": "2580429b-2c99-49ec-efb4-39fac2267926"
      },
      "execution_count": null,
      "outputs": [
        {
          "output_type": "stream",
          "name": "stdout",
          "text": [
            "Collecting gmpy2==2.1.0rc1\n",
            "  Downloading gmpy2-2.1.0rc1-cp310-cp310-manylinux_2_12_x86_64.manylinux2010_x86_64.whl (3.6 MB)\n",
            "\u001b[2K     \u001b[90m━━━━━━━━━━━━━━━━━━━━━━━━━━━━━━━━━━━━━━━━\u001b[0m \u001b[32m3.6/3.6 MB\u001b[0m \u001b[31m7.9 MB/s\u001b[0m eta \u001b[36m0:00:00\u001b[0m\n",
            "\u001b[?25hInstalling collected packages: gmpy2\n",
            "Successfully installed gmpy2-2.1.0rc1\n"
          ]
        }
      ]
    },
    {
      "cell_type": "code",
      "source": [
        "pip install libnum\n"
      ],
      "metadata": {
        "colab": {
          "base_uri": "https://localhost:8080/"
        },
        "id": "76wC-ZYy6me-",
        "outputId": "9b015c73-67cc-4801-eb8e-957e24d6230a"
      },
      "execution_count": null,
      "outputs": [
        {
          "output_type": "stream",
          "name": "stdout",
          "text": [
            "Collecting libnum\n",
            "  Downloading libnum-1.7.1-py3-none-any.whl (14 kB)\n",
            "Installing collected packages: libnum\n",
            "Successfully installed libnum-1.7.1\n"
          ]
        }
      ]
    },
    {
      "cell_type": "code",
      "source": [
        "from gmpy2 import iroot\n",
        "import libnum\n",
        "n = 17258212916191948536348548470938004244269544560039009244721959293554822498047075403658429865201816363311805874117705688359853941515579440852166618074161313773416434156467811969628473425365608002907061241714688204565170146117869742910273064909154666642642308154422770994836108669814632309362483307560217924183202838588431342622551598499747369771295105890359290073146330677383341121242366368309126850094371525078749496850520075015636716490087482193603562501577348571256210991732071282478547626856068209192987351212490642903450263288650415552403935705444809043563866466823492258216747445926536608548665086042098252335883\n",
        "\n",
        "c= 243251053617903760309941844835411292373350655973075480264001352919865180151222189820473358411037759381328642957324889519192337152355302808400638052620580409813222660643570085177957\n",
        "k = 0\n",
        "while 1:\n",
        "    res=iroot(c+k*n,3)\n",
        "    if(res[1]==True):\n",
        "        print(libnum.n2s(int(res[0])))\n",
        "        break\n",
        "    k=k+1"
      ],
      "metadata": {
        "colab": {
          "base_uri": "https://localhost:8080/"
        },
        "id": "VuPzE7-S5GSQ",
        "outputId": "48c1cf5b-4e40-47c0-d3f5-780edc223d72"
      },
      "execution_count": null,
      "outputs": [
        {
          "output_type": "stream",
          "name": "stdout",
          "text": [
            "b'crypto{N33d_m04R_p4dd1ng}'\n"
          ]
        }
      ]
    },
    {
      "cell_type": "markdown",
      "source": [
        "# **Diffie-Hellman Inicial 1**\n",
        "\n",
        "El conjunto de números enteros módulo n, junto con las operaciones tanto de suma como de multiplicación, forma un anillo. Esto significa que sumar o multiplicar dos elementos cualesquiera del conjunto da como resultado otro elemento del conjunto.\n",
        "\n",
        "Cuando el módulo es primo: n = p, tenemos garantizado un inverso de cada elemento del conjunto, por lo que el anillo se convierte en un campo. Nos referimos a este campo como un campo finito Fp.\n",
        "\n",
        "El protocolo Diffie-Hellman trabaja con elementos de algún campo finito Fp, donde el módulo primo suele ser un primo grande.\n",
        "\n",
        "Dado el primo p = 991 y el elemento g = 209, encuentre el elemento inverso d tal que g * d mod 991 = 1."
      ],
      "metadata": {
        "id": "7GkIWJA76wII"
      }
    },
    {
      "cell_type": "code",
      "source": [
        "from sympy import mod_inverse\n",
        "\n",
        "p = 991\n",
        "g = 209\n",
        "\n",
        "d = mod_inverse(g, p)\n",
        "\n",
        "print(d)"
      ],
      "metadata": {
        "colab": {
          "base_uri": "https://localhost:8080/"
        },
        "id": "-I8uWUY66ymc",
        "outputId": "ff6e7646-0a92-4d5e-c8f2-b9f3cd00eed2"
      },
      "execution_count": null,
      "outputs": [
        {
          "output_type": "stream",
          "name": "stdout",
          "text": [
            "569\n"
          ]
        }
      ]
    },
    {
      "cell_type": "markdown",
      "source": [
        "# **Diffie-Hellman Starter 2**\n",
        "\n",
        "Every element of a finite field Fp can be used to make a subgroup H under repeated action of multiplication. In other words, for an element g: H = {g, g^2, g^3, ...}\n",
        "\n",
        "A primitive element of Fp is an element whose subgroup H = Fp, i.e., every element of Fp, can be written as g^n mod p for some integer n. Because of this, primitive elements are sometimes called generators of the finite field.\n",
        "\n",
        "For the finite field with p = 28151 find the smallest element g which is a primitive element of Fp.\n",
        "\n",
        "/////////\n",
        "\n",
        "Cada elemento de un cuerpo finito Fp puede usarse para formar un subgrupo H bajo la acción repetida de la multiplicación. En otras palabras, para un elemento g: H = {g, g^2, g^3, ...}\n",
        "\n",
        "Un elemento primitivo de Fp es un elemento cuyo subgrupo H = Fp, es decir, cada elemento de Fp, puede escribirse como g^n mod p para algún número entero n. Debido a esto, a los elementos primitivos a veces se les llama generadores del campo finito.\n",
        "\n",
        "Para el campo finito con p = 28151, encuentre el elemento más pequeño g, que es un elemento primitivo de Fp."
      ],
      "metadata": {
        "id": "BzH-l1Aj9hPo"
      }
    },
    {
      "cell_type": "code",
      "source": [
        "from sympy.ntheory import is_primitive_root\n",
        "\n",
        "p = 28151\n",
        "g = 2\n",
        "\n",
        "while not is_primitive_root(g, p):\n",
        "    g += 1\n",
        "\n",
        "print(g)"
      ],
      "metadata": {
        "colab": {
          "base_uri": "https://localhost:8080/"
        },
        "id": "GJoRV59X9kek",
        "outputId": "df2643c2-37fd-4f4b-b3ed-e818fb9f715b"
      },
      "execution_count": null,
      "outputs": [
        {
          "output_type": "stream",
          "name": "stdout",
          "text": [
            "7\n"
          ]
        }
      ]
    },
    {
      "cell_type": "markdown",
      "source": [
        "# **Diffie-Hellman Starter 3**\n",
        "\n",
        "The first step of the protocol is to establish a prime p and some generator of the finite field g. These must be carefully chosen to avoid special cases where the discrete log can be solved with efficient algorithms. For example, a safe prime p = 2*q +1 is usually picked such that the only factors of p - 1 are {2,q} where q is some other large prime. This protects DH from the Pohlig–Hellman algorithm.\n",
        "\n",
        "The user then picks a secret integer a < p and calculates g^a mod p. This can be transmitted over an insecure network and due to the assumed difficulty of the discrete logarithm, the secret integer should be infeasible to compute.\n",
        "\n",
        "Given the NIST parameters:\n",
        "\n",
        "g: 2\n",
        "\n",
        "p: 2410312426921032588552076022197566074856950548502459942654116941958108831682612228890093858261341614673227141477904012196503648957050582631942730706805009223062734745341073406696246014589361659774041027169249453200378729434170325843778659198143763193776859869524088940195577346119843545301547043747207749969763750084308926339295559968882457872412993810129130294592999947926365264059284647209730384947211681434464714438488520940127459844288859336526896320919633919\n",
        "\n",
        "Calculate the value of g^a mod p for\n",
        "\n",
        "a: 972107443837033796245864316200458246846904598488981605856765890478853088246897345487328491037710219222038930943365848626194109830309179393018216763327572120124760140018038673999837643377590434413866611132403979547150659053897355593394492586978400044375465657296027592948349589216415363722668361328689588996541370097559090335137676411595949335857341797148926151694299575970292809805314431447043469447485957669949989090202320234337890323293401862304986599884732815\n",
        "\n",
        "El primer paso del protocolo es establecer un primo p y algún generador del campo finito g. Estos deben elegirse cuidadosamente para evitar casos especiales en los que el registro discreto pueda resolverse con algoritmos eficientes. Por ejemplo, un primo seguro p = 2*q +1 generalmente se elige de modo que los únicos factores de p - 1 sean {2,q} donde q es algún otro primo grande. Esto protege a DH del algoritmo de Pohlig-Hellman.\n",
        "\n",
        "Luego, el usuario elige un número entero secreto a <p y calcula g^a mod p. Esto puede transmitirse a través de una red insegura y, debido a la supuesta dificultad del logaritmo discreto, no debería ser factible calcular el número entero secreto."
      ],
      "metadata": {
        "id": "NcR7ARxv-ari"
      }
    },
    {
      "cell_type": "code",
      "source": [
        "\n",
        "g =2sss\n",
        "\n",
        "p = 2410312426921032588552076022197566074856950548502459942654116941958108831682612228890093858261341614673227141477904012196503648957050582631942730706805009223062734745341073406696246014589361659774041027169249453200378729434170325843778659198143763193776859869524088940195577346119843545301547043747207749969763750084308926339295559968882457872412993810129130294592999947926365264059284647209730384947211681434464714438488520940127459844288859336526896320919633919\n",
        "\n",
        "\n",
        "a = 972107443837033796245864316200458246846904598488981605856765890478853088246897345487328491037710219222038930943365848626194109830309179393018216763327572120124760140018038673999837643377590434413866611132403979547150659053897355593394492586978400044375465657296027592948349589216415363722668361328689588996541370097559090335137676411595949335857341797148926151694299575970292809805314431447043469447485957669949989090202320234337890323293401862304986599884732815\n",
        "print(pow(g,a,p))"
      ],
      "metadata": {
        "colab": {
          "base_uri": "https://localhost:8080/"
        },
        "id": "7zGRP5Kg-eZY",
        "outputId": "45bdcac4-aa7b-4aef-f3f4-535076d0c6fd"
      },
      "execution_count": null,
      "outputs": [
        {
          "output_type": "stream",
          "name": "stdout",
          "text": [
            "1806857697840726523322586721820911358489420128129248078673933653533930681676181753849411715714173604352323556558783759252661061186320274214883104886050164368129191719707402291577330485499513522368289395359523901406138025022522412429238971591272160519144672389532393673832265070057319485399793101182682177465364396277424717543434017666343807276970864475830391776403957550678362368319776566025118492062196941451265638054400177248572271342548616103967411990437357924\n"
          ]
        }
      ]
    },
    {
      "cell_type": "markdown",
      "source": [
        "# **Diffie-Hellman Starter 4**\n",
        "\n",
        "Now it's time to calculate a shared secret using data received from your friend Alice. Like before, we will be using the NIST parameters:\n",
        "\n",
        "g: 2\n",
        "\n",
        "p: 2410312426921032588552076022197566074856950548502459942654116941958108831682612228890093858261341614673227141477904012196503648957050582631942730706805009223062734745341073406696246014589361659774041027169249453200378729434170325843778659198143763193776859869524088940195577346119843545301547043747207749969763750084308926339295559968882457872412993810129130294592999947926365264059284647209730384947211681434464714438488520940127459844288859336526896320919633919\n",
        "\n",
        "You have received the following integer from Alice:\n",
        "\n",
        "A: 70249943217595468278554541264975482909289174351516133994495821400710625291840101960595720462672604202133493023241393916394629829526272643847352371534839862030410331485087487331809285533195024369287293217083414424096866925845838641840923193480821332056735592483730921055532222505605661664236182285229504265881752580410194731633895345823963910901731715743835775619780738974844840425579683385344491015955892106904647602049559477279345982530488299847663103078045601\n",
        "\n",
        "You generate your secret integer b and calculate your public one B, which you send to Alice.\n",
        "\n",
        "b: 12019233252903990344598522535774963020395770409445296724034378433497976840167805970589960962221948290951873387728102115996831454482299243226839490999713763440412177965861508773420532266484619126710566414914227560103715336696193210379850575047730388378348266180934946139100479831339835896583443691529372703954589071507717917136906770122077739814262298488662138085608736103418601750861698417340264213867753834679359191427098195887112064503104510489610448294420720\n",
        "\n",
        "B: 518386956790041579928056815914221837599234551655144585133414727838977145777213383018096662516814302583841858901021822273505120728451788412967971809038854090670743265187138208169355155411883063541881209288967735684152473260687799664130956969450297407027926009182761627800181901721840557870828019840218548188487260441829333603432714023447029942863076979487889569452186257333512355724725941390498966546682790608125613166744820307691068563387354936732643569654017172\n",
        "\n",
        "You and Alice are now able to calculate a shared secret, which would be infeasible to calculate knowing only {g,p,A,B}.\n",
        "\n",
        "What is your shared secret?"
      ],
      "metadata": {
        "id": "Hy6fJXgu-6xr"
      }
    },
    {
      "cell_type": "code",
      "source": [
        "p=2410312426921032588552076022197566074856950548502459942654116941958108831682612228890093858261341614673227141477904012196503648957050582631942730706805009223062734745341073406696246014589361659774041027169249453200378729434170325843778659198143763193776859869524088940195577346119843545301547043747207749969763750084308926339295559968882457872412993810129130294592999947926365264059284647209730384947211681434464714438488520940127459844288859336526896320919633919\n",
        "g = 2\n",
        "A=70249943217595468278554541264975482909289174351516133994495821400710625291840101960595720462672604202133493023241393916394629829526272643847352371534839862030410331485087487331809285533195024369287293217083414424096866925845838641840923193480821332056735592483730921055532222505605661664236182285229504265881752580410194731633895345823963910901731715743835775619780738974844840425579683385344491015955892106904647602049559477279345982530488299847663103078045601\n",
        "b= 12019233252903990344598522535774963020395770409445296724034378433497976840167805970589960962221948290951873387728102115996831454482299243226839490999713763440412177965861508773420532266484619126710566414914227560103715336696193210379850575047730388378348266180934946139100479831339835896583443691529372703954589071507717917136906770122077739814262298488662138085608736103418601750861698417340264213867753834679359191427098195887112064503104510489610448294420720\n",
        "B= 518386956790041579928056815914221837599234551655144585133414727838977145777213383018096662516814302583841858901021822273505120728451788412967971809038854090670743265187138208169355155411883063541881209288967735684152473260687799664130956969450297407027926009182761627800181901721840557870828019840218548188487260441829333603432714023447029942863076979487889569452186257333512355724725941390498966546682790608125613166744820307691068563387354936732643569654017172\n",
        "\n",
        "\n",
        "print(pow(A,b,p))"
      ],
      "metadata": {
        "colab": {
          "base_uri": "https://localhost:8080/"
        },
        "id": "g-QAgvCt-uKq",
        "outputId": "fa0baa47-a66e-4e4b-bd11-3e838284fe90"
      },
      "execution_count": null,
      "outputs": [
        {
          "output_type": "stream",
          "name": "stdout",
          "text": [
            "1174130740413820656533832746034841985877302086316388380165984436672307692443711310285014138545204369495478725102882673427892104539120952393788961051992901649694063179853598311473820341215879965343136351436410522850717408445802043003164658348006577408558693502220285700893404674592567626297571222027902631157072143330043118418467094237965591198440803970726604537807146703763571606861448354607502654664700390453794493176794678917352634029713320615865940720837909466\n"
          ]
        }
      ]
    },
    {
      "cell_type": "markdown",
      "source": [
        "# **Diffie-Hellman Starter 4**\n",
        "\n",
        "Alice wants to send you her secret flag and asks you to generate a shared secret with her. She also tells you she will be using the NIST standard:\n",
        "\n",
        "g: 2\n",
        "\n",
        "p: 2410312426921032588552076022197566074856950548502459942654116941958108831682612228890093858261341614673227141477904012196503648957050582631942730706805009223062734745341073406696246014589361659774041027169249453200378729434170325843778659198143763193776859869524088940195577346119843545301547043747207749969763750084308926339295559968882457872412993810129130294592999947926365264059284647209730384947211681434464714438488520940127459844288859336526896320919633919\n",
        "\n",
        "You receive the following integer from Alice:\n",
        "\n",
        "A: 112218739139542908880564359534373424013016249772931962692237907571990334483528877513809272625610512061159061737608547288558662879685086684299624481742865016924065000555267977830144740364467977206555914781236397216033805882207640219686011643468275165718132888489024688846101943642459655423609111976363316080620471928236879737944217503462265615774774318986375878440978819238346077908864116156831874695817477772477121232820827728424890845769152726027520772901423784\n",
        "\n",
        "You then generate your secret integer and calculate your public one, which you send to Alice.\n",
        "\n",
        "b: 197395083814907028991785772714920885908249341925650951555219049411298436217190605190824934787336279228785809783531814507661385111220639329358048196339626065676869119737979175531770768861808581110311903548567424039264485661330995221907803300824165469977099494284722831845653985392791480264712091293580274947132480402319812110462641143884577706335859190668240694680261160210609506891842793868297672619625924001403035676872189455767944077542198064499486164431451944\n",
        "\n",
        "B: 1241972460522075344783337556660700537760331108332735677863862813666578639518899293226399921252049655031563612905395145236854443334774555982204857895716383215705498970395379526698761468932147200650513626028263449605755661189525521343142979265044068409405667549241125597387173006460145379759986272191990675988873894208956851773331039747840312455221354589910726982819203421992729738296452820365553759182547255998984882158393688119629609067647494762616719047466973581\n",
        "\n",
        "Individually you each use the shared secret to derive an AES private key. This allows you to encrypt large amounts of data over your channel without needing to exchange keys again.\n",
        "\n",
        "Alice sends you the following IV and ciphertext:\n",
        "\n",
        "{'iv': '737561146ff8194f45290f5766ed6aba', 'encrypted_flag': '39c99bf2f0c14678d6a5416faef954b5893c316fc3c48622ba1fd6a9fe85f3dc72a29c394cf4bc8aff6a7b21cae8e12c'}\n",
        "\n",
        "Decrypt this to obtain your flag!\n",
        "\n",
        "The decrypt.py script is provided to help you here and on future challenges too.\n",
        "\n",
        "\n",
        "Challenge files:\n",
        "  - source.py\n",
        "  - decrypt.py"
      ],
      "metadata": {
        "id": "RrAzKvWPAoPW"
      }
    },
    {
      "cell_type": "code",
      "source": [
        "from Crypto.Cipher import AES\n",
        "from Crypto.Util.Padding import pad, unpad\n",
        "import hashlib\n",
        "import os\n",
        "from secret import shared_secret\n",
        "\n",
        "FLAG = b'crypto{????????????????????????????}'\n",
        "\n",
        "\n",
        "def encrypt_flag(shared_secret: int):\n",
        "    sha1 = hashlib.sha1()\n",
        "    sha1.update(str(shared_secret).encode('ascii'))\n",
        "    key = sha1.digest()[:16]\n",
        "    iv = os.urandom(16)\n",
        "    cipher = AES.new(key, AES.MODE_CBC, iv)\n",
        "    ciphertext = cipher.encrypt(pad(FLAG, 16))\n",
        "    data = {}\n",
        "    data['iv'] = iv.hex()\n",
        "    data['encrypted_flag'] = ciphertext.hex()\n",
        "    return data\n",
        "\n",
        "\n",
        "print(encrypt_flag(shared_secret))"
      ],
      "metadata": {
        "colab": {
          "base_uri": "https://localhost:8080/",
          "height": 250
        },
        "id": "zmSY4WbVAuC2",
        "outputId": "acc1eb17-40be-4fac-e310-bd86dd5bfe66"
      },
      "execution_count": null,
      "outputs": [
        {
          "output_type": "error",
          "ename": "NameError",
          "evalue": "name 'shared_secret' is not defined",
          "traceback": [
            "\u001b[0;31m---------------------------------------------------------------------------\u001b[0m",
            "\u001b[0;31mNameError\u001b[0m                                 Traceback (most recent call last)",
            "\u001b[0;32m<ipython-input-26-3a8d3cf0bd1f>\u001b[0m in \u001b[0;36m<cell line: 23>\u001b[0;34m()\u001b[0m\n\u001b[1;32m     21\u001b[0m \u001b[0;34m\u001b[0m\u001b[0m\n\u001b[1;32m     22\u001b[0m \u001b[0;34m\u001b[0m\u001b[0m\n\u001b[0;32m---> 23\u001b[0;31m \u001b[0mprint\u001b[0m\u001b[0;34m(\u001b[0m\u001b[0mencrypt_flag\u001b[0m\u001b[0;34m(\u001b[0m\u001b[0mshared_secret\u001b[0m\u001b[0;34m)\u001b[0m\u001b[0;34m)\u001b[0m\u001b[0;34m\u001b[0m\u001b[0;34m\u001b[0m\u001b[0m\n\u001b[0m",
            "\u001b[0;31mNameError\u001b[0m: name 'shared_secret' is not defined"
          ]
        }
      ]
    },
    {
      "cell_type": "code",
      "source": [
        "from Crypto.Cipher import AES\n",
        "from Crypto.Util.Padding import pad, unpad\n",
        "import hashlib\n",
        "g = 2\n",
        "p = 2410312426921032588552076022197566074856950548502459942654116941958108831682612228890093858261341614673227141477904012196503648957050582631942730706805009223062734745341073406696246014589361659774041027169249453200378729434170325843778659198143763193776859869524088940195577346119843545301547043747207749969763750084308926339295559968882457872412993810129130294592999947926365264059284647209730384947211681434464714438488520940127459844288859336526896320919633919\n",
        "A= 112218739139542908880564359534373424013016249772931962692237907571990334483528877513809272625610512061159061737608547288558662879685086684299624481742865016924065000555267977830144740364467977206555914781236397216033805882207640219686011643468275165718132888489024688846101943642459655423609111976363316080620471928236879737944217503462265615774774318986375878440978819238346077908864116156831874695817477772477121232820827728424890845769152726027520772901423784\n",
        "b = 197395083814907028991785772714920885908249341925650951555219049411298436217190605190824934787336279228785809783531814507661385111220639329358048196339626065676869119737979175531770768861808581110311903548567424039264485661330995221907803300824165469977099494284722831845653985392791480264712091293580274947132480402319812110462641143884577706335859190668240694680261160210609506891842793868297672619625924001403035676872189455767944077542198064499486164431451944\n",
        "B= 1241972460522075344783337556660700537760331108332735677863862813666578639518899293226399921252049655031563612905395145236854443334774555982204857895716383215705498970395379526698761468932147200650513626028263449605755661189525521343142979265044068409405667549241125597387173006460145379759986272191990675988873894208956851773331039747840312455221354589910726982819203421992729738296452820365553759182547255998984882158393688119629609067647494762616719047466973581\n",
        "shared_secret = pow(A,b,p)\n",
        "iv = '737561146ff8194f45290f5766ed6aba'\n",
        "encrypted_flag = '39c99bf2f0c14678d6a5416faef954b5893c316fc3c48622ba1fd6a9fe85f3dc72a29c394cf4bc8aff6a7b21cae8e12c'\n",
        "\n",
        "sha1 = hashlib.sha1()\n",
        "sha1.update(str(shared_secret).encode('ascii'))\n",
        "key = sha1.digest()[:16]\n",
        "ct = bytes.fromhex(encrypted_flag)\n",
        "iv = bytes.fromhex(iv)\n",
        "cipher = AES.new(key,AES.MODE_CBC,iv)\n",
        "flag = cipher.decrypt(ct)\n",
        "print(flag)"
      ],
      "metadata": {
        "colab": {
          "base_uri": "https://localhost:8080/",
          "height": 422
        },
        "id": "VBi7g6xUDjeW",
        "outputId": "d44fa976-393d-4d02-a2ea-ebc596a66c90"
      },
      "execution_count": null,
      "outputs": [
        {
          "output_type": "error",
          "ename": "ModuleNotFoundError",
          "evalue": "No module named 'Crypto'",
          "traceback": [
            "\u001b[0;31m---------------------------------------------------------------------------\u001b[0m",
            "\u001b[0;31mModuleNotFoundError\u001b[0m                       Traceback (most recent call last)",
            "\u001b[0;32m<ipython-input-1-afef81cd70db>\u001b[0m in \u001b[0;36m<cell line: 1>\u001b[0;34m()\u001b[0m\n\u001b[0;32m----> 1\u001b[0;31m \u001b[0;32mfrom\u001b[0m \u001b[0mCrypto\u001b[0m\u001b[0;34m.\u001b[0m\u001b[0mCipher\u001b[0m \u001b[0;32mimport\u001b[0m \u001b[0mAES\u001b[0m\u001b[0;34m\u001b[0m\u001b[0;34m\u001b[0m\u001b[0m\n\u001b[0m\u001b[1;32m      2\u001b[0m \u001b[0;32mfrom\u001b[0m \u001b[0mCrypto\u001b[0m\u001b[0;34m.\u001b[0m\u001b[0mUtil\u001b[0m\u001b[0;34m.\u001b[0m\u001b[0mPadding\u001b[0m \u001b[0;32mimport\u001b[0m \u001b[0mpad\u001b[0m\u001b[0;34m,\u001b[0m \u001b[0munpad\u001b[0m\u001b[0;34m\u001b[0m\u001b[0;34m\u001b[0m\u001b[0m\n\u001b[1;32m      3\u001b[0m \u001b[0;32mimport\u001b[0m \u001b[0mhashlib\u001b[0m\u001b[0;34m\u001b[0m\u001b[0;34m\u001b[0m\u001b[0m\n\u001b[1;32m      4\u001b[0m \u001b[0mg\u001b[0m \u001b[0;34m=\u001b[0m \u001b[0;36m2\u001b[0m\u001b[0;34m\u001b[0m\u001b[0;34m\u001b[0m\u001b[0m\n\u001b[1;32m      5\u001b[0m \u001b[0mp\u001b[0m \u001b[0;34m=\u001b[0m \u001b[0;36m2410312426921032588552076022197566074856950548502459942654116941958108831682612228890093858261341614673227141477904012196503648957050582631942730706805009223062734745341073406696246014589361659774041027169249453200378729434170325843778659198143763193776859869524088940195577346119843545301547043747207749969763750084308926339295559968882457872412993810129130294592999947926365264059284647209730384947211681434464714438488520940127459844288859336526896320919633919\u001b[0m\u001b[0;34m\u001b[0m\u001b[0;34m\u001b[0m\u001b[0m\n",
            "\u001b[0;31mModuleNotFoundError\u001b[0m: No module named 'Crypto'",
            "",
            "\u001b[0;31m---------------------------------------------------------------------------\u001b[0;32m\nNOTE: If your import is failing due to a missing package, you can\nmanually install dependencies using either !pip or !apt.\n\nTo view examples of installing some common dependencies, click the\n\"Open Examples\" button below.\n\u001b[0;31m---------------------------------------------------------------------------\u001b[0m\n"
          ],
          "errorDetails": {
            "actions": [
              {
                "action": "open_url",
                "actionText": "Open Examples",
                "url": "/notebooks/snippets/importing_libraries.ipynb"
              }
            ]
          }
        }
      ]
    },
    {
      "cell_type": "markdown",
      "source": [
        "# **Parameter Injection**\n",
        "\n",
        "You're in a position to not only intercept Alice and Bob's DH key exchange, but also rewrite their messages. Think about how you can play with the DH equation that they calculate, and therefore sidestep the need to crack any discrete logarithm problem.\n",
        "\n",
        "Use the script from \"Diffie-Hellman Starter 5\" to decrypt the flag once you've recovered the shared secret.\n",
        "\n",
        "Connect at socket.cryptohack.org 13371"
      ],
      "metadata": {
        "id": "KmNGncDcAoJj"
      }
    },
    {
      "cell_type": "code",
      "source": [
        "pip install pwntools"
      ],
      "metadata": {
        "colab": {
          "base_uri": "https://localhost:8080/"
        },
        "id": "yxoNgCVRJ1L-",
        "outputId": "c72af2c7-06bd-4f71-d213-4d18627c6485"
      },
      "execution_count": null,
      "outputs": [
        {
          "output_type": "stream",
          "name": "stdout",
          "text": [
            "Requirement already satisfied: pwntools in /usr/local/lib/python3.10/dist-packages (4.11.1)\n",
            "Requirement already satisfied: paramiko>=1.15.2 in /usr/local/lib/python3.10/dist-packages (from pwntools) (3.4.0)\n",
            "Requirement already satisfied: mako>=1.0.0 in /usr/local/lib/python3.10/dist-packages (from pwntools) (1.3.0)\n",
            "Requirement already satisfied: capstone>=3.0.5rc2 in /usr/local/lib/python3.10/dist-packages (from pwntools) (5.0.1)\n",
            "Requirement already satisfied: ropgadget>=5.3 in /usr/local/lib/python3.10/dist-packages (from pwntools) (7.4)\n",
            "Requirement already satisfied: pyserial>=2.7 in /usr/local/lib/python3.10/dist-packages (from pwntools) (3.5)\n",
            "Requirement already satisfied: requests>=2.0 in /usr/local/lib/python3.10/dist-packages (from pwntools) (2.29.0)\n",
            "Requirement already satisfied: pip>=6.0.8 in /usr/local/lib/python3.10/dist-packages (from pwntools) (23.1.2)\n",
            "Requirement already satisfied: pygments>=2.0 in /usr/local/lib/python3.10/dist-packages (from pwntools) (2.16.1)\n",
            "Requirement already satisfied: pysocks in /usr/local/lib/python3.10/dist-packages (from pwntools) (1.7.1)\n",
            "Requirement already satisfied: python-dateutil in /usr/local/lib/python3.10/dist-packages (from pwntools) (2.8.2)\n",
            "Requirement already satisfied: packaging in /usr/local/lib/python3.10/dist-packages (from pwntools) (23.2)\n",
            "Requirement already satisfied: psutil>=3.3.0 in /usr/local/lib/python3.10/dist-packages (from pwntools) (5.9.5)\n",
            "Requirement already satisfied: intervaltree>=3.0 in /usr/local/lib/python3.10/dist-packages (from pwntools) (3.1.0)\n",
            "Requirement already satisfied: sortedcontainers in /usr/local/lib/python3.10/dist-packages (from pwntools) (2.4.0)\n",
            "Requirement already satisfied: unicorn>=1.0.2rc1 in /usr/local/lib/python3.10/dist-packages (from pwntools) (2.0.1.post1)\n",
            "Requirement already satisfied: six>=1.12.0 in /usr/local/lib/python3.10/dist-packages (from pwntools) (1.16.0)\n",
            "Requirement already satisfied: rpyc in /usr/local/lib/python3.10/dist-packages (from pwntools) (5.3.1)\n",
            "Requirement already satisfied: colored-traceback in /usr/local/lib/python3.10/dist-packages (from pwntools) (0.3.0)\n",
            "Requirement already satisfied: pyelftools>=0.24 in /usr/local/lib/python3.10/dist-packages (from pwntools) (0.30)\n",
            "Requirement already satisfied: MarkupSafe>=0.9.2 in /usr/local/lib/python3.10/dist-packages (from mako>=1.0.0->pwntools) (2.1.3)\n",
            "Requirement already satisfied: bcrypt>=3.2 in /usr/local/lib/python3.10/dist-packages (from paramiko>=1.15.2->pwntools) (4.1.2)\n",
            "Requirement already satisfied: cryptography>=3.3 in /usr/local/lib/python3.10/dist-packages (from paramiko>=1.15.2->pwntools) (41.0.7)\n",
            "Requirement already satisfied: pynacl>=1.5 in /usr/local/lib/python3.10/dist-packages (from paramiko>=1.15.2->pwntools) (1.5.0)\n",
            "Requirement already satisfied: charset-normalizer<4,>=2 in /usr/local/lib/python3.10/dist-packages (from requests>=2.0->pwntools) (3.3.2)\n",
            "Requirement already satisfied: idna<4,>=2.5 in /usr/local/lib/python3.10/dist-packages (from requests>=2.0->pwntools) (3.6)\n",
            "Requirement already satisfied: urllib3<1.27,>=1.21.1 in /usr/local/lib/python3.10/dist-packages (from requests>=2.0->pwntools) (1.26.18)\n",
            "Requirement already satisfied: certifi>=2017.4.17 in /usr/local/lib/python3.10/dist-packages (from requests>=2.0->pwntools) (2023.11.17)\n",
            "Requirement already satisfied: plumbum in /usr/local/lib/python3.10/dist-packages (from rpyc->pwntools) (1.8.2)\n",
            "Requirement already satisfied: cffi>=1.12 in /usr/local/lib/python3.10/dist-packages (from cryptography>=3.3->paramiko>=1.15.2->pwntools) (1.16.0)\n",
            "Requirement already satisfied: pycparser in /usr/local/lib/python3.10/dist-packages (from cffi>=1.12->cryptography>=3.3->paramiko>=1.15.2->pwntools) (2.21)\n"
          ]
        }
      ]
    },
    {
      "cell_type": "code",
      "source": [
        "pip install pycryptodome"
      ],
      "metadata": {
        "colab": {
          "base_uri": "https://localhost:8080/"
        },
        "id": "ljzHuPMmJ4fs",
        "outputId": "3588a7bb-6d14-40d8-9127-e02170cbdc91"
      },
      "execution_count": null,
      "outputs": [
        {
          "output_type": "stream",
          "name": "stdout",
          "text": [
            "Requirement already satisfied: pycryptodome in /usr/local/lib/python3.10/dist-packages (3.19.1)\n"
          ]
        }
      ]
    },
    {
      "cell_type": "code",
      "source": [
        "import pwn\n",
        "import json\n",
        "import hashlib\n",
        "from Crypto.Cipher import AES\n",
        "\n",
        "host = \"socket.cryptohack.org\"\n",
        "port = 13371\n",
        "\n",
        "\n",
        "def exploit():\n",
        "    pr = pwn.connect(host, port)\n",
        "    try:\n",
        "        pr.readuntil(\": \")\n",
        "        line = json.loads(pr.readline().strip().decode())\n",
        "        #p = int(line['p'][2:].strip('f'), 16)\n",
        "        p = int(line['p'], 16)\n",
        "        g = int(line['g'], 16)\n",
        "        A = int(line['A'], 16)\n",
        "\n",
        "        payload = json.dumps({\"p\":hex(p),\"g\":hex(g),\"A\":hex(p)})\n",
        "        print(payload, len(payload))\n",
        "        pr.sendlineafter(\": \", payload)\n",
        "\n",
        "        pr.readuntil(\": \")\n",
        "        line = json.loads(pr.readline().strip().decode())\n",
        "        B = int(line['B'], 16)\n",
        "\n",
        "        payload = json.dumps({\"B\":hex(p)})\n",
        "        print(payload, len(payload))\n",
        "        pr.sendlineafter(\": \", payload)\n",
        "\n",
        "        pr.readuntil(\": \")\n",
        "        line = json.loads(pr.readline().strip().decode())\n",
        "        print(line)\n",
        "\n",
        "        iv = bytes.fromhex(line['iv'])\n",
        "        encrypted_flag = bytes.fromhex(line['encrypted_flag'])\n",
        "        sha1 = hashlib.sha1()\n",
        "        secret = 0\n",
        "        sha1.update(str(secret).encode())\n",
        "        key = sha1.digest()[:16]\n",
        "        aes = AES.new(key, AES.MODE_CBC, iv)\n",
        "        print(aes.decrypt(encrypted_flag))\n",
        "    finally:\n",
        "        pr.close()\n",
        "\n",
        "exploit()"
      ],
      "metadata": {
        "colab": {
          "base_uri": "https://localhost:8080/",
          "height": 453
        },
        "id": "FBb2KwRfEEAM",
        "outputId": "27c9a771-5012-4965-bc92-8363db4942ff"
      },
      "execution_count": null,
      "outputs": [
        {
          "output_type": "error",
          "ename": "UnsupportedOperation",
          "evalue": "fileno",
          "traceback": [
            "\u001b[0;31m---------------------------------------------------------------------------\u001b[0m",
            "\u001b[0;31mUnsupportedOperation\u001b[0m                      Traceback (most recent call last)",
            "\u001b[0;32m<ipython-input-39-379ea4edc755>\u001b[0m in \u001b[0;36m<cell line: 1>\u001b[0;34m()\u001b[0m\n\u001b[0;32m----> 1\u001b[0;31m \u001b[0;32mimport\u001b[0m \u001b[0mpwn\u001b[0m\u001b[0;34m\u001b[0m\u001b[0;34m\u001b[0m\u001b[0m\n\u001b[0m\u001b[1;32m      2\u001b[0m \u001b[0;32mimport\u001b[0m \u001b[0mjson\u001b[0m\u001b[0;34m\u001b[0m\u001b[0;34m\u001b[0m\u001b[0m\n\u001b[1;32m      3\u001b[0m \u001b[0;32mimport\u001b[0m \u001b[0mhashlib\u001b[0m\u001b[0;34m\u001b[0m\u001b[0;34m\u001b[0m\u001b[0m\n\u001b[1;32m      4\u001b[0m \u001b[0;32mfrom\u001b[0m \u001b[0mCrypto\u001b[0m\u001b[0;34m.\u001b[0m\u001b[0mCipher\u001b[0m \u001b[0;32mimport\u001b[0m \u001b[0mAES\u001b[0m\u001b[0;34m\u001b[0m\u001b[0;34m\u001b[0m\u001b[0m\n\u001b[1;32m      5\u001b[0m \u001b[0;34m\u001b[0m\u001b[0m\n",
            "\u001b[0;32m/usr/local/lib/python3.10/dist-packages/pwn/__init__.py\u001b[0m in \u001b[0;36m<module>\u001b[0;34m\u001b[0m\n\u001b[1;32m      2\u001b[0m \u001b[0;32mfrom\u001b[0m \u001b[0m__future__\u001b[0m \u001b[0;32mimport\u001b[0m \u001b[0mabsolute_import\u001b[0m\u001b[0;34m\u001b[0m\u001b[0;34m\u001b[0m\u001b[0m\n\u001b[1;32m      3\u001b[0m \u001b[0;34m\u001b[0m\u001b[0m\n\u001b[0;32m----> 4\u001b[0;31m \u001b[0;32mfrom\u001b[0m \u001b[0mpwn\u001b[0m\u001b[0;34m.\u001b[0m\u001b[0mtoplevel\u001b[0m \u001b[0;32mimport\u001b[0m \u001b[0;34m*\u001b[0m\u001b[0;34m\u001b[0m\u001b[0;34m\u001b[0m\u001b[0m\n\u001b[0m\u001b[1;32m      5\u001b[0m \u001b[0;34m\u001b[0m\u001b[0m\n\u001b[1;32m      6\u001b[0m \u001b[0mpwnlib\u001b[0m\u001b[0;34m.\u001b[0m\u001b[0margs\u001b[0m\u001b[0;34m.\u001b[0m\u001b[0minitialize\u001b[0m\u001b[0;34m(\u001b[0m\u001b[0;34m)\u001b[0m\u001b[0;34m\u001b[0m\u001b[0;34m\u001b[0m\u001b[0m\n",
            "\u001b[0;32m/usr/local/lib/python3.10/dist-packages/pwn/toplevel.py\u001b[0m in \u001b[0;36m<module>\u001b[0;34m\u001b[0m\n\u001b[1;32m     19\u001b[0m \u001b[0;32mfrom\u001b[0m \u001b[0mpprint\u001b[0m \u001b[0;32mimport\u001b[0m \u001b[0mpprint\u001b[0m\u001b[0;34m\u001b[0m\u001b[0;34m\u001b[0m\u001b[0m\n\u001b[1;32m     20\u001b[0m \u001b[0;34m\u001b[0m\u001b[0m\n\u001b[0;32m---> 21\u001b[0;31m \u001b[0;32mimport\u001b[0m \u001b[0mpwnlib\u001b[0m\u001b[0;34m\u001b[0m\u001b[0;34m\u001b[0m\u001b[0m\n\u001b[0m\u001b[1;32m     22\u001b[0m \u001b[0;32mfrom\u001b[0m \u001b[0mpwnlib\u001b[0m \u001b[0;32mimport\u001b[0m \u001b[0;34m*\u001b[0m\u001b[0;34m\u001b[0m\u001b[0;34m\u001b[0m\u001b[0m\n\u001b[1;32m     23\u001b[0m \u001b[0;32mfrom\u001b[0m \u001b[0mpwnlib\u001b[0m\u001b[0;34m.\u001b[0m\u001b[0masm\u001b[0m \u001b[0;32mimport\u001b[0m \u001b[0;34m*\u001b[0m\u001b[0;34m\u001b[0m\u001b[0;34m\u001b[0m\u001b[0m\n",
            "\u001b[0;32m/usr/local/lib/python3.10/dist-packages/pwnlib/__init__.py\u001b[0m in \u001b[0;36m<module>\u001b[0;34m\u001b[0m\n\u001b[1;32m     39\u001b[0m ]\n\u001b[1;32m     40\u001b[0m \u001b[0;34m\u001b[0m\u001b[0m\n\u001b[0;32m---> 41\u001b[0;31m \u001b[0;32mfrom\u001b[0m \u001b[0;34m.\u001b[0m \u001b[0;32mimport\u001b[0m \u001b[0margs\u001b[0m\u001b[0;34m\u001b[0m\u001b[0;34m\u001b[0m\u001b[0m\n\u001b[0m",
            "\u001b[0;32m/usr/local/lib/python3.10/dist-packages/pwnlib/args.py\u001b[0m in \u001b[0;36m<module>\u001b[0;34m\u001b[0m\n\u001b[1;32m     58\u001b[0m \u001b[0;32mimport\u001b[0m \u001b[0msys\u001b[0m\u001b[0;34m\u001b[0m\u001b[0;34m\u001b[0m\u001b[0m\n\u001b[1;32m     59\u001b[0m \u001b[0;34m\u001b[0m\u001b[0m\n\u001b[0;32m---> 60\u001b[0;31m \u001b[0;32mfrom\u001b[0m \u001b[0mpwnlib\u001b[0m \u001b[0;32mimport\u001b[0m \u001b[0mterm\u001b[0m\u001b[0;34m\u001b[0m\u001b[0;34m\u001b[0m\u001b[0m\n\u001b[0m\u001b[1;32m     61\u001b[0m \u001b[0;32mfrom\u001b[0m \u001b[0mpwnlib\u001b[0m\u001b[0;34m.\u001b[0m\u001b[0mcontext\u001b[0m \u001b[0;32mimport\u001b[0m \u001b[0mcontext\u001b[0m\u001b[0;34m\u001b[0m\u001b[0;34m\u001b[0m\u001b[0m\n\u001b[1;32m     62\u001b[0m \u001b[0;34m\u001b[0m\u001b[0m\n",
            "\u001b[0;32m/usr/local/lib/python3.10/dist-packages/pwnlib/term/__init__.py\u001b[0m in \u001b[0;36m<module>\u001b[0;34m\u001b[0m\n\u001b[1;32m      4\u001b[0m \u001b[0;32mimport\u001b[0m \u001b[0msys\u001b[0m\u001b[0;34m\u001b[0m\u001b[0;34m\u001b[0m\u001b[0m\n\u001b[1;32m      5\u001b[0m \u001b[0;34m\u001b[0m\u001b[0m\n\u001b[0;32m----> 6\u001b[0;31m \u001b[0;32mfrom\u001b[0m \u001b[0mpwnlib\u001b[0m\u001b[0;34m.\u001b[0m\u001b[0mterm\u001b[0m \u001b[0;32mimport\u001b[0m \u001b[0mcompleter\u001b[0m\u001b[0;34m\u001b[0m\u001b[0;34m\u001b[0m\u001b[0m\n\u001b[0m\u001b[1;32m      7\u001b[0m \u001b[0;32mfrom\u001b[0m \u001b[0mpwnlib\u001b[0m\u001b[0;34m.\u001b[0m\u001b[0mterm\u001b[0m \u001b[0;32mimport\u001b[0m \u001b[0mkey\u001b[0m\u001b[0;34m\u001b[0m\u001b[0;34m\u001b[0m\u001b[0m\n\u001b[1;32m      8\u001b[0m \u001b[0;32mfrom\u001b[0m \u001b[0mpwnlib\u001b[0m\u001b[0;34m.\u001b[0m\u001b[0mterm\u001b[0m \u001b[0;32mimport\u001b[0m \u001b[0mkeymap\u001b[0m\u001b[0;34m\u001b[0m\u001b[0;34m\u001b[0m\u001b[0m\n",
            "\u001b[0;32m/usr/local/lib/python3.10/dist-packages/pwnlib/term/completer.py\u001b[0m in \u001b[0;36m<module>\u001b[0;34m\u001b[0m\n\u001b[1;32m      5\u001b[0m \u001b[0;32mimport\u001b[0m \u001b[0mre\u001b[0m\u001b[0;34m\u001b[0m\u001b[0;34m\u001b[0m\u001b[0m\n\u001b[1;32m      6\u001b[0m \u001b[0;34m\u001b[0m\u001b[0m\n\u001b[0;32m----> 7\u001b[0;31m \u001b[0;32mfrom\u001b[0m \u001b[0mpwnlib\u001b[0m\u001b[0;34m.\u001b[0m\u001b[0mterm\u001b[0m \u001b[0;32mimport\u001b[0m \u001b[0mreadline\u001b[0m\u001b[0;34m\u001b[0m\u001b[0;34m\u001b[0m\u001b[0m\n\u001b[0m\u001b[1;32m      8\u001b[0m \u001b[0;34m\u001b[0m\u001b[0m\n\u001b[1;32m      9\u001b[0m \u001b[0;34m\u001b[0m\u001b[0m\n",
            "\u001b[0;32m/usr/local/lib/python3.10/dist-packages/pwnlib/term/readline.py\u001b[0m in \u001b[0;36m<module>\u001b[0;34m\u001b[0m\n\u001b[1;32m     10\u001b[0m \u001b[0;32mfrom\u001b[0m \u001b[0mpwnlib\u001b[0m\u001b[0;34m.\u001b[0m\u001b[0mterm\u001b[0m \u001b[0;32mimport\u001b[0m \u001b[0mkeymap\u001b[0m \u001b[0;32mas\u001b[0m \u001b[0mkm\u001b[0m\u001b[0;34m\u001b[0m\u001b[0;34m\u001b[0m\u001b[0m\n\u001b[1;32m     11\u001b[0m \u001b[0;32mfrom\u001b[0m \u001b[0mpwnlib\u001b[0m\u001b[0;34m.\u001b[0m\u001b[0mterm\u001b[0m \u001b[0;32mimport\u001b[0m \u001b[0mterm\u001b[0m\u001b[0;34m\u001b[0m\u001b[0;34m\u001b[0m\u001b[0m\n\u001b[0;32m---> 12\u001b[0;31m \u001b[0;32mfrom\u001b[0m \u001b[0mpwnlib\u001b[0m\u001b[0;34m.\u001b[0m\u001b[0mterm\u001b[0m \u001b[0;32mimport\u001b[0m \u001b[0mtext\u001b[0m\u001b[0;34m\u001b[0m\u001b[0;34m\u001b[0m\u001b[0m\n\u001b[0m\u001b[1;32m     13\u001b[0m \u001b[0;34m\u001b[0m\u001b[0m\n\u001b[1;32m     14\u001b[0m \u001b[0mcursor\u001b[0m \u001b[0;34m=\u001b[0m \u001b[0mtext\u001b[0m\u001b[0;34m.\u001b[0m\u001b[0mreverse\u001b[0m\u001b[0;34m\u001b[0m\u001b[0;34m\u001b[0m\u001b[0m\n",
            "\u001b[0;32m/usr/local/lib/python3.10/dist-packages/pwnlib/term/text.py\u001b[0m in \u001b[0;36m<module>\u001b[0;34m\u001b[0m\n\u001b[1;32m    128\u001b[0m \u001b[0;34m\u001b[0m\u001b[0m\n\u001b[1;32m    129\u001b[0m \u001b[0mtether\u001b[0m \u001b[0;34m=\u001b[0m \u001b[0msys\u001b[0m\u001b[0;34m.\u001b[0m\u001b[0mmodules\u001b[0m\u001b[0;34m[\u001b[0m\u001b[0m__name__\u001b[0m\u001b[0;34m]\u001b[0m\u001b[0;34m\u001b[0m\u001b[0;34m\u001b[0m\u001b[0m\n\u001b[0;32m--> 130\u001b[0;31m \u001b[0msys\u001b[0m\u001b[0;34m.\u001b[0m\u001b[0mmodules\u001b[0m\u001b[0;34m[\u001b[0m\u001b[0m__name__\u001b[0m\u001b[0;34m]\u001b[0m \u001b[0;34m=\u001b[0m \u001b[0mModule\u001b[0m\u001b[0;34m(\u001b[0m\u001b[0;34m)\u001b[0m\u001b[0;34m\u001b[0m\u001b[0;34m\u001b[0m\u001b[0m\n\u001b[0m",
            "\u001b[0;32m/usr/local/lib/python3.10/dist-packages/pwnlib/term/text.py\u001b[0m in \u001b[0;36m__init__\u001b[0;34m(self)\u001b[0m\n\u001b[1;32m     42\u001b[0m             \u001b[0;34m'white'\u001b[0m\u001b[0;34m:\u001b[0m \u001b[0;36m7\u001b[0m\u001b[0;34m,\u001b[0m\u001b[0;34m\u001b[0m\u001b[0;34m\u001b[0m\u001b[0m\n\u001b[1;32m     43\u001b[0m             }\n\u001b[0;32m---> 44\u001b[0;31m         \u001b[0mself\u001b[0m\u001b[0;34m.\u001b[0m\u001b[0m_reset\u001b[0m \u001b[0;34m=\u001b[0m \u001b[0mtermcap\u001b[0m\u001b[0;34m.\u001b[0m\u001b[0mget\u001b[0m\u001b[0;34m(\u001b[0m\u001b[0;34m'reset'\u001b[0m\u001b[0;34m)\u001b[0m\u001b[0;34m\u001b[0m\u001b[0;34m\u001b[0m\u001b[0m\n\u001b[0m\u001b[1;32m     45\u001b[0m         \u001b[0mself\u001b[0m\u001b[0;34m.\u001b[0m\u001b[0m_attributes\u001b[0m \u001b[0;34m=\u001b[0m \u001b[0;34m{\u001b[0m\u001b[0;34m}\u001b[0m\u001b[0;34m\u001b[0m\u001b[0;34m\u001b[0m\u001b[0m\n\u001b[1;32m     46\u001b[0m         for x, y in [('italic'   , 'sitm'),\n",
            "\u001b[0;32m/usr/local/lib/python3.10/dist-packages/pwnlib/term/unix_termcap.py\u001b[0m in \u001b[0;36mget\u001b[0;34m(cap, *args, **kwargs)\u001b[0m\n\u001b[1;32m     23\u001b[0m \u001b[0;34m\u001b[0m\u001b[0m\n\u001b[1;32m     24\u001b[0m     \u001b[0;32mif\u001b[0m \u001b[0mcache\u001b[0m \u001b[0;32mis\u001b[0m \u001b[0;32mNone\u001b[0m\u001b[0;34m:\u001b[0m\u001b[0;34m\u001b[0m\u001b[0;34m\u001b[0m\u001b[0m\n\u001b[0;32m---> 25\u001b[0;31m         \u001b[0minit\u001b[0m\u001b[0;34m(\u001b[0m\u001b[0;34m)\u001b[0m\u001b[0;34m\u001b[0m\u001b[0;34m\u001b[0m\u001b[0m\n\u001b[0m\u001b[1;32m     26\u001b[0m     \u001b[0ms\u001b[0m \u001b[0;34m=\u001b[0m \u001b[0mcache\u001b[0m\u001b[0;34m.\u001b[0m\u001b[0mget\u001b[0m\u001b[0;34m(\u001b[0m\u001b[0mcap\u001b[0m\u001b[0;34m)\u001b[0m\u001b[0;34m\u001b[0m\u001b[0;34m\u001b[0m\u001b[0m\n\u001b[1;32m     27\u001b[0m     \u001b[0;32mif\u001b[0m \u001b[0;32mnot\u001b[0m \u001b[0ms\u001b[0m\u001b[0;34m:\u001b[0m\u001b[0;34m\u001b[0m\u001b[0;34m\u001b[0m\u001b[0m\n",
            "\u001b[0;32m/usr/local/lib/python3.10/dist-packages/pwnlib/term/unix_termcap.py\u001b[0m in \u001b[0;36minit\u001b[0;34m()\u001b[0m\n\u001b[1;32m     57\u001b[0m         \u001b[0;31m# Fix for BPython\u001b[0m\u001b[0;34m\u001b[0m\u001b[0;34m\u001b[0m\u001b[0m\n\u001b[1;32m     58\u001b[0m         \u001b[0;32mtry\u001b[0m\u001b[0;34m:\u001b[0m\u001b[0;34m\u001b[0m\u001b[0;34m\u001b[0m\u001b[0m\n\u001b[0;32m---> 59\u001b[0;31m             \u001b[0mcurses\u001b[0m\u001b[0;34m.\u001b[0m\u001b[0msetupterm\u001b[0m\u001b[0;34m(\u001b[0m\u001b[0;34m)\u001b[0m\u001b[0;34m\u001b[0m\u001b[0;34m\u001b[0m\u001b[0m\n\u001b[0m\u001b[1;32m     60\u001b[0m         \u001b[0;32mexcept\u001b[0m \u001b[0mcurses\u001b[0m\u001b[0;34m.\u001b[0m\u001b[0merror\u001b[0m \u001b[0;32mas\u001b[0m \u001b[0me\u001b[0m\u001b[0;34m:\u001b[0m\u001b[0;34m\u001b[0m\u001b[0;34m\u001b[0m\u001b[0m\n\u001b[1;32m     61\u001b[0m             \u001b[0;32mimport\u001b[0m \u001b[0mtraceback\u001b[0m\u001b[0;34m\u001b[0m\u001b[0;34m\u001b[0m\u001b[0m\n",
            "\u001b[0;31mUnsupportedOperation\u001b[0m: fileno"
          ]
        }
      ]
    },
    {
      "cell_type": "markdown",
      "source": [
        "# **Export-grade**\n",
        "\n",
        "Alice and Bob are using legacy codebases and need to negotiate parameters they both support. You've man-in-the-middled this negotiation step, and can passively observe thereafter. How are you going to ruin their day this time?\n",
        "\n",
        "Connect at socket.cryptohack.org 13379"
      ],
      "metadata": {
        "id": "2s2SgacJLvQv"
      }
    },
    {
      "cell_type": "code",
      "source": [
        "\"\"\"\n",
        "Intercepted from Alice: {\"supported\": [\"DH1536\", \"DH1024\", \"DH512\", \"DH256\", \"DH128\", \"DH64\"]}\n",
        "Send to Bob: {\"supported\":[\"DH64\"]}\n",
        "Intercepted from Bob: {\"chosen\": \"DH64\"}\n",
        "Send to Alice: {\"chosen\": \"DH64\"}\n",
        "Intercepted from Alice: {\"p\": \"0xde26ab651b92a129\", \"g\": \"0x2\", \"A\": \"0x637430f37c694fa7\"}\n",
        "Intercepted from Bob: {\"B\": \"0x7249365a2a8c71ff\"}\n",
        "Intercepted from Alice: {\"iv\": \"31077c28f19c90297f3da6dff6ca3019\", \"encrypted_flag\": \"0ebb53dab97122361cfa8cdbb5ddc092a5af41452aae8def0d27181b6ee89839\"}\n",
        "\"\"\"\n",
        "\n",
        "p = \"0xde26ab651b92a129\"\n",
        "g = \"0x2\"\n",
        "A = \"0x637430f37c694fa7\"\n",
        "B = \"0x7249365a2a8c71ff\"\n",
        "iv =  \"31077c28f19c90297f3da6dff6ca3019\"\n",
        "encrypted_flag = \"0ebb53dab97122361cfa8cdbb5ddc092a5af41452aae8def0d27181b6ee89839\"\n",
        "\n",
        "p = int(p, 16)\n",
        "g = int(g, 16)\n",
        "A = int(A, 16)\n",
        "B = int(B, 16)\n",
        "iv = bytes.fromhex(iv)\n",
        "encrypted_flag = bytes.fromhex(encrypted_flag)\n",
        "\n",
        "from Crypto.Cipher import AES\n",
        "from Crypto.Util import number\n",
        "import hashlib\n",
        "\n",
        "def decrypt(secret, iv, cipher):\n",
        "    sha1 = hashlib.sha1()\n",
        "    sha1.update(str(secret).encode())\n",
        "    key = sha1.digest()[:16]\n",
        "    aes = AES.new(key, AES.MODE_CBC, iv)\n",
        "    plain = aes.decrypt(cipher)\n",
        "    print(plain)\n",
        "\n",
        "\"\"\"\n",
        "A = pow(g, a, p)\n",
        "B = pow(g, b, p)\n",
        "\n",
        "ka = pow(B, a, p)\n",
        "kb = pow(A, b, p)\n",
        "\"\"\"\n",
        "# Use Discrete logarithm calculator https://www.alpertron.com.ar/DILOG.HTM to find out Alice's secret key ``a``\n",
        "a = 7596561454821291306\n",
        "secret = pow(B, a, p)\n",
        "decrypt(secret, iv, encrypted_flag)"
      ],
      "metadata": {
        "colab": {
          "base_uri": "https://localhost:8080/"
        },
        "id": "FiZ6hY1eLzUt",
        "outputId": "19d407f0-8548-45a3-ccad-9f7b5b90374b"
      },
      "execution_count": null,
      "outputs": [
        {
          "output_type": "stream",
          "name": "stdout",
          "text": [
            "b'crypto{d0wn6r4d35_4r3_d4n63r0u5}'\n"
          ]
        }
      ]
    }
  ]
}