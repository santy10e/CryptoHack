{
  "nbformat": 4,
  "nbformat_minor": 0,
  "metadata": {
    "colab": {
      "provenance": []
    },
    "kernelspec": {
      "name": "python3",
      "display_name": "Python 3"
    },
    "language_info": {
      "name": "python"
    }
  },
  "cells": [
    {
      "cell_type": "markdown",
      "source": [
        "# **STATIC CLIENT**\n",
        "\n",
        "You've just finished eavesdropping on a conversation between Alice and Bob. Now you have a chance to talk to Bob. What are you going to say?\n",
        "\n",
        "Connect at socket.cryptohack.org 13373"
      ],
      "metadata": {
        "id": "skfvLPwqRlx1"
      }
    },
    {
      "cell_type": "code",
      "source": [
        "!pip install telnetlib"
      ],
      "metadata": {
        "colab": {
          "base_uri": "https://localhost:8080/"
        },
        "id": "ilc-tjlsIN__",
        "outputId": "1b52389d-66bc-444e-c767-91489de5d5f1"
      },
      "execution_count": null,
      "outputs": [
        {
          "output_type": "stream",
          "name": "stdout",
          "text": [
            "\u001b[31mERROR: Could not find a version that satisfies the requirement telnetlib (from versions: none)\u001b[0m\u001b[31m\n",
            "\u001b[0m\u001b[31mERROR: No matching distribution found for telnetlib\u001b[0m\u001b[31m\n",
            "\u001b[0m"
          ]
        }
      ]
    },
    {
      "cell_type": "code",
      "execution_count": null,
      "metadata": {
        "colab": {
          "base_uri": "https://localhost:8080/",
          "height": 384
        },
        "id": "sUUbFWc4H0as",
        "outputId": "037053bb-769f-43d3-90d9-8b533781af43"
      },
      "outputs": [
        {
          "output_type": "error",
          "ename": "ModuleNotFoundError",
          "evalue": "No module named 'modexp'",
          "traceback": [
            "\u001b[0;31m---------------------------------------------------------------------------\u001b[0m",
            "\u001b[0;31mModuleNotFoundError\u001b[0m                       Traceback (most recent call last)",
            "\u001b[0;32m<ipython-input-1-2eb2d69dbe13>\u001b[0m in \u001b[0;36m<cell line: 3>\u001b[0;34m()\u001b[0m\n\u001b[1;32m      1\u001b[0m \u001b[0;32mimport\u001b[0m \u001b[0mtelnetlib\u001b[0m\u001b[0;34m\u001b[0m\u001b[0;34m\u001b[0m\u001b[0m\n\u001b[1;32m      2\u001b[0m \u001b[0;32mimport\u001b[0m \u001b[0mjson\u001b[0m\u001b[0;34m\u001b[0m\u001b[0;34m\u001b[0m\u001b[0m\n\u001b[0;32m----> 3\u001b[0;31m \u001b[0;32mfrom\u001b[0m \u001b[0mmodexp\u001b[0m \u001b[0;32mimport\u001b[0m \u001b[0mmodexp\u001b[0m\u001b[0;34m\u001b[0m\u001b[0;34m\u001b[0m\u001b[0m\n\u001b[0m\u001b[1;32m      4\u001b[0m \u001b[0;34m\u001b[0m\u001b[0m\n\u001b[1;32m      5\u001b[0m \u001b[0mHOST\u001b[0m \u001b[0;34m=\u001b[0m \u001b[0;34m\"socket.cryptohack.org\"\u001b[0m\u001b[0;34m\u001b[0m\u001b[0;34m\u001b[0m\u001b[0m\n",
            "\u001b[0;31mModuleNotFoundError\u001b[0m: No module named 'modexp'",
            "",
            "\u001b[0;31m---------------------------------------------------------------------------\u001b[0;32m\nNOTE: If your import is failing due to a missing package, you can\nmanually install dependencies using either !pip or !apt.\n\nTo view examples of installing some common dependencies, click the\n\"Open Examples\" button below.\n\u001b[0;31m---------------------------------------------------------------------------\u001b[0m\n"
          ],
          "errorDetails": {
            "actions": [
              {
                "action": "open_url",
                "actionText": "Open Examples",
                "url": "/notebooks/snippets/importing_libraries.ipynb"
              }
            ]
          }
        }
      ],
      "source": [
        "import telnetlib\n",
        "import json\n",
        "from modexp import modexp\n",
        "\n",
        "HOST = \"socket.cryptohack.org\"\n",
        "PORT = 13373\n",
        "\n",
        "tn = telnetlib.Telnet(HOST, PORT)\n",
        "\n",
        "def readline():\n",
        "    return tn.read_until(b\"\\n\")\n",
        "\n",
        "def json_recv():\n",
        "    line = readline().decode()\n",
        "    line = line[line.find(\"{\"):]\n",
        "    return json.loads(line)\n",
        "\n",
        "def json_send(hsh):\n",
        "    request = json.dumps(hsh).encode()\n",
        "    tn.write(request)\n",
        "\n",
        "def getInitMessage():\n",
        "  d = json_recv()\n",
        "  p = int(d[\"p\"], 16)\n",
        "  g = int(d[\"g\"], 16)\n",
        "  A = int(d[\"A\"], 16)\n",
        "  return (p,g,A)\n",
        "\n",
        "def createSharedSecret(pk, sk, p):\n",
        "  return modexp(pk, sk, p)\n",
        "\n",
        "def makePK(sk, g, p):\n",
        "  return modexp(g, sk, p)\n",
        "\n",
        "def sendToBob(p,g,A):\n",
        "  d = {\"p\":p, \"g\":g, \"A\":A}\n",
        "  json_send(d)\n",
        "\n",
        "def getFromB():\n",
        "  d = json_recv()\n",
        "  B = int(d[\"B\"], 16)\n",
        "  return B\n",
        "\n",
        "def sendToAlice(B):\n",
        "  d = {\"B\":B}\n",
        "  json_send(d)\n",
        "\n",
        "def getIvAndFlag():\n",
        "  d = json_recv()\n",
        "  iv = d[\"iv\"]\n",
        "  encrypted_flag = d[\"encrypted\"]\n",
        "  return (iv, encrypted_flag)\n",
        "\n",
        "(p,g,A) = getInitMessage() # From A\n",
        "B = getFromB() # from B\n",
        "(iv, enc_flag) = getIvAndFlag() # From A\n",
        "\n",
        "sendToBob(hex(p), hex(A), \"0x01\") # To Bob\n",
        "sharedK = getFromB() # from B\n",
        "\n",
        "from decrypt import decrypt_flag\n",
        "flag = decrypt_flag(sharedK, iv, enc_flag)\n",
        "print(flag)"
      ]
    },
    {
      "cell_type": "code",
      "source": [
        "import telnetlib\n",
        "import json\n",
        "\n",
        "def modexp(base, exponent, modulus):\n",
        "    result = 1\n",
        "    base = base % modulus\n",
        "    while exponent > 0:\n",
        "        if exponent % 2 == 1:\n",
        "            result = (result * base) % modulus\n",
        "        exponent = exponent // 2\n",
        "        base = (base ** 2) % modulus\n",
        "    return result\n",
        "\n",
        "def communicate_with_bob():\n",
        "    HOST = \"socket.cryptohack.org\"\n",
        "    PORT = 13373\n",
        "\n",
        "    tn = telnetlib.Telnet(HOST, PORT)\n",
        "\n",
        "    def readline():\n",
        "        return tn.read_until(b\"\\n\")\n",
        "\n",
        "    def json_recv():\n",
        "        line = readline().decode()\n",
        "        line = line[line.find(\"{\"):]\n",
        "        return json.loads(line)\n",
        "\n",
        "    def json_send(hsh):\n",
        "        request = json.dumps(hsh).encode()\n",
        "        tn.write(request)\n",
        "\n",
        "    def get_init_message():\n",
        "        d = json_recv()\n",
        "        p = int(d[\"p\"], 16)\n",
        "        g = int(d[\"g\"], 16)\n",
        "        A = int(d[\"A\"], 16)\n",
        "        return p, g, A\n",
        "\n",
        "    def create_shared_secret(pk, sk, p):\n",
        "        return modexp(pk, sk, p)\n",
        "\n",
        "    def make_pk(sk, g, p):\n",
        "        return modexp(g, sk, p)\n",
        "\n",
        "    def send_to_bob(p, g, A):\n",
        "        d = {\"p\": p, \"g\": g, \"A\": A}\n",
        "        json_send(d)\n",
        "\n",
        "    def get_from_b():\n",
        "        d = json_recv()\n",
        "        B = int(d[\"B\"], 16)\n",
        "        return B\n",
        "\n",
        "    def send_to_alice(B):\n",
        "        d = {\"B\": B}\n",
        "        json_send(d)\n",
        "\n",
        "    def get_iv_and_flag():\n",
        "        d = json_recv()\n",
        "        iv = d[\"iv\"]\n",
        "        encrypted_flag = d[\"encrypted\"]\n",
        "        return iv, encrypted_flag\n",
        "\n",
        "    # From A\n",
        "    p, g, A = get_init_message()\n",
        "    # To Bob\n",
        "    send_to_bob(hex(p), hex(A), \"0x01\")\n",
        "    # From B\n",
        "    B = get_from_b()\n",
        "    # To A\n",
        "    send_to_alice(B)\n",
        "    # From A\n",
        "    iv, enc_flag = get_iv_and_flag()\n",
        "\n",
        "    # Now you can communicate with Bob or perform any necessary actions\n",
        "\n",
        "    tn.close()\n",
        "\n",
        "# Call the function to start communication with Bob\n",
        "communicate_with_bob()\n"
      ],
      "metadata": {
        "id": "t74UPc9LLibr"
      },
      "execution_count": null,
      "outputs": []
    },
    {
      "cell_type": "code",
      "source": [
        "import telnetlib\n",
        "import json\n",
        "\n",
        "def modexp(base, exponent, modulus):\n",
        "    result = 1\n",
        "    base = base % modulus\n",
        "    while exponent > 0:\n",
        "        if exponent % 2 == 1:\n",
        "            result = (result * base) % modulus\n",
        "        exponent = exponent // 2\n",
        "        base = (base ** 2) % modulus\n",
        "    return result\n",
        "\n",
        "def decrypt_flag(key, iv, encrypted_flag):\n",
        "    key_bytes = key.to_bytes((key.bit_length() + 7) // 8, 'big')  # Convert key to bytes\n",
        "    encrypted_bytes = bytes.fromhex(encrypted_flag)  # Convert the hexadecimal string to bytes\n",
        "    decrypted_flag = bytearray()\n",
        "\n",
        "    for i in range(len(encrypted_bytes)):\n",
        "        decrypted_byte = encrypted_bytes[i] ^ key_bytes[i % len(key_bytes)]\n",
        "        decrypted_flag.append(decrypted_byte)\n",
        "\n",
        "    return decrypted_flag.hex()\n",
        "\n",
        "\n",
        "\n",
        "def communicate_with_bob():\n",
        "    HOST = \"socket.cryptohack.org\"\n",
        "    PORT = 13373\n",
        "\n",
        "    tn = telnetlib.Telnet(HOST, PORT)\n",
        "\n",
        "    def readline():\n",
        "        return tn.read_until(b\"\\n\")\n",
        "\n",
        "    def json_recv():\n",
        "        line = readline().decode()\n",
        "        line = line[line.find(\"{\"):]\n",
        "        return json.loads(line)\n",
        "\n",
        "    def json_send(hsh):\n",
        "        request = json.dumps(hsh).encode()\n",
        "        tn.write(request)\n",
        "\n",
        "    def get_init_message():\n",
        "        d = json_recv()\n",
        "        p = int(d[\"p\"], 16)\n",
        "        g = int(d[\"g\"], 16)\n",
        "        A = int(d[\"A\"], 16)\n",
        "        return p, g, A\n",
        "\n",
        "    def create_shared_secret(pk, sk, p):\n",
        "        return modexp(pk, sk, p)\n",
        "\n",
        "    def make_pk(sk, g, p):\n",
        "        return modexp(g, sk, p)\n",
        "\n",
        "    def send_to_bob(p, g, A):\n",
        "        d = {\"p\": p, \"g\": g, \"A\": A}\n",
        "        json_send(d)\n",
        "\n",
        "    def get_from_b():\n",
        "        d = json_recv()\n",
        "        B = int(d[\"B\"], 16)\n",
        "        return B\n",
        "\n",
        "    def send_to_alice(B):\n",
        "        d = {\"B\": B}\n",
        "        json_send(d)\n",
        "\n",
        "    def get_iv_and_flag():\n",
        "        d = json_recv()\n",
        "        iv = d[\"iv\"]\n",
        "        encrypted_flag = d[\"encrypted\"]\n",
        "        return iv, encrypted_flag\n",
        "\n",
        "    # From A\n",
        "    p, g, A = get_init_message()\n",
        "\n",
        "    # To Bob\n",
        "    send_to_bob(hex(p), hex(A), \"0x01\")\n",
        "\n",
        "    # From B\n",
        "    B = get_from_b()\n",
        "\n",
        "    # Shared key calculation\n",
        "    sharedK = create_shared_secret(B, A, p)\n",
        "\n",
        "    # To A\n",
        "    send_to_alice(B)\n",
        "\n",
        "    # From A\n",
        "    iv, enc_flag = get_iv_and_flag()\n",
        "\n",
        "    # Decrypting the flag\n",
        "    flag = decrypt_flag(sharedK, iv, enc_flag)\n",
        "    return flag\n",
        "\n",
        "# Call the function to start communication with Bob\n",
        "flag = communicate_with_bob()\n",
        "\n",
        "# Print the obtained flag as hexadecimal\n",
        "print(\"Flag:\", flag)\n",
        "\n",
        "# Alternatively, print the obtained flag as base64\n",
        "import base64\n",
        "print(\"Flag (Base64):\", base64.b64encode(bytes.fromhex(flag)).decode('utf-8'))\n",
        "\n",
        "\n"
      ],
      "metadata": {
        "colab": {
          "base_uri": "https://localhost:8080/"
        },
        "id": "ZfLumgwDMIEI",
        "outputId": "6148ec46-3a74-48aa-9c17-e15b914f9fd3"
      },
      "execution_count": null,
      "outputs": [
        {
          "output_type": "stream",
          "name": "stdout",
          "text": [
            "Flag: 074aed334b23c000c9710f0beee6f53327a3e88d4007445acb89552a4e5b672b\n",
            "Flag (Base64): B0rtM0sjwADJcQ8L7ub1Myej6I1AB0Ray4lVKk5bZys=\n"
          ]
        }
      ]
    },
    {
      "cell_type": "code",
      "source": [
        "pip install ptrlib\n"
      ],
      "metadata": {
        "colab": {
          "base_uri": "https://localhost:8080/"
        },
        "id": "RtknF6kaRg8p",
        "outputId": "335df842-400c-47e7-fbfd-02179d5d33a8"
      },
      "execution_count": null,
      "outputs": [
        {
          "output_type": "stream",
          "name": "stdout",
          "text": [
            "Collecting ptrlib\n",
            "  Downloading ptrlib-2.1.0-py3-none-any.whl (138 kB)\n",
            "\u001b[2K     \u001b[90m━━━━━━━━━━━━━━━━━━━━━━━━━━━━━━━━━━━━━━━━\u001b[0m \u001b[32m138.5/138.5 kB\u001b[0m \u001b[31m2.7 MB/s\u001b[0m eta \u001b[36m0:00:00\u001b[0m\n",
            "\u001b[?25hCollecting pycryptodome (from ptrlib)\n",
            "  Downloading pycryptodome-3.20.0-cp35-abi3-manylinux_2_17_x86_64.manylinux2014_x86_64.whl (2.1 MB)\n",
            "\u001b[2K     \u001b[90m━━━━━━━━━━━━━━━━━━━━━━━━━━━━━━━━━━━━━━━━\u001b[0m \u001b[32m2.1/2.1 MB\u001b[0m \u001b[31m9.8 MB/s\u001b[0m eta \u001b[36m0:00:00\u001b[0m\n",
            "\u001b[?25hInstalling collected packages: pycryptodome, ptrlib\n",
            "Successfully installed ptrlib-2.1.0 pycryptodome-3.20.0\n"
          ]
        }
      ]
    },
    {
      "cell_type": "code",
      "source": [
        "import hashlib\n",
        "import json\n",
        "\n",
        "import ptrlib\n",
        "from Crypto.Cipher import AES\n",
        "from Crypto.Util.Padding import unpad\n",
        "\n",
        "\n",
        "sock = ptrlib.Socket(\"socket.cryptohack.org\", 13373)\n",
        "\n",
        "hex2int = lambda s: int(s[2:], 16)\n",
        "parse_ct = lambda msg: tuple(bytes.fromhex(msg[x]) for x in ('iv', 'encrypted'))\n",
        "intercept_alice = lambda: json.loads(sock.recvlineafter('Intercepted from Alice: '))\n",
        "intercept_bob = lambda: json.loads(sock.recvlineafter('Intercepted from Bob: '))\n",
        "recv_bob = lambda: json.loads(sock.recvlineafter('Bob says to you: '))\n",
        "send_bob = lambda payload: sock.sendlineafter('Bob connects to you, send him some parameters: ', json.dumps(payload))\n",
        "\n",
        "def decrypt_msg(shared_secret, iv, ct):\n",
        "    key = hashlib.sha1(str(shared_secret).encode('ascii')).digest()[:16]\n",
        "\n",
        "    cipher = AES.new(key, AES.MODE_CBC, iv)\n",
        "    pt = unpad(cipher.decrypt(ct), 16)\n",
        "\n",
        "    return pt\n",
        "\n",
        "# ---\n",
        "\n",
        "msg = intercept_alice()\n",
        "p, g, A = (hex2int(msg[x]) for x in 'pgA')\n",
        "\n",
        "msg = intercept_bob()\n",
        "B = hex2int(msg['B'])\n",
        "\n",
        "msg = intercept_alice()\n",
        "iv, ct = parse_ct(msg)\n",
        "\n",
        "send_bob({ 'p': hex(p), 'g': hex(A), 'A': hex(0) })\n",
        "\n",
        "msg = recv_bob()\n",
        "B2 = hex2int(msg['B'])\n",
        "\n",
        "msg = recv_bob()\n",
        "iv2, ct2 = parse_ct(msg)\n",
        "\n",
        "# ---\n",
        "\n",
        "pt2 = decrypt_msg(0, iv2, ct2)\n",
        "print(pt2)  # \"Hey, what's up. I got bored generating random numbers did you see?\"\n",
        "\n",
        "# Bob is reusing his private key in different conversations -- not good (for him).\n",
        "# B2 is now A**b, the shared secret key in the first conversation.\n",
        "pt = decrypt_msg(B2, iv, ct)\n",
        "print(pt)  # crypto{n07_3ph3m3r4l_3n0u6h}"
      ],
      "metadata": {
        "colab": {
          "base_uri": "https://localhost:8080/"
        },
        "id": "CNyHiL8FQfRq",
        "outputId": "87b5e032-344b-4131-daea-8b8efd8a1d00"
      },
      "execution_count": null,
      "outputs": [
        {
          "output_type": "stream",
          "name": "stderr",
          "text": [
            "\u001b[1m\u001b[32m[+]\u001b[0m \u001b[32m__init__: Successfully connected to socket.cryptohack.org:13373\u001b[0m\n",
            "INFO:ptrlib.connection.sock:Successfully connected to socket.cryptohack.org:13373\n"
          ]
        },
        {
          "output_type": "stream",
          "name": "stdout",
          "text": [
            "b\"Hey, what's up. I got bored generating random numbers did you see?\"\n",
            "b'crypto{n07_3ph3m3r4l_3n0u6h}'\n"
          ]
        }
      ]
    },
    {
      "cell_type": "markdown",
      "source": [
        "# **GROUP THEORY**\n",
        "\n",
        "# Additive\n",
        "\n",
        "Alice and Bob decided to do their DHKE in an additive group rather than a multiplicative group. What could go wrong?\n",
        "\n",
        "Use the script from \"Diffie-Hellman Starter 5\" to decrypt the flag once you've recovered the shared secret.\n",
        "\n",
        "Connect at socket.cryptohack.org 13380"
      ],
      "metadata": {
        "id": "rOxL2J8aRwQY"
      }
    },
    {
      "cell_type": "code",
      "source": [
        "!pip install pwntools"
      ],
      "metadata": {
        "colab": {
          "base_uri": "https://localhost:8080/"
        },
        "id": "Gc_sWqx6T6mk",
        "outputId": "e2ff3ee7-54ff-4f82-c0ff-d156756228b6"
      },
      "execution_count": null,
      "outputs": [
        {
          "output_type": "stream",
          "name": "stdout",
          "text": [
            "Collecting pwntools\n",
            "  Downloading pwntools-4.11.1-py2.py3-none-any.whl (11.7 MB)\n",
            "\u001b[2K     \u001b[90m━━━━━━━━━━━━━━━━━━━━━━━━━━━━━━━━━━━━━━━━\u001b[0m \u001b[32m11.7/11.7 MB\u001b[0m \u001b[31m22.7 MB/s\u001b[0m eta \u001b[36m0:00:00\u001b[0m\n",
            "\u001b[?25hCollecting paramiko>=1.15.2 (from pwntools)\n",
            "  Downloading paramiko-3.4.0-py3-none-any.whl (225 kB)\n",
            "\u001b[2K     \u001b[90m━━━━━━━━━━━━━━━━━━━━━━━━━━━━━━━━━━━━━━━━\u001b[0m \u001b[32m225.9/225.9 kB\u001b[0m \u001b[31m21.3 MB/s\u001b[0m eta \u001b[36m0:00:00\u001b[0m\n",
            "\u001b[?25hCollecting mako>=1.0.0 (from pwntools)\n",
            "  Downloading Mako-1.3.0-py3-none-any.whl (78 kB)\n",
            "\u001b[2K     \u001b[90m━━━━━━━━━━━━━━━━━━━━━━━━━━━━━━━━━━━━━━━━\u001b[0m \u001b[32m78.6/78.6 kB\u001b[0m \u001b[31m5.8 MB/s\u001b[0m eta \u001b[36m0:00:00\u001b[0m\n",
            "\u001b[?25hCollecting capstone>=3.0.5rc2 (from pwntools)\n",
            "  Downloading capstone-5.0.1-py3-none-manylinux1_x86_64.manylinux_2_5_x86_64.whl (2.9 MB)\n",
            "\u001b[2K     \u001b[90m━━━━━━━━━━━━━━━━━━━━━━━━━━━━━━━━━━━━━━━━\u001b[0m \u001b[32m2.9/2.9 MB\u001b[0m \u001b[31m37.6 MB/s\u001b[0m eta \u001b[36m0:00:00\u001b[0m\n",
            "\u001b[?25hCollecting ropgadget>=5.3 (from pwntools)\n",
            "  Downloading ROPGadget-7.4-py3-none-any.whl (32 kB)\n",
            "Collecting pyserial>=2.7 (from pwntools)\n",
            "  Downloading pyserial-3.5-py2.py3-none-any.whl (90 kB)\n",
            "\u001b[2K     \u001b[90m━━━━━━━━━━━━━━━━━━━━━━━━━━━━━━━━━━━━━━━━\u001b[0m \u001b[32m90.6/90.6 kB\u001b[0m \u001b[31m9.5 MB/s\u001b[0m eta \u001b[36m0:00:00\u001b[0m\n",
            "\u001b[?25hRequirement already satisfied: requests>=2.0 in /usr/local/lib/python3.10/dist-packages (from pwntools) (2.31.0)\n",
            "Requirement already satisfied: pip>=6.0.8 in /usr/local/lib/python3.10/dist-packages (from pwntools) (23.1.2)\n",
            "Requirement already satisfied: pygments>=2.0 in /usr/local/lib/python3.10/dist-packages (from pwntools) (2.16.1)\n",
            "Requirement already satisfied: pysocks in /usr/local/lib/python3.10/dist-packages (from pwntools) (1.7.1)\n",
            "Requirement already satisfied: python-dateutil in /usr/local/lib/python3.10/dist-packages (from pwntools) (2.8.2)\n",
            "Requirement already satisfied: packaging in /usr/local/lib/python3.10/dist-packages (from pwntools) (23.2)\n",
            "Requirement already satisfied: psutil>=3.3.0 in /usr/local/lib/python3.10/dist-packages (from pwntools) (5.9.5)\n",
            "Collecting intervaltree>=3.0 (from pwntools)\n",
            "  Downloading intervaltree-3.1.0.tar.gz (32 kB)\n",
            "  Preparing metadata (setup.py) ... \u001b[?25l\u001b[?25hdone\n",
            "Requirement already satisfied: sortedcontainers in /usr/local/lib/python3.10/dist-packages (from pwntools) (2.4.0)\n",
            "Collecting unicorn>=1.0.2rc1 (from pwntools)\n",
            "  Downloading unicorn-2.0.1.post1-py2.py3-none-manylinux1_x86_64.manylinux_2_17_x86_64.manylinux2014_x86_64.whl (16.1 MB)\n",
            "\u001b[2K     \u001b[90m━━━━━━━━━━━━━━━━━━━━━━━━━━━━━━━━━━━━━━━━\u001b[0m \u001b[32m16.1/16.1 MB\u001b[0m \u001b[31m42.1 MB/s\u001b[0m eta \u001b[36m0:00:00\u001b[0m\n",
            "\u001b[?25hRequirement already satisfied: six>=1.12.0 in /usr/local/lib/python3.10/dist-packages (from pwntools) (1.16.0)\n",
            "Collecting rpyc (from pwntools)\n",
            "  Downloading rpyc-5.3.1-py3-none-any.whl (74 kB)\n",
            "\u001b[2K     \u001b[90m━━━━━━━━━━━━━━━━━━━━━━━━━━━━━━━━━━━━━━━━\u001b[0m \u001b[32m74.0/74.0 kB\u001b[0m \u001b[31m8.8 MB/s\u001b[0m eta \u001b[36m0:00:00\u001b[0m\n",
            "\u001b[?25hCollecting colored-traceback (from pwntools)\n",
            "  Downloading colored-traceback-0.3.0.tar.gz (3.8 kB)\n",
            "  Preparing metadata (setup.py) ... \u001b[?25l\u001b[?25hdone\n",
            "Collecting pyelftools>=0.24 (from pwntools)\n",
            "  Downloading pyelftools-0.30-py2.py3-none-any.whl (177 kB)\n",
            "\u001b[2K     \u001b[90m━━━━━━━━━━━━━━━━━━━━━━━━━━━━━━━━━━━━━━━━\u001b[0m \u001b[32m177.6/177.6 kB\u001b[0m \u001b[31m18.7 MB/s\u001b[0m eta \u001b[36m0:00:00\u001b[0m\n",
            "\u001b[?25hRequirement already satisfied: MarkupSafe>=0.9.2 in /usr/local/lib/python3.10/dist-packages (from mako>=1.0.0->pwntools) (2.1.3)\n",
            "Collecting bcrypt>=3.2 (from paramiko>=1.15.2->pwntools)\n",
            "  Downloading bcrypt-4.1.2-cp39-abi3-manylinux_2_28_x86_64.whl (698 kB)\n",
            "\u001b[2K     \u001b[90m━━━━━━━━━━━━━━━━━━━━━━━━━━━━━━━━━━━━━━━━\u001b[0m \u001b[32m698.9/698.9 kB\u001b[0m \u001b[31m48.1 MB/s\u001b[0m eta \u001b[36m0:00:00\u001b[0m\n",
            "\u001b[?25hRequirement already satisfied: cryptography>=3.3 in /usr/local/lib/python3.10/dist-packages (from paramiko>=1.15.2->pwntools) (41.0.7)\n",
            "Collecting pynacl>=1.5 (from paramiko>=1.15.2->pwntools)\n",
            "  Downloading PyNaCl-1.5.0-cp36-abi3-manylinux_2_17_x86_64.manylinux2014_x86_64.manylinux_2_24_x86_64.whl (856 kB)\n",
            "\u001b[2K     \u001b[90m━━━━━━━━━━━━━━━━━━━━━━━━━━━━━━━━━━━━━━━━\u001b[0m \u001b[32m856.7/856.7 kB\u001b[0m \u001b[31m52.7 MB/s\u001b[0m eta \u001b[36m0:00:00\u001b[0m\n",
            "\u001b[?25hRequirement already satisfied: charset-normalizer<4,>=2 in /usr/local/lib/python3.10/dist-packages (from requests>=2.0->pwntools) (3.3.2)\n",
            "Requirement already satisfied: idna<4,>=2.5 in /usr/local/lib/python3.10/dist-packages (from requests>=2.0->pwntools) (3.6)\n",
            "Requirement already satisfied: urllib3<3,>=1.21.1 in /usr/local/lib/python3.10/dist-packages (from requests>=2.0->pwntools) (2.0.7)\n",
            "Requirement already satisfied: certifi>=2017.4.17 in /usr/local/lib/python3.10/dist-packages (from requests>=2.0->pwntools) (2023.11.17)\n",
            "Collecting plumbum (from rpyc->pwntools)\n",
            "  Downloading plumbum-1.8.2-py3-none-any.whl (127 kB)\n",
            "\u001b[2K     \u001b[90m━━━━━━━━━━━━━━━━━━━━━━━━━━━━━━━━━━━━━━━━\u001b[0m \u001b[32m127.0/127.0 kB\u001b[0m \u001b[31m14.4 MB/s\u001b[0m eta \u001b[36m0:00:00\u001b[0m\n",
            "\u001b[?25hRequirement already satisfied: cffi>=1.12 in /usr/local/lib/python3.10/dist-packages (from cryptography>=3.3->paramiko>=1.15.2->pwntools) (1.16.0)\n",
            "Requirement already satisfied: pycparser in /usr/local/lib/python3.10/dist-packages (from cffi>=1.12->cryptography>=3.3->paramiko>=1.15.2->pwntools) (2.21)\n",
            "Building wheels for collected packages: intervaltree, colored-traceback\n",
            "  Building wheel for intervaltree (setup.py) ... \u001b[?25l\u001b[?25hdone\n",
            "  Created wheel for intervaltree: filename=intervaltree-3.1.0-py2.py3-none-any.whl size=26095 sha256=f6b303fac9320a1e257a4869ead2ab1963cfa841866b71f472e7c7f084901c2f\n",
            "  Stored in directory: /root/.cache/pip/wheels/fa/80/8c/43488a924a046b733b64de3fac99252674c892a4c3801c0a61\n",
            "  Building wheel for colored-traceback (setup.py) ... \u001b[?25l\u001b[?25hdone\n",
            "  Created wheel for colored-traceback: filename=colored_traceback-0.3.0-py3-none-any.whl size=4607 sha256=4eee1630d1d1dca34050f5d9b9876a0971d8e136f08a89499ae5e0e9dad7a40d\n",
            "  Stored in directory: /root/.cache/pip/wheels/10/49/bd/750e09783fb038570efede2d03819a7141fc2350de51daf575\n",
            "Successfully built intervaltree colored-traceback\n",
            "Installing collected packages: unicorn, pyserial, pyelftools, plumbum, mako, intervaltree, colored-traceback, capstone, bcrypt, rpyc, ropgadget, pynacl, paramiko, pwntools\n",
            "Successfully installed bcrypt-4.1.2 capstone-5.0.1 colored-traceback-0.3.0 intervaltree-3.1.0 mako-1.3.0 paramiko-3.4.0 plumbum-1.8.2 pwntools-4.11.1 pyelftools-0.30 pynacl-1.5.0 pyserial-3.5 ropgadget-7.4 rpyc-5.3.1 unicorn-2.0.1.post1\n"
          ]
        }
      ]
    },
    {
      "cell_type": "code",
      "source": [
        "#!/usr/bin/env python3\n",
        "from telnetlib import Telnet\n",
        "import json\n",
        "from Crypto.Util.number import *\n",
        "from Crypto.Cipher import AES\n",
        "from Crypto.Util.Padding import pad, unpad\n",
        "import hashlib\n",
        "\n",
        "def is_pkcs7_padded(message):\n",
        "    padding = message[-message[-1]:]\n",
        "    return all(padding[i] == len(padding) for i in range(0, len(padding)))\n",
        "\n",
        "def decrypt_flag(shared_secret: int, iv: str, ciphertext: str):\n",
        "    # Derive AES key from shared secret\n",
        "    sha1 = hashlib.sha1()\n",
        "    sha1.update(str(shared_secret).encode('ascii'))\n",
        "    key = sha1.digest()[:16]\n",
        "    # Decrypt flag\n",
        "    ciphertext = bytes.fromhex(ciphertext)\n",
        "    iv = bytes.fromhex(iv)\n",
        "    cipher = AES.new(key, AES.MODE_CBC, iv)\n",
        "    plaintext = cipher.decrypt(ciphertext)\n",
        "\n",
        "    if is_pkcs7_padded(plaintext):\n",
        "        return unpad(plaintext, 16).decode('ascii')\n",
        "    else:\n",
        "        return plaintext.decode('ascii')\n",
        "\n",
        "def readline():\n",
        "    return tn.read_until(b\"\\n\")\n",
        "\n",
        "def json_recv():\n",
        "    line = readline()\n",
        "    try:\n",
        "        return json.loads(line.decode())\n",
        "    except:\n",
        "        print(line.decode())\n",
        "\n",
        "def json_send(hsh):\n",
        "    request = json.dumps(hsh).encode()\n",
        "    tn.write(request)\n",
        "\n",
        "with Telnet(\"socket.cryptohack.org\", 13380) as tn:\n",
        "    tn.read_until(b\"Intercepted from Alice: \")\n",
        "    data = json_recv()\n",
        "    p = int(data[\"p\"], 16)\n",
        "    g = int(data[\"g\"], 16)\n",
        "    A = int(data[\"A\"], 16)\n",
        "\n",
        "    tn.read_until(b\"Intercepted from Bob: \")\n",
        "    data = json_recv()\n",
        "    B = int(data[\"B\"], 16)\n",
        "\n",
        "    tn.read_until(b\"Intercepted from Alice: \")\n",
        "    data = json_recv()\n",
        "    iv = data[\"iv\"]\n",
        "    encrypted = data[\"encrypted\"]\n",
        "\n",
        "# Alice calculates A = g + g + ... + g (mod p) = a * g (mod p)\n",
        "#                      ^^^^^^^^^^^^^^^ a times\n",
        "# so a = A / g\n",
        "a = (A + (p if A % 2 else 0)) // g\n",
        "assert (a * g) % p == A\n",
        "\n",
        "# Bob calculates B = g + g + ... + g (mod p) = b * g (mod p)\n",
        "#                    ^^^^^^^^^^^^^^^ b times\n",
        "# so b = B / g\n",
        "b = (B + (p if B % 2 else 0)) // g\n",
        "assert (b * g) % p == B\n",
        "\n",
        "K = (b * A) % p\n",
        "print(decrypt_flag(K, iv, encrypted))"
      ],
      "metadata": {
        "colab": {
          "base_uri": "https://localhost:8080/"
        },
        "id": "-uOsVA8mR7-G",
        "outputId": "eaefeef7-cfd5-49f4-bbe3-e72bc9004d82"
      },
      "execution_count": null,
      "outputs": [
        {
          "output_type": "stream",
          "name": "stdout",
          "text": [
            "crypto{cycl1c_6r0up_und3r_4dd1710n?}\n"
          ]
        }
      ]
    },
    {
      "cell_type": "markdown",
      "source": [
        "# **STATIC CLIENT 2**\n",
        "\n",
        "Bob got a bit more careful with the way he verifies parameters. He's still insisting on using the p and g values provided by his partner. Wonder if he missed anything?\n",
        "\n",
        "Connect at socket.cryptohack.org 13378\n"
      ],
      "metadata": {
        "id": "5EsI2u3XVMKM"
      }
    },
    {
      "cell_type": "code",
      "source": [
        "!pip install gmpy2"
      ],
      "metadata": {
        "colab": {
          "base_uri": "https://localhost:8080/"
        },
        "id": "KLoILFeOU-NC",
        "outputId": "1bb51bb5-911d-4483-ac14-7b6c216d4e50"
      },
      "execution_count": null,
      "outputs": [
        {
          "output_type": "stream",
          "name": "stdout",
          "text": [
            "Collecting gmpy2\n",
            "  Downloading gmpy2-2.1.5-cp310-cp310-manylinux_2_17_x86_64.manylinux2014_x86_64.whl (1.7 MB)\n",
            "\u001b[2K     \u001b[90m━━━━━━━━━━━━━━━━━━━━━━━━━━━━━━━━━━━━━━━━\u001b[0m \u001b[32m1.7/1.7 MB\u001b[0m \u001b[31m8.6 MB/s\u001b[0m eta \u001b[36m0:00:00\u001b[0m\n",
            "\u001b[?25hInstalling collected packages: gmpy2\n",
            "Successfully installed gmpy2-2.1.5\n"
          ]
        }
      ]
    },
    {
      "cell_type": "code",
      "source": [
        "import gmpy2\n",
        "import json\n",
        "import hashlib\n",
        "from Crypto.Cipher import AES\n",
        "from Crypto.Util.Padding import pad, unpad\n",
        "import telnetlib\n",
        "import random\n",
        "#from sympy.ntheory.modular import crt\n",
        "from tqdm import tqdm\n",
        "\n",
        "\n",
        "\n",
        "def is_pkcs7_padded(message):\n",
        "    padding = message[-message[-1]:]\n",
        "    return all(padding[i] == len(padding) for i in range(0, len(padding)))\n",
        "\n",
        "def decrypt_flag(shared_secret: int, iv: str, ciphertext: str):\n",
        "    # Derive AES key from shared secret\n",
        "    sha1 = hashlib.sha1()\n",
        "    sha1.update(str(shared_secret).encode('ascii'))\n",
        "    key = sha1.digest()[:16]\n",
        "    # Decrypt flag\n",
        "    ciphertext = bytearray.fromhex(ciphertext)\n",
        "    iv = bytearray.fromhex(iv)\n",
        "    cipher = AES.new(key, AES.MODE_CBC, iv)\n",
        "    plaintext = cipher.decrypt(ciphertext)\n",
        "    if is_pkcs7_padded(plaintext):\n",
        "        return unpad(plaintext, 16).decode('ascii')\n",
        "    else:\n",
        "        return plaintext.decode('ascii')\n",
        "\n",
        "def product(l):\n",
        "    p = 1\n",
        "    for x in l:\n",
        "        p *= x\n",
        "    return p\n",
        "\n",
        "def CRT(a, n):\n",
        "    l = len(a)\n",
        "    N = product(n)\n",
        "    ni = [N // n[j] for j in range(l)]\n",
        "    inv_ni = [gmpy2.invert(ni[j], n[j]) for j in range(l)]\n",
        "    x = [a[j] * ni[j] * inv_ni[j] for j in range(l)]\n",
        "    return sum(x) % N\n",
        "\n",
        "\n",
        "original_P=0xffffffffffffffffc90fdaa22168c234c4c6628b80dc1cd129024e088a67cc74020bbea63b139b22514a08798e3404ddef9519b3cd3a431b302b0a6df25f14374fe1356d6d51c245e485b576625e7ec6f44c42e9a637ed6b0bff5cb6f406b7edee386bfb5a899fa5ae9f24117c4b1fe649286651ece45b3dc2007cb8a163bf0598da48361c55d39a69163fa8fd24cf5f83655d23dca3ad961c62f356208552bb9ed529077096966d670c354e4abc9804f1746c08ca237327ffffffffffffffff\n",
        "\n",
        "HOST = \"socket.cryptohack.org\"\n",
        "PORT = 13378\n",
        "\n",
        "# generate the first 1,000 prime numbers\n",
        "primes = [2]\n",
        "for i in range(1000):\n",
        "    primes.append(int(gmpy2.next_prime(primes[-1])))\n",
        "primes=primes[100:]  #keep just big primes\n",
        "\n",
        "# generate a weak prime (P) such that P>original_P\n",
        "while True:\n",
        "    N = 2\n",
        "    factors=[]\n",
        "    while (N<original_P):\n",
        "        prime=random.choice(primes)\n",
        "        if prime not in factors:\n",
        "            factors.append(prime)\n",
        "            N*=prime\n",
        "    if gmpy2.is_prime(N+1):\n",
        "        break\n",
        "P=N+1\n",
        "\n",
        "# Find remainders for chineses ramaindeder theory\n",
        "remainders=[]\n",
        "for prime in tqdm(factors):\n",
        "    generator_candidate = random.randrange(2, P - 1)\n",
        "    candidate = pow(generator_candidate, (P - 1) // prime, P)\n",
        "    if candidate != (P - 1) and candidate != 1:\n",
        "        tn = telnetlib.Telnet(HOST, PORT)\n",
        "        for _ in range(3):\n",
        "            line=tn.read_until(b\"\\n\")\n",
        "        tn.read_until(b': ')\n",
        "        d = {\"p\": hex(P), \"g\": \"0x02\", \"A\":hex(candidate) }\n",
        "        m = json.dumps(d).encode()\n",
        "        tn.write(m)\n",
        "        r=tn.read_until(b\"\\n\")[17:]\n",
        "        B = int(json.loads(r)['B'],16)\n",
        "        r=tn.read_until(b\"\\n\")[17:]\n",
        "        iv=json.loads(r)['iv']\n",
        "        encrypted=json.loads(r)['encrypted']\n",
        "        possible_shared = set()\n",
        "        for i in range(1,prime):\n",
        "            possible_shared=pow(candidate, i, P)\n",
        "            try:\n",
        "                pt = decrypt_flag(possible_shared, iv, encrypted)\n",
        "                if \"My new Diffie-Hellman\" in pt:\n",
        "                    remainders.append(i)\n",
        "            except:\n",
        "                pass\n",
        "b = CRT(remainders,factors)   # get private key of Bob (b)\n",
        "tn = telnetlib.Telnet(HOST, PORT)\n",
        "A=json.loads(tn.read_until(b\"\\n\")[24:])['A']\n",
        "B=tn.read_until(b\"\\n\")\n",
        "r=tn.read_until(b\"\\n\")[24:]\n",
        "iv=json.loads(r)['iv']\n",
        "encrypted=json.loads(r)['encrypted']\n",
        "secret_shared=pow(int(A,16),b,original_P)\n",
        "print(decrypt_flag(secret_shared, iv, encrypted))"
      ],
      "metadata": {
        "colab": {
          "base_uri": "https://localhost:8080/"
        },
        "id": "FxVwIG2dQfNJ",
        "outputId": "9e29589b-142b-4e49-fb5a-f4a97e35b149"
      },
      "execution_count": null,
      "outputs": [
        {
          "output_type": "stream",
          "name": "stderr",
          "text": [
            "100%|██████████| 131/131 [03:16<00:00,  1.50s/it]\n"
          ]
        },
        {
          "output_type": "stream",
          "name": "stdout",
          "text": [
            "crypto{uns4f3_pr1m3_sm4ll_oRd3r}\n"
          ]
        }
      ]
    },
    {
      "cell_type": "markdown",
      "source": [
        "# **MISC**\n",
        "\n",
        "# **Script Kiddie**\n",
        "\n",
        "Found this cool script on Github and I've been using it to keep my secrets from anyone listening in on the school wifi!\n",
        "\n",
        "Challenge files:\n",
        "  - script.py\n",
        "  - output.txt"
      ],
      "metadata": {
        "id": "ep8CtVfnVVGw"
      }
    },
    {
      "cell_type": "code",
      "source": [
        "from Crypto.Cipher import AES\n",
        "import hashlib\n",
        "\n",
        "def is_pkcs7_padded(message):\n",
        "    padding = message[-message[-1]:]\n",
        "    return all(padding[i] == len(padding) for i in range(0, len(padding)))\n",
        "\n",
        "\n",
        "def pkcs7_unpad(message, block_size=16):\n",
        "    if len(message) == 0:\n",
        "        raise Exception(\"The input data must contain at least one byte\")\n",
        "    if not is_pkcs7_padded(message):\n",
        "        return message\n",
        "    padding_len = message[-1]\n",
        "    return message[:-padding_len]\n",
        "\n",
        "\n",
        "def decrypt_flag(shared_secret: int, iv: str, ciphertext: str):\n",
        "    # Derive AES key from shared secret\n",
        "    sha1 = hashlib.sha1()\n",
        "    sha1.update(str(shared_secret).encode('ascii'))\n",
        "    key = sha1.digest()[:16]\n",
        "    # Decrypt flag\n",
        "    ciphertext = bytes.fromhex(ciphertext)\n",
        "    iv = bytes.fromhex(iv)\n",
        "    cipher = AES.new(key, AES.MODE_CBC, iv)\n",
        "    plaintext = cipher.decrypt(ciphertext)\n",
        "    return pkcs7_unpad(plaintext).decode('ascii')\n",
        "\n",
        "\n",
        "p= 2410312426921032588552076022197566074856950548502459942654116941958108831682612228890093858261341614673227141477904012196503648957050582631942730706805009223062734745341073406696246014589361659774041027169249453200378729434170325843778659198143763193776859869524088940195577346119843545301547043747207749969763750084308926339295559968882457872412993810129130294592999947926365264059284647209730384947211681434464714438488520940127459844288859336526896320919633919\n",
        "g= 2\n",
        "A= 539556019868756019035615487062583764545019803793635712947528463889304486869497162061335997527971977050049337464152478479265992127749780103259420400564906895897077512359628760656227084039215210033374611483959802841868892445902197049235745933150328311259162433075155095844532813412268773066318780724878693701177217733659861396010057464019948199892231790191103752209797118863201066964703008895947360077614198735382678809731252084194135812256359294228383696551949882\n",
        "B= 652888676809466256406904653886313023288609075262748718135045355786028783611182379919130347165201199876762400523413029908630805888567578414109983228590188758171259420566830374793540891937904402387134765200478072915215871011267065310188328883039327167068295517693269989835771255162641401501080811953709743259493453369152994501213224841052509818015422338794357540968552645357127943400146625902468838113443484208599332251406190345653880206706388377388164982846343351\n",
        "iv= 'c044059ae57b61821a9090fbdefc63c5'\n",
        "encrypted_flag= 'f60522a95bde87a9ff00dc2c3d99177019f625f3364188c1058183004506bf96541cf241dad1c0e92535564e537322d7'\n",
        "\n",
        "# notation indicates XOR function used not pow\n",
        "b = B ^ g % p\n",
        "\n",
        "shared = b ^ A % p\n",
        "flag = decrypt_flag(shared, iv, encrypted_flag)\n",
        "print(f'[+] Flag recovered: {flag}')"
      ],
      "metadata": {
        "colab": {
          "base_uri": "https://localhost:8080/"
        },
        "id": "F6pYX5THVg0K",
        "outputId": "0bfb4607-a230-49f8-8e8d-1fa9699e0b96"
      },
      "execution_count": null,
      "outputs": [
        {
          "output_type": "stream",
          "name": "stdout",
          "text": [
            "[+] Flag recovered: crypto{b3_c4r3ful_w1th_y0ur_n0tati0n}\n"
          ]
        }
      ]
    },
    {
      "cell_type": "markdown",
      "source": [
        "# **The Matrix**\n",
        "\n",
        "\n",
        "I must get out of here. I must get free, and in this mind is the key, my key!\n",
        "\n",
        "Challenge files:\n",
        "  - the_matrix.sage\n",
        "  - flag.enc\n",
        "\n",
        "\n",
        "Challenge contributed by jschnei"
      ],
      "metadata": {
        "id": "NnrWgKHFWJLU"
      }
    },
    {
      "cell_type": "code",
      "source": [
        "pip install pycryptodome sympy"
      ],
      "metadata": {
        "colab": {
          "base_uri": "https://localhost:8080/"
        },
        "id": "zJosSkbuZaYS",
        "outputId": "5a5da3ac-f4d4-4210-d5cd-bd2e3c775cf4"
      },
      "execution_count": null,
      "outputs": [
        {
          "output_type": "stream",
          "name": "stdout",
          "text": [
            "Requirement already satisfied: pycryptodome in /usr/local/lib/python3.10/dist-packages (3.20.0)\n",
            "Requirement already satisfied: sympy in /usr/local/lib/python3.10/dist-packages (1.12)\n",
            "Requirement already satisfied: mpmath>=0.19 in /usr/local/lib/python3.10/dist-packages (from sympy) (1.3.0)\n"
          ]
        }
      ]
    },
    {
      "cell_type": "code",
      "source": [
        "from Crypto.Util.number import long_to_bytes\n",
        "from sympy import GF, Matrix\n",
        "from sympy.matrices.groups import GL\n",
        "\n",
        "P = 2\n",
        "N = 50\n",
        "E = 31337\n",
        "\n",
        "FLAG = b'crypto{??????????????????????????}'\n",
        "\n",
        "def bin_to_bytes(s):\n",
        "    all_bytes = [s[i:i+8] for i in range(0, len(s), 8)]\n",
        "    return b''.join(long_to_bytes(int(byte, 2)) for byte in all_bytes)\n",
        "\n",
        "# Placeholder for the missing function\n",
        "def load_matrix(file_name):\n",
        "    # Your implementation to load the matrix from the file goes here\n",
        "    pass\n",
        "\n",
        "# https://en.wikipedia.org/wiki/General_linear_group#Over_finite_fields\n",
        "def find_GL_order():\n",
        "    order = 1\n",
        "    k = 0\n",
        "    for k in range(N):\n",
        "        order *= (P**N - P**k)\n",
        "\n",
        "    assert order == GL(N, GF(P)).order()\n",
        "\n",
        "    return order\n",
        "\n",
        "C = load_matrix('flag.enc')\n",
        "\n",
        "GLorder = find_GL_order()\n",
        "\n",
        "D = pow(E, -1, GLorder)   # either GLorder or C.multiplicative_order()\n",
        "\n",
        "M = C**D\n",
        "\n",
        "cols = M.columns()[:(len(FLAG)*8//50)+1]\n",
        "\n",
        "bin_flag = ''.join([str(bit) for col in cols for bit in col])\n",
        "\n",
        "print(bin_to_bytes(bin_flag))\n"
      ],
      "metadata": {
        "colab": {
          "base_uri": "https://localhost:8080/",
          "height": 384
        },
        "id": "r4TmQS9YWUOm",
        "outputId": "8753e963-3c42-446f-c69f-3bb13ee7e2f0"
      },
      "execution_count": null,
      "outputs": [
        {
          "output_type": "error",
          "ename": "ModuleNotFoundError",
          "evalue": "No module named 'sympy.matrices.groups'",
          "traceback": [
            "\u001b[0;31m---------------------------------------------------------------------------\u001b[0m",
            "\u001b[0;31mModuleNotFoundError\u001b[0m                       Traceback (most recent call last)",
            "\u001b[0;32m<ipython-input-94-339b4d571b52>\u001b[0m in \u001b[0;36m<cell line: 3>\u001b[0;34m()\u001b[0m\n\u001b[1;32m      1\u001b[0m \u001b[0;32mfrom\u001b[0m \u001b[0mCrypto\u001b[0m\u001b[0;34m.\u001b[0m\u001b[0mUtil\u001b[0m\u001b[0;34m.\u001b[0m\u001b[0mnumber\u001b[0m \u001b[0;32mimport\u001b[0m \u001b[0mlong_to_bytes\u001b[0m\u001b[0;34m\u001b[0m\u001b[0;34m\u001b[0m\u001b[0m\n\u001b[1;32m      2\u001b[0m \u001b[0;32mfrom\u001b[0m \u001b[0msympy\u001b[0m \u001b[0;32mimport\u001b[0m \u001b[0mGF\u001b[0m\u001b[0;34m,\u001b[0m \u001b[0mMatrix\u001b[0m\u001b[0;34m\u001b[0m\u001b[0;34m\u001b[0m\u001b[0m\n\u001b[0;32m----> 3\u001b[0;31m \u001b[0;32mfrom\u001b[0m \u001b[0msympy\u001b[0m\u001b[0;34m.\u001b[0m\u001b[0mmatrices\u001b[0m\u001b[0;34m.\u001b[0m\u001b[0mgroups\u001b[0m \u001b[0;32mimport\u001b[0m \u001b[0mGL\u001b[0m\u001b[0;34m\u001b[0m\u001b[0;34m\u001b[0m\u001b[0m\n\u001b[0m\u001b[1;32m      4\u001b[0m \u001b[0;34m\u001b[0m\u001b[0m\n\u001b[1;32m      5\u001b[0m \u001b[0mP\u001b[0m \u001b[0;34m=\u001b[0m \u001b[0;36m2\u001b[0m\u001b[0;34m\u001b[0m\u001b[0;34m\u001b[0m\u001b[0m\n",
            "\u001b[0;31mModuleNotFoundError\u001b[0m: No module named 'sympy.matrices.groups'",
            "",
            "\u001b[0;31m---------------------------------------------------------------------------\u001b[0;32m\nNOTE: If your import is failing due to a missing package, you can\nmanually install dependencies using either !pip or !apt.\n\nTo view examples of installing some common dependencies, click the\n\"Open Examples\" button below.\n\u001b[0;31m---------------------------------------------------------------------------\u001b[0m\n"
          ],
          "errorDetails": {
            "actions": [
              {
                "action": "open_url",
                "actionText": "Open Examples",
                "url": "/notebooks/snippets/importing_libraries.ipynb"
              }
            ]
          }
        }
      ]
    },
    {
      "cell_type": "markdown",
      "source": [
        "# **The Matrix Reloaded**\n",
        "\n",
        "It's happening exactly as before... Well, not exactly.\n",
        "\n",
        "Challenge files:\n",
        "  - matrix_reloaded.zip\n",
        "\n",
        "\n",
        "Challenge contributed by jschnei"
      ],
      "metadata": {
        "id": "hT4lGQuQflze"
      }
    },
    {
      "cell_type": "code",
      "source": [
        "from Crypto.Util.Padding import unpad\n",
        "from Crypto.Cipher import AES\n",
        "from hashlib import sha256\n",
        "def decrypt_flag(shared_secret, iv, ciphertext):\n",
        "    key = sha256(str(shared_secret).encode()).digest()[:128]\n",
        "    ciphertext = bytes.fromhex(ciphertext)\n",
        "    iv = bytes.fromhex(iv)\n",
        "    plaintext = AES.new(key, AES.MODE_CBC, iv).decrypt(ciphertext)\n",
        "    return unpad(plaintext, 16).decode()\n",
        "\n",
        "e = 5959805911241109643914928800631944794321671043586961836890946136294554770507810148857251869110638484873235200204605081157845088692257708370810040562721345\n",
        "iv = \"334b1ceb2ce0d1bef2af9937cf82aad6\"\n",
        "ciphertext = \"543e29415bdb1f694a705b2532a5beb7ebd7009591503ef3c4fbcebf9e62fe91307e5d98efcd49f9f3b1985956cafc89\"\n",
        "\n",
        "print(decrypt_flag(e, iv, ciphertext))"
      ],
      "metadata": {
        "colab": {
          "base_uri": "https://localhost:8080/"
        },
        "id": "Oh79r1usjFdE",
        "outputId": "abbeb86d-dae4-4e17-cd70-57b6197bbdde"
      },
      "execution_count": null,
      "outputs": [
        {
          "output_type": "stream",
          "name": "stdout",
          "text": [
            "crypto{the_oracle_told_me_about_you_91e019ff}\n"
          ]
        }
      ]
    },
    {
      "cell_type": "markdown",
      "source": [
        "# **The Matrix Revolutions**\n",
        "\n",
        "Everything that has a beginning has an end, Neo.\n",
        "\n",
        "Challenge files:\n",
        "  - matrix_revolutions.zip\n"
      ],
      "metadata": {
        "id": "MU5Lhixaj2rC"
      }
    },
    {
      "cell_type": "code",
      "source": [
        "from Crypto.Cipher import AES\n",
        "from Crypto.Hash import SHA256\n",
        "from Crypto.Util.Padding import unpad\n",
        "import numpy as np\n",
        "from sympy import Matrix\n",
        "from math import crt\n",
        "\n",
        "P = 2\n",
        "N = 150\n",
        "\n",
        "def load_matrix(fname):\n",
        "    data = open(fname, 'r').read().strip()\n",
        "    rows = [list(map(int, row)) for row in data.splitlines()]\n",
        "    return Matrix(rows)\n",
        "\n",
        "G = load_matrix('generator.txt')\n",
        "A_pub = load_matrix('alice.pub')\n",
        "B_pub = load_matrix('bob.pub')\n",
        "\n",
        "f = G.charpoly()\n",
        "\n",
        "X = []\n",
        "M = []\n",
        "for g, e in f.factor():\n",
        "    assert e == 1\n",
        "    K = GF(2**g.degree(), 'x', modulus=g, impl='pari_ffelt')\n",
        "    a = g.roots(K)[0][0]\n",
        "    w = (G - a * Matrix.eye(N)).nullspace()[0]\n",
        "    V = [Matrix([0] * i + [1] + [0] * (N - 1 - i)).transpose() for i in range(150)]\n",
        "    P = Matrix.hstack(w, *V[:-1]).transpose()\n",
        "    assert P.rank() == N\n",
        "    J_ = ~P * A_pub * P\n",
        "    X.append(int(J_[0, 0].log(a)))\n",
        "    M.append(K.multiplicative_generator().multiplicative_order())\n",
        "\n",
        "# Función crt para calcular el teorema del resto chino\n",
        "def chinese_remainder_theorem(a, m):\n",
        "    result, _ = crt(X, M)\n",
        "    return result\n",
        "\n",
        "A_priv = chinese_remainder_theorem(X, M)\n",
        "shared_secret = B_pub**A_priv\n",
        "\n",
        "iv = '43f14157442d75142d0d4993e99a9582'\n",
        "ciphertext = '22abc3b347ffef55ec82488e5b4a338da5af7ef1918ac46f95029a4d94ace4cb2700fa9aeb31e6a4facee2601e99dabd6f9a81494c55f011e9227c9a6ae8d802'\n",
        "KEY_LENGTH = 128\n",
        "\n",
        "def derive_aes_key(M):\n",
        "    mat_str = ''.join(str(x) for row in M for x in row)\n",
        "    return SHA256.new(data=mat_str.encode()).digest()[:KEY_LENGTH]\n",
        "\n",
        "key = derive_aes_key(shared_secret)\n",
        "cipher = AES.new(key, AES.MODE_CBC, bytes.fromhex(iv))\n",
        "flag = unpad(cipher.decrypt(bytes.fromhex(ciphertext)), 16).decode()\n",
        "\n",
        "print(flag)\n"
      ],
      "metadata": {
        "colab": {
          "base_uri": "https://localhost:8080/",
          "height": 384
        },
        "id": "uS6YamuJj67x",
        "outputId": "f2cb81bb-bc74-4658-806f-80c770071cee"
      },
      "execution_count": null,
      "outputs": [
        {
          "output_type": "error",
          "ename": "ImportError",
          "evalue": "cannot import name 'crt' from 'math' (unknown location)",
          "traceback": [
            "\u001b[0;31m---------------------------------------------------------------------------\u001b[0m",
            "\u001b[0;31mImportError\u001b[0m                               Traceback (most recent call last)",
            "\u001b[0;32m<ipython-input-120-68469acd1ad5>\u001b[0m in \u001b[0;36m<cell line: 6>\u001b[0;34m()\u001b[0m\n\u001b[1;32m      4\u001b[0m \u001b[0;32mimport\u001b[0m \u001b[0mnumpy\u001b[0m \u001b[0;32mas\u001b[0m \u001b[0mnp\u001b[0m\u001b[0;34m\u001b[0m\u001b[0;34m\u001b[0m\u001b[0m\n\u001b[1;32m      5\u001b[0m \u001b[0;32mfrom\u001b[0m \u001b[0msympy\u001b[0m \u001b[0;32mimport\u001b[0m \u001b[0mMatrix\u001b[0m\u001b[0;34m\u001b[0m\u001b[0;34m\u001b[0m\u001b[0m\n\u001b[0;32m----> 6\u001b[0;31m \u001b[0;32mfrom\u001b[0m \u001b[0mmath\u001b[0m \u001b[0;32mimport\u001b[0m \u001b[0mcrt\u001b[0m\u001b[0;34m\u001b[0m\u001b[0;34m\u001b[0m\u001b[0m\n\u001b[0m\u001b[1;32m      7\u001b[0m \u001b[0;34m\u001b[0m\u001b[0m\n\u001b[1;32m      8\u001b[0m \u001b[0mP\u001b[0m \u001b[0;34m=\u001b[0m \u001b[0;36m2\u001b[0m\u001b[0;34m\u001b[0m\u001b[0;34m\u001b[0m\u001b[0m\n",
            "\u001b[0;31mImportError\u001b[0m: cannot import name 'crt' from 'math' (unknown location)",
            "",
            "\u001b[0;31m---------------------------------------------------------------------------\u001b[0;32m\nNOTE: If your import is failing due to a missing package, you can\nmanually install dependencies using either !pip or !apt.\n\nTo view examples of installing some common dependencies, click the\n\"Open Examples\" button below.\n\u001b[0;31m---------------------------------------------------------------------------\u001b[0m\n"
          ],
          "errorDetails": {
            "actions": [
              {
                "action": "open_url",
                "actionText": "Open Examples",
                "url": "/notebooks/snippets/importing_libraries.ipynb"
              }
            ]
          }
        }
      ]
    }
  ]
}