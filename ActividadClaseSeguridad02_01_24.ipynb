{
  "nbformat": 4,
  "nbformat_minor": 0,
  "metadata": {
    "colab": {
      "provenance": []
    },
    "kernelspec": {
      "name": "python3",
      "display_name": "Python 3"
    },
    "language_info": {
      "name": "python"
    }
  },
  "cells": [
    {
      "cell_type": "markdown",
      "source": [
        "# **Programar encriptado y desencriptado llave publica y privada**\n",
        "\n",
        "## Actividad en Clase\n",
        "\n",
        "### **Est: Santiago Tene**"
      ],
      "metadata": {
        "id": "pS2TAGAaRWcn"
      }
    },
    {
      "cell_type": "code",
      "source": [
        "import math\n",
        "\n",
        "def es_primo(num):\n",
        "    if num < 2:\n",
        "        return False\n",
        "    for i in range(2, int(num**0.5) + 1):\n",
        "        if num % i == 0:\n",
        "            return False\n",
        "    return True\n",
        "\n",
        "def obtener_primo():\n",
        "    primo = int(input(\"Ingresa un número primo: \"))\n",
        "    while not es_primo(primo):\n",
        "        primo = int(input(\"¡Error! Por favor, ingresa un número primo: \"))\n",
        "    return primo\n",
        "\n",
        "def generar_clave_publica():\n",
        "    while True:\n",
        "        # Paso 1: Elegir dos números primos\n",
        "        p = obtener_primo()\n",
        "        q = obtener_primo()\n",
        "\n",
        "        # Paso 2: Calcular el producto n\n",
        "        n = p * q\n",
        "\n",
        "        # Paso 3: Calcular z\n",
        "        z = (p - 1) * (q - 1)\n",
        "\n",
        "        # Paso 4: Elegir un número primo k coprimo a z\n",
        "        posibles_valores_k = [i for i in range(2, z) if es_primo(i) and z % i != 0]\n",
        "        print(f\"Los posibles valores para k son: {posibles_valores_k}\")\n",
        "        k = int(input(\"Elige un valor para k: \"))\n",
        "\n",
        "        # Verificar que k sea coprimo con z\n",
        "        if math.gcd(k, z) == 1:\n",
        "            break\n",
        "        else:\n",
        "            print(\"Error: k no es coprimo con z. Debes elegir otro valor para k.\")\n",
        "\n",
        "    # Paso 5: Clave pública (n, k)\n",
        "    clave_publica = (n, k, p, q)\n",
        "\n",
        "    return clave_publica\n",
        "\n",
        "def generar_clave_privada(k, z):\n",
        "    # Paso 6: Calcular clave privada, eligiendo j\n",
        "    j = pow(k, -1, z)\n",
        "\n",
        "    return j\n",
        "\n",
        "# Generar clave pública\n",
        "clave_publica = generar_clave_publica()\n",
        "print(f\"La clave pública generada es: {clave_publica}\")\n",
        "\n",
        "\n",
        "\n",
        "# Obtener valores de n, k, p y q de la clave pública\n",
        "n, k, p, q = clave_publica\n",
        "\n",
        "#print('k', k)\n",
        "#print('p', p)\n",
        "\n",
        "# Generar clave privada\n",
        "clave_privada = generar_clave_privada(k, (p - 1) * (q - 1))\n",
        "print(f\"La clave privada generada es: {clave_privada}\")\n"
      ],
      "metadata": {
        "colab": {
          "base_uri": "https://localhost:8080/"
        },
        "id": "Hs8zxukkg36Z",
        "outputId": "2986189a-8964-43bd-ff01-aa34c7772220"
      },
      "execution_count": null,
      "outputs": [
        {
          "output_type": "stream",
          "name": "stdout",
          "text": [
            "Ingresa un número primo: 3\n",
            "Ingresa un número primo: 11\n",
            "Los posibles valores para k son: [3, 7, 11, 13, 17, 19]\n",
            "Elige un valor para k: 7\n",
            "La clave pública generada es: (33, 7, 3, 11)\n",
            "k 7\n",
            "p 3\n",
            "La clave privada generada es: 3\n"
          ]
        }
      ]
    }
  ]
}