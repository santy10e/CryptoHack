{
  "nbformat": 4,
  "nbformat_minor": 0,
  "metadata": {
    "colab": {
      "provenance": []
    },
    "kernelspec": {
      "name": "python3",
      "display_name": "Python 3"
    },
    "language_info": {
      "name": "python"
    }
  },
  "cells": [
    {
      "cell_type": "markdown",
      "source": [
        "# **PARTICIPACION RSA **\n",
        "\n",
        "\n",
        "# **EST: Santiago Tene**\n",
        "Fuera de horario"
      ],
      "metadata": {
        "id": "6MU9iDaHk9aI"
      }
    },
    {
      "cell_type": "code",
      "source": [
        "from sympy import isprime, mod_inverse\n",
        "\n",
        "# Valores proporcionados\n",
        "clavePublica = (1071087367, 10007)\n",
        "textoPlano = 'Hola, ¿Cómo te va, todo bien mi ñaño? Afirmativo, pasaré todo el día viajando'\n",
        "\n",
        "# Función para obtener parámetros de RSA a partir de la clave pública\n",
        "def obtener_parametros_rsa(clave_publica):\n",
        "    n, j = clave_publica\n",
        "    # Buscar factores primos de n\n",
        "    p, q = 1, n\n",
        "    for i in range(2, int(n**0.5) + 1):\n",
        "        if n % i == 0 and isprime(i):\n",
        "            p = i\n",
        "            q = n // i\n",
        "            break\n",
        "    # Calcular k, z\n",
        "    k = (p - 1) * (q - 1)\n",
        "    z = p * q\n",
        "    return p, q, k, z, n, j\n",
        "\n",
        "# Función para encriptar un mensaje utilizando la clave pública\n",
        "def encriptar_mensaje(texto_plano, clave_publica):\n",
        "    p, q, _, _, n, j = obtener_parametros_rsa(clave_publica)\n",
        "    mensaje_encriptado = [pow(ord(char), j, n) for char in texto_plano]\n",
        "    return mensaje_encriptado\n",
        "\n",
        "# Función para desencriptar un mensaje utilizando la clave privada\n",
        "def desencriptar_mensaje(mensaje_encriptado, clave_privada):\n",
        "    n, j = clave_privada\n",
        "    mensaje_desencriptado = ''.join([chr(pow(char, j, n)) for char in mensaje_encriptado])\n",
        "    return mensaje_desencriptado\n",
        "\n",
        "# Obtener parámetros RSA\n",
        "p, q, k, z, n, j = obtener_parametros_rsa(clavePublica)\n",
        "print(f'p: {p}, q: {q}, k: {k}, z: {z}, n: {n}, j: {j}')\n",
        "\n",
        "# Encriptar mensaje\n",
        "mensaje_encriptado = encriptar_mensaje(textoPlano, clavePublica)\n",
        "print('Mensaje encriptado:', mensaje_encriptado)\n",
        "\n",
        "# Desencriptar mensaje\n",
        "clavePrivada = (n, mod_inverse(clavePublica[1], k))\n",
        "mensaje_desencriptado = desencriptar_mensaje(mensaje_encriptado, clavePrivada)\n",
        "print('Mensaje desencriptado:', mensaje_desencriptado)\n"
      ],
      "metadata": {
        "colab": {
          "base_uri": "https://localhost:8080/"
        },
        "id": "UzT2UEpEivog",
        "outputId": "5082f353-d258-4c03-c009-faee57c3e05a"
      },
      "execution_count": null,
      "outputs": [
        {
          "output_type": "stream",
          "name": "stdout",
          "text": [
            "p: 7, q: 153012481, k: 918074880, z: 1071087367, n: 1071087367, j: 10007\n",
            "Mensaje encriptado: [514210078, 142215814, 848414642, 992361257, 697008029, 930604278, 43254131, 1066750561, 411301544, 778788698, 142215814, 930604278, 24103585, 338844413, 930604278, 970581282, 992361257, 697008029, 930604278, 24103585, 142215814, 636013788, 142215814, 930604278, 1041930904, 327965008, 338844413, 492905591, 930604278, 778788698, 327965008, 930604278, 723917353, 992361257, 723917353, 142215814, 384122018, 930604278, 767792995, 507424528, 327965008, 237299346, 778788698, 992361257, 24103585, 327965008, 970581282, 142215814, 697008029, 930604278, 1010963121, 992361257, 499310929, 992361257, 237299346, 21123421, 930604278, 24103585, 142215814, 636013788, 142215814, 930604278, 338844413, 848414642, 930604278, 636013788, 746139449, 992361257, 930604278, 970581282, 327965008, 992361257, 57887453, 992361257, 492905591, 636013788, 142215814]\n",
            "Mensaje desencriptado: Hola, ¿Cómo te va, todo bien mi ñaño? Afirmativo, pasaré todo el día viajando\n"
          ]
        }
      ]
    }
  ]
}