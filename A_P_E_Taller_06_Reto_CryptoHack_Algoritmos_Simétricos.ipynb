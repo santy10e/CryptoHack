{
  "cells": [
    {
      "cell_type": "markdown",
      "metadata": {
        "id": "9gqMDVOwgYyH"
      },
      "source": [
        "**1.Keyed Permutations**\n",
        "\n",
        "La palabra matemática para una correspondencia uno a uno es biyección. En matemáticas, una biyección, también conocida como función biyectiva, correspondencia uno a uno o función invertible."
      ]
    },
    {
      "cell_type": "markdown",
      "metadata": {
        "id": "GvCobhWSR2Rf"
      },
      "source": [
        "crypto{bijection}"
      ]
    },
    {
      "cell_type": "markdown",
      "metadata": {
        "id": "uYL6jhfygoaO"
      },
      "source": [
        "**2. Resisting Bruteforce**\n",
        "\n",
        "El nombre del mejor ataque de clave única contra AES es biclique. Este ataque reduce el nivel de seguridad de AES-128 a 126.1 bits."
      ]
    },
    {
      "cell_type": "markdown",
      "metadata": {
        "id": "xvLLXd4yRxbu"
      },
      "source": [
        "crypto{biclique}"
      ]
    },
    {
      "cell_type": "markdown",
      "metadata": {
        "id": "8pt1GREpgr3x"
      },
      "source": [
        "**3.Structure of AES**\n",
        "\n",
        "El cifrado AES es un estándar de cifrado simétrico ampliamente utilizado que utiliza una clave de 128 bits para cifrar bloques de datos de 128 bits. A pesar de la existencia de un ataque ligeramente más eficiente que la fuerza bruta, AES-128 sigue siendo considerado seguro debido a su amplio margen de seguridad y la falta de avances significativos en su vulnerabilidad."
      ]
    },
    {
      "cell_type": "code",
      "execution_count": null,
      "metadata": {
        "colab": {
          "base_uri": "https://localhost:8080/"
        },
        "id": "W3aTgEfugPis",
        "outputId": "a814f983-8438-4274-ac93-e828bae3d46a"
      },
      "outputs": [
        {
          "name": "stdout",
          "output_type": "stream",
          "text": [
            "crypto{inmatrix}\n"
          ]
        }
      ],
      "source": [
        "def bytes2matrix(text):\n",
        "    \"\"\" Converts a 16-byte array into a 4x4 matrix.  \"\"\"\n",
        "    return [list(text[i:i+4]) for i in range(0, len(text), 4)]\n",
        "\n",
        "def matrix2bytes(matrix):\n",
        "    \"\"\" Converts a 4x4 matrix into a 16-byte array.  \"\"\"\n",
        "    return bytes(sum(matrix, []))\n",
        "\n",
        "matrix = [\n",
        "    [99, 114, 121, 112],\n",
        "    [116, 111, 123, 105],\n",
        "    [110, 109, 97, 116],\n",
        "    [114, 105, 120, 125],\n",
        "]\n",
        "\n",
        "print(str(matrix2bytes(matrix).decode('utf-8')))"
      ]
    },
    {
      "cell_type": "markdown",
      "metadata": {
        "id": "fOuP0g6Ag5Pi"
      },
      "source": [
        "**4. Round Keys**\n",
        "\n",
        "El algoritmo se basa en el cifrado AES, que es un estándar de cifrado simétrico ampliamente utilizado. Este algoritmo utiliza operaciones como la sustitución de bytes, permutaciones de filas, mezcla de columnas y la adición de claves de ronda para cifrar y descifrar datos de manera segura."
      ]
    },
    {
      "cell_type": "code",
      "execution_count": null,
      "metadata": {
        "colab": {
          "base_uri": "https://localhost:8080/"
        },
        "id": "Js1je7D3g6CL",
        "outputId": "e55bd217-04ac-4528-fe59-4683c8daec67"
      },
      "outputs": [
        {
          "name": "stdout",
          "output_type": "stream",
          "text": [
            "crypto{r0undk3y}\n"
          ]
        }
      ],
      "source": [
        "state = [\n",
        "    [206, 243, 61, 34],\n",
        "    [171, 11, 93, 31],\n",
        "    [16, 200, 91, 108],\n",
        "    [150, 3, 194, 51],\n",
        "]\n",
        "\n",
        "round_key = [\n",
        "    [173, 129, 68, 82],\n",
        "    [223, 100, 38, 109],\n",
        "    [32, 189, 53, 8],\n",
        "    [253, 48, 187, 78],\n",
        "]\n",
        "\n",
        "def add_round_key(s, k):\n",
        "    \"\"\"XOR the state with the round key.\"\"\"\n",
        "    return [[s_byte ^ k_byte for s_byte, k_byte in zip(s_row, k_row)] for s_row, k_row in zip(s, k)]\n",
        "\n",
        "def matrix2bytes(matrix):\n",
        "    \"\"\" Converts a 4x4 matrix into a 16-byte array.  \"\"\"\n",
        "    return [byte for row in matrix for byte in row]\n",
        "\n",
        "result_matrix = add_round_key(state, round_key)\n",
        "result_bytes = matrix2bytes(result_matrix)\n",
        "flag = ''.join(chr(byte) for byte in result_bytes)\n",
        "\n",
        "print(flag)"
      ]
    },
    {
      "cell_type": "markdown",
      "metadata": {
        "id": "n4iaimjrhkPb"
      },
      "source": [
        "**5. Confusion through Substitution**\n",
        "\n",
        "El código proporcionado realiza una sustitución de bytes utilizando la caja de sustitución (S-box) inversa del algoritmo AES. La función sub_bytes toma una matriz de estado y realiza la sustitución de bytes utilizando la S-box inversa proporcionada.\n",
        "\n",
        "Al ejecutar la función sub_bytes con la matriz de estado y la S-box inversa, se obtiene un resultado en forma de texto. Este resultado representa la salida de la sustitución de bytes utilizando la S-box inversa del algoritmo AES."
      ]
    },
    {
      "cell_type": "code",
      "execution_count": null,
      "metadata": {
        "colab": {
          "base_uri": "https://localhost:8080/"
        },
        "id": "uZK_focChq1g",
        "outputId": "c2264c36-262b-4e6a-f546-c458c1f419be"
      },
      "outputs": [
        {
          "name": "stdout",
          "output_type": "stream",
          "text": [
            "crypto{l1n34rly}\n"
          ]
        }
      ],
      "source": [
        "\n",
        "s_box = (\n",
        "    0x63, 0x7C, 0x77, 0x7B, 0xF2, 0x6B, 0x6F, 0xC5, 0x30, 0x01, 0x67, 0x2B, 0xFE, 0xD7, 0xAB, 0x76,\n",
        "    0xCA, 0x82, 0xC9, 0x7D, 0xFA, 0x59, 0x47, 0xF0, 0xAD, 0xD4, 0xA2, 0xAF, 0x9C, 0xA4, 0x72, 0xC0,\n",
        "    0xB7, 0xFD, 0x93, 0x26, 0x36, 0x3F, 0xF7, 0xCC, 0x34, 0xA5, 0xE5, 0xF1, 0x71, 0xD8, 0x31, 0x15,\n",
        "    0x04, 0xC7, 0x23, 0xC3, 0x18, 0x96, 0x05, 0x9A, 0x07, 0x12, 0x80, 0xE2, 0xEB, 0x27, 0xB2, 0x75,\n",
        "    0x09, 0x83, 0x2C, 0x1A, 0x1B, 0x6E, 0x5A, 0xA0, 0x52, 0x3B, 0xD6, 0xB3, 0x29, 0xE3, 0x2F, 0x84,\n",
        "    0x53, 0xD1, 0x00, 0xED, 0x20, 0xFC, 0xB1, 0x5B, 0x6A, 0xCB, 0xBE, 0x39, 0x4A, 0x4C, 0x58, 0xCF,\n",
        "    0xD0, 0xEF, 0xAA, 0xFB, 0x43, 0x4D, 0x33, 0x85, 0x45, 0xF9, 0x02, 0x7F, 0x50, 0x3C, 0x9F, 0xA8,\n",
        "    0x51, 0xA3, 0x40, 0x8F, 0x92, 0x9D, 0x38, 0xF5, 0xBC, 0xB6, 0xDA, 0x21, 0x10, 0xFF, 0xF3, 0xD2,\n",
        "    0xCD, 0x0C, 0x13, 0xEC, 0x5F, 0x97, 0x44, 0x17, 0xC4, 0xA7, 0x7E, 0x3D, 0x64, 0x5D, 0x19, 0x73,\n",
        "    0x60, 0x81, 0x4F, 0xDC, 0x22, 0x2A, 0x90, 0x88, 0x46, 0xEE, 0xB8, 0x14, 0xDE, 0x5E, 0x0B, 0xDB,\n",
        "    0xE0, 0x32, 0x3A, 0x0A, 0x49, 0x06, 0x24, 0x5C, 0xC2, 0xD3, 0xAC, 0x62, 0x91, 0x95, 0xE4, 0x79,\n",
        "    0xE7, 0xC8, 0x37, 0x6D, 0x8D, 0xD5, 0x4E, 0xA9, 0x6C, 0x56, 0xF4, 0xEA, 0x65, 0x7A, 0xAE, 0x08,\n",
        "    0xBA, 0x78, 0x25, 0x2E, 0x1C, 0xA6, 0xB4, 0xC6, 0xE8, 0xDD, 0x74, 0x1F, 0x4B, 0xBD, 0x8B, 0x8A,\n",
        "    0x70, 0x3E, 0xB5, 0x66, 0x48, 0x03, 0xF6, 0x0E, 0x61, 0x35, 0x57, 0xB9, 0x86, 0xC1, 0x1D, 0x9E,\n",
        "    0xE1, 0xF8, 0x98, 0x11, 0x69, 0xD9, 0x8E, 0x94, 0x9B, 0x1E, 0x87, 0xE9, 0xCE, 0x55, 0x28, 0xDF,\n",
        "    0x8C, 0xA1, 0x89, 0x0D, 0xBF, 0xE6, 0x42, 0x68, 0x41, 0x99, 0x2D, 0x0F, 0xB0, 0x54, 0xBB, 0x16,\n",
        ")\n",
        "\n",
        "inv_s_box = (\n",
        "    0x52, 0x09, 0x6A, 0xD5, 0x30, 0x36, 0xA5, 0x38, 0xBF, 0x40, 0xA3, 0x9E, 0x81, 0xF3, 0xD7, 0xFB,\n",
        "    0x7C, 0xE3, 0x39, 0x82, 0x9B, 0x2F, 0xFF, 0x87, 0x34, 0x8E, 0x43, 0x44, 0xC4, 0xDE, 0xE9, 0xCB,\n",
        "    0x54, 0x7B, 0x94, 0x32, 0xA6, 0xC2, 0x23, 0x3D, 0xEE, 0x4C, 0x95, 0x0B, 0x42, 0xFA, 0xC3, 0x4E,\n",
        "    0x08, 0x2E, 0xA1, 0x66, 0x28, 0xD9, 0x24, 0xB2, 0x76, 0x5B, 0xA2, 0x49, 0x6D, 0x8B, 0xD1, 0x25,\n",
        "    0x72, 0xF8, 0xF6, 0x64, 0x86, 0x68, 0x98, 0x16, 0xD4, 0xA4, 0x5C, 0xCC, 0x5D, 0x65, 0xB6, 0x92,\n",
        "    0x6C, 0x70, 0x48, 0x50, 0xFD, 0xED, 0xB9, 0xDA, 0x5E, 0x15, 0x46, 0x57, 0xA7, 0x8D, 0x9D, 0x84,\n",
        "    0x90, 0xD8, 0xAB, 0x00, 0x8C, 0xBC, 0xD3, 0x0A, 0xF7, 0xE4, 0x58, 0x05, 0xB8, 0xB3, 0x45, 0x06,\n",
        "    0xD0, 0x2C, 0x1E, 0x8F, 0xCA, 0x3F, 0x0F, 0x02, 0xC1, 0xAF, 0xBD, 0x03, 0x01, 0x13, 0x8A, 0x6B,\n",
        "    0x3A, 0x91, 0x11, 0x41, 0x4F, 0x67, 0xDC, 0xEA, 0x97, 0xF2, 0xCF, 0xCE, 0xF0, 0xB4, 0xE6, 0x73,\n",
        "    0x96, 0xAC, 0x74, 0x22, 0xE7, 0xAD, 0x35, 0x85, 0xE2, 0xF9, 0x37, 0xE8, 0x1C, 0x75, 0xDF, 0x6E,\n",
        "    0x47, 0xF1, 0x1A, 0x71, 0x1D, 0x29, 0xC5, 0x89, 0x6F, 0xB7, 0x62, 0x0E, 0xAA, 0x18, 0xBE, 0x1B,\n",
        "    0xFC, 0x56, 0x3E, 0x4B, 0xC6, 0xD2, 0x79, 0x20, 0x9A, 0xDB, 0xC0, 0xFE, 0x78, 0xCD, 0x5A, 0xF4,\n",
        "    0x1F, 0xDD, 0xA8, 0x33, 0x88, 0x07, 0xC7, 0x31, 0xB1, 0x12, 0x10, 0x59, 0x27, 0x80, 0xEC, 0x5F,\n",
        "    0x60, 0x51, 0x7F, 0xA9, 0x19, 0xB5, 0x4A, 0x0D, 0x2D, 0xE5, 0x7A, 0x9F, 0x93, 0xC9, 0x9C, 0xEF,\n",
        "    0xA0, 0xE0, 0x3B, 0x4D, 0xAE, 0x2A, 0xF5, 0xB0, 0xC8, 0xEB, 0xBB, 0x3C, 0x83, 0x53, 0x99, 0x61,\n",
        "    0x17, 0x2B, 0x04, 0x7E, 0xBA, 0x77, 0xD6, 0x26, 0xE1, 0x69, 0x14, 0x63, 0x55, 0x21, 0x0C, 0x7D,\n",
        ")\n",
        "\n",
        "state = [\n",
        "    [251, 64, 182, 81],\n",
        "    [146, 168, 33, 80],\n",
        "    [199, 159, 195, 24],\n",
        "    [64, 80, 182, 255],\n",
        "]\n",
        "\n",
        "\n",
        "def sub_bytes(s, sbox=s_box):\n",
        "    s = sum(s, [])\n",
        "    for i in range(len(s)):\n",
        "        s[i] = inv_s_box[s[i]]\n",
        "    return bytes(s).decode()\n",
        "\n",
        "print(sub_bytes(state, sbox=inv_s_box))"
      ]
    },
    {
      "cell_type": "markdown",
      "metadata": {
        "id": "BNZarDKqhvhn"
      },
      "source": [
        "**6. Diffusion through Permutation**\n",
        "\n",
        "El código proporcionado implementa operaciones de difusión a través de permutaciones para una matriz de estado en el contexto del algoritmo de cifrado AES (Advanced Encryption Standard). Estas operaciones son parte de las transformaciones que se aplican en cada ronda del cifrado AES para garantizar la difusión de los datos y aumentar la seguridad del algoritmo."
      ]
    },
    {
      "cell_type": "code",
      "execution_count": null,
      "metadata": {
        "colab": {
          "base_uri": "https://localhost:8080/"
        },
        "id": "7o5ximHih1SX",
        "outputId": "30deb3c3-5c25-4d18-dc51-88388b6c97fb"
      },
      "outputs": [
        {
          "name": "stdout",
          "output_type": "stream",
          "text": [
            "crypto{d1ffUs3R}\n"
          ]
        }
      ],
      "source": [
        "import numpy as np\n",
        "\n",
        "\n",
        "def shift_rows(s):\n",
        "    s[0][1], s[1][1], s[2][1], s[3][1] = s[1][1], s[2][1], s[3][1], s[0][1]\n",
        "    s[0][2], s[1][2], s[2][2], s[3][2] = s[2][2], s[3][2], s[0][2], s[1][2]\n",
        "    s[0][3], s[1][3], s[2][3], s[3][3] = s[3][3], s[0][3], s[1][3], s[2][3]\n",
        "\n",
        "\n",
        "def inv_shift_rows(s):\n",
        "    # Works for any square matrix, not just 4x4\n",
        "    s = np.array(s)\n",
        "    _, num_cols = s.shape\n",
        "    for i in range(num_cols):\n",
        "        s[:, i] = np.concatenate((s[-i:, i], s[:-i, i]), axis=0)\n",
        "    return s\n",
        "\n",
        "\n",
        "# learned from http://cs.ucsb.edu/~koc/cs178/projects/JT/aes.c\n",
        "xtime = lambda a: (((a << 1) ^ 0x1B) & 0xFF) if (a & 0x80) else (a << 1)\n",
        "\n",
        "\n",
        "def mix_single_column(a):\n",
        "    # see Sec 4.1.2 in The Design of Rijndael\n",
        "    t = a[0] ^ a[1] ^ a[2] ^ a[3]\n",
        "    u = a[0]\n",
        "    a[0] ^= t ^ xtime(a[0] ^ a[1])\n",
        "    a[1] ^= t ^ xtime(a[1] ^ a[2])\n",
        "    a[2] ^= t ^ xtime(a[2] ^ a[3])\n",
        "    a[3] ^= t ^ xtime(a[3] ^ u)\n",
        "\n",
        "\n",
        "def mix_columns(s):\n",
        "    for i in range(4):\n",
        "        mix_single_column(s[i])\n",
        "\n",
        "\n",
        "def inv_mix_columns(s):\n",
        "    # see Sec 4.1.3 in The Design of Rijndael\n",
        "    for i in range(4):\n",
        "        u = xtime(xtime(s[i][0] ^ s[i][2]))\n",
        "        v = xtime(xtime(s[i][1] ^ s[i][3]))\n",
        "        s[i][0] ^= u\n",
        "        s[i][1] ^= v\n",
        "        s[i][2] ^= u\n",
        "        s[i][3] ^= v\n",
        "\n",
        "    mix_columns(s)\n",
        "\n",
        "\n",
        "def matrix2bytes(matrix):\n",
        "    \"\"\"Converts a 4x4 matrix into a 16-byte array.\"\"\"\n",
        "    if type(matrix) == list:\n",
        "        matrix = np.array(matrix)\n",
        "    plaintext_bytes = matrix.flatten()\n",
        "    return \"\".join([chr(i) for i in plaintext_bytes])\n",
        "\n",
        "\n",
        "state = [\n",
        "    [108, 106, 71, 86],\n",
        "    [96, 62, 38, 72],\n",
        "    [42, 184, 92, 209],\n",
        "    [94, 79, 8, 54],\n",
        "]\n",
        "\n",
        "inv_mix_columns(state)\n",
        "state = inv_shift_rows(state)\n",
        "print(matrix2bytes(state))"
      ]
    },
    {
      "cell_type": "markdown",
      "metadata": {
        "id": "uugrWVrEh6BX"
      },
      "source": [
        "**7. Bringing It All Together**\n",
        "\n",
        "El código proporcionado implementa el algoritmo de descifrado para el cifrado AES (Advanced Encryption Standard). El algoritmo de descifrado AES consta de varias etapas, incluyendo la expansión de la clave, la operación de clave de ronda, y las transformaciones inversas de difusión y sustitución."
      ]
    },
    {
      "cell_type": "code",
      "execution_count": null,
      "metadata": {
        "colab": {
          "base_uri": "https://localhost:8080/"
        },
        "id": "h3Ej05-Yh6mT",
        "outputId": "873c4ce3-e71b-408a-d370-e5174a3400ac"
      },
      "outputs": [
        {
          "name": "stdout",
          "output_type": "stream",
          "text": [
            "crypto{MYAES128}\n"
          ]
        }
      ],
      "source": [
        "N_ROUNDS = 10\n",
        "\n",
        "key        = b'\\xc3,\\\\\\xa6\\xb5\\x80^\\x0c\\xdb\\x8d\\xa5z*\\xb6\\xfe\\\\'\n",
        "ciphertext = b'\\xd1O\\x14j\\xa4+O\\xb6\\xa1\\xc4\\x08B)\\x8f\\x12\\xdd'\n",
        "\n",
        "s_box = (\n",
        "    0x63, 0x7C, 0x77, 0x7B, 0xF2, 0x6B, 0x6F, 0xC5, 0x30, 0x01, 0x67, 0x2B, 0xFE, 0xD7, 0xAB, 0x76,\n",
        "    0xCA, 0x82, 0xC9, 0x7D, 0xFA, 0x59, 0x47, 0xF0, 0xAD, 0xD4, 0xA2, 0xAF, 0x9C, 0xA4, 0x72, 0xC0,\n",
        "    0xB7, 0xFD, 0x93, 0x26, 0x36, 0x3F, 0xF7, 0xCC, 0x34, 0xA5, 0xE5, 0xF1, 0x71, 0xD8, 0x31, 0x15,\n",
        "    0x04, 0xC7, 0x23, 0xC3, 0x18, 0x96, 0x05, 0x9A, 0x07, 0x12, 0x80, 0xE2, 0xEB, 0x27, 0xB2, 0x75,\n",
        "    0x09, 0x83, 0x2C, 0x1A, 0x1B, 0x6E, 0x5A, 0xA0, 0x52, 0x3B, 0xD6, 0xB3, 0x29, 0xE3, 0x2F, 0x84,\n",
        "    0x53, 0xD1, 0x00, 0xED, 0x20, 0xFC, 0xB1, 0x5B, 0x6A, 0xCB, 0xBE, 0x39, 0x4A, 0x4C, 0x58, 0xCF,\n",
        "    0xD0, 0xEF, 0xAA, 0xFB, 0x43, 0x4D, 0x33, 0x85, 0x45, 0xF9, 0x02, 0x7F, 0x50, 0x3C, 0x9F, 0xA8,\n",
        "    0x51, 0xA3, 0x40, 0x8F, 0x92, 0x9D, 0x38, 0xF5, 0xBC, 0xB6, 0xDA, 0x21, 0x10, 0xFF, 0xF3, 0xD2,\n",
        "    0xCD, 0x0C, 0x13, 0xEC, 0x5F, 0x97, 0x44, 0x17, 0xC4, 0xA7, 0x7E, 0x3D, 0x64, 0x5D, 0x19, 0x73,\n",
        "    0x60, 0x81, 0x4F, 0xDC, 0x22, 0x2A, 0x90, 0x88, 0x46, 0xEE, 0xB8, 0x14, 0xDE, 0x5E, 0x0B, 0xDB,\n",
        "    0xE0, 0x32, 0x3A, 0x0A, 0x49, 0x06, 0x24, 0x5C, 0xC2, 0xD3, 0xAC, 0x62, 0x91, 0x95, 0xE4, 0x79,\n",
        "    0xE7, 0xC8, 0x37, 0x6D, 0x8D, 0xD5, 0x4E, 0xA9, 0x6C, 0x56, 0xF4, 0xEA, 0x65, 0x7A, 0xAE, 0x08,\n",
        "    0xBA, 0x78, 0x25, 0x2E, 0x1C, 0xA6, 0xB4, 0xC6, 0xE8, 0xDD, 0x74, 0x1F, 0x4B, 0xBD, 0x8B, 0x8A,\n",
        "    0x70, 0x3E, 0xB5, 0x66, 0x48, 0x03, 0xF6, 0x0E, 0x61, 0x35, 0x57, 0xB9, 0x86, 0xC1, 0x1D, 0x9E,\n",
        "    0xE1, 0xF8, 0x98, 0x11, 0x69, 0xD9, 0x8E, 0x94, 0x9B, 0x1E, 0x87, 0xE9, 0xCE, 0x55, 0x28, 0xDF,\n",
        "    0x8C, 0xA1, 0x89, 0x0D, 0xBF, 0xE6, 0x42, 0x68, 0x41, 0x99, 0x2D, 0x0F, 0xB0, 0x54, 0xBB, 0x16,\n",
        ")\n",
        "\n",
        "inv_s_box = (\n",
        "    0x52, 0x09, 0x6A, 0xD5, 0x30, 0x36, 0xA5, 0x38, 0xBF, 0x40, 0xA3, 0x9E, 0x81, 0xF3, 0xD7, 0xFB,\n",
        "    0x7C, 0xE3, 0x39, 0x82, 0x9B, 0x2F, 0xFF, 0x87, 0x34, 0x8E, 0x43, 0x44, 0xC4, 0xDE, 0xE9, 0xCB,\n",
        "    0x54, 0x7B, 0x94, 0x32, 0xA6, 0xC2, 0x23, 0x3D, 0xEE, 0x4C, 0x95, 0x0B, 0x42, 0xFA, 0xC3, 0x4E,\n",
        "    0x08, 0x2E, 0xA1, 0x66, 0x28, 0xD9, 0x24, 0xB2, 0x76, 0x5B, 0xA2, 0x49, 0x6D, 0x8B, 0xD1, 0x25,\n",
        "    0x72, 0xF8, 0xF6, 0x64, 0x86, 0x68, 0x98, 0x16, 0xD4, 0xA4, 0x5C, 0xCC, 0x5D, 0x65, 0xB6, 0x92,\n",
        "    0x6C, 0x70, 0x48, 0x50, 0xFD, 0xED, 0xB9, 0xDA, 0x5E, 0x15, 0x46, 0x57, 0xA7, 0x8D, 0x9D, 0x84,\n",
        "    0x90, 0xD8, 0xAB, 0x00, 0x8C, 0xBC, 0xD3, 0x0A, 0xF7, 0xE4, 0x58, 0x05, 0xB8, 0xB3, 0x45, 0x06,\n",
        "    0xD0, 0x2C, 0x1E, 0x8F, 0xCA, 0x3F, 0x0F, 0x02, 0xC1, 0xAF, 0xBD, 0x03, 0x01, 0x13, 0x8A, 0x6B,\n",
        "    0x3A, 0x91, 0x11, 0x41, 0x4F, 0x67, 0xDC, 0xEA, 0x97, 0xF2, 0xCF, 0xCE, 0xF0, 0xB4, 0xE6, 0x73,\n",
        "    0x96, 0xAC, 0x74, 0x22, 0xE7, 0xAD, 0x35, 0x85, 0xE2, 0xF9, 0x37, 0xE8, 0x1C, 0x75, 0xDF, 0x6E,\n",
        "    0x47, 0xF1, 0x1A, 0x71, 0x1D, 0x29, 0xC5, 0x89, 0x6F, 0xB7, 0x62, 0x0E, 0xAA, 0x18, 0xBE, 0x1B,\n",
        "    0xFC, 0x56, 0x3E, 0x4B, 0xC6, 0xD2, 0x79, 0x20, 0x9A, 0xDB, 0xC0, 0xFE, 0x78, 0xCD, 0x5A, 0xF4,\n",
        "    0x1F, 0xDD, 0xA8, 0x33, 0x88, 0x07, 0xC7, 0x31, 0xB1, 0x12, 0x10, 0x59, 0x27, 0x80, 0xEC, 0x5F,\n",
        "    0x60, 0x51, 0x7F, 0xA9, 0x19, 0xB5, 0x4A, 0x0D, 0x2D, 0xE5, 0x7A, 0x9F, 0x93, 0xC9, 0x9C, 0xEF,\n",
        "    0xA0, 0xE0, 0x3B, 0x4D, 0xAE, 0x2A, 0xF5, 0xB0, 0xC8, 0xEB, 0xBB, 0x3C, 0x83, 0x53, 0x99, 0x61,\n",
        "    0x17, 0x2B, 0x04, 0x7E, 0xBA, 0x77, 0xD6, 0x26, 0xE1, 0x69, 0x14, 0x63, 0x55, 0x21, 0x0C, 0x7D,\n",
        ")\n",
        "\n",
        "def bytes2matrix(text):\n",
        "    \"\"\" Converts a 16-byte array into a 4x4 matrix.  \"\"\"\n",
        "    return [list(text[i:i+4]) for i in range(0, len(text), 4)]\n",
        "\n",
        "def matrix2bytes(matrix):\n",
        "    \"\"\" Converts a 4x4 matrix into a 16-byte array.  \"\"\"\n",
        "    # flatten the matrix to a list of a single dimension and then convert it to bytes\n",
        "    return bytes(sum(matrix, []))\n",
        "\n",
        "\n",
        "def sub_bytes(s, sbox=inv_s_box):\n",
        "\n",
        "    for i in range(4):\n",
        "        for j in range(4):\n",
        "            s[i][j] = sbox[s[i][j]]\n",
        "    return s\n",
        "\n",
        "\n",
        "def inv_shift_rows(s):\n",
        "    s[1][1], s[2][1], s[3][1], s[0][1] = s[0][1], s[1][1], s[2][1], s[3][1]\n",
        "    s[2][2], s[3][2], s[0][2], s[1][2] = s[0][2], s[1][2], s[2][2], s[3][2]\n",
        "    s[3][3], s[0][3], s[1][3], s[2][3] = s[0][3], s[1][3], s[2][3], s[3][3]\n",
        "    return s\n",
        "\n",
        "xtime = lambda a: (((a << 1) ^ 0x1B) & 0xFF) if (a & 0x80) else (a << 1)\n",
        "\n",
        "def mix_single_column(a):\n",
        "    # see Sec 4.1.2 in The Design of Rijndael\n",
        "    t = a[0] ^ a[1] ^ a[2] ^ a[3]\n",
        "    u = a[0]\n",
        "    a[0] ^= t ^ xtime(a[0] ^ a[1])\n",
        "    a[1] ^= t ^ xtime(a[1] ^ a[2])\n",
        "    a[2] ^= t ^ xtime(a[2] ^ a[3])\n",
        "    a[3] ^= t ^ xtime(a[3] ^ u)\n",
        "\n",
        "\n",
        "def mix_columns(s):\n",
        "    for i in range(4):\n",
        "        mix_single_column(s[i])\n",
        "\n",
        "\n",
        "def inv_mix_columns(s):\n",
        "    # see Sec 4.1.3 in The Design of Rijndael\n",
        "    for i in range(4):\n",
        "        u = xtime(xtime(s[i][0] ^ s[i][2]))\n",
        "        v = xtime(xtime(s[i][1] ^ s[i][3]))\n",
        "        s[i][0] ^= u\n",
        "        s[i][1] ^= v\n",
        "        s[i][2] ^= u\n",
        "        s[i][3] ^= v\n",
        "\n",
        "    mix_columns(s)\n",
        "    return s\n",
        "\n",
        "def matrix2bytes(matrix):\n",
        "    return bytes(sum(matrix, [])).decode(\"utf-8\")\n",
        "\n",
        "def add_round_key(s, k):\n",
        "    result = [[0 for i in range(4)] for j in range(4)]\n",
        "    for i in range(4):\n",
        "        for j in range(4):\n",
        "            result[i][j] = s[i][j] ^ k[i][j]\n",
        "    return result\n",
        "\n",
        "\n",
        "def expand_key(master_key):\n",
        "    r_con = (\n",
        "        0x00, 0x01, 0x02, 0x04, 0x08, 0x10, 0x20, 0x40,\n",
        "        0x80, 0x1B, 0x36, 0x6C, 0xD8, 0xAB, 0x4D, 0x9A,\n",
        "        0x2F, 0x5E, 0xBC, 0x63, 0xC6, 0x97, 0x35, 0x6A,\n",
        "        0xD4, 0xB3, 0x7D, 0xFA, 0xEF, 0xC5, 0x91, 0x39,\n",
        "    )\n",
        "\n",
        "    # Initialize round keys with raw key material.\n",
        "    key_columns = bytes2matrix(master_key)\n",
        "    iteration_size = len(master_key) // 4\n",
        "\n",
        "    # Each iteration has exactly as many columns as the key material.\n",
        "    i = 1\n",
        "    while len(key_columns) < (N_ROUNDS + 1) * 4:\n",
        "        # Copy previous word.\n",
        "        word = list(key_columns[-1])\n",
        "\n",
        "        # Perform schedule_core once every \"row\".\n",
        "        if len(key_columns) % iteration_size == 0:\n",
        "            # Circular shift.\n",
        "            word.append(word.pop(0))\n",
        "            # Map to S-BOX.\n",
        "            word = [s_box[b] for b in word]\n",
        "            # XOR with first byte of R-CON, since the others bytes of R-CON are 0.\n",
        "            word[0] ^= r_con[i]\n",
        "            i += 1\n",
        "        elif len(master_key) == 32 and len(key_columns) % iteration_size == 4:\n",
        "            # Run word through S-box in the fourth iteration when using a\n",
        "            # 256-bit key.\n",
        "            word = [s_box[b] for b in word]\n",
        "\n",
        "        # XOR with equivalent word from previous iteration.\n",
        "        word = bytes(i^j for i, j in zip(word, key_columns[-iteration_size]))\n",
        "        key_columns.append(word)\n",
        "\n",
        "    # Group key words in 4x4 byte matrices.\n",
        "    return [key_columns[4*i : 4*(i+1)] for i in range(len(key_columns) // 4)]\n",
        "\n",
        "\n",
        "def decrypt(key, ciphertext):\n",
        "    round_keys = expand_key(key) # Remember to start from the last round key and work backwards through them when decrypting\n",
        "\n",
        "\n",
        "    # Convert ciphertext to state matrix\n",
        "    state = bytes2matrix(ciphertext)\n",
        "\n",
        "    # Initial add round key step\n",
        "    state = add_round_key(state, round_keys[-1])\n",
        "\n",
        "\n",
        "    for i in range(N_ROUNDS - 1, 0, -1):\n",
        "        state = inv_shift_rows(state)\n",
        "        state = sub_bytes(state)\n",
        "        state = add_round_key(state, round_keys[i])\n",
        "        state = inv_mix_columns(state)\n",
        "\n",
        "    state = inv_shift_rows(state)\n",
        "    state = sub_bytes(state)\n",
        "    state = add_round_key(state, round_keys[0])\n",
        "    plaintext = matrix2bytes(state)\n",
        "    return plaintext\n",
        "\n",
        "\n",
        "print(decrypt(key, ciphertext))"
      ]
    },
    {
      "cell_type": "markdown",
      "metadata": {
        "id": "JL0zAHjNiHt1"
      },
      "source": [
        "**8. Modes of Operation Starter**\n",
        "\n",
        "El código proporcionado utiliza el modo de operación de cifrado de bloques para cifrar y descifrar datos utilizando el algoritmo AES (Advanced Encryption Standard). El modo de operación utilizado en este caso es el modo ECB (Electronic Codebook), que cifra cada bloque de datos de forma independiente."
      ]
    },
    {
      "cell_type": "code",
      "execution_count": null,
      "metadata": {
        "colab": {
          "base_uri": "https://localhost:8080/"
        },
        "id": "IrKI35vhiIRF",
        "outputId": "01412fbe-b2a7-40bc-df8e-f1d8606cfd4d"
      },
      "outputs": [
        {
          "name": "stdout",
          "output_type": "stream",
          "text": [
            "Enc. Flag (hex): 188bc9522883a992cd99f9b2b8ec84fb150c1abe17e7a8ed04a768ad1d11fc07\n",
            "Dec. Flag (hex): 63727970746f7b626c30636b5f633170683372355f3472335f663435375f217d\n",
            "Dec. Flag (bytes): crypto{bl0ck_c1ph3r5_4r3_f457_!}\n"
          ]
        }
      ],
      "source": [
        "\n",
        "import requests\n",
        "\n",
        "def decrypt(ciphertext):\n",
        "\turl = \"https://aes.cryptohack.org/block_cipher_starter/decrypt/\" + ciphertext + \"/\"\n",
        "\tresponse = requests.get(url)\n",
        "\treturn response.json()['plaintext']\n",
        "\n",
        "def get_enc_flag():\n",
        "\turl = \"https://aes.cryptohack.org/block_cipher_starter/encrypt_flag/\"\n",
        "\tresponse = requests.get(url)\n",
        "\treturn response.json()['ciphertext']\n",
        "\n",
        "enc_flag = get_enc_flag()\n",
        "print(f\"Enc. Flag (hex): {enc_flag}\")\n",
        "dec_flag = decrypt(enc_flag)\n",
        "print(f\"Dec. Flag (hex): {dec_flag}\")\n",
        "print(f\"Dec. Flag (bytes): {bytes.fromhex(dec_flag).decode()}\")"
      ]
    },
    {
      "cell_type": "markdown",
      "metadata": {
        "id": "vW67BexriRtf"
      },
      "source": [
        "**9. Passwords as Keys**\n",
        "\n",
        "El código proporcionado implementa un ataque de fuerza bruta para descifrar un texto cifrado utilizando el algoritmo AES (Advanced Encryption Standard) en el modo de operación ECB (Electronic Codebook)."
      ]
    },
    {
      "cell_type": "code",
      "execution_count": null,
      "metadata": {
        "colab": {
          "base_uri": "https://localhost:8080/"
        },
        "id": "QTvBw1TEihZa",
        "outputId": "e63bff25-18d3-47f5-f5e4-9739fd76e7b2"
      },
      "outputs": [
        {
          "name": "stdout",
          "output_type": "stream",
          "text": [
            "crypto{k3y5__r__n07__p455w0rdz?}\n"
          ]
        }
      ],
      "source": [
        "from Crypto.Cipher import AES\n",
        "import hashlib\n",
        "import random\n",
        "import requests\n",
        "\n",
        "wordlist_url = \"https://gist.githubusercontent.com/wchargin/8927565/raw/d9783627c731268fb2935a731a618aa8e95cf465/words\"\n",
        "response = requests.get(wordlist_url)\n",
        "wordlist = response.text.split('\\n')\n",
        "\n",
        "\n",
        "ciphertext = 'c92b7734070205bdf6c0087a751466ec13ae15e6f1bcdd3f3a535ec0f4bbae66'\n",
        "ciphertext = bytes.fromhex(ciphertext)\n",
        "\n",
        "\n",
        "for key in wordlist:\n",
        "    key = hashlib.md5(key.encode()).digest()\n",
        "\n",
        "    cipher = AES.new(key, AES.MODE_ECB)\n",
        "\n",
        "    try:\n",
        "        decrypted = cipher.decrypt(ciphertext)\n",
        "    except:\n",
        "        pass\n",
        "\n",
        "\n",
        "    try:\n",
        "\n",
        "        print(bytearray.fromhex(decrypted.hex()).decode())\n",
        "    except:\n",
        "        pass"
      ]
    },
    {
      "cell_type": "markdown",
      "metadata": {
        "id": "VYGjE0imSufl"
      },
      "source": [
        "**10. Block Ciphers - ECB CBC WTF**\n",
        "\n",
        "El algoritmo proporcionado realiza una serie de operaciones para descifrar el texto cifrado utilizando el modo de operación CBC (Cipher Block Chaining) y el modo de operación ECB (Electronic Codebook) del algoritmo AES (Advanced Encryption Standard)."
      ]
    },
    {
      "cell_type": "code",
      "execution_count": null,
      "metadata": {
        "colab": {
          "base_uri": "https://localhost:8080/"
        },
        "id": "IkKLA-j9SzmB",
        "outputId": "49a05e15-51e2-4ac6-e139-80ad0f5c5a85"
      },
      "outputs": [
        {
          "name": "stdout",
          "output_type": "stream",
          "text": [
            "b'crypto{3cb_5uck5_4v01d_17_!!!!!}'\n"
          ]
        }
      ],
      "source": [
        "import requests\n",
        "from Crypto.Cipher import AES\n",
        "from Crypto.Util.Padding import pad, unpad\n",
        "from Crypto.Util.number import long_to_bytes, bytes_to_long\n",
        "\n",
        "def response(byte_string):\n",
        "\turl = \"http://aes.cryptohack.org/ecbcbcwtf/decrypt/\"\n",
        "\turl += byte_string.hex()\n",
        "\turl += \"/\"\n",
        "\tr = requests.get(url)\n",
        "\tjs = r.json()\n",
        "\treturn bytes.fromhex(js[\"plaintext\"])\n",
        "\n",
        "def encrypt_flag():\n",
        "\turl = \"http://aes.cryptohack.org/ecbcbcwtf/encrypt_flag/\"\n",
        "\tr = requests.get(url)\n",
        "\tjs = r.json()\n",
        "\treturn bytes.fromhex(js[\"ciphertext\"])\n",
        "\n",
        "def xor(a, b):\n",
        "\treturn long_to_bytes(bytes_to_long(a) ^ bytes_to_long(b))\n",
        "\n",
        "enc = encrypt_flag()\n",
        "\n",
        "iv = enc[:16]\n",
        "block1 = enc[16:32]\n",
        "block2 = enc[32:]\n",
        "\n",
        "decrypt_block1 = xor(response(block1), iv)\n",
        "decrypt_block2 = xor(response(block2), block1)\n",
        "print(decrypt_block1 + decrypt_block2)"
      ]
    },
    {
      "cell_type": "markdown",
      "metadata": {
        "id": "T0JT45e9S1nd"
      },
      "source": [
        "**11. ECB ORACLE**\n",
        "\n",
        "El algoritmo implementa un ataque de oracle de cifrado en modo de operación ECB (Electronic Codebook) para descifrar un texto cifrado de forma iterativa."
      ]
    },
    {
      "cell_type": "code",
      "execution_count": null,
      "metadata": {
        "colab": {
          "base_uri": "https://localhost:8080/"
        },
        "id": "BWLYIAdAS4pt",
        "outputId": "4c673c84-bbb6-414b-be6e-e851e1620136"
      },
      "outputs": [
        {
          "name": "stdout",
          "output_type": "stream",
          "text": [
            "Garbage (1 bytes): ?\n",
            "Ciphertext (32 bytes): 8a592ce86ab7e1c19456a119302c7b4e81d3ee34f577b2513c9024395d1cb55f\n",
            "Garbage (2 bytes): ??\n",
            "Ciphertext (32 bytes): 92892b5c67ddb1a1a0ff86d555900d1d2e0777368e1642fc6342e9e4a8833734\n",
            "Garbage (3 bytes): ???\n",
            "Ciphertext (32 bytes): 0dc5f1ab23a10fc51a4b5b03ac0fd3855ad30da3da512d1afeff44971eadc6bb\n",
            "Garbage (4 bytes): ????\n",
            "Ciphertext (32 bytes): f9f1f7a47219a01b4e4ebd370a11fa5173c9f852fe3f3a10fa6a03fb42dff7cf\n",
            "Garbage (5 bytes): ?????\n",
            "Ciphertext (32 bytes): a98595182f6a8666eca9abc02e9ae3dc835916cd1527c86401cc140fe5a1226d\n",
            "Garbage (6 bytes): ??????\n",
            "Ciphertext (32 bytes): 9c05bedcbc6c4751fba1549b74878dd123167185f5c0719c529f094b6f0d3fc0\n",
            "Garbage (7 bytes): ???????\n",
            "Ciphertext (48 bytes): 5099e1269b96bf7fcc9718f1aa555a6d973e3df6f87f32614f5ddbe5e6cabde7c1511dbc19f27396337d05c2dc9d182f\n",
            "Garbage (8 bytes): ????????\n",
            "Ciphertext (48 bytes): aecb7c17ff96321b553c581e8e34082efabf29a193a7718dbd9f6862ef124cd48a2efd094439f5b33a5fcd9de53ae257\n",
            "Garbage (9 bytes): ?????????\n",
            "Ciphertext (48 bytes): 220d1867f1fe6b4148c333798aac8844d56f5163a0e67b827a0109e7088194bd1bae796fd8a0461e43448e3ae70d5ea7\n",
            "Garbage (10 bytes): ??????????\n",
            "Ciphertext (48 bytes): 0a15e0f37ed63ae71cc332eae875a27243a0a5cc61987a0c1ba4c38fe6ed5f123dcf76e0da6235847db4f60dcc65ba09\n",
            "Garbage (11 bytes): ???????????\n",
            "Ciphertext (48 bytes): 736361263b286fc15ebdfe42fdab942d4d10777a9947bfd659c4f85f2777d2171fd1a969b80110320569cbf5cc70e79d\n",
            "Garbage (12 bytes): ????????????\n",
            "Ciphertext (48 bytes): daed83c9b618b66de6033a02f0e70b2ec623dbc70e17d274dcced2727bcc421f0d2619f96da65b3b5ac33e14b9517b3a\n",
            "Garbage (13 bytes): ?????????????\n",
            "Ciphertext (48 bytes): c6f2647d0b7c68875c7f34557f6fb4fab34da5ff5e75eeea063bb3c315e86a424d721b229ce1b9834d610f4c08d6daf0\n",
            "Garbage (14 bytes): ??????????????\n",
            "Ciphertext (48 bytes): 955b7435c9d79e3ca7e09cab611b9c5c0acd8c698ac2ca1c1a5d2bb14ab23e7e7578a578197f8cafb5b9ae354932ffb1\n",
            "Garbage (15 bytes): ???????????????\n",
            "Ciphertext (48 bytes): 9a0606414ebb061ab96751292cd85424fedcc8d64c513a250048debe473eece73b2e3b550056fb33ea803ed97596085b\n",
            "Garbage (16 bytes): ????????????????\n",
            "Ciphertext (48 bytes): e7d11eeb40a37da5bc3e0ef02964c42a547763d23dd19091cddec1413ae369694bbee5f51cf491eca6948ee002f9491f\n",
            "Brute forcing flag...\n",
            "\n",
            "crypto{p3n6u1n5_h473_3cb}"
          ]
        }
      ],
      "source": [
        "import string\n",
        "import requests\n",
        "\n",
        "def encrypt(plainhex):\n",
        "    r = requests.get(f\"https://aes.cryptohack.org/ecb_oracle/encrypt/{plainhex}\")\n",
        "    return bytes.fromhex(r.json()['ciphertext'])\n",
        "\n",
        "ciphers = []\n",
        "for i in range(1,17):\n",
        "    garbage = i*b'?'.hex()\n",
        "    ct = encrypt(garbage)\n",
        "    ciphers.append(ct)\n",
        "    print(f\"Garbage ({len(garbage)//2} bytes): {bytes.fromhex(garbage).decode()}\")\n",
        "    print(f\"Ciphertext ({len(ct.hex())//2} bytes): {ct.hex()}\")\n",
        "\n",
        "flag_len = [len(i.hex())//2 - x - 2 for x, (i,j) in enumerate(zip(ciphers,ciphers[1:])) if len(j.hex())>len(i.hex())][0]\n",
        "\n",
        "alpha = list(dict.fromkeys(\"crypto{eainshr_}\" + string.ascii_lowercase + string.digits + string.ascii_uppercase))\n",
        "flag = b\"\"\n",
        "print(\"Brute forcing flag...\\n\")\n",
        "for i in range(31, 31-flag_len, -1):\n",
        "    for char in alpha:\n",
        "        char = char.encode()\n",
        "        ct = encrypt((i*b\"?\"+flag+char).hex())[:32]\n",
        "        exp = encrypt((i*b\"?\").hex())[:32]\n",
        "        if ct == exp:\n",
        "            flag += char\n",
        "            print(f\"{char.decode()}\", flush=True, end='')\n",
        "            break"
      ]
    },
    {
      "cell_type": "markdown",
      "metadata": {
        "id": "ox5EfkYyTKDm"
      },
      "source": [
        "**12. FLIPPING COOKIE**\n",
        "\n",
        "El algoritmo proporcionado está diseñado para realizar un ataque de modificación de cookies utilizando el modo de operación CBC (Cipher Block Chaining) del algoritmo AES (Advanced Encryption Standard)."
      ]
    },
    {
      "cell_type": "code",
      "execution_count": null,
      "metadata": {
        "colab": {
          "base_uri": "https://localhost:8080/"
        },
        "id": "1s5jIqpOTM2g",
        "outputId": "da024d67-244c-401b-8f73-70ca3f7c3976"
      },
      "outputs": [
        {
          "name": "stdout",
          "output_type": "stream",
          "text": [
            "{'flag': 'crypto{4u7h3n71c4710n_15_3553n714l}'}\n"
          ]
        }
      ],
      "source": [
        "def get_cookie():\n",
        "    url = \"http://aes.cryptohack.org/flipping_cookie/get_cookie/\"\n",
        "    r = requests.get(url)\n",
        "    js = r.json()\n",
        "    return bytes.fromhex(js[\"cookie\"])\n",
        "\n",
        "def response(cookie, iv):\n",
        "    url = \"http://aes.cryptohack.org/flipping_cookie/check_admin/\"\n",
        "    url += cookie.hex()\n",
        "    url += \"/\"\n",
        "    url += iv.hex()\n",
        "    url += \"/\"\n",
        "    r = requests.get(url)\n",
        "    js = r.json()\n",
        "    print(js)\n",
        "\n",
        "def xor(a, b):\n",
        "    return long_to_bytes(bytes_to_long(a) ^ bytes_to_long(b))\n",
        "\n",
        "cookie = get_cookie()\n",
        "\n",
        "origin = b'admin=False;expi'\n",
        "goal = b'admin=True;\\x05\\x05\\x05\\x05\\x05'\n",
        "\n",
        "iv = cookie[:16]\n",
        "block1 = cookie[16:32]\n",
        "block2 = cookie[32:]\n",
        "\n",
        "send_iv = xor(xor(origin, goal), iv)\n",
        "\n",
        "response(block1, send_iv)"
      ]
    },
    {
      "cell_type": "markdown",
      "metadata": {
        "id": "mvzYEOqlTTtd"
      },
      "source": [
        "**13. LAZY_CBC**\n",
        "\n",
        "El algoritmo proporcionado realiza un ataque al modo de operación CBC (Cipher Block Chaining) para AES (Advanced Encryption Standard) al explotar la relación XOR entre dos bloques de texto cifrado consecutivos."
      ]
    },
    {
      "cell_type": "code",
      "execution_count": null,
      "metadata": {
        "colab": {
          "base_uri": "https://localhost:8080/"
        },
        "id": "wDH3fg_NTV0U",
        "outputId": "76132c9e-4427-4852-9c39-244fad1755b2"
      },
      "outputs": [
        {
          "name": "stdout",
          "output_type": "stream",
          "text": [
            "b'crypto{50m3_p30pl3_d0n7_7h1nk_IV_15_1mp0r74n7_?}'\n"
          ]
        }
      ],
      "source": [
        "import requests\n",
        "from Crypto.Util.Padding import pad, unpad\n",
        "from Crypto.Util.number import long_to_bytes, bytes_to_long\n",
        "\n",
        "def get_flag(key):\n",
        "    url = \"http://aes.cryptohack.org/lazy_cbc/get_flag/\"\n",
        "    url += key.hex()\n",
        "    url += \"/\"\n",
        "    r = requests.get(url)\n",
        "    js = r.json()\n",
        "    return bytes.fromhex(js[\"plaintext\"])\n",
        "\n",
        "def response(ciphertext):\n",
        "    url = \"http://aes.cryptohack.org/lazy_cbc/receive/\"\n",
        "    url += ciphertext.hex()\n",
        "    url += \"/\"\n",
        "    r = requests.get(url)\n",
        "    js = r.json()\n",
        "    return bytes.fromhex(js[\"error\"][len(\"Invalid plaintext: \"):])\n",
        "\n",
        "def xor(a, b):\n",
        "    return long_to_bytes(bytes_to_long(a) ^ bytes_to_long(b))\n",
        "\n",
        "ciphertext = b\"\\x00\" * 32\n",
        "\n",
        "CD = response(ciphertext)\n",
        "C = CD[:16]\n",
        "D = CD[16:]\n",
        "print(get_flag(xor(C, D)))"
      ]
    },
    {
      "cell_type": "markdown",
      "metadata": {
        "id": "HCr38SYuTaXu"
      },
      "source": [
        "**14. Triple DES**\n",
        "\n",
        "El algoritmo Triple DES, también conocido como 3DES, es una forma de cifrado de bloques que aplica el algoritmo de Data Encryption Standard (DES) tres veces a cada bloque de datos.Triple DES es una mejora del algoritmo original DES, que se volvió vulnerable a los ataques de fuerza bruta debido a su tamaño de clave relativamente pequeño. Con Triple DES, el mensaje se cifra tres veces utilizando tres claves diferentes, lo que proporciona una mayor seguridad."
      ]
    },
    {
      "cell_type": "code",
      "execution_count": null,
      "metadata": {
        "colab": {
          "base_uri": "https://localhost:8080/"
        },
        "id": "WFs6PH3BTdZn",
        "outputId": "aadd0da1-253c-4abc-8a52-90ab74b13963"
      },
      "outputs": [
        {
          "name": "stdout",
          "output_type": "stream",
          "text": [
            "b'crypto{n0t_4ll_k3ys_4r3_g00d_k3ys}\\x06\\x06\\x06\\x06\\x06\\x06'\n"
          ]
        }
      ],
      "source": [
        "import requests\n",
        "from Crypto.Cipher import AES\n",
        "from Crypto.Util.Padding import pad, unpad\n",
        "from Crypto.Util.number import long_to_bytes, bytes_to_long\n",
        "\n",
        "def encrypt(key, plain):\n",
        "    url = \"http://aes.cryptohack.org/triple_des/encrypt/\"\n",
        "    url += key\n",
        "    url += \"/\"\n",
        "    url += plain.hex()\n",
        "    url += \"/\"\n",
        "    r = requests.get(url).json()\n",
        "    return bytes.fromhex(r[\"ciphertext\"])\n",
        "\n",
        "def encrypt_flag(key):\n",
        "    url = \"http://aes.cryptohack.org/triple_des/encrypt_flag/\"\n",
        "    r = requests.get(url + key + '/').json()\n",
        "    return bytes.fromhex(r[\"ciphertext\"])\n",
        "\n",
        "key = b'\\x00'*8 + b'\\xff'*8\n",
        "flag = encrypt_flag(key.hex())\n",
        "cipher = encrypt(key.hex(), flag)\n",
        "print(cipher)"
      ]
    },
    {
      "cell_type": "code",
      "execution_count": null,
      "metadata": {
        "id": "8XV1NQf0kqY1"
      },
      "outputs": [],
      "source": [
        "import math\n",
        "\n",
        "# Parte 1: Obtener parámetros de RSA\n",
        "def obtener_parametros(clave_publica):\n",
        "    n, e = clave_publica\n",
        "\n",
        "    # Factorización de n para obtener los números primos originales: p, q\n",
        "    p, q = factorizar_n(n)\n",
        "\n",
        "    # Calcular el coprimo: k\n",
        "    k = calcular_coprimo(p, q)\n",
        "\n",
        "    # Calcular el valor de Totient: z\n",
        "    z = calcular_totient(p, q)\n",
        "\n",
        "    # Exponente privado: j\n",
        "    j = calcular_exponente_privado(e, k)\n",
        "\n",
        "    return p, q, k, z, n, j\n",
        "\n",
        "def factorizar_n(n):\n",
        "    # Función simple para factorizar n en dos números primos\n",
        "    for i in range(2, int(math.sqrt(n)) + 1):\n",
        "        if n % i == 0:\n",
        "            return i, n // i\n",
        "\n",
        "def calcular_coprimo(p, q):\n",
        "    # Calcular coprimo k\n",
        "    return (p - 1) * (q - 1)\n",
        "\n",
        "def calcular_totient(p, q):\n",
        "    # Calcular Totient: z\n",
        "    return (p - 1) * (q - 1)\n",
        "\n",
        "def calcular_exponente_privado(e, k):\n",
        "    # Calcular exponente privado j usando el algoritmo extendido de Euclides\n",
        "    d = extended_gcd(e, k)[1]\n",
        "    return d % k\n",
        "\n",
        "def extended_gcd(a, b):\n",
        "    if a == 0:\n",
        "        return b, 0, 1\n",
        "    else:\n",
        "        g, x, y = extended_gcd(b % a, a)\n",
        "        return g, y - (b // a) * x, x\n",
        "\n",
        "# Parte 2: Función para encriptar mensaje\n",
        "def encriptar_mensaje(mensaje, clave_publica):\n",
        "    p, q, k, z, n, j = obtener_parametros(clave_publica)\n",
        "    mensaje_encriptado = [(ord(char) ** j) % n for char in mensaje]\n",
        "    return mensaje_encriptado\n",
        "\n",
        "# Parte 3: Función para desencriptar mensaje\n",
        "def desencriptar_mensaje(mensaje_encriptado, clave_publica):\n",
        "    p, q, k, z, n, j = obtener_parametros(clave_publica)\n",
        "    mensaje_desencriptado = ''.join([chr((char ** j) % n) for char in mensaje_encriptado])\n",
        "    return mensaje_desencriptado\n",
        "\n",
        "# Uso de las funciones\n",
        "clave_publica = (1071087367, 10007)\n",
        "texto_plano = 'Hola, ¿Cómo te va, todo bien mi ñaño? Afirmativo, pasaré todo el día viajando'\n",
        "\n",
        "# Parte 1: Obtener parámetros\n",
        "p, q, k, z, n, j = obtener_parametros(clave_publica)\n",
        "print(f'p: {p}, q: {q}, k: {k}, z: {z}, n: {n}, j: {j}')\n",
        "\n",
        "# Parte 2: Encriptar mensaje\n",
        "mensaje_encriptado = encriptar_mensaje(texto_plano, clave_publica)\n",
        "print(f'Mensaje encriptado: {mensaje_encriptado}')\n",
        "\n",
        "# Parte 3: Desencriptar mensaje\n",
        "mensaje_desencriptado = desencriptar_mensaje(mensaje_encriptado, clave_publica)\n",
        "print(f'Mensaje desencriptado: {mensaje_desencriptado}')\n"
      ]
    },
    {
      "cell_type": "code",
      "execution_count": null,
      "metadata": {
        "colab": {
          "base_uri": "https://localhost:8080/"
        },
        "id": "2i9RBY89OA4U",
        "outputId": "a17f7d1c-4dce-4ba1-a009-f0ed5f92f866"
      },
      "outputs": [
        {
          "name": "stdout",
          "output_type": "stream",
          "text": [
            "Collecting pycryptodome\n",
            "  Downloading pycryptodome-3.19.1-cp35-abi3-manylinux_2_17_x86_64.manylinux2014_x86_64.whl (2.1 MB)\n",
            "\u001b[2K     \u001b[90m━━━━━━━━━━━━━━━━━━━━━━━━━━━━━━━━━━━━━━━━\u001b[0m \u001b[32m2.1/2.1 MB\u001b[0m \u001b[31m10.2 MB/s\u001b[0m eta \u001b[36m0:00:00\u001b[0m\n",
            "\u001b[?25hInstalling collected packages: pycryptodome\n",
            "Successfully installed pycryptodome-3.19.1\n"
          ]
        }
      ],
      "source": [
        "!pip install pycryptodome\n"
      ]
    }
  ],
  "metadata": {
    "colab": {
      "provenance": []
    },
    "kernelspec": {
      "display_name": "Python 3",
      "name": "python3"
    },
    "language_info": {
      "name": "python"
    }
  },
  "nbformat": 4,
  "nbformat_minor": 0
}
